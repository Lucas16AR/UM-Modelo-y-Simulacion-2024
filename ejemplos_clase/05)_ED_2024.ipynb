{
  "nbformat": 4,
  "nbformat_minor": 0,
  "metadata": {
    "colab": {
      "provenance": [],
      "collapsed_sections": [
        "F7oeS5LTGVVr",
        "gcTpKVlyAlcl"
      ]
    },
    "kernelspec": {
      "name": "python3",
      "display_name": "Python 3"
    },
    "language_info": {
      "name": "python"
    }
  },
  "cells": [
    {
      "cell_type": "markdown",
      "source": [
        "# Análisis de ED con SymPy"
      ],
      "metadata": {
        "id": "T1ewfPjS1Vy3"
      }
    },
    {
      "cell_type": "markdown",
      "source": [
        "##Introducción"
      ],
      "metadata": {
        "id": "F7oeS5LTGVVr"
      }
    },
    {
      "cell_type": "markdown",
      "source": [
        "[Sympy](https://www.sympy.org/es/) es una librería que se utiliza para matemáticas y osee funciones útiles para el cálculo y el álgebra. Nosotros la vamos a utilizar para escribir ecuaciones diferenciales y resolverlas."
      ],
      "metadata": {
        "id": "v2xVHouFyUso"
      }
    },
    {
      "cell_type": "code",
      "execution_count": null,
      "metadata": {
        "id": "2zHA9R7UQxnp"
      },
      "outputs": [],
      "source": [
        "import sympy\n",
        "from sympy import *"
      ]
    },
    {
      "cell_type": "markdown",
      "source": [
        "Sympy define el objeto Symbols que resprenta el nombre de una variable simbólica, de una función, u otras expresiones matemáticas (significa que es un símbolo, no una letra por ej.)\n",
        "  Toma como argumento un string y devuelve un objeto de tipo simbolo. Y entiende que es un símbolo no un valor numérico."
      ],
      "metadata": {
        "id": "zGB5v_7u2Fa_"
      }
    },
    {
      "cell_type": "code",
      "source": [
        "t = symbols('t')"
      ],
      "metadata": {
        "id": "woNQns7f-3tl"
      },
      "execution_count": null,
      "outputs": []
    },
    {
      "cell_type": "code",
      "source": [
        "type(t)"
      ],
      "metadata": {
        "colab": {
          "base_uri": "https://localhost:8080/"
        },
        "id": "VuHez2PKsHzN",
        "outputId": "c1acd8ca-5ee6-44a7-9ef2-62fccd0d3eac"
      },
      "execution_count": null,
      "outputs": [
        {
          "output_type": "execute_result",
          "data": {
            "text/plain": [
              "sympy.core.symbol.Symbol"
            ]
          },
          "metadata": {},
          "execution_count": 3
        }
      ]
    },
    {
      "cell_type": "code",
      "source": [
        "suma = t + 1\n",
        "suma.subs(t, 2) # sustituir el valor de t en la ecuación suma, con el valor dado por argumento"
      ],
      "metadata": {
        "id": "vdZsqsNC_fre",
        "colab": {
          "base_uri": "https://localhost:8080/",
          "height": 37
        },
        "outputId": "dc82f182-c1dc-4adf-8bba-309d86b1abf6"
      },
      "execution_count": null,
      "outputs": [
        {
          "output_type": "execute_result",
          "data": {
            "text/plain": [
              "3"
            ],
            "text/latex": "$\\displaystyle 3$"
          },
          "metadata": {},
          "execution_count": 4
        }
      ]
    },
    {
      "cell_type": "markdown",
      "source": [
        "Para representar las funciones usamos `Funtion()`"
      ],
      "metadata": {
        "id": "Ez6hzBR4_801"
      }
    },
    {
      "cell_type": "code",
      "source": [
        "f = Function('f')\n",
        "type(f)"
      ],
      "metadata": {
        "id": "O-HCW5_vAEtt",
        "colab": {
          "base_uri": "https://localhost:8080/",
          "height": 120
        },
        "outputId": "f025273e-6b83-4e80-bf51-04aa35ec7755"
      },
      "execution_count": null,
      "outputs": [
        {
          "output_type": "execute_result",
          "data": {
            "text/plain": [
              "sympy.core.function.UndefinedFunction"
            ],
            "text/html": [
              "<div style=\"max-width:800px; border: 1px solid var(--colab-border-color);\"><style>\n",
              "      pre.function-repr-contents {\n",
              "        overflow-x: auto;\n",
              "        padding: 8px 12px;\n",
              "        max-height: 500px;\n",
              "      }\n",
              "\n",
              "      pre.function-repr-contents.function-repr-contents-collapsed {\n",
              "        cursor: pointer;\n",
              "        max-height: 100px;\n",
              "      }\n",
              "    </style>\n",
              "    <pre style=\"white-space: initial; background:\n",
              "         var(--colab-secondary-surface-color); padding: 8px 12px;\n",
              "         border-bottom: 1px solid var(--colab-border-color);\"><b>sympy.core.function.UndefinedFunction</b><br/>def __init__(cls, *args, **kwargs)</pre><pre class=\"function-repr-contents function-repr-contents-collapsed\" style=\"\"><a class=\"filepath\" style=\"display:none\" href=\"#\">/usr/local/lib/python3.10/dist-packages/sympy/core/function.py</a>The (meta)class of undefined functions.</pre>\n",
              "      <script>\n",
              "      if (google.colab.kernel.accessAllowed && google.colab.files && google.colab.files.view) {\n",
              "        for (const element of document.querySelectorAll('.filepath')) {\n",
              "          element.style.display = 'block'\n",
              "          element.onclick = (event) => {\n",
              "            event.preventDefault();\n",
              "            event.stopPropagation();\n",
              "            google.colab.files.view(element.textContent, 871);\n",
              "          };\n",
              "        }\n",
              "      }\n",
              "      for (const element of document.querySelectorAll('.function-repr-contents')) {\n",
              "        element.onclick = (event) => {\n",
              "          event.preventDefault();\n",
              "          event.stopPropagation();\n",
              "          element.classList.toggle('function-repr-contents-collapsed');\n",
              "        };\n",
              "      }\n",
              "      </script>\n",
              "      </div>"
            ]
          },
          "metadata": {},
          "execution_count": 5
        }
      ]
    },
    {
      "cell_type": "code",
      "source": [
        "f(t)"
      ],
      "metadata": {
        "id": "gJFL-bKA_lDk",
        "colab": {
          "base_uri": "https://localhost:8080/",
          "height": 39
        },
        "outputId": "14aeaade-e178-463b-ca70-406b2f4971f0"
      },
      "execution_count": null,
      "outputs": [
        {
          "output_type": "execute_result",
          "data": {
            "text/plain": [
              "f(t)"
            ],
            "text/latex": "$\\displaystyle f{\\left(t \\right)}$"
          },
          "metadata": {},
          "execution_count": 6
        }
      ]
    },
    {
      "cell_type": "markdown",
      "source": [
        "## Ecuaciones diferenciales en SymPy\n"
      ],
      "metadata": {
        "id": "gcTpKVlyAlcl"
      }
    },
    {
      "cell_type": "markdown",
      "source": [
        "diff() representa la derivada de la función que se le pasa por argumento. En este caso, la primera derivada."
      ],
      "metadata": {
        "id": "Ffhb5YAqBF9h"
      }
    },
    {
      "cell_type": "code",
      "source": [
        "dfdt = diff(f(t), t) #dfdt representa la derivada de f con respecto al tiempo. No la está calculando aún.\n",
        "dfdt"
      ],
      "metadata": {
        "colab": {
          "base_uri": "https://localhost:8080/"
        },
        "id": "KSM4tQYqBA8b",
        "outputId": "ffbb60cc-3a94-4566-d895-f1f150fcd8d5"
      },
      "execution_count": null,
      "outputs": [
        {
          "output_type": "execute_result",
          "data": {
            "text/plain": [
              "Derivative(f(t), t)"
            ],
            "text/latex": "$\\displaystyle \\frac{d}{d t} f{\\left(t \\right)}$"
          },
          "metadata": {},
          "execution_count": 7
        }
      ]
    },
    {
      "cell_type": "markdown",
      "source": [
        "Para representar una ED utilizamos Eq()"
      ],
      "metadata": {
        "id": "H2h4j7ipByf9"
      }
    },
    {
      "cell_type": "code",
      "source": [
        "alpha = symbols('alpha')\n",
        "eq1 = Eq(dfdt, alpha*f(t)) # Representamos ambos miembros de la ecuación\n",
        "eq1"
      ],
      "metadata": {
        "colab": {
          "base_uri": "https://localhost:8080/"
        },
        "id": "83HhXdmUB38V",
        "outputId": "2e0bf095-eef3-456a-fc1a-7da38509039d"
      },
      "execution_count": null,
      "outputs": [
        {
          "output_type": "execute_result",
          "data": {
            "text/plain": [
              "Eq(Derivative(f(t), t), alpha*f(t))"
            ],
            "text/latex": "$\\displaystyle \\frac{d}{d t} f{\\left(t \\right)} = \\alpha f{\\left(t \\right)}$"
          },
          "metadata": {},
          "execution_count": 8
        }
      ]
    },
    {
      "cell_type": "markdown",
      "source": [
        "Se acuerdan dónde vimos esta ecuación diferencial?"
      ],
      "metadata": {
        "id": "43aXFCDeWnW3"
      }
    },
    {
      "cell_type": "markdown",
      "source": [
        "Para resolver la ecuación utilizamos dsolve()"
      ],
      "metadata": {
        "id": "_tWA21_hCEP0"
      }
    },
    {
      "cell_type": "code",
      "source": [
        "solution_eq = dsolve(eq1)\n",
        "solution_eq"
      ],
      "metadata": {
        "colab": {
          "base_uri": "https://localhost:8080/"
        },
        "id": "-_dXlGPaCJcL",
        "outputId": "9e6bd846-b8dd-48f2-df71-cc17587f2f74"
      },
      "execution_count": null,
      "outputs": [
        {
          "output_type": "execute_result",
          "data": {
            "text/plain": [
              "Eq(f(t), C1*exp(alpha*t))"
            ],
            "text/latex": "$\\displaystyle f{\\left(t \\right)} = C_{1} e^{\\alpha t}$"
          },
          "metadata": {},
          "execution_count": 9
        }
      ]
    },
    {
      "cell_type": "markdown",
      "source": [
        "Esta es la solución general de la ED del modelo de crecimiento proporcional, la cual, contiene un parámetro que no está especificado su valor.\\\n",
        "Para obtener una solución particular de la ecuación, aplicando las condiciones de contorno.\\\n",
        "Buscamos la solución para t = 0; nos dará la p0 población en t inicial."
      ],
      "metadata": {
        "id": "xOaN0AN2ClU7"
      }
    },
    {
      "cell_type": "code",
      "source": [
        "C1, p_0 = symbols('C1 p_0')\n",
        "particular = solution_eq.subs(C1, p_0)\n",
        "particular"
      ],
      "metadata": {
        "colab": {
          "base_uri": "https://localhost:8080/"
        },
        "id": "D81KVIt6Ck-b",
        "outputId": "3d17c34c-a9ab-430e-8eb1-58a74f6a8bc6"
      },
      "execution_count": null,
      "outputs": [
        {
          "output_type": "execute_result",
          "data": {
            "text/plain": [
              "Eq(f(t), p_0*exp(alpha*t))"
            ],
            "text/latex": "$\\displaystyle f{\\left(t \\right)} = p_{0} e^{\\alpha t}$"
          },
          "metadata": {},
          "execution_count": 10
        }
      ]
    },
    {
      "cell_type": "markdown",
      "source": [
        "Expresión de creciemiento exponencial de población, dependiendo del exponente de `e`, la población es creciente o decreciente. [Para más info.](https://es.wikipedia.org/wiki/Crecimiento_exponencial)"
      ],
      "metadata": {
        "id": "LuZLyZ_fFSzj"
      }
    },
    {
      "cell_type": "markdown",
      "source": [
        "##Ecuación cuadrática"
      ],
      "metadata": {
        "id": "ay8NXKMNGPPj"
      }
    },
    {
      "cell_type": "markdown",
      "source": [
        " 1- Definimos los símbolos: r, k y t"
      ],
      "metadata": {
        "id": "6P0x3S_-Q3Pp"
      }
    },
    {
      "cell_type": "code",
      "source": [
        "r, K, t = sympy.symbols('r K t')"
      ],
      "metadata": {
        "id": "5yAiYpUrQ1a9"
      },
      "execution_count": null,
      "outputs": []
    },
    {
      "cell_type": "markdown",
      "source": [
        "Definir a *x* como una función"
      ],
      "metadata": {
        "id": "3UWdiQipRSkg"
      }
    },
    {
      "cell_type": "code",
      "source": [
        "x = sympy.Function('x')"
      ],
      "metadata": {
        "id": "FYTaNZpIRXQ4"
      },
      "execution_count": null,
      "outputs": []
    },
    {
      "cell_type": "code",
      "source": [
        "#Definimos el diferencial\n",
        "dxdt = sympy.diff(x(t), t)\n",
        "dxdt"
      ],
      "metadata": {
        "colab": {
          "base_uri": "https://localhost:8080/",
          "height": 52
        },
        "id": "XZSXWAaQRQXF",
        "outputId": "3d61837c-63bb-457a-fc3d-b85e69720520"
      },
      "execution_count": null,
      "outputs": [
        {
          "output_type": "execute_result",
          "data": {
            "text/plain": [
              "Derivative(x(t), t)"
            ],
            "text/latex": "$\\displaystyle \\frac{d}{d t} x{\\left(t \\right)}$"
          },
          "metadata": {},
          "execution_count": 13
        }
      ]
    },
    {
      "cell_type": "code",
      "source": [
        "#Definimos el lado derecho de la ecuación\n",
        "lado_derecho = r * x(t) * (1 - x(t)/K)"
      ],
      "metadata": {
        "id": "3vZpawl8Rlqv"
      },
      "execution_count": null,
      "outputs": []
    },
    {
      "cell_type": "code",
      "source": [
        "#Definimos la ecuación completa (lado der + lado izq)\n",
        "# ED Continua, a la que llegamos 3.7\n",
        "ecuacion = sympy.Eq(dxdt, lado_derecho)"
      ],
      "metadata": {
        "id": "DEUixTMcR4-3"
      },
      "execution_count": null,
      "outputs": []
    },
    {
      "cell_type": "code",
      "source": [
        "ecuacion"
      ],
      "metadata": {
        "colab": {
          "base_uri": "https://localhost:8080/",
          "height": 58
        },
        "id": "8J8RRVNFSB71",
        "outputId": "fae3e1ea-eb5e-4d20-cb77-e2163a9492a4"
      },
      "execution_count": null,
      "outputs": [
        {
          "output_type": "execute_result",
          "data": {
            "text/plain": [
              "Eq(Derivative(x(t), t), r*(1 - x(t)/K)*x(t))"
            ],
            "text/latex": "$\\displaystyle \\frac{d}{d t} x{\\left(t \\right)} = r \\left(1 - \\frac{x{\\left(t \\right)}}{K}\\right) x{\\left(t \\right)}$"
          },
          "metadata": {},
          "execution_count": 16
        }
      ]
    },
    {
      "cell_type": "markdown",
      "source": [
        "2-  Solución general: consiste en resolver la ED."
      ],
      "metadata": {
        "id": "kkHNeIHaSaso"
      }
    },
    {
      "cell_type": "code",
      "source": [
        "solucion_gral = sympy.dsolve(ecuacion)"
      ],
      "metadata": {
        "id": "5mnv39CvSGi4"
      },
      "execution_count": null,
      "outputs": []
    },
    {
      "cell_type": "code",
      "source": [
        "solucion_gral"
      ],
      "metadata": {
        "colab": {
          "base_uri": "https://localhost:8080/",
          "height": 56
        },
        "id": "JXeUGWtqSjHL",
        "outputId": "50f2bf48-8f07-4358-eeb7-7e7f3e707bf9"
      },
      "execution_count": null,
      "outputs": [
        {
          "output_type": "execute_result",
          "data": {
            "text/plain": [
              "Eq(x(t), K*exp(C1*K + r*t)/(exp(C1*K + r*t) - 1))"
            ],
            "text/latex": "$\\displaystyle x{\\left(t \\right)} = \\frac{K e^{C_{1} K + r t}}{e^{C_{1} K + r t} - 1}$"
          },
          "metadata": {},
          "execution_count": 18
        }
      ]
    },
    {
      "cell_type": "code",
      "source": [
        "general_d = solucion_gral.rhs # return the right-hand side of the relation."
      ],
      "metadata": {
        "id": "vABA6_BeSl14"
      },
      "execution_count": null,
      "outputs": []
    },
    {
      "cell_type": "markdown",
      "source": [
        "3- Aplicamos las condiciones de contorno. Solución para t = 0, encontramos la población inicial Xo. Consiste en reemplazar t por 0."
      ],
      "metadata": {
        "id": "QAfY7nKqUoLW"
      }
    },
    {
      "cell_type": "code",
      "source": [
        "solucion_t0 = general_d.subs(t, 0)"
      ],
      "metadata": {
        "id": "JnV03Fp4UnWJ"
      },
      "execution_count": null,
      "outputs": []
    },
    {
      "cell_type": "code",
      "source": [
        "solucion_t0 #Solución particular para t = 0"
      ],
      "metadata": {
        "colab": {
          "base_uri": "https://localhost:8080/",
          "height": 56
        },
        "id": "Xw0dSeAkX5n2",
        "outputId": "1780e78e-edae-482a-9cbf-d44908c7b61b"
      },
      "execution_count": null,
      "outputs": [
        {
          "output_type": "execute_result",
          "data": {
            "text/plain": [
              "K*exp(C1*K)/(exp(C1*K) - 1)"
            ],
            "text/latex": "$\\displaystyle \\frac{K e^{C_{1} K}}{e^{C_{1} K} - 1}$"
          },
          "metadata": {},
          "execution_count": 21
        }
      ]
    },
    {
      "cell_type": "markdown",
      "source": [
        "4- Encontramos el valor de C1 para t = 0. Es el valor de C1 para la población incial. Consiste en despejar C1 de la solución con condición de contorno t = 0. Nos queda expresada C1 en función de la población inicial."
      ],
      "metadata": {
        "id": "OkHXXLx3KiXV"
      }
    },
    {
      "cell_type": "markdown",
      "source": [
        " Crea symbols para p_t0 y C1"
      ],
      "metadata": {
        "id": "y8Q4m5TKVjPO"
      }
    },
    {
      "cell_type": "code",
      "source": [
        "C1, x_0 = sympy.symbols('C1 x_0') #x_0 población inicial"
      ],
      "metadata": {
        "id": "Pehsp0scWO-u"
      },
      "execution_count": null,
      "outputs": []
    },
    {
      "cell_type": "code",
      "source": [
        "ec_temporal = sympy.Eq(solucion_t0 , x_0) #arma la ecuación con la solución particular para t = 0 y su resultado que es la población incial"
      ],
      "metadata": {
        "id": "988cdgeYUJr7"
      },
      "execution_count": null,
      "outputs": []
    },
    {
      "cell_type": "code",
      "source": [
        "ec_temporal"
      ],
      "metadata": {
        "colab": {
          "base_uri": "https://localhost:8080/",
          "height": 56
        },
        "id": "WaurHXHTXEGe",
        "outputId": "d5fed7f1-87fd-4bba-c748-2449d94a25ee"
      },
      "execution_count": null,
      "outputs": [
        {
          "output_type": "execute_result",
          "data": {
            "text/plain": [
              "Eq(K*exp(C1*K)/(exp(C1*K) - 1), x_0)"
            ],
            "text/latex": "$\\displaystyle \\frac{K e^{C_{1} K}}{e^{C_{1} K} - 1} = x_{0}$"
          },
          "metadata": {},
          "execution_count": 24
        }
      ]
    },
    {
      "cell_type": "code",
      "source": [
        "solucion = sympy.solve(ec_temporal , C1) # Resuelve la ecuación algebraica en función de C1."
      ],
      "metadata": {
        "id": "DP2OO5O2YNr3"
      },
      "execution_count": null,
      "outputs": []
    },
    {
      "cell_type": "code",
      "source": [
        "solucion #solucion particular de C1 para t = 0."
      ],
      "metadata": {
        "colab": {
          "base_uri": "https://localhost:8080/"
        },
        "id": "522L7BPtYUFA",
        "outputId": "50bfff6f-033a-4309-b40d-43d8212b7dbc"
      },
      "execution_count": null,
      "outputs": [
        {
          "output_type": "execute_result",
          "data": {
            "text/plain": [
              "[log(-x_0/(K - x_0))/K]"
            ]
          },
          "metadata": {},
          "execution_count": 26
        }
      ]
    },
    {
      "cell_type": "markdown",
      "source": [
        "Devuelve la solución en forma de lista, ya que en algunas ocasiones existe más de una solucion para la ecuación.De esta manera, cada elemento de la lista será una solución."
      ],
      "metadata": {
        "id": "x_9Ml2kYZZFd"
      }
    },
    {
      "cell_type": "code",
      "source": [
        "valor_c1 = solucion[0]"
      ],
      "metadata": {
        "id": "WpJTQS3BYVaH"
      },
      "execution_count": null,
      "outputs": []
    },
    {
      "cell_type": "code",
      "source": [
        "valor_c1"
      ],
      "metadata": {
        "colab": {
          "base_uri": "https://localhost:8080/",
          "height": 66
        },
        "id": "2MxD8zDrZmLU",
        "outputId": "c57b4899-fab2-4a95-d92d-d9ac555b4a81"
      },
      "execution_count": null,
      "outputs": [
        {
          "output_type": "execute_result",
          "data": {
            "text/plain": [
              "log(-x_0/(K - x_0))/K"
            ],
            "text/latex": "$\\displaystyle \\frac{\\log{\\left(- \\frac{x_{0}}{K - x_{0}} \\right)}}{K}$"
          },
          "metadata": {},
          "execution_count": 28
        }
      ]
    },
    {
      "cell_type": "markdown",
      "source": [
        "5- A partir de la solución gral, sustituimos C1 por el valor que se encontró valor_c1. Valor expresado en población inicial."
      ],
      "metadata": {
        "id": "xL3ODDjLZpqG"
      }
    },
    {
      "cell_type": "code",
      "source": [
        "general_d"
      ],
      "metadata": {
        "colab": {
          "base_uri": "https://localhost:8080/",
          "height": 56
        },
        "id": "Sz4fNN9V5ZHi",
        "outputId": "e19e5054-7850-41f2-9c93-85ac43d84bba"
      },
      "execution_count": null,
      "outputs": [
        {
          "output_type": "execute_result",
          "data": {
            "text/plain": [
              "K*exp(C1*K + r*t)/(exp(C1*K + r*t) - 1)"
            ],
            "text/latex": "$\\displaystyle \\frac{K e^{C_{1} K + r t}}{e^{C_{1} K + r t} - 1}$"
          },
          "metadata": {},
          "execution_count": 29
        }
      ]
    },
    {
      "cell_type": "code",
      "source": [
        "particular = general_d.subs(C1, valor_c1)"
      ],
      "metadata": {
        "id": "Z4FG_MELZnNA"
      },
      "execution_count": null,
      "outputs": []
    },
    {
      "cell_type": "code",
      "source": [
        "particular #solución particular en función a la constante en la población inical"
      ],
      "metadata": {
        "colab": {
          "base_uri": "https://localhost:8080/",
          "height": 71
        },
        "id": "AMUrrZ5rZ2vQ",
        "outputId": "1a34257d-3ab1-4423-8af1-73a56ce52e72"
      },
      "execution_count": null,
      "outputs": [
        {
          "output_type": "execute_result",
          "data": {
            "text/plain": [
              "-K*x_0*exp(r*t)/((K - x_0)*(-x_0*exp(r*t)/(K - x_0) - 1))"
            ],
            "text/latex": "$\\displaystyle - \\frac{K x_{0} e^{r t}}{\\left(K - x_{0}\\right) \\left(- \\frac{x_{0} e^{r t}}{K - x_{0}} - 1\\right)}$"
          },
          "metadata": {},
          "execution_count": 31
        }
      ]
    },
    {
      "cell_type": "code",
      "source": [
        "particular_simplificada = sympy.simplify(particular)\n",
        "particular_simplificada"
      ],
      "metadata": {
        "id": "ZlkLk4bmaMRG",
        "colab": {
          "base_uri": "https://localhost:8080/",
          "height": 56
        },
        "outputId": "7c73ea2d-78eb-4c98-81da-99a8b222724e"
      },
      "execution_count": null,
      "outputs": [
        {
          "output_type": "execute_result",
          "data": {
            "text/plain": [
              "K*x_0*exp(r*t)/(K + x_0*exp(r*t) - x_0)"
            ],
            "text/latex": "$\\displaystyle \\frac{K x_{0} e^{r t}}{K + x_{0} e^{r t} - x_{0}}$"
          },
          "metadata": {},
          "execution_count": 32
        }
      ]
    },
    {
      "cell_type": "markdown",
      "source": [
        "Esta ecuación, propuesta por el matemático y biólogo belga P. F. Verhulst en 1840, se llama *Ecuación logística* y se utiliza para modelos de crecimiento.\\\n",
        "Se ha comprobado que la ecuación logística predice con bastante exactitud el crecimiento de ciertos tipos de bacterias, protozoarios, pulgas de agua y moscas de la fruta ([fuente](https://https://www.ugr.es/~fjperez/textos/Tema_6_EEDD_y_Dinamica_de_Poblaciones.pdf))."
      ],
      "metadata": {
        "id": "dGirWOdvTn-b"
      }
    },
    {
      "cell_type": "markdown",
      "source": [
        "## Ecuación logística"
      ],
      "metadata": {
        "id": "ZDu73bUI5s5C"
      }
    },
    {
      "cell_type": "markdown",
      "source": [
        "Vamos a comprobar que la ecuación logistica que encontramos (particular_simplificada) es equivalente a la de la bibliografía ([ver acá](https://es.wikipedia.org/wiki/Funci%C3%B3n_log%C3%ADstica)). Para ello, las vamos a restar y nos debería dar cero.\n",
        "\n",
        "$$f(t) = \\frac{K}{1 + A \\exp(-rt)}$$\n",
        "\n",
        "donde $A = (K - p_0) / p_0$."
      ],
      "metadata": {
        "id": "29HXVheOb0Om"
      }
    },
    {
      "cell_type": "code",
      "source": [
        "A = (K - x_0) / x_0"
      ],
      "metadata": {
        "id": "8Hxjc3J4alL-"
      },
      "execution_count": null,
      "outputs": []
    },
    {
      "cell_type": "code",
      "source": [
        "ec_log = K / (1+ A * sympy.exp(-r*t))"
      ],
      "metadata": {
        "id": "aeb5KmITcOKe"
      },
      "execution_count": null,
      "outputs": []
    },
    {
      "cell_type": "code",
      "source": [
        "ec_log"
      ],
      "metadata": {
        "colab": {
          "base_uri": "https://localhost:8080/",
          "height": 63
        },
        "id": "TKInxzE5cYnX",
        "outputId": "505c0835-089d-433b-da29-1a7edee8dc28"
      },
      "execution_count": null,
      "outputs": [
        {
          "output_type": "execute_result",
          "data": {
            "text/plain": [
              "K/(1 + (K - x_0)*exp(-r*t)/x_0)"
            ],
            "text/latex": "$\\displaystyle \\frac{K}{1 + \\frac{\\left(K - x_{0}\\right) e^{- r t}}{x_{0}}}$"
          },
          "metadata": {},
          "execution_count": 35
        }
      ]
    },
    {
      "cell_type": "code",
      "source": [
        "ec_log - particular_simplificada"
      ],
      "metadata": {
        "colab": {
          "base_uri": "https://localhost:8080/",
          "height": 65
        },
        "id": "gPBfrpmPciJ5",
        "outputId": "28222848-4c4f-4743-c472-8a292ba0d40e"
      },
      "execution_count": null,
      "outputs": [
        {
          "output_type": "execute_result",
          "data": {
            "text/plain": [
              "-K*x_0*exp(r*t)/(K + x_0*exp(r*t) - x_0) + K/(1 + (K - x_0)*exp(-r*t)/x_0)"
            ],
            "text/latex": "$\\displaystyle - \\frac{K x_{0} e^{r t}}{K + x_{0} e^{r t} - x_{0}} + \\frac{K}{1 + \\frac{\\left(K - x_{0}\\right) e^{- r t}}{x_{0}}}$"
          },
          "metadata": {},
          "execution_count": 36
        }
      ]
    },
    {
      "cell_type": "code",
      "source": [
        "sympy.simplify(ec_log - particular_simplificada)"
      ],
      "metadata": {
        "colab": {
          "base_uri": "https://localhost:8080/",
          "height": 37
        },
        "id": "W0ZD4si-cn2u",
        "outputId": "0175876f-e900-4820-c401-e7901dd67f98"
      },
      "execution_count": null,
      "outputs": [
        {
          "output_type": "execute_result",
          "data": {
            "text/plain": [
              "0"
            ],
            "text/latex": "$\\displaystyle 0$"
          },
          "metadata": {},
          "execution_count": 37
        }
      ]
    },
    {
      "cell_type": "code",
      "source": [
        "sympy.simplify(ec_log) - sympy.simplify(particular_simplificada)"
      ],
      "metadata": {
        "id": "3eFOsyxPYj7n",
        "colab": {
          "base_uri": "https://localhost:8080/",
          "height": 37
        },
        "outputId": "59eba20e-40a2-49da-de03-eab0a3decb7d"
      },
      "execution_count": null,
      "outputs": [
        {
          "output_type": "execute_result",
          "data": {
            "text/plain": [
              "0"
            ],
            "text/latex": "$\\displaystyle 0$"
          },
          "metadata": {},
          "execution_count": 38
        }
      ]
    },
    {
      "cell_type": "markdown",
      "source": [
        "## Sustituciones\n",
        "https://en.wikipedia.org/wiki/Estimates_of_historical_world_population"
      ],
      "metadata": {
        "id": "dD6BZXfFZTQG"
      }
    },
    {
      "cell_type": "code",
      "source": [
        "sustituciones = [(t, 0), (alpha, 0.025), (x_0, 2.5), (K, 13.88)]"
      ],
      "metadata": {
        "id": "Abz4DVbtcu-d"
      },
      "execution_count": null,
      "outputs": []
    },
    {
      "cell_type": "code",
      "source": [
        "particular_simplificada.subs(sustituciones) # con tiempo inicio me devuelve la poblacion inicial"
      ],
      "metadata": {
        "colab": {
          "base_uri": "https://localhost:8080/",
          "height": 37
        },
        "id": "qTxDqmMce2jU",
        "outputId": "8b687b0a-e68a-44a4-a1dc-f5c6fcf8c724"
      },
      "execution_count": null,
      "outputs": [
        {
          "output_type": "execute_result",
          "data": {
            "text/plain": [
              "2.50000000000000"
            ],
            "text/latex": "$\\displaystyle 2.5$"
          },
          "metadata": {},
          "execution_count": 40
        }
      ]
    },
    {
      "cell_type": "code",
      "source": [
        "sustituciones = [(t, 2), (r, 0.025), (x_0, 2.5), (K, 13.88)]"
      ],
      "metadata": {
        "id": "H-vDpljWfGy-"
      },
      "execution_count": null,
      "outputs": []
    },
    {
      "cell_type": "code",
      "source": [
        "particular_simplificada.subs(sustituciones)"
      ],
      "metadata": {
        "colab": {
          "base_uri": "https://localhost:8080/",
          "height": 37
        },
        "id": "_tEhEJuofQ2b",
        "outputId": "8bf3c530-51c1-4bf7-cea9-6382574da1b5"
      },
      "execution_count": null,
      "outputs": [
        {
          "output_type": "execute_result",
          "data": {
            "text/plain": [
              "2.60412936777885"
            ],
            "text/latex": "$\\displaystyle 2.60412936777885$"
          },
          "metadata": {},
          "execution_count": 42
        }
      ]
    },
    {
      "cell_type": "code",
      "source": [
        "sustituciones = [(t, 2.5), (r, 0.025), (x_0, 2.5), (K, 13.88)]"
      ],
      "metadata": {
        "id": "JkPm_9gyfXzc"
      },
      "execution_count": null,
      "outputs": []
    },
    {
      "cell_type": "code",
      "source": [
        "particular_simplificada.subs(sustituciones)"
      ],
      "metadata": {
        "colab": {
          "base_uri": "https://localhost:8080/",
          "height": 37
        },
        "id": "2bUGGqeHfbX8",
        "outputId": "ddc00d1a-9edb-4586-e964-f039578cd605"
      },
      "execution_count": null,
      "outputs": [
        {
          "output_type": "execute_result",
          "data": {
            "text/plain": [
              "2.63067705271566"
            ],
            "text/latex": "$\\displaystyle 2.63067705271566$"
          },
          "metadata": {},
          "execution_count": 44
        }
      ]
    },
    {
      "cell_type": "markdown",
      "source": [
        "Comparar los resultados con las poblaciones de la wiki. Por ej. en\n",
        "1990= 5.2 mil millones de habitantes.\\\n",
        "Cerca del 1984 debería dar muy similar, es para un valor de t = 34.\n",
        "Con la ecuación continua puedo calcular valores entre los años.Por ej. podría calcular la población para el año 34,5"
      ],
      "metadata": {
        "id": "jpmNh73mfSEe"
      }
    },
    {
      "cell_type": "code",
      "source": [
        "sustituciones = [(t, 40), (r, 0.025), (x_0, 2.5), (K, 13.88)]\n",
        "particular_simplificada.subs(sustituciones)"
      ],
      "metadata": {
        "id": "4yfz-MmaXNi_",
        "colab": {
          "base_uri": "https://localhost:8080/",
          "height": 37
        },
        "outputId": "50681fe2-29c4-4f6d-9ea0-cdebd67d5d3c"
      },
      "execution_count": null,
      "outputs": [
        {
          "output_type": "execute_result",
          "data": {
            "text/plain": [
              "5.18958586052619"
            ],
            "text/latex": "$\\displaystyle 5.18958586052619$"
          },
          "metadata": {},
          "execution_count": 45
        }
      ]
    },
    {
      "cell_type": "code",
      "source": [
        "sustituciones = [(t, 40), (r, 0.025), (x_0, 2.5), (K, 13.88)]\n",
        "ec_log.subs(sustituciones)"
      ],
      "metadata": {
        "id": "0VdYbNR8XY1b",
        "colab": {
          "base_uri": "https://localhost:8080/",
          "height": 37
        },
        "outputId": "ff8e77e6-9b88-4e12-a026-7ea90f79e08c"
      },
      "execution_count": null,
      "outputs": [
        {
          "output_type": "execute_result",
          "data": {
            "text/plain": [
              "5.18958586052619"
            ],
            "text/latex": "$\\displaystyle 5.18958586052619$"
          },
          "metadata": {},
          "execution_count": 46
        }
      ]
    }
  ]
}