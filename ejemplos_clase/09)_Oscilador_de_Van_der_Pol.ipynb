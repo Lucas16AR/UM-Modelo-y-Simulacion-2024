{
  "nbformat": 4,
  "nbformat_minor": 0,
  "metadata": {
    "colab": {
      "provenance": []
    },
    "kernelspec": {
      "name": "python3",
      "display_name": "Python 3"
    },
    "language_info": {
      "name": "python"
    }
  },
  "cells": [
    {
      "cell_type": "code",
      "execution_count": null,
      "metadata": {
        "id": "iZUlK6UocwIn"
      },
      "outputs": [],
      "source": [
        "import sys\n",
        "from numpy import linspace\n",
        "from scipy.integrate import solve_ivp\n",
        "import matplotlib.pyplot as plt\n",
        "\n",
        "\n",
        "def vdp(t, z):\n",
        "    x, y = z\n",
        "    return [y, mu*(1 - x**2)*y - x]\n",
        "\n",
        "def plot_fase(sol, mu):\n",
        "    plt.clf()\n",
        "    plt.plot(sol.y[0], sol.y[1])\n",
        "    plt.xlim([-5,5])\n",
        "    plt.legend(\"mu = \" + str(mu))\n",
        "    plt.savefig(\"/tmp/vdp_fase_%s.png\" % str(mu))\n",
        "\n",
        "\n",
        "def plot_elong(sol, mu):\n",
        "    plt.clf()\n",
        "    plt.plot(sol.t, sol.y[0])\n",
        "    plt.legend(\"mu = \" + str(mu))\n",
        "    plt.savefig(\"/tmp/vdp_elong_%s.png\" % str(mu))\n",
        "\n",
        "a, b = 0, 30 #tiempo\n",
        "\n",
        "mu = float(sys.argv[1]) #\n",
        "t = linspace(a, b, 500) #500 intervalos\n",
        "\n",
        "sol = solve_ivp(vdp, [a, b], [1, 0], t_eval=t) #resuelve la ecuacion de vdp\n",
        "#rango de valores que obtiene de a y b, valores iniciales de la elong y veloc y t es todos los intervalos donde qiero que obtenga valores (500)\n",
        "plot_elong(sol, mu)\n",
        "plot_fase(sol, mu)\n"
      ]
    }
  ]
}