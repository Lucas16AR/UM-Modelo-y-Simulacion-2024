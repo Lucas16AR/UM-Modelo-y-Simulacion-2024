{
  "nbformat": 4,
  "nbformat_minor": 0,
  "metadata": {
    "colab": {
      "provenance": []
    },
    "kernelspec": {
      "name": "python3",
      "display_name": "Python 3"
    },
    "language_info": {
      "name": "python"
    }
  },
  "cells": [
    {
      "cell_type": "markdown",
      "source": [
        "#Instalación de las librerías"
      ],
      "metadata": {
        "id": "u2N8NrKXdExl"
      }
    },
    {
      "cell_type": "code",
      "source": [
        "!pip install pint"
      ],
      "metadata": {
        "colab": {
          "base_uri": "https://localhost:8080/"
        },
        "id": "C89mSeXi2FmG",
        "outputId": "ffc8bb6e-6a7e-476b-f32f-d90fb544c826"
      },
      "execution_count": 54,
      "outputs": [
        {
          "output_type": "stream",
          "name": "stdout",
          "text": [
            "Requirement already satisfied: pint in /usr/local/lib/python3.10/dist-packages (0.23)\n",
            "Requirement already satisfied: typing-extensions in /usr/local/lib/python3.10/dist-packages (from pint) (4.10.0)\n"
          ]
        }
      ]
    },
    {
      "cell_type": "code",
      "source": [
        "# download modsim.py\n",
        "from os.path import basename, exists\n",
        "\n",
        "def download(url):\n",
        "    filename = basename(url)\n",
        "    if not exists(filename):\n",
        "        from urllib.request import urlretrieve\n",
        "        local, _ = urlretrieve(url, filename)\n",
        "        print('Downloaded ' + local)\n",
        "\n",
        "download('https://raw.githubusercontent.com/AllenDowney/' +\n",
        "         'ModSimPy/master/modsim.py')"
      ],
      "metadata": {
        "id": "4rWEaHxH2Rpo"
      },
      "execution_count": 55,
      "outputs": []
    },
    {
      "cell_type": "markdown",
      "source": [
        "#Modelo poblacional\n",
        "Vamos a simular con un modelo la obtención de datos históricos de población ya conocidos. Es decir, vamos a ajustar un modelo a estos datos, para obtener las ecuaciones que modelan al sistema.\n",
        "Al obtener el modelo poblacional podemos llegar a estimar la población en los sgtes. años.\n",
        "Los datos poblacionales los obtendremos de un artículo de wikipedia acerca de la población mundial.\n"
      ],
      "metadata": {
        "id": "QJN6nTFEqGYc"
      }
    },
    {
      "cell_type": "markdown",
      "source": [
        "Importamos las librerías y obtenemos las tablas del artículo"
      ],
      "metadata": {
        "id": "RZLOJb4LrSLT"
      }
    },
    {
      "cell_type": "code",
      "source": [
        "from pandas import read_html\n",
        "import pandas as pd\n",
        "import modsim as ms\n",
        "from matplotlib import pyplot\n",
        "\n",
        "url = \"https://en.wikipedia.org/wiki/Estimates_of_historical_world_population\"\n",
        "\n",
        "tablas = pd.read_html(url, header=0, index_col=0, decimal='M')\n",
        "\n",
        "tabla_poblacion = tablas[2] #guardamos en una variable la tercer tabla del artículo"
      ],
      "metadata": {
        "id": "Wvn2Qx_Ys0e8"
      },
      "execution_count": 56,
      "outputs": []
    },
    {
      "cell_type": "code",
      "source": [
        "from modsim import *"
      ],
      "metadata": {
        "id": "9w9Vbf-jCPAc"
      },
      "execution_count": 57,
      "outputs": []
    },
    {
      "cell_type": "code",
      "source": [
        "tablas"
      ],
      "metadata": {
        "id": "oNHWN_XVPr_s",
        "colab": {
          "base_uri": "https://localhost:8080/"
        },
        "outputId": "552097a4-dfe7-441f-d02c-a629cf6005b4"
      },
      "execution_count": 58,
      "outputs": [
        {
          "output_type": "execute_result",
          "data": {
            "text/plain": [
              "[                               1400       1500       1600       1700  \\\n",
              " Year                                                                   \n",
              " population (in billions)  0.35–0.40  0.43–0.50  0.50–0.58  0.60–0.68   \n",
              " growth p.a.[1]                  >0%     <0.12%  0.15–0.3%  0.1–0.15%   \n",
              " \n",
              "                                1800       1900       2000      2100  \n",
              " Year                                                                 \n",
              " population (in billions)  0.89–0.98  1.56–1.71  6.06–6.15  c. 10–13  \n",
              " growth p.a.[1]             0.3–0.5%   0.5–0.6%   1.3–1.4%  0.7–0.8%  ,\n",
              "        PRB (1973–2016)[15]  UN (2015)[16] Maddison (2008)[17] HYDE (2010)[18]  \\\n",
              " Year                                                                            \n",
              " −10000                 NaN            NaN                 NaN          2M[25]   \n",
              " −9000                  NaN            NaN                 NaN              4.   \n",
              " −8000                   5.            NaN                 NaN              5.   \n",
              " −7000                   7.            NaN                 NaN              8.   \n",
              " −6000                  14.            NaN                 NaN             11.   \n",
              " −5000                  27.            NaN                 NaN         18M[25]   \n",
              " −4000                  50.            NaN                 NaN             28.   \n",
              " −3000                 100.            NaN                 NaN             45.   \n",
              " −2000                  NaN            NaN                 NaN             72.   \n",
              " −1000                 100.            NaN                 NaN            115.   \n",
              " −500                  150.            NaN                 NaN             NaN   \n",
              " −200                  227.            NaN                 NaN             NaN   \n",
              " 1                 300M[26]          300.0            231M[27]        188M[25]   \n",
              " 100                    NaN            NaN                 NaN            195.   \n",
              " 200                    NaN            NaN                 NaN            202.   \n",
              " 300                    NaN            NaN                 NaN            205.   \n",
              " 350                    NaN            NaN                 NaN             NaN   \n",
              " 400                    NaN            NaN                 NaN            209.   \n",
              " 500                   280.            NaN                 NaN        210M[25]   \n",
              " 600                    NaN            NaN                 NaN            213.   \n",
              " 700                    NaN            NaN                 NaN            226.   \n",
              " 800                    NaN            NaN                 NaN            240.   \n",
              " 900                    NaN            NaN                 NaN            269.   \n",
              " 1000                  400.          310.0                267.        295M[25]   \n",
              " 1100                  450.            NaN                 NaN            353.   \n",
              " 1200                  500.            NaN                 NaN            393.   \n",
              " 1250                   NaN          400.0                 NaN             NaN   \n",
              " 1300                  500.            NaN                 NaN            392.   \n",
              " 1340                   NaN            NaN                 NaN             NaN   \n",
              " 1400                  500.            NaN                 NaN            390.   \n",
              " 1500                  600.          500.0                438.        461M[25]   \n",
              " 1600                  600.            NaN                556.        554M[25]   \n",
              " 1650           (<700M)[14]            NaN                 NaN             NaN   \n",
              " 1700                  660.            NaN               1000.        603M[25]   \n",
              " 1750                   NaN          791.0                 NaN            814.   \n",
              " 1800                 1000.          978.0                 NaN        989M[25]   \n",
              " 1820                   NaN            NaN               1042.             NaN   \n",
              " 1850                 1265.         1262.0                 NaN           1263.   \n",
              " 1870                   NaN            NaN               1276.             NaN   \n",
              " 1875                   NaN            NaN                 NaN             NaN   \n",
              " 1900                 1656.         1650.0               1563.      1,654M[25]   \n",
              " 1910                   NaN         1750.0                 NaN           1777.   \n",
              " 1913                   NaN            NaN               1793.             NaN   \n",
              " 1920                   NaN         1860.0               1863.           1912.   \n",
              " 1925                 2000.            NaN                 NaN             NaN   \n",
              " 1930                   NaN         2070.0                 NaN           2092.   \n",
              " 1940                   NaN         2300.0               2299.           2307.   \n",
              " \n",
              "         Tanton (1994)[19]  Biraben (1980)[20]  McEvedy & Jones (1978)[21]  \\\n",
              " Year                                                                        \n",
              " −10000                NaN                 NaN                         4.0   \n",
              " −9000                 NaN                 NaN                         NaN   \n",
              " −8000                 NaN                 NaN                         NaN   \n",
              " −7000                 NaN                 NaN                         NaN   \n",
              " −6000                 NaN                 NaN                         NaN   \n",
              " −5000                 NaN                 NaN                         5.0   \n",
              " −4000                 NaN                 NaN                         7.0   \n",
              " −3000                 NaN                 NaN                        14.0   \n",
              " −2000                 NaN                 NaN                        27.0   \n",
              " −1000                 NaN                 NaN                        50.0   \n",
              " −500                  NaN                 NaN                         NaN   \n",
              " −200                  NaN                 NaN                       150.0   \n",
              " 1                   150.0               255.0                       170.0   \n",
              " 100                   NaN                 NaN                         NaN   \n",
              " 200                   NaN               256.0                       190.0   \n",
              " 300                   NaN                 NaN                         NaN   \n",
              " 350                   NaN                 NaN                         NaN   \n",
              " 400                   NaN               206.0                       190.0   \n",
              " 500                   NaN               206.0                       190.0   \n",
              " 600                   NaN               206.0                       200.0   \n",
              " 700                   NaN               207.0                       210.0   \n",
              " 800                   NaN               224.0                       220.0   \n",
              " 900                   NaN               226.0                       240.0   \n",
              " 1000                  NaN               254.0                       265.0   \n",
              " 1100                  NaN               301.0                       320.0   \n",
              " 1200                  NaN               400.0                       360.0   \n",
              " 1250                  NaN               416.0                         NaN   \n",
              " 1300                300.0               432.0                       360.0   \n",
              " 1340                  NaN               443.0                         NaN   \n",
              " 1400                  NaN               374.0                       350.0   \n",
              " 1500                460.0               425.0                         NaN   \n",
              " 1600                  NaN               579.0                       545.0   \n",
              " 1650                  NaN                 NaN                       545.0   \n",
              " 1700               1000.0              1079.0                      1000.0   \n",
              " 1750                  NaN                 NaN                         NaN   \n",
              " 1800                900.0                 NaN                         NaN   \n",
              " 1820                  NaN                 NaN                         NaN   \n",
              " 1850                  NaN              1241.0                      1200.0   \n",
              " 1870                  NaN                 NaN                         NaN   \n",
              " 1875                  NaN                 NaN                      1325.0   \n",
              " 1900               1600.0              1633.0                      1625.0   \n",
              " 1910                  NaN                 NaN                         NaN   \n",
              " 1913                  NaN                 NaN                         NaN   \n",
              " 1920                  NaN                 NaN                         NaN   \n",
              " 1925                  NaN                 NaN                      2000.0   \n",
              " 1930                  NaN                 NaN                         NaN   \n",
              " 1940                  NaN                 NaN                         NaN   \n",
              " \n",
              "        Thomlinson (1975)[22] Durand (1974)[23] Clark (1967)[24]  Gapminder  \n",
              " Year                                                                        \n",
              " −10000                 1–10M               NaN              NaN        4.0  \n",
              " −9000                    NaN               NaN              NaN        NaN  \n",
              " −8000                    NaN             5–10M              NaN        NaN  \n",
              " −7000                    NaN               NaN              NaN        NaN  \n",
              " −6000                    NaN               NaN              NaN        NaN  \n",
              " −5000                  5–20M               NaN              NaN        5.0  \n",
              " −4000                    NaN               NaN              NaN        7.0  \n",
              " −3000                    NaN               NaN              NaN       14.0  \n",
              " −2000                    NaN               NaN              NaN       27.0  \n",
              " −1000                    NaN               NaN              NaN       50.0  \n",
              " −500                     NaN               NaN              NaN        NaN  \n",
              " −200                     NaN               NaN              NaN      150.0  \n",
              " 1                       200.          270–330M         256M[28]      170.0  \n",
              " 100                      NaN               NaN              NaN        NaN  \n",
              " 200                      NaN               NaN              NaN      190.0  \n",
              " 300                      NaN               NaN              NaN        NaN  \n",
              " 350                      NaN               NaN             254.        NaN  \n",
              " 400                      NaN               NaN              NaN      190.0  \n",
              " 500                      NaN               NaN              NaN      190.0  \n",
              " 600                      NaN               NaN             237.      200.0  \n",
              " 700                      NaN               NaN              NaN      207.0  \n",
              " 800                      NaN               NaN             261.      224.0  \n",
              " 900                      NaN               NaN              NaN      226.0  \n",
              " 1000                     NaN          275–345M             280.      254.0  \n",
              " 1100                     NaN               NaN              NaN      301.0  \n",
              " 1200                     NaN               NaN             384.      400.0  \n",
              " 1250                     NaN               NaN              NaN      416.0  \n",
              " 1300                    400.               NaN              NaN      432.0  \n",
              " 1340                     NaN               NaN             378.      443.0  \n",
              " 1400                     NaN               NaN              NaN      374.0  \n",
              " 1500                     NaN          440–540M             427.      460.0  \n",
              " 1600                     NaN               NaN             498.      579.0  \n",
              " 1650                    500.               NaN             516.      579.0  \n",
              " 1700                     NaN             1041.            1079.        NaN  \n",
              " 1750                    700.               NaN              NaN      770.0  \n",
              " 1800                    900.               NaN              NaN      985.0  \n",
              " 1820                     NaN               NaN              NaN     1093.0  \n",
              " 1850                   1200.               NaN              NaN     1278.0  \n",
              " 1870                     NaN               NaN              NaN     1347.0  \n",
              " 1875                     NaN               NaN              NaN     1383.0  \n",
              " 1900                   1600.      1,650–1,710M            1668.     1645.0  \n",
              " 1910                     NaN               NaN              NaN     1790.0  \n",
              " 1913                     NaN               NaN              NaN     1829.0  \n",
              " 1920                     NaN               NaN            1968.     1924.0  \n",
              " 1925                     NaN               NaN              NaN     2007.0  \n",
              " 1930                     NaN               NaN            2145.     2100.0  \n",
              " 1940                     NaN               NaN            2340.     2324.0  ,\n",
              "       United States Census Bureau (2017)[29]  \\\n",
              " Year                                           \n",
              " 1950                              2557628654   \n",
              " 1951                              2594939877   \n",
              " 1952                              2636772306   \n",
              " 1953                              2682053389   \n",
              " 1954                              2730228104   \n",
              " ...                                      ...   \n",
              " 2012                              7013871313   \n",
              " 2013                              7092128094   \n",
              " 2014                              7169968185   \n",
              " 2015                              7247892788   \n",
              " 2016                              7325996709   \n",
              " \n",
              "       Population Reference Bureau (1973–2016)[15]  \\\n",
              " Year                                                \n",
              " 1950                                 2.516000e+09   \n",
              " 1951                                          NaN   \n",
              " 1952                                          NaN   \n",
              " 1953                                          NaN   \n",
              " 1954                                          NaN   \n",
              " ...                                           ...   \n",
              " 2012                                 7.057075e+09   \n",
              " 2013                                 7.136796e+09   \n",
              " 2014                                 7.238184e+09   \n",
              " 2015                                 7.336435e+09   \n",
              " 2016                                 7.418152e+09   \n",
              " \n",
              "       United Nations Department of Economic and Social Affairs (2015)[16]  \\\n",
              " Year                                                                        \n",
              " 1950                                       2.525149e+09                     \n",
              " 1951                                       2.572851e+09                     \n",
              " 1952                                       2.619292e+09                     \n",
              " 1953                                       2.665865e+09                     \n",
              " 1954                                       2.713172e+09                     \n",
              " ...                                                 ...                     \n",
              " 2012                                       7.080072e+09                     \n",
              " 2013                                       7.162119e+09                     \n",
              " 2014                                       7.243784e+09                     \n",
              " 2015                                       7.349472e+09                     \n",
              " 2016                                                NaN                     \n",
              " \n",
              "       Maddison (2008)[17]  HYDE (2007)[25]  Tanton (1994)[19]  \\\n",
              " Year                                                            \n",
              " 1950         2.544000e+09     2.527960e+09       2.400000e+09   \n",
              " 1951         2.571663e+09              NaN                NaN   \n",
              " 1952         2.617949e+09              NaN                NaN   \n",
              " 1953         2.665959e+09              NaN                NaN   \n",
              " 1954         2.716927e+09              NaN                NaN   \n",
              " ...                   ...              ...                ...   \n",
              " 2012                  NaN              NaN                NaN   \n",
              " 2013                  NaN              NaN                NaN   \n",
              " 2014                  NaN              NaN                NaN   \n",
              " 2015                  NaN              NaN                NaN   \n",
              " 2016                  NaN              NaN                NaN   \n",
              " \n",
              "       Biraben (1980)[20]  McEvedy & Jones (1978)[21]  Thomlinson (1975)[22]  \\\n",
              " Year                                                                          \n",
              " 1950        2.527000e+09                2.500000e+09           2.400000e+09   \n",
              " 1951                 NaN                         NaN                    NaN   \n",
              " 1952                 NaN                         NaN                    NaN   \n",
              " 1953                 NaN                         NaN                    NaN   \n",
              " 1954                 NaN                         NaN                    NaN   \n",
              " ...                  ...                         ...                    ...   \n",
              " 2012                 NaN                         NaN                    NaN   \n",
              " 2013                 NaN                         NaN                    NaN   \n",
              " 2014                 NaN                         NaN                    NaN   \n",
              " 2015                 NaN                         NaN                    NaN   \n",
              " 2016                 NaN                         NaN                    NaN   \n",
              " \n",
              "      Durand (1974)[23]  Clark (1967)[24]  \n",
              " Year                                      \n",
              " 1950               NaN      2.486000e+09  \n",
              " 1951               NaN               NaN  \n",
              " 1952               NaN               NaN  \n",
              " 1953               NaN               NaN  \n",
              " 1954               NaN               NaN  \n",
              " ...                ...               ...  \n",
              " 2012               NaN               NaN  \n",
              " 2013               NaN               NaN  \n",
              " 2014               NaN               NaN  \n",
              " 2015               NaN               NaN  \n",
              " 2016               NaN               NaN  \n",
              " \n",
              " [67 rows x 11 columns],\n",
              "                                   1       1000       1500       1600  \\\n",
              " Year                                                                   \n",
              " Asia                      168 (74%)  183 (69%)  284 (65%)  379 (68%)   \n",
              " East Asia/Southeast Asia   74 (33%)   88 (33%)  166 (38%)  223 (40%)   \n",
              " South Asia                 75 (33%)   75 (28%)  110 (25%)  135 (24%)   \n",
              " Europe[31]                 34 (15%)   40 (15%)   78 (18%)  112 (20%)   \n",
              " West Asia                   19 (8%)    20 (7%)    18 (3%)    21 (3%)   \n",
              " Africa                      17 (8%)   32 (12%)   47 (11%)   55 (10%)   \n",
              " Central/South America        6 (3%)    11 (4%)    18 (4%)     9 (2%)   \n",
              " North America                1 (0%)     1 (0%)     2 (0%)     2 (0%)   \n",
              " Oceania                         0.4        0.4        0.6        0.6   \n",
              " World                           226        267        438        556   \n",
              " World growth p.a.               NaN      +0.0%      +0.1%      +0.2%   \n",
              " \n",
              "                                1700       1820       1913         2000  \\\n",
              " Year                                                                     \n",
              " Asia                      402 (67%)  710 (68%)  978 (55%)  3,605 (59%)   \n",
              " East Asia/Southeast Asia  216 (36%)  469 (45%)  613 (34%)  1,996 (33%)   \n",
              " South Asia                165 (27%)  216 (21%)  326 (18%)  1,372 (23%)   \n",
              " Europe[31]                127 (21%)  224 (21%)  498 (28%)    742 (13%)   \n",
              " West Asia                   21 (3%)    25 (2%)    39 (2%)     237 (4%)   \n",
              " Africa                     61 (10%)    74 (7%)   125 (7%)    798 (13%)   \n",
              " Central/South America       12 (2%)    22 (2%)    81 (5%)     520 (9%)   \n",
              " North America                1 (0%)    11 (1%)   105 (6%)     314 (5%)   \n",
              " Oceania                         0.6        0.4          5      23 (0%)   \n",
              " World                           603       1041       1791         6062   \n",
              " World growth p.a.             +0.1%      +0.5%      +0.6%        +1.4%   \n",
              " \n",
              "                                  2030  \n",
              " Year                                   \n",
              " Asia                      4,790 (59%)  \n",
              " East Asia/Southeast Asia  2,417 (30%)  \n",
              " South Asia                2,003 (25%)  \n",
              " Europe[31]                  829 (11%)  \n",
              " West Asia                    370 (5%)  \n",
              " Africa                    1,449 (18%)  \n",
              " Central/South America        702 (9%)  \n",
              " North America                413 (5%)  \n",
              " Oceania                       28 (0%)  \n",
              " World                            8175  \n",
              " World growth p.a.               +1.0%  ,\n",
              "                               1    1000    1500    1600    1700     1820  \\\n",
              " Year                                                                       \n",
              " Austria                     500     700    2000    2500    2500     3369   \n",
              " Belgium                     300     400    1400    1600    2000     3424   \n",
              " Denmark                     250     360     600     650     700     1155   \n",
              " Finland                     250     250     300     400     400     1169   \n",
              " France                     5000    6500   15000   18500   21471    31246   \n",
              " Germany                    3000    3500   12000   16000   15000    24905   \n",
              " Italy                      7000    6000   10500   13100   13300    20176   \n",
              " Netherlands                 200     300     950    1500    1900     2355   \n",
              " Norway                      250     400     300     400     500      970   \n",
              " Sweden                      250     350     700    1000    1260     2585   \n",
              " Switzerland                 150     300     650    1000    1200     1829   \n",
              " United Kingdom             1500    2000    3942    6170    8565    21226   \n",
              " 12 Countries Total        18000   24700   48192   62580   68796   114419   \n",
              " Portugal                    800     900    1000    1100    2000     3297   \n",
              " Spain                      4500    4000    6800    8240    8770    12203   \n",
              " Other                      2100    1113    1276    1858    1894     2969   \n",
              " Total Western Europe      25550   30413   57268   73778   81460   132888   \n",
              " Eastern Europe             7900    9000   18000   18000   18800    36415   \n",
              " Former USSR               18000   18000   18000   20700   26550    54765   \n",
              " United States               680    1300    2000    1500    1000     9981   \n",
              " Other Western Offshoots     490     660     800     800     750     1249   \n",
              " Total Western Offshoots    1170    1960    2800    2300    1750    11230   \n",
              " Mexico                    10000   10000   10000    2500    4500     6587   \n",
              " Other Latin America       10000   20000   30000    6100    7550    14633   \n",
              " Total Latin America       20000   30000   40000    8600   12050    21220   \n",
              " Japan                      3000    7500   15400   18500   27000    31000   \n",
              " China                     50000   59000  103000  160000  138000   381000   \n",
              " India                     60000   75000  110000  135000  165000   209000   \n",
              " Other Asia                66000   41400   55400   65000   71800    89366   \n",
              " Total Asia               179000  175400  268400  360000  374800   679366   \n",
              " Africa                    35000   33000   46000   55000   61000    74208   \n",
              " World                    300000  268273  437818  555828  603410  1041092   \n",
              " \n",
              "                             1870     1900     1950     1973  1998[32]  \n",
              " Year                                                                   \n",
              " Austria                     4520     6767     6935     7586      8078  \n",
              " Belgium                     5096     7666     8640     9738     10197  \n",
              " Denmark                     1888     2983     4269     5022      5303  \n",
              " Finland                     1754     3027     4009     4666      5153  \n",
              " France                     38440    41463    41836    52118     58805  \n",
              " Germany                    39231    65058    68371    78956     82029  \n",
              " Italy                      27888    37248    47105    54751     57592  \n",
              " Netherlands                 3615     6164    10114    13438     15700  \n",
              " Norway                      1735     2447     3265     3961      4432  \n",
              " Sweden                      4164     5621     7015     8137      8851  \n",
              " Switzerland                 2664     3864     4694     6441      7130  \n",
              " United Kingdom             31393    45649    50363    56223     59237  \n",
              " 12 Countries Total        162388   227957   256616   301037    322507  \n",
              " Portugal                    4353     6004     8512     8634      9968  \n",
              " Spain                      16201    20263    27868    34810     39371  \n",
              " Other                       4590     6783    12064    13909     16553  \n",
              " Total Western Europe      187532   261007   305060   358390    388399  \n",
              " Eastern Europe             52182    79604    87289   110490    121006  \n",
              " Former USSR                88672   156192   180050   249748    290866  \n",
              " United States              40241    97606   152271   212909    270561  \n",
              " Other Western Offshoots     5892    13795    23823    39036     52859  \n",
              " Total Western Offshoots    46133   111401   176094   250945    323420  \n",
              " Mexico                      9219    14970    28485    57643     98553  \n",
              " Other Latin America        30754    65545   137352   250807    409070  \n",
              " Total Latin America        39973    80515   165837   308450    507623  \n",
              " Japan                      34437    51672    83563   108660    126469  \n",
              " China                     358000   437140   546815   881940   1242700  \n",
              " India                     253000   303700   359000   580000    975000  \n",
              " Other Asia                119619   185092   392481   677214   1172243  \n",
              " Total Asia                730619   925932  1298296  2139154   3389943  \n",
              " Africa                     90466   124697   228342   387645    759954  \n",
              " World                    1270014  1791020  2524531  3913482   5907680  ,\n",
              "                                                    .mw-parser-output .navbar{display:inline;font-size:88%;font-weight:normal}.mw-parser-output .navbar-collapse{float:left;text-align:left}.mw-parser-output .navbar-boxtext{word-spacing:0}.mw-parser-output .navbar ul{display:inline-block;white-space:nowrap;line-height:inherit}.mw-parser-output .navbar-brackets::before{margin-right:-0.125em;content:\"[ \"}.mw-parser-output .navbar-brackets::after{margin-left:-0.125em;content:\" ]\"}.mw-parser-output .navbar li{word-spacing:-0.125em}.mw-parser-output .navbar a>span,.mw-parser-output .navbar a>abbr{text-decoration:inherit}.mw-parser-output .navbar-mini abbr{font-variant:small-caps;border-bottom:none;text-decoration:none;cursor:inherit}.mw-parser-output .navbar-ct-full{font-size:114%;margin:0 7em}.mw-parser-output .navbar-ct-mini{font-size:114%;margin:0 4em}vtePopulation.1\n",
              " .mw-parser-output .navbar{display:inline;font-s...                                                                                                                                                                                                                                                                                                                                                                                                                                                                                                                                                                                                                                                                                                                                                                                                                                                        \n",
              " Major topics                                        Demographics of the world Demographic transiti...                                                                                                                                                                                                                                                                                                                                                                                                                                                                                                                                                                                                                                                                                                                                                                                                     \n",
              " Population biology                                  Population decline Population density Physiolo...                                                                                                                                                                                                                                                                                                                                                                                                                                                                                                                                                                                                                                                                                                                                                                                                     \n",
              " Population ecology                                  Biocapacity Carrying capacity Earth's energy b...                                                                                                                                                                                                                                                                                                                                                                                                                                                                                                                                                                                                                                                                                                                                                                                                     \n",
              " Society and  population                             Human overpopulation Malthusian catastrophe Hu...                                                                                                                                                                                                                                                                                                                                                                                                                                                                                                                                                                                                                                                                                                                                                                                                     \n",
              " Publications                                        Population and Environment Population and Deve...                                                                                                                                                                                                                                                                                                                                                                                                                                                                                                                                                                                                                                                                                                                                                                                                     \n",
              " Lists                                               Population and housing censuses by country Lar...                                                                                                                                                                                                                                                                                                                                                                                                                                                                                                                                                                                                                                                                                                                                                                                                     \n",
              " Events and organizations                            7 Billion Actions Church of Euthanasia Interna...                                                                                                                                                                                                                                                                                                                                                                                                                                                                                                                                                                                                                                                                                                                                                                                                     \n",
              " Related topics                                      Bennett's law Green Revolution Human impact on...                                                                                                                                                                                                                                                                                                                                                                                                                                                                                                                                                                                                                                                                                                                                                                                                     \n",
              " Commons  Category                                                                   Commons  Category                                                                                                                                                                                                                                                                                                                                                                                                                                                                                                                                                                                                                                                                                                                                                                                                     ]"
            ]
          },
          "metadata": {},
          "execution_count": 58
        }
      ]
    },
    {
      "cell_type": "code",
      "source": [
        "tabla_poblacion"
      ],
      "metadata": {
        "colab": {
          "base_uri": "https://localhost:8080/",
          "height": 489
        },
        "id": "usoKU315tAKU",
        "outputId": "22ff705e-d5c0-479e-d686-6f67267c3757"
      },
      "execution_count": 59,
      "outputs": [
        {
          "output_type": "execute_result",
          "data": {
            "text/plain": [
              "      United States Census Bureau (2017)[29]  \\\n",
              "Year                                           \n",
              "1950                              2557628654   \n",
              "1951                              2594939877   \n",
              "1952                              2636772306   \n",
              "1953                              2682053389   \n",
              "1954                              2730228104   \n",
              "...                                      ...   \n",
              "2012                              7013871313   \n",
              "2013                              7092128094   \n",
              "2014                              7169968185   \n",
              "2015                              7247892788   \n",
              "2016                              7325996709   \n",
              "\n",
              "      Population Reference Bureau (1973–2016)[15]  \\\n",
              "Year                                                \n",
              "1950                                 2.516000e+09   \n",
              "1951                                          NaN   \n",
              "1952                                          NaN   \n",
              "1953                                          NaN   \n",
              "1954                                          NaN   \n",
              "...                                           ...   \n",
              "2012                                 7.057075e+09   \n",
              "2013                                 7.136796e+09   \n",
              "2014                                 7.238184e+09   \n",
              "2015                                 7.336435e+09   \n",
              "2016                                 7.418152e+09   \n",
              "\n",
              "      United Nations Department of Economic and Social Affairs (2015)[16]  \\\n",
              "Year                                                                        \n",
              "1950                                       2.525149e+09                     \n",
              "1951                                       2.572851e+09                     \n",
              "1952                                       2.619292e+09                     \n",
              "1953                                       2.665865e+09                     \n",
              "1954                                       2.713172e+09                     \n",
              "...                                                 ...                     \n",
              "2012                                       7.080072e+09                     \n",
              "2013                                       7.162119e+09                     \n",
              "2014                                       7.243784e+09                     \n",
              "2015                                       7.349472e+09                     \n",
              "2016                                                NaN                     \n",
              "\n",
              "      Maddison (2008)[17]  HYDE (2007)[25]  Tanton (1994)[19]  \\\n",
              "Year                                                            \n",
              "1950         2.544000e+09     2.527960e+09       2.400000e+09   \n",
              "1951         2.571663e+09              NaN                NaN   \n",
              "1952         2.617949e+09              NaN                NaN   \n",
              "1953         2.665959e+09              NaN                NaN   \n",
              "1954         2.716927e+09              NaN                NaN   \n",
              "...                   ...              ...                ...   \n",
              "2012                  NaN              NaN                NaN   \n",
              "2013                  NaN              NaN                NaN   \n",
              "2014                  NaN              NaN                NaN   \n",
              "2015                  NaN              NaN                NaN   \n",
              "2016                  NaN              NaN                NaN   \n",
              "\n",
              "      Biraben (1980)[20]  McEvedy & Jones (1978)[21]  Thomlinson (1975)[22]  \\\n",
              "Year                                                                          \n",
              "1950        2.527000e+09                2.500000e+09           2.400000e+09   \n",
              "1951                 NaN                         NaN                    NaN   \n",
              "1952                 NaN                         NaN                    NaN   \n",
              "1953                 NaN                         NaN                    NaN   \n",
              "1954                 NaN                         NaN                    NaN   \n",
              "...                  ...                         ...                    ...   \n",
              "2012                 NaN                         NaN                    NaN   \n",
              "2013                 NaN                         NaN                    NaN   \n",
              "2014                 NaN                         NaN                    NaN   \n",
              "2015                 NaN                         NaN                    NaN   \n",
              "2016                 NaN                         NaN                    NaN   \n",
              "\n",
              "     Durand (1974)[23]  Clark (1967)[24]  \n",
              "Year                                      \n",
              "1950               NaN      2.486000e+09  \n",
              "1951               NaN               NaN  \n",
              "1952               NaN               NaN  \n",
              "1953               NaN               NaN  \n",
              "1954               NaN               NaN  \n",
              "...                ...               ...  \n",
              "2012               NaN               NaN  \n",
              "2013               NaN               NaN  \n",
              "2014               NaN               NaN  \n",
              "2015               NaN               NaN  \n",
              "2016               NaN               NaN  \n",
              "\n",
              "[67 rows x 11 columns]"
            ],
            "text/html": [
              "\n",
              "  <div id=\"df-06b42b7e-7d3e-4476-ae1d-0db198ba39bf\" class=\"colab-df-container\">\n",
              "    <div>\n",
              "<style scoped>\n",
              "    .dataframe tbody tr th:only-of-type {\n",
              "        vertical-align: middle;\n",
              "    }\n",
              "\n",
              "    .dataframe tbody tr th {\n",
              "        vertical-align: top;\n",
              "    }\n",
              "\n",
              "    .dataframe thead th {\n",
              "        text-align: right;\n",
              "    }\n",
              "</style>\n",
              "<table border=\"1\" class=\"dataframe\">\n",
              "  <thead>\n",
              "    <tr style=\"text-align: right;\">\n",
              "      <th></th>\n",
              "      <th>United States Census Bureau (2017)[29]</th>\n",
              "      <th>Population Reference Bureau (1973–2016)[15]</th>\n",
              "      <th>United Nations Department of Economic and Social Affairs (2015)[16]</th>\n",
              "      <th>Maddison (2008)[17]</th>\n",
              "      <th>HYDE (2007)[25]</th>\n",
              "      <th>Tanton (1994)[19]</th>\n",
              "      <th>Biraben (1980)[20]</th>\n",
              "      <th>McEvedy &amp; Jones (1978)[21]</th>\n",
              "      <th>Thomlinson (1975)[22]</th>\n",
              "      <th>Durand (1974)[23]</th>\n",
              "      <th>Clark (1967)[24]</th>\n",
              "    </tr>\n",
              "    <tr>\n",
              "      <th>Year</th>\n",
              "      <th></th>\n",
              "      <th></th>\n",
              "      <th></th>\n",
              "      <th></th>\n",
              "      <th></th>\n",
              "      <th></th>\n",
              "      <th></th>\n",
              "      <th></th>\n",
              "      <th></th>\n",
              "      <th></th>\n",
              "      <th></th>\n",
              "    </tr>\n",
              "  </thead>\n",
              "  <tbody>\n",
              "    <tr>\n",
              "      <th>1950</th>\n",
              "      <td>2557628654</td>\n",
              "      <td>2.516000e+09</td>\n",
              "      <td>2.525149e+09</td>\n",
              "      <td>2.544000e+09</td>\n",
              "      <td>2.527960e+09</td>\n",
              "      <td>2.400000e+09</td>\n",
              "      <td>2.527000e+09</td>\n",
              "      <td>2.500000e+09</td>\n",
              "      <td>2.400000e+09</td>\n",
              "      <td>NaN</td>\n",
              "      <td>2.486000e+09</td>\n",
              "    </tr>\n",
              "    <tr>\n",
              "      <th>1951</th>\n",
              "      <td>2594939877</td>\n",
              "      <td>NaN</td>\n",
              "      <td>2.572851e+09</td>\n",
              "      <td>2.571663e+09</td>\n",
              "      <td>NaN</td>\n",
              "      <td>NaN</td>\n",
              "      <td>NaN</td>\n",
              "      <td>NaN</td>\n",
              "      <td>NaN</td>\n",
              "      <td>NaN</td>\n",
              "      <td>NaN</td>\n",
              "    </tr>\n",
              "    <tr>\n",
              "      <th>1952</th>\n",
              "      <td>2636772306</td>\n",
              "      <td>NaN</td>\n",
              "      <td>2.619292e+09</td>\n",
              "      <td>2.617949e+09</td>\n",
              "      <td>NaN</td>\n",
              "      <td>NaN</td>\n",
              "      <td>NaN</td>\n",
              "      <td>NaN</td>\n",
              "      <td>NaN</td>\n",
              "      <td>NaN</td>\n",
              "      <td>NaN</td>\n",
              "    </tr>\n",
              "    <tr>\n",
              "      <th>1953</th>\n",
              "      <td>2682053389</td>\n",
              "      <td>NaN</td>\n",
              "      <td>2.665865e+09</td>\n",
              "      <td>2.665959e+09</td>\n",
              "      <td>NaN</td>\n",
              "      <td>NaN</td>\n",
              "      <td>NaN</td>\n",
              "      <td>NaN</td>\n",
              "      <td>NaN</td>\n",
              "      <td>NaN</td>\n",
              "      <td>NaN</td>\n",
              "    </tr>\n",
              "    <tr>\n",
              "      <th>1954</th>\n",
              "      <td>2730228104</td>\n",
              "      <td>NaN</td>\n",
              "      <td>2.713172e+09</td>\n",
              "      <td>2.716927e+09</td>\n",
              "      <td>NaN</td>\n",
              "      <td>NaN</td>\n",
              "      <td>NaN</td>\n",
              "      <td>NaN</td>\n",
              "      <td>NaN</td>\n",
              "      <td>NaN</td>\n",
              "      <td>NaN</td>\n",
              "    </tr>\n",
              "    <tr>\n",
              "      <th>...</th>\n",
              "      <td>...</td>\n",
              "      <td>...</td>\n",
              "      <td>...</td>\n",
              "      <td>...</td>\n",
              "      <td>...</td>\n",
              "      <td>...</td>\n",
              "      <td>...</td>\n",
              "      <td>...</td>\n",
              "      <td>...</td>\n",
              "      <td>...</td>\n",
              "      <td>...</td>\n",
              "    </tr>\n",
              "    <tr>\n",
              "      <th>2012</th>\n",
              "      <td>7013871313</td>\n",
              "      <td>7.057075e+09</td>\n",
              "      <td>7.080072e+09</td>\n",
              "      <td>NaN</td>\n",
              "      <td>NaN</td>\n",
              "      <td>NaN</td>\n",
              "      <td>NaN</td>\n",
              "      <td>NaN</td>\n",
              "      <td>NaN</td>\n",
              "      <td>NaN</td>\n",
              "      <td>NaN</td>\n",
              "    </tr>\n",
              "    <tr>\n",
              "      <th>2013</th>\n",
              "      <td>7092128094</td>\n",
              "      <td>7.136796e+09</td>\n",
              "      <td>7.162119e+09</td>\n",
              "      <td>NaN</td>\n",
              "      <td>NaN</td>\n",
              "      <td>NaN</td>\n",
              "      <td>NaN</td>\n",
              "      <td>NaN</td>\n",
              "      <td>NaN</td>\n",
              "      <td>NaN</td>\n",
              "      <td>NaN</td>\n",
              "    </tr>\n",
              "    <tr>\n",
              "      <th>2014</th>\n",
              "      <td>7169968185</td>\n",
              "      <td>7.238184e+09</td>\n",
              "      <td>7.243784e+09</td>\n",
              "      <td>NaN</td>\n",
              "      <td>NaN</td>\n",
              "      <td>NaN</td>\n",
              "      <td>NaN</td>\n",
              "      <td>NaN</td>\n",
              "      <td>NaN</td>\n",
              "      <td>NaN</td>\n",
              "      <td>NaN</td>\n",
              "    </tr>\n",
              "    <tr>\n",
              "      <th>2015</th>\n",
              "      <td>7247892788</td>\n",
              "      <td>7.336435e+09</td>\n",
              "      <td>7.349472e+09</td>\n",
              "      <td>NaN</td>\n",
              "      <td>NaN</td>\n",
              "      <td>NaN</td>\n",
              "      <td>NaN</td>\n",
              "      <td>NaN</td>\n",
              "      <td>NaN</td>\n",
              "      <td>NaN</td>\n",
              "      <td>NaN</td>\n",
              "    </tr>\n",
              "    <tr>\n",
              "      <th>2016</th>\n",
              "      <td>7325996709</td>\n",
              "      <td>7.418152e+09</td>\n",
              "      <td>NaN</td>\n",
              "      <td>NaN</td>\n",
              "      <td>NaN</td>\n",
              "      <td>NaN</td>\n",
              "      <td>NaN</td>\n",
              "      <td>NaN</td>\n",
              "      <td>NaN</td>\n",
              "      <td>NaN</td>\n",
              "      <td>NaN</td>\n",
              "    </tr>\n",
              "  </tbody>\n",
              "</table>\n",
              "<p>67 rows × 11 columns</p>\n",
              "</div>\n",
              "    <div class=\"colab-df-buttons\">\n",
              "\n",
              "  <div class=\"colab-df-container\">\n",
              "    <button class=\"colab-df-convert\" onclick=\"convertToInteractive('df-06b42b7e-7d3e-4476-ae1d-0db198ba39bf')\"\n",
              "            title=\"Convert this dataframe to an interactive table.\"\n",
              "            style=\"display:none;\">\n",
              "\n",
              "  <svg xmlns=\"http://www.w3.org/2000/svg\" height=\"24px\" viewBox=\"0 -960 960 960\">\n",
              "    <path d=\"M120-120v-720h720v720H120Zm60-500h600v-160H180v160Zm220 220h160v-160H400v160Zm0 220h160v-160H400v160ZM180-400h160v-160H180v160Zm440 0h160v-160H620v160ZM180-180h160v-160H180v160Zm440 0h160v-160H620v160Z\"/>\n",
              "  </svg>\n",
              "    </button>\n",
              "\n",
              "  <style>\n",
              "    .colab-df-container {\n",
              "      display:flex;\n",
              "      gap: 12px;\n",
              "    }\n",
              "\n",
              "    .colab-df-convert {\n",
              "      background-color: #E8F0FE;\n",
              "      border: none;\n",
              "      border-radius: 50%;\n",
              "      cursor: pointer;\n",
              "      display: none;\n",
              "      fill: #1967D2;\n",
              "      height: 32px;\n",
              "      padding: 0 0 0 0;\n",
              "      width: 32px;\n",
              "    }\n",
              "\n",
              "    .colab-df-convert:hover {\n",
              "      background-color: #E2EBFA;\n",
              "      box-shadow: 0px 1px 2px rgba(60, 64, 67, 0.3), 0px 1px 3px 1px rgba(60, 64, 67, 0.15);\n",
              "      fill: #174EA6;\n",
              "    }\n",
              "\n",
              "    .colab-df-buttons div {\n",
              "      margin-bottom: 4px;\n",
              "    }\n",
              "\n",
              "    [theme=dark] .colab-df-convert {\n",
              "      background-color: #3B4455;\n",
              "      fill: #D2E3FC;\n",
              "    }\n",
              "\n",
              "    [theme=dark] .colab-df-convert:hover {\n",
              "      background-color: #434B5C;\n",
              "      box-shadow: 0px 1px 3px 1px rgba(0, 0, 0, 0.15);\n",
              "      filter: drop-shadow(0px 1px 2px rgba(0, 0, 0, 0.3));\n",
              "      fill: #FFFFFF;\n",
              "    }\n",
              "  </style>\n",
              "\n",
              "    <script>\n",
              "      const buttonEl =\n",
              "        document.querySelector('#df-06b42b7e-7d3e-4476-ae1d-0db198ba39bf button.colab-df-convert');\n",
              "      buttonEl.style.display =\n",
              "        google.colab.kernel.accessAllowed ? 'block' : 'none';\n",
              "\n",
              "      async function convertToInteractive(key) {\n",
              "        const element = document.querySelector('#df-06b42b7e-7d3e-4476-ae1d-0db198ba39bf');\n",
              "        const dataTable =\n",
              "          await google.colab.kernel.invokeFunction('convertToInteractive',\n",
              "                                                    [key], {});\n",
              "        if (!dataTable) return;\n",
              "\n",
              "        const docLinkHtml = 'Like what you see? Visit the ' +\n",
              "          '<a target=\"_blank\" href=https://colab.research.google.com/notebooks/data_table.ipynb>data table notebook</a>'\n",
              "          + ' to learn more about interactive tables.';\n",
              "        element.innerHTML = '';\n",
              "        dataTable['output_type'] = 'display_data';\n",
              "        await google.colab.output.renderOutput(dataTable, element);\n",
              "        const docLink = document.createElement('div');\n",
              "        docLink.innerHTML = docLinkHtml;\n",
              "        element.appendChild(docLink);\n",
              "      }\n",
              "    </script>\n",
              "  </div>\n",
              "\n",
              "\n",
              "<div id=\"df-b33ccd49-8b24-4682-a79a-296b796fa23f\">\n",
              "  <button class=\"colab-df-quickchart\" onclick=\"quickchart('df-b33ccd49-8b24-4682-a79a-296b796fa23f')\"\n",
              "            title=\"Suggest charts\"\n",
              "            style=\"display:none;\">\n",
              "\n",
              "<svg xmlns=\"http://www.w3.org/2000/svg\" height=\"24px\"viewBox=\"0 0 24 24\"\n",
              "     width=\"24px\">\n",
              "    <g>\n",
              "        <path d=\"M19 3H5c-1.1 0-2 .9-2 2v14c0 1.1.9 2 2 2h14c1.1 0 2-.9 2-2V5c0-1.1-.9-2-2-2zM9 17H7v-7h2v7zm4 0h-2V7h2v10zm4 0h-2v-4h2v4z\"/>\n",
              "    </g>\n",
              "</svg>\n",
              "  </button>\n",
              "\n",
              "<style>\n",
              "  .colab-df-quickchart {\n",
              "      --bg-color: #E8F0FE;\n",
              "      --fill-color: #1967D2;\n",
              "      --hover-bg-color: #E2EBFA;\n",
              "      --hover-fill-color: #174EA6;\n",
              "      --disabled-fill-color: #AAA;\n",
              "      --disabled-bg-color: #DDD;\n",
              "  }\n",
              "\n",
              "  [theme=dark] .colab-df-quickchart {\n",
              "      --bg-color: #3B4455;\n",
              "      --fill-color: #D2E3FC;\n",
              "      --hover-bg-color: #434B5C;\n",
              "      --hover-fill-color: #FFFFFF;\n",
              "      --disabled-bg-color: #3B4455;\n",
              "      --disabled-fill-color: #666;\n",
              "  }\n",
              "\n",
              "  .colab-df-quickchart {\n",
              "    background-color: var(--bg-color);\n",
              "    border: none;\n",
              "    border-radius: 50%;\n",
              "    cursor: pointer;\n",
              "    display: none;\n",
              "    fill: var(--fill-color);\n",
              "    height: 32px;\n",
              "    padding: 0;\n",
              "    width: 32px;\n",
              "  }\n",
              "\n",
              "  .colab-df-quickchart:hover {\n",
              "    background-color: var(--hover-bg-color);\n",
              "    box-shadow: 0 1px 2px rgba(60, 64, 67, 0.3), 0 1px 3px 1px rgba(60, 64, 67, 0.15);\n",
              "    fill: var(--button-hover-fill-color);\n",
              "  }\n",
              "\n",
              "  .colab-df-quickchart-complete:disabled,\n",
              "  .colab-df-quickchart-complete:disabled:hover {\n",
              "    background-color: var(--disabled-bg-color);\n",
              "    fill: var(--disabled-fill-color);\n",
              "    box-shadow: none;\n",
              "  }\n",
              "\n",
              "  .colab-df-spinner {\n",
              "    border: 2px solid var(--fill-color);\n",
              "    border-color: transparent;\n",
              "    border-bottom-color: var(--fill-color);\n",
              "    animation:\n",
              "      spin 1s steps(1) infinite;\n",
              "  }\n",
              "\n",
              "  @keyframes spin {\n",
              "    0% {\n",
              "      border-color: transparent;\n",
              "      border-bottom-color: var(--fill-color);\n",
              "      border-left-color: var(--fill-color);\n",
              "    }\n",
              "    20% {\n",
              "      border-color: transparent;\n",
              "      border-left-color: var(--fill-color);\n",
              "      border-top-color: var(--fill-color);\n",
              "    }\n",
              "    30% {\n",
              "      border-color: transparent;\n",
              "      border-left-color: var(--fill-color);\n",
              "      border-top-color: var(--fill-color);\n",
              "      border-right-color: var(--fill-color);\n",
              "    }\n",
              "    40% {\n",
              "      border-color: transparent;\n",
              "      border-right-color: var(--fill-color);\n",
              "      border-top-color: var(--fill-color);\n",
              "    }\n",
              "    60% {\n",
              "      border-color: transparent;\n",
              "      border-right-color: var(--fill-color);\n",
              "    }\n",
              "    80% {\n",
              "      border-color: transparent;\n",
              "      border-right-color: var(--fill-color);\n",
              "      border-bottom-color: var(--fill-color);\n",
              "    }\n",
              "    90% {\n",
              "      border-color: transparent;\n",
              "      border-bottom-color: var(--fill-color);\n",
              "    }\n",
              "  }\n",
              "</style>\n",
              "\n",
              "  <script>\n",
              "    async function quickchart(key) {\n",
              "      const quickchartButtonEl =\n",
              "        document.querySelector('#' + key + ' button');\n",
              "      quickchartButtonEl.disabled = true;  // To prevent multiple clicks.\n",
              "      quickchartButtonEl.classList.add('colab-df-spinner');\n",
              "      try {\n",
              "        const charts = await google.colab.kernel.invokeFunction(\n",
              "            'suggestCharts', [key], {});\n",
              "      } catch (error) {\n",
              "        console.error('Error during call to suggestCharts:', error);\n",
              "      }\n",
              "      quickchartButtonEl.classList.remove('colab-df-spinner');\n",
              "      quickchartButtonEl.classList.add('colab-df-quickchart-complete');\n",
              "    }\n",
              "    (() => {\n",
              "      let quickchartButtonEl =\n",
              "        document.querySelector('#df-b33ccd49-8b24-4682-a79a-296b796fa23f button');\n",
              "      quickchartButtonEl.style.display =\n",
              "        google.colab.kernel.accessAllowed ? 'block' : 'none';\n",
              "    })();\n",
              "  </script>\n",
              "</div>\n",
              "    </div>\n",
              "  </div>\n"
            ],
            "application/vnd.google.colaboratory.intrinsic+json": {
              "type": "dataframe",
              "variable_name": "tabla_poblacion",
              "summary": "{\n  \"name\": \"tabla_poblacion\",\n  \"rows\": 67,\n  \"fields\": [\n    {\n      \"column\": \"Year\",\n      \"properties\": {\n        \"dtype\": \"number\",\n        \"std\": 19,\n        \"min\": 1950,\n        \"max\": 2016,\n        \"num_unique_values\": 67,\n        \"samples\": [\n          1986,\n          1966,\n          1954\n        ],\n        \"semantic_type\": \"\",\n        \"description\": \"\"\n      }\n    },\n    {\n      \"column\": \"United States Census Bureau (2017)[29]\",\n      \"properties\": {\n        \"dtype\": \"number\",\n        \"std\": 1469388800,\n        \"min\": 2557628654,\n        \"max\": 7325996709,\n        \"num_unique_values\": 67,\n        \"samples\": [\n          4940571232,\n          3420677923,\n          2730228104\n        ],\n        \"semantic_type\": \"\",\n        \"description\": \"\"\n      }\n    },\n    {\n      \"column\": \"Population Reference Bureau (1973\\u20132016)[15]\",\n      \"properties\": {\n        \"dtype\": \"number\",\n        \"std\": 1039685546.4490149,\n        \"min\": 2516000000.0,\n        \"max\": 7418151841.0,\n        \"num_unique_values\": 20,\n        \"samples\": [\n          2516000000.0,\n          7238184000.0,\n          7057075000.0\n        ],\n        \"semantic_type\": \"\",\n        \"description\": \"\"\n      }\n    },\n    {\n      \"column\": \"United Nations Department of Economic and Social Affairs (2015)[16]\",\n      \"properties\": {\n        \"dtype\": \"number\",\n        \"std\": 1477105561.2119434,\n        \"min\": 2525149000.0,\n        \"max\": 7349472000.0,\n        \"num_unique_values\": 66,\n        \"samples\": [\n          6435705595.0,\n          7080072417.0,\n          2525149000.0\n        ],\n        \"semantic_type\": \"\",\n        \"description\": \"\"\n      }\n    },\n    {\n      \"column\": \"Maddison (2008)[17]\",\n      \"properties\": {\n        \"dtype\": \"number\",\n        \"std\": 1304235538.0681348,\n        \"min\": 2544000000.0,\n        \"max\": 6764086000.0,\n        \"num_unique_values\": 60,\n        \"samples\": [\n          2544000000.0,\n          2769074000.0,\n          4920968000.0\n        ],\n        \"semantic_type\": \"\",\n        \"description\": \"\"\n      }\n    },\n    {\n      \"column\": \"HYDE (2007)[25]\",\n      \"properties\": {\n        \"dtype\": \"number\",\n        \"std\": 1259687543.3595579,\n        \"min\": 2527960000.0,\n        \"max\": 6145000000.0,\n        \"num_unique_values\": 7,\n        \"samples\": [\n          2527960000.0,\n          3042000000.0,\n          5308000000.0\n        ],\n        \"semantic_type\": \"\",\n        \"description\": \"\"\n      }\n    },\n    {\n      \"column\": \"Tanton (1994)[19]\",\n      \"properties\": {\n        \"dtype\": \"number\",\n        \"std\": 1838477631.0850236,\n        \"min\": 2400000000.0,\n        \"max\": 5000000000.0,\n        \"num_unique_values\": 2,\n        \"samples\": [\n          5000000000.0,\n          2400000000.0\n        ],\n        \"semantic_type\": \"\",\n        \"description\": \"\"\n      }\n    },\n    {\n      \"column\": \"Biraben (1980)[20]\",\n      \"properties\": {\n        \"dtype\": \"number\",\n        \"std\": 784888527.1170677,\n        \"min\": 2527000000.0,\n        \"max\": 3637000000.0,\n        \"num_unique_values\": 2,\n        \"samples\": [\n          3637000000.0,\n          2527000000.0\n        ],\n        \"semantic_type\": \"\",\n        \"description\": \"\"\n      }\n    },\n    {\n      \"column\": \"McEvedy & Jones (1978)[21]\",\n      \"properties\": {\n        \"dtype\": \"number\",\n        \"std\": 1630184038.6901107,\n        \"min\": 2500000000.0,\n        \"max\": 5750000000.0,\n        \"num_unique_values\": 3,\n        \"samples\": [\n          2500000000.0,\n          3900000000.0\n        ],\n        \"semantic_type\": \"\",\n        \"description\": \"\"\n      }\n    },\n    {\n      \"column\": \"Thomlinson (1975)[22]\",\n      \"properties\": {\n        \"dtype\": \"number\",\n        \"std\": 832666399.786453,\n        \"min\": 2400000000.0,\n        \"max\": 4000000000.0,\n        \"num_unique_values\": 3,\n        \"samples\": [\n          2400000000.0,\n          3600000000.0\n        ],\n        \"semantic_type\": \"\",\n        \"description\": \"\"\n      }\n    },\n    {\n      \"column\": \"Durand (1974)[23]\",\n      \"properties\": {\n        \"dtype\": \"category\",\n        \"num_unique_values\": 1,\n        \"samples\": [\n          \"3,600,000,000\\u2013 3,700,000,000\"\n        ],\n        \"semantic_type\": \"\",\n        \"description\": \"\"\n      }\n    },\n    {\n      \"column\": \"Clark (1967)[24]\",\n      \"properties\": {\n        \"dtype\": \"number\",\n        \"std\": 535821612.10611874,\n        \"min\": 2486000000.0,\n        \"max\": 3860000000.0,\n        \"num_unique_values\": 5,\n        \"samples\": [\n          3036000000.0\n        ],\n        \"semantic_type\": \"\",\n        \"description\": \"\"\n      }\n    }\n  ]\n}"
            }
          },
          "metadata": {},
          "execution_count": 59
        }
      ]
    },
    {
      "cell_type": "markdown",
      "source": [
        "Le modificamos los nombres a las columnas para luego trabajar sólo con dos de ellas."
      ],
      "metadata": {
        "id": "pkehnqul2fR4"
      }
    },
    {
      "cell_type": "code",
      "source": [
        "tabla_poblacion.columns = [ 'census' , 'prb' , 'un' , 'maddison' ,'hyde' , 'tanton' , 'biraben' , 'mj' ,'thomlinson' , 'durand' , 'clark' ]"
      ],
      "metadata": {
        "id": "LjsBxhifuHax"
      },
      "execution_count": 60,
      "outputs": []
    },
    {
      "cell_type": "code",
      "source": [
        "tabla_poblacion.census\n",
        "tabla_poblacion.un"
      ],
      "metadata": {
        "id": "eimfLoVluIrn",
        "colab": {
          "base_uri": "https://localhost:8080/"
        },
        "outputId": "500c9396-ee19-4bec-f55f-fa16b0a6f6e0"
      },
      "execution_count": 61,
      "outputs": [
        {
          "output_type": "execute_result",
          "data": {
            "text/plain": [
              "Year\n",
              "1950    2.525149e+09\n",
              "1951    2.572851e+09\n",
              "1952    2.619292e+09\n",
              "1953    2.665865e+09\n",
              "1954    2.713172e+09\n",
              "            ...     \n",
              "2012    7.080072e+09\n",
              "2013    7.162119e+09\n",
              "2014    7.243784e+09\n",
              "2015    7.349472e+09\n",
              "2016             NaN\n",
              "Name: un, Length: 67, dtype: float64"
            ]
          },
          "metadata": {},
          "execution_count": 61
        }
      ]
    },
    {
      "cell_type": "markdown",
      "source": [
        "Dividimos los valores de población por 1x10^9 para que nos queden más cómodos para trabajar"
      ],
      "metadata": {
        "id": "UspevEjQs5pM"
      }
    },
    {
      "cell_type": "code",
      "source": [
        "censo = tabla_poblacion.census/1e9\n",
        "un = tabla_poblacion.un/1e9"
      ],
      "metadata": {
        "id": "XXGwVq8m4Pw5"
      },
      "execution_count": 62,
      "outputs": []
    },
    {
      "cell_type": "code",
      "source": [
        "censo"
      ],
      "metadata": {
        "id": "ctpcNZ_H6IYm",
        "colab": {
          "base_uri": "https://localhost:8080/"
        },
        "outputId": "8e9b21a8-f164-4674-9661-3147bf114ce1"
      },
      "execution_count": 63,
      "outputs": [
        {
          "output_type": "execute_result",
          "data": {
            "text/plain": [
              "Year\n",
              "1950    2.557629\n",
              "1951    2.594940\n",
              "1952    2.636772\n",
              "1953    2.682053\n",
              "1954    2.730228\n",
              "          ...   \n",
              "2012    7.013871\n",
              "2013    7.092128\n",
              "2014    7.169968\n",
              "2015    7.247893\n",
              "2016    7.325997\n",
              "Name: census, Length: 67, dtype: float64"
            ]
          },
          "metadata": {},
          "execution_count": 63
        }
      ]
    },
    {
      "cell_type": "code",
      "source": [
        "censo.plot( label=\"US censo\")\n",
        "un.plot(label=\"UN censo\")\n",
        "ms.decorate(title='Población mundial', xlabel='Año', ylabel='Población (miles de millones)')"
      ],
      "metadata": {
        "colab": {
          "base_uri": "https://localhost:8080/",
          "height": 309
        },
        "id": "Kx6MoBcR6k0Z",
        "outputId": "4813f657-ac4d-4f80-d99d-9cb55b013c6b"
      },
      "execution_count": 64,
      "outputs": [
        {
          "output_type": "display_data",
          "data": {
            "text/plain": [
              "<Figure size 450x300 with 1 Axes>"
            ],
            "image/png": "[encoded data removed]"
          },
          "metadata": {}
        }
      ]
    },
    {
      "cell_type": "markdown",
      "source": [
        "##Modelo constante\n",
        "Si suponemos que la polación crece a una tasa constante, es decir, año a año crece en la misma proporción, suponemos un crecimiento lineal y constante de la población. Por lo tanto, se modelará con una ecuación lineal, donde:\n",
        "nueva población es la suma de la población del año anterior y su crecimiento anual."
      ],
      "metadata": {
        "id": "LFXX7vYi7vFJ"
      }
    },
    {
      "cell_type": "code",
      "source": [
        "censo[1950]"
      ],
      "metadata": {
        "colab": {
          "base_uri": "https://localhost:8080/"
        },
        "id": "4Zr4l37CIFf3",
        "outputId": "9dd63b76-cf61-4671-fa88-855f3fdc108e"
      },
      "execution_count": 65,
      "outputs": [
        {
          "output_type": "execute_result",
          "data": {
            "text/plain": [
              "2.557628654"
            ]
          },
          "metadata": {},
          "execution_count": 65
        }
      ]
    },
    {
      "cell_type": "markdown",
      "source": [
        "Incremento de la población durante todo el periodo -> Diferencia de la población entre el primer año y el último"
      ],
      "metadata": {
        "id": "RH7TCWZ4LKhb"
      }
    },
    {
      "cell_type": "code",
      "source": [
        "incremento_total = censo[2016] - censo[1950] #población en 2016 - población en 1950"
      ],
      "metadata": {
        "id": "kNHCr2DiK3WR"
      },
      "execution_count": 66,
      "outputs": []
    },
    {
      "cell_type": "markdown",
      "source": [
        "Y el incremento anual?"
      ],
      "metadata": {
        "id": "2y04NaycLkut"
      }
    },
    {
      "cell_type": "code",
      "source": [
        "cant_anios = 2016 - 1950\n",
        "incremento_anual = incremento_total / cant_anios"
      ],
      "metadata": {
        "id": "xy1FT_xcL02Y"
      },
      "execution_count": 67,
      "outputs": []
    },
    {
      "cell_type": "markdown",
      "source": [
        "Cómo calcularíamos la población año a año?"
      ],
      "metadata": {
        "id": "3n2rxsQANPSF"
      }
    },
    {
      "cell_type": "markdown",
      "source": [
        "Nuestra ecuación que calcula la población en base a un creciemiento anual constante es:"
      ],
      "metadata": {
        "id": "XdQk47nWIfob"
      }
    },
    {
      "cell_type": "code",
      "source": [
        "poblacion_1951 = 0\n",
        "poblacion_1951 = censo[1950] + incremento_anual"
      ],
      "metadata": {
        "id": "klehpb0BIfNE"
      },
      "execution_count": 68,
      "outputs": []
    },
    {
      "cell_type": "code",
      "source": [
        "poblacion_1951"
      ],
      "metadata": {
        "colab": {
          "base_uri": "https://localhost:8080/"
        },
        "id": "-uB3dpbEN5G7",
        "outputId": "84e0a403-d2ea-496c-dafe-d02c0cbd6038"
      },
      "execution_count": 69,
      "outputs": [
        {
          "output_type": "execute_result",
          "data": {
            "text/plain": [
              "2.6298766548333337"
            ]
          },
          "metadata": {},
          "execution_count": 69
        }
      ]
    },
    {
      "cell_type": "code",
      "source": [
        "censo[1951]"
      ],
      "metadata": {
        "colab": {
          "base_uri": "https://localhost:8080/"
        },
        "id": "nQ2JC1p2N90a",
        "outputId": "fa3bd117-efa9-4f8c-90ca-e08a297da215"
      },
      "execution_count": 70,
      "outputs": [
        {
          "output_type": "execute_result",
          "data": {
            "text/plain": [
              "2.594939877"
            ]
          },
          "metadata": {},
          "execution_count": 70
        }
      ]
    },
    {
      "cell_type": "markdown",
      "source": [
        "Para parametrizar nuestras variables:"
      ],
      "metadata": {
        "id": "V0ePzdwZOUyR"
      }
    },
    {
      "cell_type": "markdown",
      "source": [
        "Para obtener el primer valor de la tabla y el último:"
      ],
      "metadata": {
        "id": "4TkfXZasQB2s"
      }
    },
    {
      "cell_type": "code",
      "source": [
        "censo[1950]\n",
        "#censo[2016]"
      ],
      "metadata": {
        "colab": {
          "base_uri": "https://localhost:8080/"
        },
        "id": "o2Wqj3hof5jA",
        "outputId": "824c3bea-ee92-43f2-c90c-e89c2efe09b0"
      },
      "execution_count": 71,
      "outputs": [
        {
          "output_type": "execute_result",
          "data": {
            "text/plain": [
              "2.557628654"
            ]
          },
          "metadata": {},
          "execution_count": 71
        }
      ]
    },
    {
      "cell_type": "code",
      "source": [
        "#variables\n",
        "t_inicial = 1950\n",
        "t_final = 2016\n",
        "\n",
        "pobl_incial = censo[t_inicial]\n",
        "pobl_final = censo[t_final]\n",
        "\n",
        "#cálculo del incremento anual y total de la población\n",
        "cant_anios = t_final - t_inicial\n",
        "incremento_total = pobl_final - pobl_incial\n",
        "incremento_anual = incremento_total / cant_anios\n",
        "\n",
        "#cálculo de la población\n",
        "# lo calculamos para 1951 como : poblacion_1951 = censo[1950] + incremento_anual\n",
        "#                                poblacion[t+1] = censo[t] + incremento_anual"
      ],
      "metadata": {
        "id": "0SfPeaJIEqJ4"
      },
      "execution_count": 72,
      "outputs": []
    },
    {
      "cell_type": "code",
      "source": [
        "incremento_anual"
      ],
      "metadata": {
        "colab": {
          "base_uri": "https://localhost:8080/"
        },
        "id": "v9pzMnPOfPVl",
        "outputId": "f58d6269-a4ef-4132-a66c-6781228e3040"
      },
      "execution_count": 73,
      "outputs": [
        {
          "output_type": "execute_result",
          "data": {
            "text/plain": [
              "0.07224800083333333"
            ]
          },
          "metadata": {},
          "execution_count": 73
        }
      ]
    },
    {
      "cell_type": "markdown",
      "source": [
        "La simulación empieza desde el primer año hasa el último año, es decir, desde 1950 a 2016.\n",
        "- Escribir una función para calcular la nueva población por año."
      ],
      "metadata": {
        "id": "Q7fDoubucGyh"
      }
    },
    {
      "cell_type": "code",
      "source": [
        "for i in range(t_inicial, t_final+1):\n",
        "  print(i)"
      ],
      "metadata": {
        "id": "SEdBtBQzdD7t",
        "colab": {
          "base_uri": "https://localhost:8080/"
        },
        "outputId": "27bd08cf-bf84-4cb3-e09d-1eaa605bab7a"
      },
      "execution_count": 74,
      "outputs": [
        {
          "output_type": "stream",
          "name": "stdout",
          "text": [
            "1950\n",
            "1951\n",
            "1952\n",
            "1953\n",
            "1954\n",
            "1955\n",
            "1956\n",
            "1957\n",
            "1958\n",
            "1959\n",
            "1960\n",
            "1961\n",
            "1962\n",
            "1963\n",
            "1964\n",
            "1965\n",
            "1966\n",
            "1967\n",
            "1968\n",
            "1969\n",
            "1970\n",
            "1971\n",
            "1972\n",
            "1973\n",
            "1974\n",
            "1975\n",
            "1976\n",
            "1977\n",
            "1978\n",
            "1979\n",
            "1980\n",
            "1981\n",
            "1982\n",
            "1983\n",
            "1984\n",
            "1985\n",
            "1986\n",
            "1987\n",
            "1988\n",
            "1989\n",
            "1990\n",
            "1991\n",
            "1992\n",
            "1993\n",
            "1994\n",
            "1995\n",
            "1996\n",
            "1997\n",
            "1998\n",
            "1999\n",
            "2000\n",
            "2001\n",
            "2002\n",
            "2003\n",
            "2004\n",
            "2005\n",
            "2006\n",
            "2007\n",
            "2008\n",
            "2009\n",
            "2010\n",
            "2011\n",
            "2012\n",
            "2013\n",
            "2014\n",
            "2015\n",
            "2016\n"
          ]
        }
      ]
    },
    {
      "cell_type": "code",
      "source": [
        "for i in ms.linrange(t_inicial, t_final):\n",
        "  print(i)\n",
        "print(type(i))"
      ],
      "metadata": {
        "id": "ClDi8_406F1x",
        "colab": {
          "base_uri": "https://localhost:8080/"
        },
        "outputId": "fcd2e51f-9641-4dcb-e9a5-20ab84b0a89e"
      },
      "execution_count": 75,
      "outputs": [
        {
          "output_type": "stream",
          "name": "stdout",
          "text": [
            "1950.0\n",
            "1951.0\n",
            "1952.0\n",
            "1953.0\n",
            "1954.0\n",
            "1955.0\n",
            "1956.0\n",
            "1957.0\n",
            "1958.0\n",
            "1959.0\n",
            "1960.0\n",
            "1961.0\n",
            "1962.0\n",
            "1963.0\n",
            "1964.0\n",
            "1965.0\n",
            "1966.0\n",
            "1967.0\n",
            "1968.0\n",
            "1969.0\n",
            "1970.0\n",
            "1971.0\n",
            "1972.0\n",
            "1973.0\n",
            "1974.0\n",
            "1975.0\n",
            "1976.0\n",
            "1977.0\n",
            "1978.0\n",
            "1979.0\n",
            "1980.0\n",
            "1981.0\n",
            "1982.0\n",
            "1983.0\n",
            "1984.0\n",
            "1985.0\n",
            "1986.0\n",
            "1987.0\n",
            "1988.0\n",
            "1989.0\n",
            "1990.0\n",
            "1991.0\n",
            "1992.0\n",
            "1993.0\n",
            "1994.0\n",
            "1995.0\n",
            "1996.0\n",
            "1997.0\n",
            "1998.0\n",
            "1999.0\n",
            "2000.0\n",
            "2001.0\n",
            "2002.0\n",
            "2003.0\n",
            "2004.0\n",
            "2005.0\n",
            "2006.0\n",
            "2007.0\n",
            "2008.0\n",
            "2009.0\n",
            "2010.0\n",
            "2011.0\n",
            "2012.0\n",
            "2013.0\n",
            "2014.0\n",
            "2015.0\n",
            "2016.0\n",
            "<class 'numpy.float64'>\n"
          ]
        }
      ]
    },
    {
      "cell_type": "code",
      "source": [
        "b = ms.linrange(t_inicial,t_final)\n",
        "type(b)"
      ],
      "metadata": {
        "colab": {
          "base_uri": "https://localhost:8080/"
        },
        "id": "nqurvAoBcs5j",
        "outputId": "04c36de9-4c37-4712-8345-2806bf31142f"
      },
      "execution_count": 76,
      "outputs": [
        {
          "output_type": "execute_result",
          "data": {
            "text/plain": [
              "numpy.ndarray"
            ]
          },
          "metadata": {},
          "execution_count": 76
        }
      ]
    },
    {
      "cell_type": "code",
      "source": [
        "a = range(t_inicial,t_final)\n",
        "type(a)"
      ],
      "metadata": {
        "colab": {
          "base_uri": "https://localhost:8080/"
        },
        "id": "H_UoL88-krIk",
        "outputId": "0ae43983-15d6-4bf0-e864-fe09830c9944"
      },
      "execution_count": 77,
      "outputs": [
        {
          "output_type": "execute_result",
          "data": {
            "text/plain": [
              "range"
            ]
          },
          "metadata": {},
          "execution_count": 77
        }
      ]
    },
    {
      "cell_type": "code",
      "source": [
        "a = list(range(t_inicial,t_final))\n",
        "type(a)"
      ],
      "metadata": {
        "colab": {
          "base_uri": "https://localhost:8080/"
        },
        "id": "ng0HgExL-Hz6",
        "outputId": "d8efddde-c276-4925-f69d-490fd37c807a"
      },
      "execution_count": 78,
      "outputs": [
        {
          "output_type": "execute_result",
          "data": {
            "text/plain": [
              "list"
            ]
          },
          "metadata": {},
          "execution_count": 78
        }
      ]
    },
    {
      "cell_type": "markdown",
      "source": [
        "Cálculo de la población;\n",
        " para 1951 lo habíamos calculado así:\n",
        "\n",
        "```\n",
        "poblacion_1951 = censo[1950] + incremento_anual\n",
        "poblacion[t+1] = censo[t] + incremento_anual\n",
        "```\n",
        "debería ser algo así:\n",
        "```\n",
        "for t in ms.linrange(t_inicial, t_final):\n",
        "  poblacion[t+1] = poblacion[t] + incremento_anual\n",
        "  ```\n"
      ],
      "metadata": {
        "id": "bz0Q1sd16kMy"
      }
    },
    {
      "cell_type": "code",
      "source": [
        "#Simulación\n",
        "\"\"\"\n",
        "Inicia en 1950, finaliza en 2016.\n",
        "Calcula las poblaciones en cada año, considerando un crecimiento constante\n",
        "\"\"\"\n",
        "poblacion = ms.TimeSeries()\n",
        "poblacion[t_inicial] = censo[t_inicial] #Asigno el año y valor inicial de la población\n",
        "\n",
        "for t in ms.linrange(t_inicial, t_final):\n",
        "    poblacion[t+1] = poblacion[t] + incremento_anual\n",
        "\n",
        "#Gráfica\n",
        "poblacion.plot(label=\"Modelo constante\")\n",
        "censo.plot(label=\"US censo\")\n",
        "#un.plot(label=\"UN censo\")\n",
        "ms.decorate(title='Población mundial', xlabel='Año', ylabel='Población (miles de millones)')"
      ],
      "metadata": {
        "colab": {
          "base_uri": "https://localhost:8080/",
          "height": 309
        },
        "id": "pSyxk-JlaTHf",
        "outputId": "2070c92c-7adb-4b3d-9185-c82026da860c"
      },
      "execution_count": 79,
      "outputs": [
        {
          "output_type": "display_data",
          "data": {
            "text/plain": [
              "<Figure size 450x300 with 1 Axes>"
            ],
            "image/png": "[encoded data removed]"
          },
          "metadata": {}
        }
      ]
    },
    {
      "cell_type": "markdown",
      "source": [
        "Entre los años 1960 y 1980 aproximadamente, la recta no representa de manera muy exacta a nuestro modelo."
      ],
      "metadata": {
        "id": "xW060cfuBMb7"
      }
    },
    {
      "cell_type": "markdown",
      "source": [
        "###Ajustando el modelo constante\n",
        "Suponemos que tomamos a partir del año 1970 que es donde se ve una mayor linealidad en los datos de la población.\n",
        "Si consideramos la linealidad, cómo estimaríamos la población para el 2022?\n",
        "Sería correcto considerar que la población crece linealmente?"
      ],
      "metadata": {
        "id": "-otxYGIXG5N5"
      }
    },
    {
      "cell_type": "code",
      "execution_count": 80,
      "metadata": {
        "id": "WS8RIuL6wQqC",
        "colab": {
          "base_uri": "https://localhost:8080/",
          "height": 326
        },
        "outputId": "ec30e591-d4f6-46e9-8b51-f9c3d6af7612"
      },
      "outputs": [
        {
          "output_type": "stream",
          "name": "stdout",
          "text": [
            "2016\n"
          ]
        },
        {
          "output_type": "display_data",
          "data": {
            "text/plain": [
              "<Figure size 450x300 with 1 Axes>"
            ],
            "image/png": "[encoded data removed]"
          },
          "metadata": {}
        }
      ],
      "source": [
        "from pandas.io.html import urlopen\n",
        "import modsim as ms\n",
        "import pandas as pd\n",
        "from matplotlib import pyplot\n",
        "\n",
        "#Extraemos y procesamos los datos\n",
        "url = \"https://en.wikipedia.org/wiki/Estimates_of_historical_world_population\"\n",
        "tablas = pd.read_html(url, header=0,index_col=0, decimal='M')\n",
        "tabla_poblacion = tablas[2]\n",
        "tabla_poblacion.columns = [ 'census' , 'prb' , 'un' , 'maddison' ,'hyde' , 'tanton' , 'biraben' , 'mj' ,'thomlinson' , 'durand' , 'clark' ]\n",
        "censo = tabla_poblacion.census/1e9\n",
        "un = tabla_poblacion.un/1e9\n",
        "\n",
        "#Parámetros\n",
        "t_0 = 1970 # ajustando el modelo constante\n",
        "t_end = 2016\n",
        "print(t_end)\n",
        "#t_end =2030\n",
        "p_0 = censo[t_0]\n",
        "p_end = censo[t_end]\n",
        "\n",
        "diferencia_tiempo = t_end - t_0\n",
        "crecimiento_total = p_end - p_0\n",
        "crecimiento_anual = crecimiento_total / diferencia_tiempo\n",
        "#t_end =2500\n",
        "\n",
        "### Simulación\n",
        "\"\"\"\n",
        "Calcula las poblaciones en cada año\n",
        "\"\"\"\n",
        "resultado = ms.TimeSeries()\n",
        "resultado[t_0] = censo[t_0] #Asigno el año y valor inicial de la población\n",
        "#print(\"datatime\",resultado)\n",
        "\n",
        "for t in ms.linrange(t_0, t_end):\n",
        "    resultado[t+1] = resultado[t] + crecimiento_anual\n",
        "\n",
        "#Gráficos\n",
        "resultado.plot(label=\"Modelo constante\")\n",
        "censo.plot(label=\"US censo\")\n",
        "#un.plot(label=\"UN censo\")\n",
        "ms.decorate(title='Población mundial', xlabel='Año', ylabel='Población (miles de millones)')"
      ]
    },
    {
      "cell_type": "code",
      "source": [
        "resultado[t_0] = censo[t_0] #Para comprobar que al inicio, toma la población del censo"
      ],
      "metadata": {
        "id": "pB-TrZ7j2iNQ"
      },
      "execution_count": 81,
      "outputs": []
    },
    {
      "cell_type": "code",
      "source": [
        "#otra manera de hacerlo es:\n",
        "resultado[t_0]\n",
        "#y"
      ],
      "metadata": {
        "colab": {
          "base_uri": "https://localhost:8080/"
        },
        "id": "OmBmCq1FNhsg",
        "outputId": "3edc9b5c-1088-4763-a331-5628ca07f1c4"
      },
      "execution_count": 82,
      "outputs": [
        {
          "output_type": "execute_result",
          "data": {
            "text/plain": [
              "3.712697742"
            ]
          },
          "metadata": {},
          "execution_count": 82
        }
      ]
    },
    {
      "cell_type": "code",
      "source": [
        "censo[1970]"
      ],
      "metadata": {
        "colab": {
          "base_uri": "https://localhost:8080/"
        },
        "id": "-Vb27Ey920EL",
        "outputId": "aa457206-c01e-4691-d612-054c97ff53c7"
      },
      "execution_count": 83,
      "outputs": [
        {
          "output_type": "execute_result",
          "data": {
            "text/plain": [
              "3.712697742"
            ]
          },
          "metadata": {},
          "execution_count": 83
        }
      ]
    },
    {
      "cell_type": "markdown",
      "source": [
        "Para mejorar el código anterior, creamos una función de simulación"
      ],
      "metadata": {
        "id": "ilnfa7gQu4qf"
      }
    },
    {
      "cell_type": "code",
      "source": [
        "def simulacion_constante():\n",
        "  poblacion = ms.TimeSeries()\n",
        "  poblacion[t_inicial] = censo[t_inicial] #Asigno el año y valor inicial de la población\n",
        "\n",
        "  for t in ms.linrange(t_inicial, t_final):\n",
        "    poblacion[t+1] = poblacion[t] + incremento_anual\n",
        "\n",
        "  return poblacion"
      ],
      "metadata": {
        "id": "bLpR21LSJWDT"
      },
      "execution_count": 84,
      "outputs": []
    },
    {
      "cell_type": "code",
      "source": [
        "#variables\n",
        "t_inicial = 1970\n",
        "t_final = 2016\n",
        "\n",
        "pobl_incial = censo[t_inicial]\n",
        "pobl_final = censo[t_final]\n",
        "\n",
        "#cálculo del incremento de la población total y anual\n",
        "cant_anios = t_final - t_inicial\n",
        "incremento_total = pobl_final - pobl_incial\n",
        "incremento_anual = incremento_total / cant_anios\n",
        "\n",
        "def simulacion_constante():\n",
        "  '''\n",
        "  Función que calcula la población en base a un incremento constante\n",
        "  '''\n",
        "  poblacion = ms.TimeSeries()\n",
        "  poblacion[t_inicial] = censo[t_inicial] #Asigno el año y valor inicial de la población en TimeSeries()\n",
        "\n",
        "  for t in ms.linrange(t_inicial, t_final):\n",
        "    poblacion[t+1] = poblacion[t] + incremento_anual #cálculo de la población sgte. año\n",
        "  return poblacion\n",
        "\n",
        "def grafico(poblacion):\n",
        "  poblacion.plot(label=\"Modelo constante\")\n",
        "  censo.plot(label=\"US censo\")\n",
        "  un.plot(label=\"UN censo\")\n",
        "  ms.decorate(title='Poblacion mundial', xlabel='Año', ylabel='Poblacion (miles de millones)')\n",
        "\n",
        "#Ejecutamos la simulación y los gráficos\n",
        "pobl = simulacion_constante()\n",
        "grafico(pobl)\n"
      ],
      "metadata": {
        "colab": {
          "base_uri": "https://localhost:8080/",
          "height": 309
        },
        "id": "bLEh9IqtJ8wF",
        "outputId": "9511cd93-5e31-49c7-f46a-21da5733527d"
      },
      "execution_count": 85,
      "outputs": [
        {
          "output_type": "display_data",
          "data": {
            "text/plain": [
              "<Figure size 450x300 with 1 Axes>"
            ],
            "image/png": "[encoded data removed]"
          },
          "metadata": {}
        }
      ]
    },
    {
      "cell_type": "markdown",
      "source": [
        "Definimos las funciones *state()* y *system()*:\n",
        "\n",
        "*   La función state() contiene las variables que definen el estado del sistema.\n",
        "*   La función System() contiene los parámetros de la simulación."
      ],
      "metadata": {
        "id": "Ko5cDDflwzAF"
      }
    },
    {
      "cell_type": "code",
      "source": [
        "import modsim as ms\n",
        "import pandas\n",
        "from matplotlib import pyplot\n",
        "\n",
        "\"\"\"\n",
        "ms.State: estado del sistema, cambia con la evolucion de la simulación.\n",
        "    bikeshare: cantidad de bicicletas en cada lado\n",
        "    poblacional: la poblacion en cada instante de simulación\n",
        "    Son variables que define el estado del sistema y cambian step a step\n",
        "\n",
        "\n",
        "ms.System:\n",
        "    bikeshare: cantidad de bicicletas en total, la cantidad de destinos, tasas de partida de cada lado, etc.\n",
        "    poblacional: tiempo inicial, crecimiento anual, tiempo final, ...\n",
        "    Puede ser que varien o no, pero son valores que dependen del sistema, no son propios de la simulación.\n",
        "    Son generalmente constantes durante toda la simulación, son las que configuran la simulación.\n",
        "\"\"\""
      ],
      "metadata": {
        "colab": {
          "base_uri": "https://localhost:8080/",
          "height": 87
        },
        "id": "AG1be-gRPM3o",
        "outputId": "c710fc9a-a2b4-4694-d2aa-2462930541a0"
      },
      "execution_count": 86,
      "outputs": [
        {
          "output_type": "execute_result",
          "data": {
            "text/plain": [
              "'\\nms.State: estado del sistema, cambia con la evolucion de la simulación.\\n    bikeshare: cantidad de bicicletas en cada lado\\n    poblacional: la poblacion en cada instante de simulación\\n    Son variables que define el estado del sistema y cambian step a step\\n\\n\\nms.System:\\n    bikeshare: cantidad de bicicletas en total, la cantidad de destinos, tasas de partida de cada lado, etc.\\n    poblacional: tiempo inicial, crecimiento anual, tiempo final, ...\\n    Puede ser que varien o no, pero son valores que dependen del sistema, no son propios de la simulación.\\n    Son generalmente constantes durante toda la simulación, son las que configuran la simulación.\\n'"
            ],
            "application/vnd.google.colaboratory.intrinsic+json": {
              "type": "string"
            }
          },
          "metadata": {},
          "execution_count": 86
        }
      ]
    },
    {
      "cell_type": "code",
      "source": [
        "sistema = ms.System(\n",
        "        t_0 = t_inicial,\n",
        "        t_end = t_final,\n",
        "        crecimiento_anual = crecimiento_anual,\n",
        "        p_0 = pobl_incial)"
      ],
      "metadata": {
        "id": "NvOoWWeoGxxw"
      },
      "execution_count": 87,
      "outputs": []
    },
    {
      "cell_type": "code",
      "source": [
        "### Obtención de tablas de la web\n",
        "wiki = \"https://en.wikipedia.org/wiki/Estimates_of_historical_world_population\"\n",
        "tablas = pandas.read_html(wiki, header=0,index_col=0, decimal='M')\n",
        "tabla_poblacion = tablas[2]\n",
        "tabla_poblacion.columns = [ 'census' , 'prb' , 'un' , 'maddison' ,'hyde' , 'tanton' , 'biraben' , 'mj' ,'thomlinson' , 'durand' , 'clark' ]\n",
        "censo = tabla_poblacion.census/1e9\n",
        "un = tabla_poblacion.un/1e9\n",
        "\n",
        "\n",
        "### Simulación\n",
        "def simulacion_cte(sistema):\n",
        "    resultado = ms.TimeSeries()\n",
        "    resultado[sistema.t_0] = sistema.p_0\n",
        "\n",
        "    for t in ms.linrange(sistema.t_0, sistema.t_end):\n",
        "        resultado[t+1] = resultado[t] + sistema.crecimiento_anual\n",
        "    return resultado\n",
        "\n",
        "def plot_resultado(censo, un, resultado, titulo):\n",
        "    poblacion.plot(label=\"Modelo constante\")\n",
        "    censo.plot(label=\"US censo\")\n",
        "    un.plot(label=\"UN censo\")\n",
        "    ms.decorate(title=titulo, xlabel='Año', ylabel='Población (miles de millones)')\n",
        "\n",
        "\n",
        "t_0 = 1970\n",
        "t_end = 2016\n",
        "p_0 = censo[t_0]\n",
        "p_end = censo[t_end]\n",
        "#t_end = 2030\n",
        "\n",
        "diferencia_tiempo = t_end - t_0\n",
        "crecimiento_total = p_end - p_0\n",
        "crecimiento_anual = crecimiento_total / diferencia_tiempo\n",
        "\n",
        "sistema = ms.System(\n",
        "        t_0 = t_0,\n",
        "        t_end = t_end,\n",
        "        crecimiento_anual = crecimiento_anual,\n",
        "        p_0 = p_0,)\n",
        "\n",
        "res = simulacion_cte(sistema)\n",
        "plot_resultado(censo, un, res, \"Modelo Constante\")"
      ],
      "metadata": {
        "id": "faq6_WdJw1C9",
        "colab": {
          "base_uri": "https://localhost:8080/",
          "height": 309
        },
        "outputId": "f5d3739f-8807-44cd-b2b2-80a17bc6e2ec"
      },
      "execution_count": 88,
      "outputs": [
        {
          "output_type": "display_data",
          "data": {
            "text/plain": [
              "<Figure size 450x300 with 1 Axes>"
            ],
            "image/png": "[encoded data removed]"
          },
          "metadata": {}
        }
      ]
    },
    {
      "cell_type": "code",
      "source": [
        "type(sistema)"
      ],
      "metadata": {
        "id": "a0uqqHiiy1_x",
        "colab": {
          "base_uri": "https://localhost:8080/",
          "height": 156
        },
        "outputId": "67cc70b9-028e-49af-a0d5-33b2d5a87202"
      },
      "execution_count": 89,
      "outputs": [
        {
          "output_type": "execute_result",
          "data": {
            "text/plain": [
              "modsim.System"
            ],
            "text/html": [
              "<div style=\"max-width:800px; border: 1px solid var(--colab-border-color);\"><style>\n",
              "      pre.function-repr-contents {\n",
              "        overflow-x: auto;\n",
              "        padding: 8px 12px;\n",
              "        max-height: 500px;\n",
              "      }\n",
              "\n",
              "      pre.function-repr-contents.function-repr-contents-collapsed {\n",
              "        cursor: pointer;\n",
              "        max-height: 100px;\n",
              "      }\n",
              "    </style>\n",
              "    <pre style=\"white-space: initial; background:\n",
              "         var(--colab-secondary-surface-color); padding: 8px 12px;\n",
              "         border-bottom: 1px solid var(--colab-border-color);\"><b>modsim.System</b><br/>def __init__(namespace=None, **kwargs)</pre><pre class=\"function-repr-contents function-repr-contents-collapsed\" style=\"\"><a class=\"filepath\" style=\"display:none\" href=\"#\">/content/modsim.py</a>Contains system parameters and their values.\n",
              "\n",
              "Takes keyword arguments and stores them as attributes.</pre>\n",
              "      <script>\n",
              "      if (google.colab.kernel.accessAllowed && google.colab.files && google.colab.files.view) {\n",
              "        for (const element of document.querySelectorAll('.filepath')) {\n",
              "          element.style.display = 'block'\n",
              "          element.onclick = (event) => {\n",
              "            event.preventDefault();\n",
              "            event.stopPropagation();\n",
              "            google.colab.files.view(element.textContent, 633);\n",
              "          };\n",
              "        }\n",
              "      }\n",
              "      for (const element of document.querySelectorAll('.function-repr-contents')) {\n",
              "        element.onclick = (event) => {\n",
              "          event.preventDefault();\n",
              "          event.stopPropagation();\n",
              "          element.classList.toggle('function-repr-contents-collapsed');\n",
              "        };\n",
              "      }\n",
              "      </script>\n",
              "      </div>"
            ]
          },
          "metadata": {},
          "execution_count": 89
        }
      ]
    },
    {
      "cell_type": "markdown",
      "source": [
        "## Modelo proporcional"
      ],
      "metadata": {
        "id": "tPiD4bDOIwf2"
      }
    },
    {
      "cell_type": "markdown",
      "source": [
        "Tomamos una tasa de natalidad y mortalidad se  mantienen constantes dte toda la simualción. Dónde inicializamos estos parámetros?"
      ],
      "metadata": {
        "id": "d0NLuD6h4A3P"
      }
    },
    {
      "cell_type": "code",
      "source": [
        "### Simulación\n",
        "\n",
        "def simulacion_proporcional(sistema):\n",
        "    \"\"\"\n",
        "    Crecimiento proporcional, basado en tasas de natalidad y mortalidad\n",
        "    \"\"\"\n",
        "    resultado = ms.TimeSeries()\n",
        "    resultado[sistema.t_0] = sistema.p_0\n",
        "\n",
        "    for t in ms.linrange(sistema.t_0, sistema.t_end):\n",
        "        nacimientos = sistema.tasa_nat * resultado[t] #la población anterior por la tasa de natalidad\n",
        "        muertes = sistema.tasa_mort * resultado[t]\n",
        "        resultado[t+1] = resultado[t] + nacimientos - muertes #calculo la nueva población en t+1\n",
        "    return resultado\n",
        "\n",
        "### Variables\n",
        "\n",
        "t_0 = 1955\n",
        "t_end = 2016\n",
        "p_0 = censo[t_0]\n",
        "p_end = censo[t_end]\n",
        "#t_end = 2030\n",
        "\n",
        "diferencia_tiempo = t_end - t_0\n",
        "crecimiento_total = p_end - p_0\n",
        "crecimiento_anual = crecimiento_total / diferencia_tiempo\n",
        "\n",
        "sistema = ms.System(\n",
        "        t_0 = t_0,\n",
        "        t_end = t_end,\n",
        "        crecimiento_anual = crecimiento_anual,\n",
        "        p_0 = p_0,\n",
        "        tasa_nat = 0.027,\n",
        "        tasa_mort = 0.01)\n",
        "\n",
        "\n",
        "def plot_resultado(censo, un, resultado, titulo):\n",
        "    poblacion.plot(label=\"Modelo proporcional\")\n",
        "    censo.plot(label=\"US censo\")\n",
        "    #un.plot(label=\"UN censo\")\n",
        "    ms.decorate(title=titulo, xlabel='Año', ylabel='Población (miles de millones)')\n",
        "\n",
        "\n",
        "resultado = simulacion_proporcional(sistema)\n",
        "plot_resultado(censo, un, resultado, \"Modelo Proporcional\")"
      ],
      "metadata": {
        "colab": {
          "base_uri": "https://localhost:8080/",
          "height": 309
        },
        "id": "Lxvm6pEu3OiF",
        "outputId": "8f4122a2-cf0d-4a4b-a7ee-e395b8bd1118"
      },
      "execution_count": 90,
      "outputs": [
        {
          "output_type": "display_data",
          "data": {
            "text/plain": [
              "<Figure size 450x300 with 1 Axes>"
            ],
            "image/png": "[encoded data removed]"
          },
          "metadata": {}
        }
      ]
    },
    {
      "cell_type": "markdown",
      "source": [
        "Definimos la funcion de step() para que sea argumento de la función de simulación y no tengamos que hacer muchas funciones de simulación ya que hay líneas que se repiten en ambas.\n"
      ],
      "metadata": {
        "id": "6vFtGjh56znq"
      }
    },
    {
      "cell_type": "markdown",
      "source": [
        "![image.png](data:image/png;base64,iVBORw0KGgoAAAANSUhEUgAABTYAAAE7CAYAAADn+971AAAgAElEQVR4nOzdb2wj+Z3f+U+ve9xdvr30jCdezkbbcAEtbxaLvh0IA4trzAPx4MFd75PjtnbRJNLIiMgjIw8iCIcM0zisUNHhIHOCQ0OLPBjcgw01i0ZEGZGOTzadYAYuPTC81GIgzKIROGs2UL6x4qa943EHG9c4/tP3oKrIqmKRLFKkSKrfL0CwR6yu+vL3qyqJX/2+37rkOM4zTVAmk5nk7ifjuCJj5UTV5p4KC/02bKhi5GRFvpcP/btBryfvJ7/raEfrMuu35TwoKCOptV+UuVZPiCFpfy3V7poqHXS+Yx25Ki/7R9s2lNsK//sNOYs5KbSNNwZBRJZstyTnrqnDvKO9O505je7Liz38+nnyxmhJtltW9rSm4mJJS0euysve+J74sSWO5aYt9162e6ftcUga59ixQ/MVFh+jDsuLNXK+hWOVN483w7ENPqe6j5cc+8BxSHMd+OOceGZGzoXuc1Lqd14m7aPD29Yfvx6htbd7VE2cFwAAnnfNZlPXr1/XlStXph0KAADASC6R2AQwf6LJ6kSp/0ABAMDzicQmAACYd5enHQAADC+r8pElY8VUUQnJzdOaiiuW8rsOSU0AAAAAAC6oX5t2AAAwkuWy3CNL9bWqGrGXGu+WpCm2RQAAAAAAAJNHKToAAADwHKIUHQAAzDtWbAIAAAAAAACYOyQ2AQAAAAAAAMwdEpsAAAAAAAAA5g6JTQAAAAAAAABzh8QmAAAAAAAAgLlDYhMAAAAAAADA3CGxCQAAAAAAAGDukNicF8cVGYbR+dpunHMADVUMQ8X91sj/thN/RaNH31LtrrefyvHIO0FKrf1i5Lwbbf6nJLhm7tY0R1EDAAAAAICUSGzOi+WyXNeV6zqqrvbb0E/8nXviczDryPXfQ1nZaQdzWlNxLpOjY5zfWLI8KWmZubOX8ry7uBrbz3tytPPHhLP/YQIAAAAAgPEhsYk5k1HhgZcgLS9PO5Y5dlyRsXKiatNPNjer0po5XysyBwn+GPCgoMy0Y5lbLdXumirdtP0Etyt701KO5CYAAAAAYAaQ2ASeOw1VVizld3dUWPC/tVDQzm5e9bUqCSu0tfbXVTqwZN/rrLHO3rNlydL9i5QEBwAAAADMJRKbSY4rfrllrASzq/w3XqJZVO00vrP4NvGy1uTS4qHLX/3SasMwVTqQtJWLHDNach3veZlckt3YDm+Tk5Vw2HgPxtFLpLtjiu4rzVj3iCm0bfu1xZLqkqyVfiW2/Y7pvVbcb7S3Ke63OvuPjUNXTMOWNg81v4P25ehEed1+PbyOsSW7XpdkyZ7x8vx+8ytpiH60/c65zmu5LUkHJZn9yvb7HTO4n7S3qajR3n/8PE53bQ4YIf/cbMXGavhVls7jurSZi7aOOLZlSarX7ee4PB8AAAAAMAtIbPZkKWeYOsw77VLd/FYulGRoqBJ+3XXlHi2ptBhNVDS2TZVUlRNsM6nS2IWC9sK9EDc7paPRsu2Wandt5UKvObt5WSvdSbvco3Dcdldis7FtyFxbkh3eZis3Qj/Clmp3c7JiMbv3wumUTgm6e5SUYvUdV2SuqVNi7bpy3b32ysR2z8hmVXmF+37Ge3+mm9/6Wk7OujeG9fq61h9vePFt3e9sd1zRunZCx7FlHZRkDpMETj2/KZw6qmtJZrBa03+vzro3xyfODKerBsyvpJT9aAedc1mV26XXklaj1/Denc4V3NovylhR6DpwVH2UiyVULeV2TDmuLUsnun/3vsymo+pqXaV3G6GYBl2b6dXXTJn1237cjqqrlnJDXZstOY+k/A0z+l53TNm7eenAkTN8WAAAAAAAjA2JzT6so1ACY8HUkjpJn9b+fVmrVe2EEhxaLqm6Wtfht4LUgZcY0E1zhnr8ZVR4EH14T+b128qrLqediKuqdJBX9e0+CdjTmu5vSdZReF9ZlY8s6eBQ9lCJGEfOQTSBMqqWcyJFknYj7ifV/EparaoUJBUPpNtvJjwWabkcSYRJWeU2JT1yprLizRsj32lNReO+zOYEe5bGVzOeYeXquOZ3fOdcQ9W1euw6yKiwbklbdmSFpLUeXE911W9uRJOxwb8bdG0OY7Uqp/1HFD+moa5Nb4wCjW1D5uMNuQ8KOvuVCgAAAADA2ZHY7CkfS554K7iCBJXzuN5VnhqUCdcfB+uYggRHbrTy40mJJ5r8suxAyzmRVm8r1y95dOqoLku5eDJsOSdr6ERMVqXdvOpr5hnL2aXMnQ1ZspQbUK4+SLr5VSxp3Svh1t2OILc1WlzjkDGXvP9zXJGx6GgjtuJxyRxzGr69gjLha8jVy+Oa37Gdc6eOThRvaWDIWLEknYSug+j9pGdCdcC1OZT4H1QWzCGTpKbMVUlyVLtr6P4NJ7qKetUkwQkAAAAAmCoSm2cRK09NLKEOkjrNqvLtRNkUnyh8XJGxYim/Gyqx9suyp6ldIn501kRwUELsl/kujtqnUOnmdyD/qdIHVqhU2S9vnpYFU/l2aXRohaCfpJtt45vf8Z1z8ZYGPUrkBzmXazP+B5t+MjJvdtothFcdO49HTrcCAAAAADA2JDZHZN4Yssdc0COxWVV+ig9o8Up5LW3cGbBOLv7e4kkvPznW9T6ObVlDJU9igkTwSCXtYUFPTq/PovX+cKnkoee3J7/kebekYdKhE+W3Vcjnc5EVfa1vHSavwj2rMZaid5xtfiPOcs7FWlScReprc1RdvVUHM2/kpa5zoiF7q/v8AQAAAADgvJHYHFG7JHbop1s7qkcSf96qqHC/xcb2WUqV/f3F+vu1XzWXFCmRPa2pGCt39fr6WbofPPk5YRst5HR7VbJWwqtPG6qsWNJmUv/A4Uy8l6KfkOqVEBt5frt45bzh8vV+89t+inXP4/af33SCMuz1Tin3aU3ra/XJJGDHWIrebfL9Wb0kd6+EZ6ekfaRVwSFprs2OztPTUx33tKbiijX0/Lavg1CpfmM7J2uSCVgAAAAAAFIisTmyrMrB060jq9DCff86yYdO770TVZvREtXsveh+7t9w5OxGC1DbCS+/z2O7dDahz2D2nv8E5NBx28mP5bLszU4Jr7F4qNvN2BPPFwraO7I6/QcXHW10PWHaWzFnb4aPk9PJrjNkqbb8B9hEx8l72nr8KeXh/oWh9xBJusRXBXox7XUlYbIq+0+672wbTtKmmd80Miq8HT1OTnbX/AbSlPj2nd+0Ud3Zk7Or0HlQ0tKRmzBOsyXN/Ka6VlKdc57Mnb3oNWMYKu63Iq97Ty+PxTZs384012YgTduA8Lk98vz610H4/H1UjbYwAAAAAABgSi45jvNskgfIZGY7UYLz0FDFyElHE3zyNibM6xV6mE9KEmO2+H1db9rD/5EBAPBcaTabun79uq5cuTLtUAAAAEbCik0AAAAAAAAAc4fEJs5Np1R3ik+Fv8A6Jdh9vobsGdpV1o0LIKFFRsLXWXuGAgAAAAAwaZSiAwAAAM8hStEBAMC8Y8UmAAAAAAAAgLlDYhMAAAAAAADA3CGxCQAAAAAAAGDukNgEAAAAAAAAMHdIbAIAAAAAAACYOyQ2AQAAAAAAAMwdEpsAAAAAAAAA5g6JTQAAAAAAAABzh8QmAAAAAAAAgLlDYhMAAAAAAADA3CGxCQAAAAAAAGDukNgEAAAAAAAAMHdIbAIAAAAAAACYOyQ2AQAAAAAAAMwdEpsAAAAAAAAA5g6JTQAAAAAAAABzh8QmAAAAAAAAgLlDYhMAAAAAAADA3CGxCQAAAAAAAGDukNgEAAAAAAAAMHdIbAIAAAAAAACYOyQ2AQAAAAAAAMwdEpsAAAAAAAAA5g6JTQAAAAAAAABzh8QmAAAAAAAAgLlDYhMAAAAAAADA3CGxCQAAAAAAAGDukNgEAAAAAAAAMHdIbAIAAAAAAACYOyQ2Bzlu6aHx/c7X3b/Vx9OOaSwuq3b3qgzjqirH045lfFr7RRmG0f4q7rd6b3xc8ba7W1OfrZ4PxxUZRkWNkXfQUMUwZBhF1U7HGBdmBPM76xrb3feyxvaAeyAAAAAAzDkSm/2c/q2+ufJzvXj0W7rl+l8P/r5enlo8NRUN40IlIsctc2dPruvKdW1Z0w5mXpzWVFyxZB2VlZ12LMeV+UyejS3ulmp3jVBy/izJ5hk0r/M7p/fe7JtVac0kuQkAAADgwro87QBm2cff+pl+tnpVv7c87Ugm4RcqPPiFCtMOY5qWy3Ld8rSjmLKGKosladdR+UzneVZl19XzPppn01LtrqnSTVvuAy/F3Ng2lDMk25120pn5nUsLBe0dOTJW1lV7fU+FhWkHBAAAAADjxYrNPn7y+Nm0QwAmqrGdk7Va1c6dzLRDee619tdVOrBk3+ukMLP3bFmydJ8VdxjVcln2Zl2lt2i5AQAAAODiIbF5Jj/RX4b7bxqn+jBSYvlTfXj3+/rm/k9jvTrj2/XX7hu5WFJdkrVyllLVTm9N7+tKQlmot01x/7Ja+1ci2w51rKBvY9DL0qio0bNXX/D90Nf2hIpw2/H0OU6752Q0rmhJp1c2XNxvxfbZXWob7/2Z1AvP2G4M3E9QEmt0fUXPg8Z29PXkEtqG7C3JWi+oZ1ozPlZd+4rPW6/zMV5iHR2DdrwrlqS6Sou9x6prDCKve/FUjjtxVY47+4/OX/c5N2yp8VBxD+A8rkubuejKzGOvpUK9bk8mKXWh57c7pmFLssd7742NReJ4d+4p0XtGwrFic5fb6n3M7JtV5Q9KqvY8v4PxvGCtDwAAAABceCQ240IJyO9uSTr4VH8VSl7+ZfDB8PRv9U3j7+Tufr7df/PLu9IPFkPb+H629mM9XJG+5G/3pc1n+sFb6R9C1O4b2awqL8k6cv0+kq7coUtUf6HCg0/lup/KPeq/IrW+dlnm419527q/lKVLym2/MNTRJEu5HVOOa8vSie7fvS+z6ai6Wlfp3eAjdEu1uzlZm3bofbly702o+Ha57B/DUXV1QOzGfZlNLx5nN6/62npXsrG+ZspYkWw/7q7VUccVrWsn9N5sWQclmfGE6lZOxo4ppx1bbD+nNRX9snG3fSwvzk6pspcYySk0ls2qTlYSknbHtizlZfYqT2333nQj8xItWfdKlIPx6aWxbaqkqv/e/K8HnYRq9p7/vSNLUl7VZvJ2Oq7IWDzU7dDr9s2SzFhyzFrx5s3elE52irp/w/Hnr+onblqq3bWVC8Xj7OZlrQzX/zF13AO15DyS8jfMznf2izJ2TNm7eenAkZM+rHQu9PxKje116e3QcY4s1dfMoZLX4733pr8262umzMcboX7BlnKh+0Vrvyhj5SQyjt69oIeFnG6vSicOazYBAAAAXCwkNuOWM+1E5Zc2Ja1e1ZfdzsODft//0P/43U+9/pt3Ptf+py/feUm/uSr95P2fRPe5elVfdjO64f/nizcuSQe/VGyr2bP5S7n3fu7/x8+V25T06NLQK8c6KwLrqt/cSOjz5sg5iCZ1ZkNe1WanL13m9dvKqy4nnvharcoJJTnMG7FE1HJZe5FS76w/lk50LFerctpJnoxy+dh+Th3Vldft1zv7yn7VknTSiem42lXOrIWCNjYl6/1oIrXlnEirt5Xrmdj0jtcz8Zmal7TTTXOIRF/yfmo7lvK7O5FzyFuNdig7PC+bnfOsfrCkja5S+4wKD6KJqZ7zey68ayDQ2Da8xNaDgiZ2VVzo+ZWy92I9JZdzsjTF5N4Q16Y27dAfduL3i4aqa/WuceovI/Nmv5W/QQJ72r1cAQAAAGA4JDZH8lP93SPpSv5zsSekf06/lb8kPfpFdDXmzcuR7V6+s6BboUTnxRZNnCQnL7Mq7ea9lY+TLEGflFhCx1vlFU4QdJfE9isb7WnBVF51HX4rVJj7vhVJTracE3krTROOF0ukOo/r/Y+3XPJWjS6OVqbdkVFh3fJWpI5Qot3hJf/a50nwtVhSPZaQjJxnq2ZycjBehu2XG0+HKXNVkhzV7hq6f8OJrlju9R7O4qLPb1fbBi+xOS3DXJt9nTo6if2BAwAAAACeVyQ2MRPaJZ9H40iQzBL/SdcHVrtUfWDZaC8LppYUTfzktizZXSXP0WP1Ko02b/QuLfZkVHjQiTfoLzhsn0JJnfL/ptfrzzxDP798qBS/dwn1AMcVGStWdF9+ufF0+Cvq1nJy1t3ICt+BCegzHPPCzq/ftqEeaW9hTzWx6Ul3bU7MmVfVAgAAAMBsIbE5ks/p129KP6v/NNYn86f6fv1Z1wpNDCFIkBxZUrz8dC75Zfa7pTOXeLb278tajfUxjJWOZswlRUrT+8iYS6nHOOiRaG+e8UE2CwXttZOIluyhVgl6qxrrj8/ebTJYPZdUwjwtXqLZUi6SwPMe8JTP5yaakLpo8xuU2VffnJ3C6mGuzcHiLRP8dgA9dfdwBQAAAICLgMTmiG589QXp4FP99f5P29/7eP8T/eDgkn7zzRcnc1B/xV5XP7YLyEs8LSX0/4s+DXn2dSdrGtsjlqJLgx8i0y4vTrFabjknK1ba3t+4eimqd3/HhHL7jk7J80irCsN7iieZghV+iVunOOf6xp0ypjsbXQ+JaWznZCUmYIOYhnvYUX8XZ36D43SSfw1V+pSit59U3qsNxjjuvcNcm/34DwKydoIV7cGq8D7/5tTW4YG0ZPaaWZ6KDgAAAGA+kdgc1XJGt5pXpbUft5+Y/ldrl/Uld0GvnvlhHL1kVW5WlQ9KtUf6IPqCKsZVGcZVGSuXJF1SadH/76GfeD4mXb3wDJlrS6EnfYe3dXTSZ1ftBIWfxOiUbXfGqbVf9L/nJwPa4znOJFEgo8Lb0TnLye77hOmee7qzo+pqd4++aMIto8IDJ3G77qSc91CS8JOkwzrjZHTG66Yd7f0Ymjtzra5wD8FOcqqTGGx/rZxEHszUtlDQnv/06va24ZYEy+X2060j+xu2bcFy2Xt6/WLQx/FQt5s9SpUHnHOp4k4lq7JrywqfK4+iD6bqCHpy1lV6d7RU1IWe34WCdnbz7fJ6w8hJR46qq4kjMWC1ozSee+8w1+ag/diy2iX/ppz1AU+tf7ek+mpVpWHK+QEAAABgDlxyHOfZJA+QycxOqScwzxrbfqIr1o/PWwFqJSeCB+9VFSOnk10n9uR2zLxQn1DmDj0dV3onmgE895rNpq5fv64rV65MOxQAAICRXJ52AADS6LWqzP/+yE/Nzqp8ZMlYMVUUCbL50VJtx9Ks9QnFjDmtqegnv0lqAgAAALiIKEUH5kK8/DRWPnyWpyq3y3+TS9JxFgll2n1bCQzmlZCbKqlXmTrOU6f9RZ+vXr07Jx3buyWJFb0AAAAALjBK0QEAAIDnEKXoAABg3rFiEwAAAAAAAMDcIbEJAAAAAAAAYO6Q2AQAAAAAAAAwd0hsAgAAAAAAAJg7JDYBAAAAAAAAzB0SmwAAAAAAAADmDolNAAAAAAAAAHOHxCYAAAAAAACAuUNiEwAAAAAAAMDcIbEJAAAAAAAAYO6Q2AQAAAAAAAAwd0hsAgAAAAAAAJg7JDYBAAAAAAAAzB0SmwAAAAAAAADmDolNAAAAAAAAAHOHxCYAAAAAAACAuUNiEwAAAAAAAMDcIbEJAAAAAAAAYO6Q2AQAAAAAAAAwd0hsAgAAAAAAAJg7JDYBAAAAAAAAzJ3L0w5gnjx9ekl/8ieX9R//46/pe9+7NO1wAAAAgDO4Oe0AgOfWF7/4TMvLv9K/+le/UCbzbNrhAMDcIrE5hH/+zy/rz//8M9MOAwAAAAAwx773vUv63vc+o1brkv7Df/jv0w4HAObWJcdxJvrnoUwmM8ndn6tXXrmip09ZqQkAAAAAGA/X/XTaIQDA3KLH5hBIagIAAAAAAACzgcQmAAAAAAAAgLkz1R6brutO8/AjuNr1nR//+JMpxAEAAACczenpqb7whS/os5/97LRDAZ4bn//8S13fm7/PxQAwO1ixCQAAAAAAAGDuzMRT0Q3DmHYII5vn2AEAAPB8u3r1qq5cuTLtMIDnGp8pAWB0rNgEAAAAAAAAMHdIbKKPlmp3DRmGocrxGXd1XJFhGDLu1tQaS2zob4xzB0hq7RdV3L9YV29rv+jdl/yv839/DVVGPe5pTcVQ7CPfW8e1nzQ+rMioGJ2vWmNSRxqvDysyKkXVnvTbqKXaO6H3NnD7cWmokvZ4T2oq+vFVPjyP2ObNEGP5XArGJ/iqaE6u4KlrvVd8rsbLe7+dc6X4Xp+fKsHPhXdS/uzx72PjuIc1akMcFwAw00hs4uI5rsgwiqqdTjuQC8BPesxdcnRe4x6ncVwHpzUVjfiHsYYqF+T6ytzZk+u6cl1bVr8NZ/Z8yqvadL338KCgTPzlNHEvFLTnevtwdvNnC+dJTcX2h0QvCRL58PlqWW7ZlVt2VL12tkPNnowKX3O993er79k0Fa33ijJ2S9Jrjtyyq/Kr045oMJIOsyarctk7x53XznivSGuMSSyk4f+B5ox/dMq8seff6wf8bAUAYExmoscmZlVGhQeuCuPY1XJZrlsex56QyhjnDs+vhYJ2dosyDUPWpqUlVWUYlrRpy12YdnCYOS1HdZnakaQnjk6U1+2ubCvGy0s2DfrpmnljT+4b5xLQHEs3lgDG6NWy3Fe56gAAZ0NiEwDQU+bOntw7UmPbUO5RVY7rdq8MBAIvmZwfAAAAAM4NpehzorFtyNhudHpVGkaPMlOvZ1u4b1xiGWJkP/Eeb53+jL2O09ovyrhbUyPoUXe3pla7V1uodDV2HGO7V3nLgGOe1lQ0iqqdxrYL7a+x7X9vxZJUV2mxT9+4eFyJfeW6x7J3/OdlUEyD5669Zay/YHjb9muLJdUlWSvh7eKlyf2O6b1W3G+0tynutzr7j41nV0xD9vsbLu4010r8vSXHdNa4JfnnZEWNWFzd/Re7YwpvM9R1kELw3mxZsm46MkfsCRncM1qD3l+qno8DroPEEuzh+1mO/3wKzY9hyDByCWV63fM7bAn8cHGPQdAj7aElOTnv/++WVFddpd1RyonjvfxGKUX1SiqL77Vi/d4S3n+892divEsyX4nG1bdvXL/IYv3neo1Po2b06dmZtt9hvPdnfCyHGKc04mMZ38+HFf97vcay8/2cI+lpSWa/MR/Ut7V9vNg4RLYb11j6c/uOf587y7kycJymEFNq3TENe6z2ubjr38Me9pufNPeL7m26y63PHndbqJ+tUTFkflBPepdj6Mt7hvtceJt2vKZKT9W5j/e5Z5x5nFL3XI4dzz8n+m7TK6bYMXPO8GEDAGYTic15spWTsWPKcV25rqPqal2lt8IfiFqq3bWV8/ulBT3TrJVocqu1X5SxYsk66my3o2poG6+M2XVduUd9uuMclJR7vCG3WVX+4FDrbznacG1ZsnQ/SB4sl/1jOKqu9tpRQxXD1GHeacfjHi2ptBhPytVVWjTlrIdi28q1P/Rn74VjDvWei/Wf897/Seh1R1WVZEY+8LdUu5uTtWl39uG6cu9lB83SBKWJKeXcHVdkrik6Ru6eCn55cbv3YLOqvBQ5V1y3rM4R081dfS0nZ907H+v1da0/3vDn735nu+OK1rUTOo4t66Akc4hkcvq4010rjW1TJVX9a65HL8MxxN1hKWfcl9nsxFRfW4/FtC69HYrnyFJ9zRz6OkjltKb1tSXZrqvSjROd3CjJdW0txWJK7aAk08hJR+HY1yPngLF4qNuhmO2bJZl34/e587k2x3s+eQnLYNVrcm9P73oq3bQj82utDJeQTR/3mPi9M21Tkml3evBdq8opu3K/Nsx511LtHVs5v5dfsC/r4WgPdKl/YMps3vbiKDuqXrOUCyUSW+8VZTw8UXXN7fT/VElmV2LAUq5yX2aw3S1L9Q/Wh4/pQ/9+0X5/tqynJZm12B+o3jGUcyzZ7e12pKPwdZCm32FDlYqp0kt253i3LFkPuz/01z8wZX68EeqLZyk3bJ+9JzUVv5MLvbfu8fZEx9J5LR8ay877sk11ziH/a++NzpnkzZ1CY+So+kkuIUFiKVcxdbjo9Rd116rKO7lQsma8Y+klY3PSrTOeK7KU69qPGYp7GjEN1qitS3/oRmKKxj1Yu0fjmn8PuxXaXzl27x14v2ip9k5Olhkap7IrtxC9E44jbkle8my3pKVb0Zhio6RK+Jwsu3JvLam0e4b7XL/rd9C1+UpBe+H+x7GxCvfkHds4peq5nHCO++dEZKsUMXXf6/17DADgQiCxOU9Wq3LaiYmMcvm8dOCo8wfHjAoPoh9aM6/fVl51OcGH69Oa1tfqyu86Ki+HtrtTbie10sur+mZwtLqUL430gbm1f1/WalU7d0IffZdLqq7Wdfit2MehI7cT97K32unEGeYvxQ1V1+rK7+6E3m9GhberysuS3V4Z5cg5kPI3zvpbT8LKshSrKZONKyap5ZxIWpJ5xj6JqedutapSMG8H0u03E86U5bL2wvtRVrlNSY+cCTw8IsW1opacR5JuDiitHWvceVWboQRzV0xS9t5e9Fod6TpIaaGgva5EWFZld2+E+4UUJFrb1/CCGXp/LdV2rNi1KWXf9P5wYrfHYHzXwfikOJ+Oqyod5FV9u3eSr7V/X5Ys2eEk7XJZ9qZUr9tz8RCV/MtnnZeMCl+LjeVNfyxHGYBrVTlf6/zcLHzFkp4eyn4iSQ1VP6gr/9qOCq+Ejv+H/s+DyAf1vKpre53tXi2peq2uw0dDBvVqOZKck7LKmZI+cULJ1nWVnuZVXQuPQ0aFwnB/mGi9559P4QTOq2XZplRvxs4n0w4lerpjSuWVgvYK0T+05Rbz0tPw7ylSfCxHm19v7qxbsTH6iiU5dtdqNetWKCn6iqklSSc/GmL19jBjqbyqa6FkUMYc+fy1boX282pJ1WuS9Z3GVGMaJFsIXSeS9Kr/M2qI8U4vzf3CkfN08L1pPHG3VPu2JZl23wd0td67L+taVTvhe8Go9xRp8PWb+toc7DznN/EcH1w4WTkAACAASURBVCmmpHs9AOAiocfmRXNc8UtQo5aC/3PqqK68qq+PowuanxjzP7gvmRlp6F+RJOdxXTqoyzRK3S/edKRxdmw79R9oEX//CzndXpUOnZa0nJGUVWk3L2vNlLEm72EpI60Iy6rsjuthBOOKScrc2ZC1llPOCFb1jZaoGjx3/gcJPzno/YoZPW86WqrdNVU6iH2750rfMxp0rSijwrql0kpOxpZif1gIO+e4T2sqLnaXYk36GbWZO3vaO/NeYsn0hYL23OARV17Csn7gn9/xf3kqaUEa53UwVgPOp5ZzIq3eVq7PdeY8rkubG11/IMp+1ZK2vA+gs9u/siXnE0kve//lfFyXXtoYLd4PK15Ze8xSwqYDxXt+ZkzlZflJD//nwc1YlK/kdPuadPijlnqPeEbmS1L942FnpaXaO365Z1hoxZLzcV26VlXujB/AnY/rkplwPv2OJT2czPnUqCWVd440c/09cXQiqf7QkPUw/mJezhMp+0rnv83IG/VWaA5juLFckhmeu1cK2iuP8ii/eNzeOeclrLJji6nZHCG0fp7UVEwoF57Yz6iB94usSq/lZX1gyvhAsSRgyFji9pKo1lf6/0xyPq5LT+syKwm/Ow19T0lnbNfmOc5vr3N86Jie9LjXAwAuDFZsXiT+B+v8bqgsuNldsjGTVmPlvjNQ+t0u5/RL3kfunTiTMXkJ13ZLg8XRevlJGtPcBclBS3ZoH/bmCPGkkfZaCVopNKvKH5RkdvUoPOe4g6RmpAw7Xs483yJzEvqKrjCfsWtznu+9Zxb0NvOSdfUPzE7vMr9P21Alin6SIv+a07f08GziCaNR+IncIf+Nl9QMl5hfnHJIL3GSj5R69i7tHo9oiXLwtXexV2XN8gO6ggRTpJR5gj+jUt4v2qXtt0J9gMMtEs47bqmrzUKvEvlxGNu1OY1xmseYAADnjsTmBeKVF1vauNPnV95I6edsMG/ES+onaMHUkrpL3HVq6/AgWHUaEyS3jiwpUhKbxjhL0ccVU1jQk9PrgWq9P1xPtfHNnV9evDtaO4NhpbpWwhYK2msnqxJaFpxT3O0V10ml/HPPlLkq1R8PcTaN7To4m9TnU/xaOfVWnQXMG3lpq7uMtvG+Ja2ams38V0aFrwUfJIMPzl7PtCDZ0K8kM671I38s35hQ6qblqB6sXnvF/3kQL/18YuvwqbT0hX4xpCtvTfw3r/W/X5gvj1YimrifhLLsxncs6dq4zyc/0WtunE9ScYRy8rM437HsxRvj4JybjZhiWv7PqJXz+Rk19P0i6Ot4K9ySQmOPO35eOh9H1xKO6xpPZ4zX5jnPr6TulhgtJ7oyM3VM8dYLo/xxCgAwq0hsXiAZc0nSSaSfZlfJ6kJBG5tKeKBQZfQk2xll7mx4jc7HteLKT952JS8lBf0Pow9kaan2Vkn1cB/IBKP1pQxWRiZ9jdqn8KwxJenRt3DB+/DYK+E5vrnrTmo1tg3ltpK3bj9ZutcDegbFneZaSeInFjvjPVzcZ9b1h4mGKolP1taA62AWeaX/2soN/dT1ruvAn/9O39E+45TGGM4nr+dm6MFqfbbJhc/r44pyW5K1PuSDn1LEPVZPwklaL4HXPzGYLPMFfyyDhEOPEsPRYqyp+NAKJRa9XnTRh6i0VPt/S6pfq6rUJyHbqOVkDZ2ANWVeC8rXg/10l4dm3vDvq+/EHppVG+4+6/UajD1E5MOKco5kfWWE86n/0UJl0p7We8UeT4NOx0v+hJJPEV558UgPLRnB+Y5lskbNW+0bnHOzEFOXrt6dDVUqZ7j3+gnsoK9o1+FGvF94CdFQef7Y4g7uKdV2wjn9NT4pw1yb/rYJCXPv5THP7wDZ37GkpyVVg2s8qe1Ampj89iLWt4Px7tESBAAwt+ixeZEsl2VvGsotGvK69uRVbdpaWsxFNsvec+XcKMpsb+eVf+61kzXdSYBSsO2Q/exa+0WZa6Ffng78foWRvo5ZlV1bMnKxXo0j9n5cKGjvyJGxEurVF+qPmPT+u95XYqLLkj2JJwqnlSqmdHOXlHzL7zqxh+BIUlblZlUni8G8xY85rrnzHuB0GD7Opi1n977Mrt+9/Yf69DUg7lTXSlIyLP6+hol7DBYK2tk9lLlitOOyjhxVd0wdJmzb7zqYSctluUeKxixF4051HWRVPrJC+8mr2nRUfSs6Tl3XQdC3M2l/Zz2fuubDku06un03FNNCQXuuqYoRPo73wKXR/ggy6Podt1gfv5iuD9NPczIqUuRhMq+WZX/HUG43NJZrtpZ2c0m7HMwJjuGJPIxFUrbgynmvKHM39PMg3oPP78tZCm9zrSqnHL6Wuj9Mt7dv7897MNHhbigm05bz2n2ZkT6HWZXLjsx3zFAPPm+M2sfrSuDUlat4R8+/5ngPynmloL2yqUolPAbeqtpJrKrMFmxZlVwn5mtVObeWZHb1wEwn88ae7I/D50LovfmvOyrKjPfZ7NVDsZcZHMsgjr7n3HnHlHKcdl47jMyJdctR9dsJP6NSyaq8VtVJ+JqRJTt4Mnqa+0VisjO0D2mscWcLjqrvmJGxcX+nKiNyHWRVLttS+Hppxz/+VgrDXJvx+KXQfTPlOHUlc4P+pqFxT/vzwPnRSed416pyyraqldD8poopo8LXbDmhMbBuuXJ+VIzdewEA8+qS4zjPJnmATKb3R2jX9Zq3G4YxyRDGxjCudn3PdT+dQiQAgOfaaU3FxUPdHvHBX0la+0WZ9duznfxOzV+R89KQSS5gFnxYkfHwZCJJrrhms6nr16/rypUrkz0QgDY+UwLAeFGKDgAAAAAAAGDukNgEgInp9/CoztdIT6MHVFdp0TjbU+FPayr652GkbQgAAAAAzAFK0YdA2QAAAAAuCkrRgfPHZ0oAGC9WbAIAAAAAAACYOzPxVPRg5ebsS/rr2rzEDgAAAER9+umn+tWvfjXtMIDnCJ8pAWCcWLEJAAAAAAAAYO5MdcXmvPTW7OcivAcAAAA8n65evUqPTWDK+EwJAKNjxSYAAAAAAACAuUNiEwAAAAAAAMDcIbEJAAAAAAAAYO6Q2ATOrKXaXUOGYahyPO1Y8Nw4rsjYbkw7ivE6rsgwjM7XFN5fY9uQcbem1qj/NhT/aPeDhirhMTAqumCzDAAAAABjQ2ITZ3NckWEUVTuddiAXwGlNxblMjvqJ3YuWZBu3scxvQ5Wu680b//k7bxIsl+W6rlzXUXW134YzfM5t2v57cFVejr+YJu6syv6/d4+sCQYKAAAAAPOPxCZwZhkVHvRKZADjlFX5aEmlRUPF9yVLtoqGqZKqKnHuAQAAAACeM5enHQAAYAjLZbluWa39osy1Jdmuq71pxwQAAAAAwBSwYnMeHFe8Pmvt/nMVNdp92EJlqUll4Ynlr52ekEZ8H6HXi/utWM+7znbtXnIrlqS6Souh/cX70/kx9Hzd22Osr9wslJkOimnQOIa23C9G9xPatv3aYkl1SdZKv/56/Y4ZzFujvU1xv9XZf2w8u2Iatq9ge15NlQ4kbeX69BeMx+2fX0OM09ji9ue1ctyZ38px55yOxtUdd7zku7Vf9GOIni/Bfoab3xT8a3L98ZKsTen+qNdKcF+Jv8eufaU5z7vHKTovySXYQ/eznMA5F+/rmdvqNVbnda0AAAAAANIisTk3LOV2TDmuLUsnun/3vsymo+pqXaV3h0lqNFQxTB3mnXYfOPdoSaXF7mRFfc2UsSLZ/nb2Zl2lt7wP9Nl74R5weVWbbmd/DwrKBDs5rshYPNTt0Ov2zZLMrqRHTlaoN53runLvZc82ZGeSJqZOCXrfXnjHFZlrio6Ru6fCgr+XO3ve95pV5SVZR+HtyuocMd3c1ddyctZdObt51evrWn+84cW3dT+SBF/XTug4tqyDksxhEmQLBe2F+yHGxipclt/YXpfeDr2vI0v1NTOa0BkwTmOL22et3JfZdGVvSic7Rd2/4Xhjtlb1k43eeJdu2pG4rZWEBNlBSaaRk47C729dtdNh5jeNhiorJ6o2Xe19VbKU057rqPooN2JyzFIufE41q8pvhfeV7pxrbHvl8E74WgnfB8ZlzOdca78owx/P9v1pM3rI7m0cVVWSOUxSeoi4AQAAAADpkdicI9Z6kCioq35zI5rwSam1f1/WalU7d0Iph+WSqqt1HX4rlqxZrcoJJV7MG3npwJGT/miq7VjK7+5EYs2+WVX+4FB2OzHiyDmQ8jfM4d9QRMIKyxSrKZONKyap5ZxIWpI5wnxF9pN27lZD/RYPpNtvJqTOlsvaC+9HWeU2JT1yRnoa9CDZe7EE5XJOlqQTJ5TeTjNO44x7s3MN1Q+WtHEnmoZr7d+XJUt2OJm9XJa9KdXrdux4XnK/naBaMJVXXc7YH6qVVTme7PUT7KMmx6wjtzOmC6aW1JmXdOdcS84jSTfN8Scyz2DwOddQda3edX+KStomo8LbVeVlyWalJQAAAABMFYnNuZGPJHxGTbg5j+v+6rJw0s8rj6w/jqUsY4kKb+XZMCvMvORgfc2MJhkXS6pHkj5ZlXbzne1GLkEPPU246yueDBq8r/HEJGXubMiSpdxICdaO1HMXmbdeicLuMt3EEtxxibcjMLwkU1i6cRpf3JFraNVU/IpyHtelzVzX+Z79qpWQ4I+Ns79Cb6Ir8ZbLY1jVnI+dH941FCQ6051zGRXWrU559dCtASZk0Dl36uhEed1+vU86ttc2CzndXo0m5gEAAAAA54/E5vNoNVYyOuHS7/yuk5hsDCd92uW6R7OTIBlfTEHC1W8dsHiGvnpjmbuWandNlQ6sdpuBpBLcsTmtqbhYUj1Sfmt3JTYHj9M5xw1PmnNuudwpZW8nQkfoHzouqc85AAAAAMA8I7H5nBm+nPxMR5O5mrAStJ8gQXJkSZFy9TTGWYo+rpjCgp6cXp896/3h0j7jmzu/zH63NGR/xxGdOqorr2pSSXyiXuN0vnGbN/LSlt2VnGu8byWu8LyIhj7ngl6SzSmXaqc+5+LtAvyy+sCCqSUltOk4tXV4IC2Zs1R8DwAAAADPHxKbF0m8r1+waim0Sbvcd1yrIf1jdn3w947WLlFNfBpxH6P1pRxnKfq4YkrSo3+n39+wV8JzfHPXnXBubPcu6W4/1bvncTMybyoxCSgpod9kQ5WEUvRu8XEaLu6zyrx+W3lZyoXbEBxXlNsK97sdwoD5nUUjn3N+YtEM9aU0byrSC/VsczeGc84vJ7d2gvcWrAgOb+T1cA0eBKVgu7dKqod72Y4rbgAAAADAUEhsXiQLBe3s5mWtBL0sHW10lV9mVQ6eJD2OFY0LBe35Txtu7yucBFkut59GHFlBGd6mqxeeIXNtSfbQT4weo1QxhVaIrliSOuXT4Z6cje346tGcTnad2ENwJCmrsv9U6s624XLecc2d//CT0HFysuXs5hO3dh7XE78fifyeo+pq0B8zVkIePy+NnHTkPx06ZPA4DRf3mS0UtOfassLz4T8de7TemYPmdxalOecSVkqvnKjajP4xIXsvup/gKfRh7SS638ez3QIi4Rw/+zmXUeFBOCZTzrrbFVP2nitnV51r2zBVummP/NT3vnEDAAAAAIZyyXGcZ5M8QCZzcUr1DONq1/dc99MpRAIAmDWNbS/ZPrZ+xccVGSua7h95AFxozWZT169f15UrV6YdCvDc4DMlAIwXKzYBAAAAAAAAzB0SmwAuiH4Pj6LsF+ck1GpgtHMt3uICAAAAANALpehDoGwAAAAAFwWl6MD54zMlAIwXKzYBAAAAAAAAzB0SmwAAAAAAAADmDolNAAAAAAAAAHOHxCYAAAAAAACAuUNiEwAAAAAAAMDcIbEJAAAAAAAAYO6Q2AQAAAAAAAAwd0hsYmSt/aIMw2h/Ffdb5xxBQ5WRj+v92078FTXGHt9wpj+ec+C4EhkjY/u8Z20WzrnZO3enIxiHomqnZ9tT+9o79/MJmKSWau8YMirBV1G1JxM83IeV0LEMGbXJXk+t94qR4xXf42fm1D2pqVgxVPmw/2bTmbvO9TAovuB9pNoWAABMHYlNjCxzZ0+u68p1bVn9NjytqWgYqhyfV2TpWUeu/x7Kyna92lLt7viSHT98///U599e0+f3/1Pi653xdFRdHcshL57lcroxutDnXFZl19/HUd8rDzOosW3IuFsTKZhzclwZS/J7rJ7UVHwnOAcaqkwseZJR4Wuu3LIr99Y53CteLXvHKjuqXpv84TJv7PnHG/A7CGbOLM9d672ijN2S9Jojt+yq/Oq0IxqTlEnndIZIEgMAcA4uTzsA4MJ78p7efPfPpdf+sf4PNfV/TTse4ELwErzlMewpc2dP7p0x7AhIo+WoLlM7kvTE0Ynyup2ZdlDARecl+guDtnpjT+4b5xLQXGq9V5T5gVR9zZI+mLW0NADgecWKTWCi/pP+73e/rf/tzV29+9V/MO1gAACz4CVT5DIBzJUPKzKbt+WU91T4wrSDAQCgg8TmvDiu+L30/FLVnj0GY68nluDFe/TF9pNYxjt8b8F237rFkuqSrJV+fQG7Y0oqI25sh7fJJZYwxXtVDl1K7r9/wzBVOpC0lRsYl3fMpF6Hv6v//a0/0R+/MlwIM2Gs51x8m3g5bnIJ9rBlu8/TOTc+Z+kbKj/2omqng86ThHHqMbfRMY+fT4N6jHpxFPcb7XiK+63EPpqp+9q256dH3O1rJRpbZ3+d7+e2JB2UZPY8bve10vueM+i6Ox+t/aKMuzU1gpju1tRqj1lnfpKu5+R756B7SjDHrVjf3c527XNoxZJUV2mxz/wNml9vj/1/bqYR9KB8aElOzvv/uyXVVVdp15DxTvS4jdqg/pheGXu4V+HoZaHxfpzROWnUuuPz+iSO0uM3Hvc59/4cJeYnNRUrRdWexMYp0kfUfy3WWzRp7MI9HI1K/PXk/bT3FYk/Pm+j9as8PnjRO15krNKcc0nb5GVm+o3TENLOXWy76Bik7TXbPZbR68l7vfheK9YjdNQ+1wPiSnXOpThKEOuu/3vRw8HjmXjOSl67ia8V+KMMAGDmkNicK5ZyhqnDvOP112tWld/KhT70NlQJv+66co+WVFoMfyhsqXY3J2vT7mzjunLvdXf7O6t2z8hmVXmFewvG+wu2VLtrKxeKx9nNy1qJx20o96gqp71dd2+mxrYhc21JdnibrdxwPe0WCtoL93GMjVV5+awjM0/Gcc5JjW1TJYXnzpX7YPy/HHPOTUtdpUVTznqo92fkPJF0XNG6dkLvy5Z1UJK5HUsM3DWU27JC47kjvRsey06PUWc33zuitZycdW+ben1d6483/Ljut+c4VZ/g44qMxUPdbnbmw75Zktk1v5Zyxn2ZzU5s9bV1/1idmO1NSavRa2HvTnAleNdT6WZo/o8sWSux5OdxReaaVG2Gz+89FRb6TtJkHZSUe7zhXXsHh1p/y9GGa8uSpftDJc3T3VMkqb5mylhR+1yxN+sqveXNS/ZeuA9tPjpW4XtPqvkd089NvwelbUoybbllV85reelaVU7ZDSUMvERGzrFkl/0emeUd6Sie/LKVa7/u7ct6OEqSsKFKxb9Ht/eXkz2Jh/88qalYyenE71/oxS2VdifUq+9JTcXv5NrH8vp/WsolJW0Gqqu0a8r5SqhvqZMbPu4PKzJ2D3V7rTN39kslme2YMsot5iXnfmwuG7IdKf9aqf2zrFFbl/6wsx/3lqX6B+ZoY+nkZDxU+5yzzbpKu6HEV+q5i43TWlX5UcYp5dy13ivKeGjJutUZhx1VQ2OXptesfw28ZEfG0nrYnSiuf2DK/Hgj1CPUUm7oa8U73uGiEzrekkq78ev37Odcu5/pmv97UWic3HJSr28AAOYPic05Yx2FPgQvmFqSdOJ4v3S19u/LWq1q504oXbRcUnW1rsNvBb+YOXIOpPwN81zj7i+jwoPoL1eZ128rr7qc4IPscVWlg7yqb/dJhp3WdH9Lso7C+8qqfGRJB4eyZ+nhEZMSf2p4itVxg5z9nGvJeSTp5iyVXnLOjZt1FErALnsrW4PzxPteOZTAk6SscpuSHjnt87K1v+6NeTM8nhkV7o2QBF+tqhTEcyDdfnOUj28t1XYs5Xd3IknD7Jte8i46v3lVm53kYtf5lOZo+/dlyZIdTpgtl2VvSvW63Rkn50TSksxpJjK75FVtj3FdypdG+sCc7p7iW63KCf3BwryRlw4cOemPlnJ+x/9zM/9y73213ltX6Wle1bXYdVAIXwcZFb4Wu4fd9M+5IW/0jVrOO+8iK7GyKhfGn/JoHJVUv1bVzhuhd/LGjqrXJOs7E0ikvlLQXuR9+EnDp8OcJx3WrdDDZF7173M/GmbAW6p921L+tR0VQpUc2ZWq8k8PZftJrcwbG7JU1+Gj0L4/tGUpr9s3Q7NU2IvsZ7SYApbsUKIru1JVXpZsP4k2zNxFxumVgjbMEeY3zdw9qWn9g7ryrzmRh/xk3ihHx2WA1nv+vTd8vFfLsk2p3rSjvzuZttz2dlnlTEmfOEP9ftV6776s2Fjq1ZKq12JzrnGccwAAXHw8PGiu5GMfZL1VQAHncV06qMs0St3/9KYjKSMpq9JuXtaaKWNN3sqwCazWHNpxxS8ZjFry/7flnEirt5Xr90H+1FFdljbiq9uWvQ9tzqmksSUCWqrd9cuG2+rKGcF7iCY5zs1yWa47jsepBMZxzmVUWLdUWsnJ2JKXjJjAas2hzd05N0ZJ7z24J0gTui8kXTOSQk+3dx7XpdVq/zFPy0+kex///CTg0IlmL6FVPwiNTcjSmOfXeVyXNje6EoLZr1rSlvdhPiMpc2dD1lrOv9+c7V7T2i/KXKtHvpffdWJJ6DSiY7xkZqQRUkfp7inBf0f/WDL8Q6DSzu84f2625Hwi6WU/go/r0ksbkffhfFyXrlWVG5SY+bDilbXH4x4lHjN3Diu3vGPlF3Ox+7+fsGo6aik79p8NjZqhXNepONwojY8j56m36s/4oPvVpZakV6QgYWY1bbXe8H5eNr5jSaYdTdg9qanolxiH9V7L3sc1U5F0+yv+HzL9JNpZ5s58ebT5HTh3LUd15VW9ebazxvm4LpkJ997fsaSHnXvvuDgf16WndZmVhPvcx+M+WhoNVSrxVjulUHzRpDcAALOGxOZFkyJp1P7wd1yRMQvJJj/JEvkwfVpTcTHhF76ZkVHhQefpml5yYEm2+xz+4pfm3AkSrv68ekkLa3rjNZfn3BhFEuANVYycTkZKZqUVJDWjc97YNpR7NKFDjtFoib5JCp4I74/roqGSYqtmU5rJJ8Kf88+jNPN79p+bLdXeMVV66v9nJLGVk1GJrcwaxE9q5l9ztBes+vKTXOjwEmN5Vdc6KxuDpzpPU2TeesiuVJXfPZT9pKDCK14ZunUr9BMzSGpGVhB6CaqTMca69IXOn4hG5Xxcl3R7qH8zq3M3NteqcmamX2VW5bKr9m8FNUO5T2YpPgAA+qMU/QIZugxvudzpQTbFslmvrNLSxqDEQfy9nTrRX94XTK9sKv6gjWOvfGu2yjYnZAKl6P0Mfc4FvSSb1eS5Oiecc+fNL+Xd7V+ePHwp8aSZMlel+uPzici8kZe27K6HOTTet6TV2GoqScEfWILerNb7EyjlPWfnew6MML8j/9wM+vx594bqWtAz0EtyueVOUtN8eXCpdOtH/j1sQHIsTVzmSxq6lPYsx+oq7VVLdrM+gSfFB6tRN4YqS54sU+Y1qf5xinPulZxuB6XJH9qyrlVVCie+g9WKKxP68+ATRyfKy8xIZ5s7fx6Gmt+Uc5cxR2q/EGe+nJechHvvd6zulaxjkOYaBwAA6ZHYvEAydza8JuZDJrC6+rXF+igGK7p6PlxjEH9/vT50Z8wlSSedXnT+yrlwaZXXry70EIqEbbSQ0+1VyVoJP+WxocqKJW1ujFCqmZF5U4mJhpkVfOhO+prIw3pGO+e8Eu5w4s8f61C/xca2/wTpUXDOzZjuBFLS/CafTy3VtseflE/Ha6OgrdzoT42P8RJ3yQmx4JzLhR+odFxRbkuy1vtdv7PYO7lbPGmZVAY/8j2llwUv8dHVn9M72sjzO3Kf0yfhP454ZcneirhQVG/4YxB/Unat89+ZL/j3sOBBIz1KktPw+juWZEYegNJQJfTf8USMt3Ju+KNlf8eSnpa0HnogS7un6NgTdN1J21HjHvV43aXUGRW+4j0AZvDTy70y73rTVu07VncZeFdSL6mceFQNVXZLqocSi6PO3Wjzm3Lugv6dsYdmtd6rDPUQLa8/bewhQB9WlHMk6ysT+N0p8RqfML+1wER62QIAMGWUol8oWZVdWzJysf5koR5sScmZrpJg7+EnxkrQdyyvatNR9S1Th6F/1ZWYaPfoS9hfs6qTRb98L37M5bLsTUM5v5zSO56tpcVcZ98LBe0dOaGYLNmuo9t3wzF5q5fMbSPU69IrM3RHLCPN3nNUfWRG9pdU7tmvnPOv9tf0v4Y/2DgVff5tSVrU//Pmn+iPZ2YlyShSnHOJifHuvoDZe7as0H7yu46c3XWZoZO1KxFyEJxT8f1d/HNufKJ9Uycjo8LbVR2G52PTlrN7PzK/XiyOzLtm6Hzy5rY9ml33sE5vW6+kOH1Uqe5hy2W5RwqdB74Ry6Uzd/ZkPw6fe6FS6IWC9lxTFSN83npP9A5fK0lJ4dkrl++WubOjaj10bm/aco+WZKyEt0pzTxlC13Ws6Nylmd9UPzeHsSSz730/q3LZkfmOGepx55Xktmf41bLs7xjK7YbuYWu2lnZD97CERFcp2D5cvvxKQXtlU5WKVxLffn/lTr/mzBs7qjZN5Sr+3kxb7q0lGQ87++5KPD0N9hcqJ361LDdjqrgbLsUfrX9fV9KwXd7f2V+2YMuq5DrjeK0q59aSzIfd+xuH+PHyrzlyXl6X2Qxt9GpZriTjYazPZkJpcuaNDVkf5FR6askuxK7vVwraee1QErq+HQAAHS1JREFU5kNDlv9+rFuOqt+O/q6W2tNSpOdj/jVHbuThNinmLkiehWJKmt9xzl224Mp5ryhzN3RPfc3RXvsaS3EdJF4D3srqyaz2zapctqXw+2sfc29yx1yr6mS3+zrv6i1acJX8W0H3WLbneqZK6wEAz5tLjuM8m+QBMpmL8yPOMK52fc91P51CJDg7L9mmiSaMRuX1zTvMz36iAsOYwDl3XJGxoueztysA4MyazaZ+8Ff/k/6XpySmgPPCZ0oAGC9K0QEAAAAAAADMHRKbeK5ZK8HDdSpT72nY2i/6sZgqHUw5GEzM2c+5hirBA6FWxtNNDQAAAACAeUQp+hAoGwAAAMBF0Ww2df36dV25cmXaoQDPDT5TAsB4sWITAAAAAAAAwNwhsQkAAAAAAABg7pDYBAAAAAAAADB3SGwCAAAAAAAAmDskNgEAAAAAAADMHRKbAAAAAAAAAOYOiU0AAAAAAAAAc+fytAMA5tVLL72U+P1PPvkk1esAAAAAAAAYHYlNYMx6JTQBAAAAAAAwPiQ2gRH1WnkZJDZZmQkAAAAAADA59NgEAAAAAAAAMHdYsXlGhnF12iFg5riSJMOYchgAAAB93Zx2AAAAAGfCik0AAAAAAAAAc4fE5hCusjgTAAAAAAAAmAkkNoewvPyraYcAAAAAALggvvjFZ9MOAQDmGonNIfzpn/5c//Af8oMHAAAAAHA2mcwz/emf/nzaYQDAXLvkOM5EM3WZTGaSuwdmzksvvSRJ+uSTT6YcCQAAQG/NZlPXr1/XlStXph0KAADASFixCQAAAAAAAGDukNgEAAAAAAAAMHdIbAIAAAAAAACYOyQ2AQAAAAAAAMwdEpsAAAAAAAAA5g6JTQAAAAAAAABzh8QmAAAAAAAAgLlDYhMAAAAAAADA3CGxCQAAAAAAAGDukNgEAAAAAAAAMHdIbAIAAAAAAACYOyQ2AQAAAAAAAMwdEpuYEy3V7hoyjOCrqNrpOYdwWlPRMFQ5PufjAgAAAAAAoAuJzXPwePv7enj3b/XxtAOZaxkVHrhyXVfukdV/0+PKuSQ+X3rppcSvtK8DAAAAAABgdCQ2gTH75JNP9Mknn0w7DAAAAAAAgAvt8rQDAObVoOQlyU0AAAAAAIDJYcVmkuOWHhotPdZP9eHd7+uh4X9t/yS2Yex141Qftsuff6K/9L//3S1JB5/qr4zOtt/c/2l0H7F9d5Wvp4mpvU3n2NFjpeX1syzut/yy7j59LSOvGzK2GwnjGdsm3qcyqXR8hH6WjW1//yuWpLpKi6Fj3q2p1Temirojj/X1XCypPmgbenACAAAAAACcCxKbPf1c3zV+rB/nP69b7m/pVvOqrmz9nf6ynbT6if4y/Lr7W7p1dFk/WAySmy/q9/3vf2lT0upVfTnYzv0t/c93PjeBmIJt/puMpnecL+9e0s/WPgklXNOrr5kyViTb9Xpb2pt1ld7qJAhb+8XI667rqPooF01untZUXLFkHQXbeF/l5RHe/gDZe+EenHlVm6FjPigoE47p/VwoHkfVVUu5SPKzoYphqnTT7mzXrCofOWLCNkeWrBU/KQwAAAAAAICJIbHZx4tHoQTkwmUZklzHW/348f5/009Wr+r3wgnK5f9Rv7n6TD/+1rArJMcTk+eSfrO5oFcXvP96+fUruqJnckd5kM5qVY5bVtb/T/NGXjpw5EiSGqqu1WUddV6XMiqsW9KW3Vn9eOqorrzMhRGOPykLBe3dy4a+kVEuH35vUmv/vixZsiPbRSVus1yWvSnV67ZIbQIAAAAAAEwOPTZ7uiQjkox7Ub/vvtj+r588ftYuL+9y879LGmVF5tliGrubZmeVo6TMnT25d/z/OHV0Iqm+Yqj7GeV5OadSdkHScknVVUulRUMlSdbRZFZrDquxbSi3Ff/uUvv/OY/r0uaGeqc1e2+T/aolbXlJ0kzSPwQAAAAAAMCZkdg8i9Wr+vKDv6+Xpx3HFA1OVGZUeOCqID+Z6CdC87uO9u5MJ+3nJTXzqjb3VPATxa39osy1qYQDAAAAAACAEVCKPqIXb1ySDn6p+OOEnhsLppYknTjpC66DHpjTLdVuyXkkaXOjndTs6ZETjfHUiTw8yLyRj5bd+xrvW9KqKXMc4QIAAAAAACARic0RvXznf9CL+rm+G35yeQ9eEvRn+n5in8vP6ddvSnr0i/Z+Hm/7T1KfaVmVdvOqr5lDPgXcTyyGy9wXTOVVlxOMz2lNxcQnkKfk7+/wW0mp04zMm4okLb3VmtGjZb9qSQclVYP3dlzxn7Ye2tPrt5WXpVz4YUnHFeW2JGu9QBk6AAAX2EcfXdYPf/iZaYcxsxifqI8+uizbfkHf/e7FKJj74Q8/I9t+gTkGAEwdic2Rvajfd39dL/p9Nh+2v067nkD+8p0FfWnzmX6w2Nnum/udB/7cuBfdz/934/P68u6lc34/w8vc2ZOzm5e1YsgwQl+hRF9rvxh9LXiKePiBOwsF7YT3s+how7VjvTsbqgT7WLEk1VVa7D5esL+9I8t7qnvwb0JPPM/es2UdlGT6r5n123KOYp1Cl8vR97ZjyonHtFDQnmvL2sp1jrNyompzNvqIAgCAyfnt376sf/tvL0aSahIYn46dnSv67d++rD/4g8/o937PS3DOomESr//0n17Wv/7Xv6arVyccFAAAA1xyHOfZJA+QybBuDQAAABeLYVzV17/+TOvrP5t2KCNrNpu6fv26rly5MvZ9X4TxGYe//usXlM1+Rv/iXzzTP/knv9Snn0pXr0rXr/9i2qFF2PYL+oM/8FZfuu6nfbf9i7/4rP7oj35Nf/M3v5i59wEAeP6wYhMAAACYIzs7V2QYVykDngP/+T97VVj/6B/9Utev/0Jf+tJsJgN/93d/pa9//Zn+3b/7Vd/tPvrosv7oj35N//7f/3Im3wcA4PlDfQgAAAAwh372s9lvXfS8+y//xZujWS/Z/o3f+KXW1385cLvr13+hv/mb2VtxCgB4fpHYBAAAAPr46KPOr8xpEzr/9b9+Rk+fdhKPvf7dRx9djrwWHOvKlWf6jd/oTjR99NFl/eQn3v/3kmaXu/Yf3ucPf/gZ/exnlxL393d/93l9//tX9dnPfmao95YUU2Dc49PreNeuPdPf+3vJ45P02rDjHP+3gV7H7fXv4nMVPt55v4/gXOj1PvrFI0XnLB5HUvyjxgkAwDAoRQcAAAAS/PCHn9G//Jfeg1+Cr3/2z64MLAH/sz/7rDKZFwb+u48+8l6z7Rf013/9gv74jzvH+uIXX9A3vvHZyPa27e3z61/3kku53Gfa2weJo/g+v/jFF9r7C/vGNz6rr3zlH+jmzc4xDeOq/uIvosec5vgkCd7fv/k3yeszkl4bdpwD3/jGZ2UYVyNxZjIvpBqjXnMVzMN5vg/Ja18QnAvB+/izP/ts1757xfONb3TPWa/z5SxxAgAwrP+/vbsPrfs87AX+lR3HO39sfdkW7WJMDrMDvaFryLpGGZfNGjdja3xBRGlssay2KCSF9g8TeolV2iWat2IpMIJX3N5bj6KoZERm2GjMdQMJk28ZRF5KFi9kJchwsuCucmiLM5i21LbuH0dHOkdv1svRy0/5fOAQzs+/l+f3PI+I9fXzItgEAIB5fPOb1WDq5MmbuXTpekZHqyPNvvCFhSc9nTixM1/84racPHkzb711PW+9dT3nz9/IqVMtC1534cK2tLVtz4MPTubSpesZGbmR/fsnc+jQtly6NBNI7tkzmfPnb+Sxx6p7fw4O3sz58zfmXe+wds+TJ6vnDA7OrJ144sTOHDq0LY8/fj2vvvp+3npr5pkPP7xtyeHmetVPsyy1npNqMDk01JLBwZlyjo7O1NHs82dbqK1GRlY/WnE575Ekf/qnO9PTM9NOly5dz+DgzXzxi9saRqMupNZfenqqz1tqf1luOQFgJUxFBwCAWS5d2pG+vpb09U3mc597f/r4X/5lNSg6d27+a2oBUv01u3cn588nn/709oyO7khb288bruvra8nIyI2G4089tSPnzm3Pq6+25BOfqN3nenbvTl5/vbqL+f3331xwOnBfXzWUe+SR9xuO18rY0zOZRx/94fSu6Lt3J9/4xvbceeeOPPzwtoyPb190yvV61k+zLLWek6S9/ef5zd9srIPduxc+f7bltNVavsdC7XTXXcn991enni+mvr88/fTMDvdL6S/LKScArJQRmwAAMMurr1anEP/e783dJbo+4Jnvmt///bnX7NlTDZBeeWXuX797eibnhHnlcvUe//7vK9sg6LHHJueEmvVlfOihuWW8444bOXmyevxf/mXxXxPWs36aZbn1PF+w+5GPTC54/npZznv8/d9X6/PBB+e+y+7d12+5Xuhq+sta9GsAmM2ITQAAmKUWvNSCrKV4553qNa+8si2XLzdOtX333YWDnA9/eO6xauC0I9//fnLkyJKLMG3PnvmP/9M/VctRLt/M1atz//zXf736vhMTi99/PeunWVZSz++9tz3j4y25cqVavvUo560s5z2+//3qf1tbl95O9er7y3wW6y9r0a8BYDbBJgAANEFto5g332zJhz88NwDr65vMPffMHxAt5Ny55gZpp05V7/dLv3Rj3mBzLa1F/TTLfPX83e/enocfLtYEt9nvUfu+1J3cZ6vvL83U7H4NwAeXYBMAAJqgp2cyfX0t+dzn5m7ms1ns3z+Zc+dalrQDebMVoX5qaqHmyZM385nP3JgO9mo7fhdFrb3fe2/xNVNvdf3Vq9tzxx3NDTcBoBmK9U+QAACwDn7xF6tTbH/2s7kjyxYKBXfvrl7zn/+5duVard/5nep/f/zj+X8NuHChenzXrsWnLm/G+mlmWPu971Xfqz7UXC/NfI9ae1cqK/u1r1n9BQDWimATAABm+a3fqgY1Z882/nX56tXt+cIX5h+xV7vmr/96fUZDriQgrG3281d/NffXgHfeuS19fS3Zv38yd921+IjKjaqf2kjPnp7qKMSa997bnm9+c+1HUjZrc6P1eo/776+29+x2SpLR0R23DFGb1V8AYK0UZx4FAACsk0984ud57LFtU+tC7sy+fTfzH//Rkm9/uyW/8RvJuXPzX9PTU73mJz/Zmc7Om9mzZzI/+lFL/vVfWzI01JJnn139NOxqWLU9X//69nR2tuTdd1uyb9+NJU0Vri/jtWv/PX/8x5PZsaN6j0OHquHV8eNLu89G1c/g4M0cOrQtX/3qbens3Nbw3Gb5wz+czKlTLXn22dvyR39UHb353e9un96MpxnW4z3a2mbaqVbnSXLmzLacOtWSt95afKRlfZslM9cvt78AwFoRbAIAwDy++tXr2bPntvT0tKSvrzqybXDwZh555P388z/vnPeap5/+r3zqU7fn299uyac/3Tga7uTJm8sONffvnxs8tbX9PH1929LT05JTp6rPePvtpYdLTz/9X7n77ttz6ND2nD49c7ynZ3JZ619uVP088sj7+dGPdja8f+25fX2/sKSyzza7nh988P0MDt6eQ4e2pa+v+ivTY49N5hvfuJ4779wx3y2WbT3eI0n+/M9n2qn2nP37J3P+/NLaeqa/bJu+Pll+f7lVOQFgJVoqlcqa/l+ltbV1LW8PAABr6r33tufatZZlBzjvvFMNxHbunFyTjVdWWq6asbGxtLTcldtv354PfWhyxWtJblT9rPb9l+qdd25bszZM1u89ktW/S63NVtNfAKCZBJsAAPABNDY2lt27d2fnzvlHVwIAbHY2DwIAAAAACkewCQAAAAAUjmATAAAAACgcwSYAAAAAUDiCTQAAAACgcASbAAAAAEDhCDYBAAAAgMIRbAIAAAAAhSPYBAAAAAAKR7AJAAAAABSOYBMAAAAAKBzBJgAAAABQOIJNAAAAAKBwBJsAAAAAQOEINgEAAACAwhFsAgAAAACFI9gEAAAAAApHsAkAAAAAFI5gEwAAAAAoHMEmAAAAAFA4gk0AAAAAoHAEmwAAAABA4Qg2AQAAAIDCEWwCAAAAAIUj2AQAAAAACkewCQAAAAAUjmATAAAAACgcwSYAAAAAUDiCTQAAAACgcASbAAAAAEDhCDYBAAAAgMIRbAIAAAAAhSPYBAAAAAAKR7AJAAAAABSOYBMAAAAAKBzBJgAAAABQOIJNAAAAAKBwBJsAAAAAQOEINgEAAACAwhFsAgAAAACFI9gEAAAAAApHsAkAAAAAFI5gEwAAAAAoHMEmAAAAAFA4gk0AAAAAoHAEmwAAAABA4Qg2AQAAAIDCEWwCAAAAAIUj2AQAAAAACkewCQAAAAAUjmATAAAAACgcwSYAAAAAUDiCTQAAAACgcASbAAAAAEDhCDYBAAAAgMIRbAIAAAAAhSPYBAAAAAAKR7AJAAAAABSOYBMAAAAAKBzBJgAAAABQOIJNAAAAAKBwBJsAAAAAQOEINlk/F/tTKpVmPo8OZbzhhNH0l0oplboydGWDyrgs4xl6tO59VlHu0ePz1cc6lulif0ql/oyu+vmbw+jxUrpOr742AQAAgM1rcwSbV4bSVSql/+LqbzV6vDlBE80M21Jt43296b0wkYmJqc/zB9PajHuvtDyr7nOtOfj81Ltc6G1WyVZpBWWabpujaVvbwq2btkMDyeGycBMAAAC2sM0RbDbJ6PFS2t8YSGUqOKs8l3TvFW5uBuP/cDbDnQPpvm+xs9pydGIiExMv5OCu9SrZB91o+vd2J89VcnTRtimYXQfzwoXeDB8+4ucfAAAAtqitE2xe7E/7sY4MPDMzCrD1wIkMdA6ne3CrTLAtrsrl4Y0uAvMYPd6e3s6BnDiwYWNn1859RzPy1HC6n2zSqGMAAABgU9nQYHP8dFd1yvje7gwn6d1XP418eev9jVdeSzofSnv9SL8rIzl7JsmxkQ1YO7C61mHX6dHpNQ+7To/PvPPxxhJNH1/tNPqpKdalOZ/6+lxsHcbaOpeltB9LcqY75br7rM3U3plnLtz2tfocn7VW59x6Wqwum9nnlmNOmeab4v/xclpv8W7NXNczGc3IsaT3yOJLAtx6eYdblOnKULpKXRm6Muu84/O08hJ+DuacM899atoODaTjTHcGmrDMBQAAALC5bGiw2XrghepagGMD6Uga11+cWN56f5XLw9VgqHbgYn9Keyt54kJvktdS2aDpqMOH21M5MpHKcx0ZHj6SI5efqK59eOzZmcDmYn/Kh5OBsfr3X8F07CtD6ZqaVly7z8hTSdKbken6HE1/qZyzHTPnTFy4t27Kfm06+NS1nTNT+ycmJvLCckb21YV084WkM+tbzjyz8lzHorccPlxOaV8yMl3GWSPyblGXzexzy6mHIzlR95yR9J7pTnl2IHesPaUT5en6njva8FZtt9xyjaQ3HSkv2M+qQWT7sd7p+p6YOJEMrqRMw+neW07lSN36n8faG9c4XcLPwejxUsqH760rz0h6j7UvvBbsrvY81Jm8VjFmEwAAALaaLTIVfTyVN+q+ne6aCohWElTNHn3W+Fn2ZjP160qeSR46NLdE45XXkty7SMC0RFcqGU5HHvofM+Fj2/9sDHbHTz87d+rxfd0Z6BzO2X9ocvhz39HGgHVWSLqiNR07BxratbynIzlTSWXqe9PqspnuOzorEG5L+1NJ3qg0hnGdA6nUbahUHW14NiNr1HbzjnKu//PTR9J9piMDY/U/R605+OWZMi6nTL0X6tr8vvb0pjFwvGXbXRnKs8cya5Ojthy90JvU1VOj1pQ/ngwPj5iODgAAAFvMFgk2q+FFMjWi6/ITs3bcXk7QVber9DyfZYdx9aNIFyhH64En0pvetK92avGucjrSGCiNvtzbEF5VLg/PGTlZKpXTfSYZvlxZ4MabSEN91kZgzgRdTavLppoblrcfW8Jlu8q5N8PToXSz2+5W655WLg8vGnw2u0y3bLsrlQynN+2zfwbva09vXT0BAAAAHwxbJNicGrl3rD3P7qlk4ssz47mqo8A2u9pU7Ep1s6O9KxwduqucezM1XXs6QOvNyPOz1lCcNXJy+vPlNZmIvc6aVJdNM56hR8vpPlM/nbu2RMAtXKlkTu9tYtuV9yw+7X/JmlamNWy7WYE4AAAAUHxbJthsLd+bzJqGnYxnZHg4eap9GVPSmzwVfVlqo0UrGehMel9e3lY2tWnBjSFT43T82VO3t67V1WXzVFI5k3Q81738ZRGmlhaojfJtdtu1lu9dZAr30p63Nv1pgbbbVU5HejMy+2dw0bVCq8tUdOwpN7WEAAAAwMbbHMHm1EjDVYVPU+v61W+2Mr1G4DzrWi6syVPRV2QqDJsnjJneEXqhzVJuETJNT/dd6Po61dBq4eCrGBaoy2b0uSUpp9zZOC179PhSpqKPpn9fb/LUE3UbHy297ZZkagr3Qutzzv+88Qwdn/ne9DI1mNV2UxsB9e6r371+bj01uDKSs2eSe8vGawIAAMBWszmCzbTl6NhAOo61142OrA8vlqI1B5+vZCAz6/1Vd09ewe7i62z0+OyRoe157bnKvDuQL7YuYuuBExnorK1RuNBI07Ycre3K3XDO3DUNWw+8UN2Ze+/MeV2n12ALlitD6Zpus+EkM++w3OctvS6b0edG01+7dl9vqjt/T32f3vG8NQefaXxOe0bm7P5eDZHr26Ra7sbp3Etpu6WUaeZ+7U8lw4cHFnjvthydaPyZKpWOJIfqlzZYen+6ZW3esu2q/+gw8lR9H5+vnuruOdid4foNvAAAAIAto6VSqUyu5QNaW42UWi+jx0tpf6NxZ+3p48d6M7KiXeLZ2kbTv0iQXmgX+1Pa91oGxjb/P24AwEYYGxvL7t27s3Pnzo0uCgDAity20QWgWaprCS54vLMcqwwyV1uOXuhNaV85XdlC4eaVoXTt603HcxWhJgAAAGxRm2Qq+sLmTk+d5zNniu0HUWsOPj/flOByuj8+konZO6OvRt3U8YU/y5+KvFl84PrcfUczcaF3kSnpxTM62J1sxVGoAAAAwDRT0QEA4APIVHQAoOg2/YhNAAAAAIDZBJsAAAAAQOEINgEAAACAwhFsAgAAAACFI9gEAAAAAApHsAkAAAAAFI5gEwAAAAAoHMEmAAAAAFA4t210AZIkV4bStbc7916YyNH7Vner0eOltB+rfevIwNgLObhrtQVcrXfzN//3f+fxa8lX/uC5fOmeuWdcffnP8rEfjE1/bzzvzfzFM/352gJ3bzx35llVD+TFJz+bTzXjNQAAAABgk9gcwWaTjB4vpf2NgVQmDqY1yfjprpT3diUbGG5WA8vkW598IPnBS/Oe84+nD+cPfvbZ/PDJP8kdSfL6d/LRFw8nqQWWd+dLTz6XL82+8PXv5KMvVnJna+3AVKj5kaP56efvnrn3MxFuAgAAALClbJ2p6Bf7036sIwPPVEPNJGk9cCIDncPpHhzdmDK9/p18bOy388Mn/ySf+ZUFzvnxS/l6ZW++1fFANdRMkns+mxfLyddeeSlXF7z5u/mbV15Kyg/nM79WPXL15f+Tx689kBcP3D191qcOHM1X8lK+/vK7TXklAAAAANgMNjTYHD/dlVKplNLe7gwn6d1Xqn4vlVIq9Wc5ceR45bWk86G014/MvDKSs2eSHBtZ1r2a5p7P5qefrwss5zP+b/m7eQ7f+ct7k2v/lrcXuu717+Xxa3vzrd+dCTHf/slYUv5k48jM13+QryX5u7HXFwlJAQAAAKBYNjTYbD3wQiYmJjIxNpCOJL0XJqrfJyYyMXE0bcu4V+XycPLx8vRozVzsT2lvJU9c6E3yWipXml78NXXHr5QX+dOp0Zof+u387q/NHHv7Z8n/+uVfnT7r6st/lo++8t/y4idvEZICAAAAQMFskano46m8UfftdFdKJ8qpLDMcrd1r6NH6kaONn/6LTSx2ktzzyXwlY3n8/71Zd/DN/MWL86/HmST58ev522vJV+6vHw36bt6+NnPKP54+nI/95OH89PMP5M4mFxkAAAAANtr/BwPrIA3UrsFQAAAAAElFTkSuQmCC)"
      ],
      "metadata": {
        "id": "vNuzfuKb7SSO"
      }
    },
    {
      "cell_type": "code",
      "source": [
        "def step_constante(poblacion, t, sistema):\n",
        "    '''\n",
        "      Función de actualización de la población - Modelo constante\n",
        "    '''\n",
        "    pobl_cte = poblacion[t] + sistema.crecimiento_anual\n",
        "    return pobl_cte\n",
        "\n",
        "def step_proporcional(poblacion, t, sistema):\n",
        "    '''\n",
        "      Función de actualización de la población - Modelo proporcional\n",
        "    '''\n",
        "    nacimientos = sistema.tasa_nat * poblacion[t]\n",
        "    muertes = sistema.tasa_mort * poblacion[t]\n",
        "    pobl_prop = poblacion[t] + nacimientos - muertes\n",
        "    #print(\"Años y Poblaciones\", t+1, pobl_prop) #tengo guardadas los años y las poblaciones calculadas por el modelo\n",
        "    return pobl_prop"
      ],
      "metadata": {
        "id": "K_N0VfoyDqlo"
      },
      "execution_count": 91,
      "outputs": []
    },
    {
      "cell_type": "code",
      "source": [
        "def step_constante(poblacion, t, sistema):\n",
        "    '''\n",
        "      Función de actualización de la población - Modelo constante\n",
        "    '''\n",
        "    pobl_cte = poblacion[t] + sistema.crecimiento_anual\n",
        "    return pobl_cte\n",
        "\n",
        "def step_proporcional(poblacion, t, sistema):\n",
        "    '''\n",
        "      Función de actualización de la población - Modelo proporcional\n",
        "    '''\n",
        "    nacimientos = sistema.tasa_nat * poblacion[t]\n",
        "    muertes = sistema.tasa_mort * poblacion[t]\n",
        "    pobl_prop = poblacion[t] + nacimientos - muertes\n",
        "    #print(\"Años y Poblaciones\", t+1, pobl_prop) #tengo guardadas los años y las poblaciones calculadas por el modelo\n",
        "    return pobl_prop\n",
        "\n",
        "### Simulación\n",
        "def simulacion(sistema, step_fn): #la función step se pasa por parámetro y es lo que varía el tipo de simulación\n",
        "    resultado = ms.TimeSeries()\n",
        "    resultado[sistema.t_0] = sistema.p_0\n",
        "    for t in ms.linrange(sistema.t_0, sistema.t_end):\n",
        "\n",
        "        resultado[t+1] = step_fn(resultado, t, sistema)       #Acá llamo a la función step()\n",
        "\n",
        "    return resultado ##tengo guardado los años y las poblaciones calculadas por el modelo\n",
        "\n",
        "\n",
        "def plot_resultado(censo, un, resultado, titulo):\n",
        "    resultado.plot(label=\"Modelo\")\n",
        "    censo.plot(label=\"US censo\")\n",
        "    un.plot(label=\"UN censo\")\n",
        "    ms.decorate(title=titulo, xlabel='Año', ylabel='Poblacion (miles de millones)')\n",
        "\n",
        "\n",
        "t_0 = 1950\n",
        "t_end = 2016\n",
        "p_0 = censo[t_0]\n",
        "p_end = censo[t_end]\n",
        "\n",
        "diferencia_tiempo = t_end - t_0\n",
        "crecimiento_total = p_end - p_0\n",
        "crecimiento_anual = crecimiento_total / diferencia_tiempo\n",
        "\n",
        "sistema = ms.System(\n",
        "        t_0 = t_0,\n",
        "        t_end = t_end,\n",
        "        crecimiento_anual = crecimiento_anual,\n",
        "        p_0 = p_0,\n",
        "        tasa_nat = 0.027,\n",
        "        tasa_mort = 0.01)\n",
        "\n",
        "res = simulacion(sistema, step_proporcional)\n",
        "plot_resultado(censo, un, res, \"Modelo\")\n",
        "print(res) # es lo que devuelve la funcion simulacion"
      ],
      "metadata": {
        "id": "KHV1ORxf6_of",
        "colab": {
          "base_uri": "https://localhost:8080/",
          "height": 534
        },
        "outputId": "40e09036-79b4-4967-ee0c-d915f7810c17"
      },
      "execution_count": 92,
      "outputs": [
        {
          "output_type": "stream",
          "name": "stdout",
          "text": [
            "Time\n",
            "1950    2.557629\n",
            "1951    2.601108\n",
            "1952    2.645327\n",
            "1953    2.690298\n",
            "1954    2.736033\n",
            "          ...   \n",
            "2013    7.397032\n",
            "2014    7.522782\n",
            "2015    7.650669\n",
            "2016    7.780731\n",
            "2017    7.913003\n",
            "Name: Quantity, Length: 68, dtype: float64\n"
          ]
        },
        {
          "output_type": "display_data",
          "data": {
            "text/plain": [
              "<Figure size 450x300 with 1 Axes>"
            ],
            "image/png": "[encoded data removed]"
          },
          "metadata": {}
        }
      ]
    },
    {
      "cell_type": "markdown",
      "source": [
        "Encontramos una manera de simplificar las ecuaciones haciendo uso de un parámetro: *alpha*"
      ],
      "metadata": {
        "id": "iURj8Tb4Jg6g"
      }
    },
    {
      "cell_type": "markdown",
      "source": [
        "(1) nacimientos = tasa_nat * poblacion\n",
        "\n",
        "(2) muertes = tasa_mort * poblacion\n",
        "\n",
        "(3) pobl_prop = poblacion + nacimientos - muertes\n",
        "\n",
        "\n",
        "\n",
        "Reemplazo 1 y 2 en 3\n",
        "\n",
        "\n",
        "\n",
        "poblacion_proporcional = poblacion + (tasa_nat*poblacion) - (tasa_mort * poblacion)\n",
        "\n",
        "Sacando FC poblacion:\n",
        "poblacion_proporcional = poblacion + poblacion(tasa_nat - tasa_mort)\n",
        "\n",
        "A esta diferencia de contantes (tasa_nat - tasa_mort) llamamos *alpha*"
      ],
      "metadata": {
        "id": "_5aJSnQCKg03"
      }
    },
    {
      "cell_type": "markdown",
      "source": [
        "Donde agregamos el parámetro *alpha*?"
      ],
      "metadata": {
        "id": "WY6yzwUTK6sI"
      }
    },
    {
      "cell_type": "code",
      "source": [
        "alpha = sistema.tasa_nat - sistema.tasa_mort\n",
        "sistema = ms.System(\n",
        "        t_0 = t_0,\n",
        "        t_end = t_end,\n",
        "        crecimiento_anual = crecimiento_anual,\n",
        "        p_0 = p_0,\n",
        "        tasa_nat = 0.027,\n",
        "        tasa_mort = 0.01,\n",
        "        alpha = alpha)"
      ],
      "metadata": {
        "id": "eiQGqtQpJgtn"
      },
      "execution_count": 93,
      "outputs": []
    },
    {
      "cell_type": "code",
      "source": [
        "def step_proporcional_alpha(poblacion, t, sistema):\n",
        "    '''\n",
        "      Función de actualización de la población - Modelo proporcional\n",
        "    '''\n",
        "    pobl_prop = poblacion[t] + alpha * poblacion[t]\n",
        "    return pobl_prop\n",
        "\n",
        "\n",
        "def step_proporcional(poblacion, t, sistema):\n",
        "    '''\n",
        "      Función de actualización de la población - Modelo proporcional\n",
        "    '''\n",
        "    nacimientos = sistema.tasa_nat * poblacion[t]\n",
        "    muertes = sistema.tasa_mort * poblacion[t]\n",
        "    pobl_prop = poblacion[t] + nacimientos - muertes\n",
        "    return pobl_prop\n",
        "\n",
        "### Simulación\n",
        "def simulacion(sistema, step_fn):\n",
        "    resultado = ms.TimeSeries()\n",
        "    resultado[sistema.t_0] = sistema.p_0\n",
        "    for t in ms.linrange(sistema.t_0, sistema.t_end):\n",
        "        resultado[t+1] = step_fn(resultado, t, sistema)       #step()\n",
        "    return resultado\n",
        "\n",
        "\n",
        "def plot_resultado(censo, un, resultado, titulo):\n",
        "    resultado.plot(label=\"Modelo\")\n",
        "    censo.plot(label=\"US censo\")\n",
        "    un.plot(label=\"UN censo\")\n",
        "    ms.decorate(title=titulo, xlabel='Año', ylabel='Población (miles de millones)')\n",
        "\n",
        "t_0 = 1950\n",
        "t_end = 2016\n",
        "p_0 = censo[t_0]\n",
        "p_end = censo[t_end]\n",
        "\n",
        "diferencia_tiempo = t_end - t_0\n",
        "crecimiento_total = p_end - p_0\n",
        "crecimiento_anual = crecimiento_total / diferencia_tiempo\n",
        "alpha = sistema.tasa_nat - sistema.tasa_mort\n",
        "\n",
        "sistema = ms.System(\n",
        "        t_0 = t_0,\n",
        "        t_end = t_end,\n",
        "        crecimiento_anual = crecimiento_anual,\n",
        "        p_0 = p_0,\n",
        "        tasa_nat = 0.027,\n",
        "        tasa_mort = 0.01,\n",
        "        alpha = alpha)\n",
        "\n",
        "res_alpha = simulacion(sistema, step_proporcional_alpha)\n",
        "#res_prop = simulacion(sistema, step_proporcional)\n",
        "#plot_resultado(censo, un, res_prop, \"Modelo proporcional\")\n",
        "plot_resultado(censo, un, res_alpha, \"Modelo proporcional alpha\")"
      ],
      "metadata": {
        "colab": {
          "base_uri": "https://localhost:8080/",
          "height": 309
        },
        "id": "w4dfSUzQLgW4",
        "outputId": "bb2fe758-1abb-40b5-cc7d-b4e9b0fb6996"
      },
      "execution_count": 94,
      "outputs": [
        {
          "output_type": "display_data",
          "data": {
            "text/plain": [
              "<Figure size 450x300 with 1 Axes>"
            ],
            "image/png": "[encoded data removed]"
          },
          "metadata": {}
        }
      ]
    },
    {
      "cell_type": "markdown",
      "source": [
        "###Ajustando el modelo proporcional\n",
        "La curva resultante se ajusta bien hasta el año 1970. Luego la estimación y los valores históricos difieren mucho como para aceptar el modelo. Por lo tanto, para ajustar mejor la curva se agrega un nuevo parámetro.\n",
        "```\n",
        "# < 1970\n",
        "alpha1 = tasa_nat - tasa_mort\n",
        "\n",
        "# > 1970\n",
        "alpha2 = tasa_nat - tasa_mort + 0.0005\n",
        "\n",
        "alpha = 0.025\n",
        "```\n"
      ],
      "metadata": {
        "id": "c3qivB5NF_eA"
      }
    },
    {
      "cell_type": "markdown",
      "source": [
        "Agregar alpha 1 y 2 a System()"
      ],
      "metadata": {
        "id": "nQzU6wF0TxQe"
      }
    },
    {
      "cell_type": "code",
      "source": [
        "# < 1970\n",
        "alpha1 = sistema.tasa_nat - sistema.tasa_mort\n",
        "\n",
        "# > 1970\n",
        "alpha2 = sistema.tasa_nat - sistema.tasa_mort + 0.0020\n",
        "\n",
        "sistema = ms.System(\n",
        "        t_0 = t_0,\n",
        "        t_end = t_end,\n",
        "        crecimiento_anual = crecimiento_anual,\n",
        "        p_0 = p_0,\n",
        "        tasa_nat = 0.027,\n",
        "        tasa_mort = 0.01,\n",
        "        alpha = alpha,\n",
        "        alpha1 = alpha1,\n",
        "        alpha2 = alpha2)"
      ],
      "metadata": {
        "id": "Uo2rODc4Tvdn"
      },
      "execution_count": 95,
      "outputs": []
    },
    {
      "cell_type": "code",
      "source": [
        "def step_proporcional_alphas(poblacion, t, sistema):\n",
        "\n",
        "    if t < 1970:\n",
        "        crecimiento_neto = sistema.alpha1 * poblacion[t]\n",
        "    else:\n",
        "        crecimiento_neto = sistema.alpha2 * poblacion[t]\n",
        "\n",
        "\n",
        "    return poblacion[t] + crecimiento_neto\n",
        "\n",
        "res_alphas = simulacion(sistema, step_proporcional_alphas)\n",
        "plot_resultado(censo, un, res_alphas, \"Modelo proporcional alpha\")"
      ],
      "metadata": {
        "id": "K7gJT24oPN1V",
        "colab": {
          "base_uri": "https://localhost:8080/",
          "height": 309
        },
        "outputId": "21fcc029-f8d4-41e4-baa9-734bad10485b"
      },
      "execution_count": 96,
      "outputs": [
        {
          "output_type": "display_data",
          "data": {
            "text/plain": [
              "<Figure size 450x300 with 1 Axes>"
            ],
            "image/png": "[encoded data removed]"
          },
          "metadata": {}
        }
      ]
    },
    {
      "cell_type": "code",
      "source": [
        "sistema"
      ],
      "metadata": {
        "colab": {
          "base_uri": "https://localhost:8080/"
        },
        "id": "wrzR2KasZrWM",
        "outputId": "e8aae651-5754-430a-c3a3-c826c7ac1f7e"
      },
      "execution_count": 97,
      "outputs": [
        {
          "output_type": "execute_result",
          "data": {
            "text/plain": [
              "namespace(t_0=1950,\n",
              "          t_end=2016,\n",
              "          crecimiento_anual=0.07224800083333333,\n",
              "          p_0=2.557628654,\n",
              "          tasa_nat=0.027,\n",
              "          tasa_mort=0.01,\n",
              "          alpha=0.017,\n",
              "          alpha1=0.017,\n",
              "          alpha2=0.019000000000000003)"
            ]
          },
          "metadata": {},
          "execution_count": 97
        }
      ]
    },
    {
      "cell_type": "markdown",
      "source": [
        "## Modelo cuadrático\n",
        "\n"
      ],
      "metadata": {
        "id": "mfxF6RglFwgR"
      }
    },
    {
      "cell_type": "code",
      "source": [
        "def step_cuadratico(poblacion, t, sistema):\n",
        "    crecimiento_neto = sistema.alpha * poblacion[t] + sistema.beta * poblacion[t]**2\n",
        "    return poblacion[t] + crecimiento_neto\n",
        "\n",
        "\n",
        "### Simulación\n",
        "def run_simulation(sistema, step_func):\n",
        "    resultado = ms.TimeSeries()\n",
        "    resultado[sistema.t_0] = sistema.p_0\n",
        "    for t in ms.linrange(sistema.t_0, sistema.t_end):\n",
        "        resultado[t+1] = step_func(resultado, t, sistema)\n",
        "    return resultado\n",
        "\n",
        "def plot_resultado(censo, un, resultado, titulo):\n",
        "    resultado.plot(label=\"Modelo\")\n",
        "    censo.plot(label=\"US censo\")\n",
        "    un.plot(label=\"UN censo\")\n",
        "    ms.decorate(title=titulo, xlabel='Año', ylabel='Población (miles de millones)')\n",
        "\n",
        "\n",
        "t_0 = 1950\n",
        "t_end = 2016\n",
        "p_0 = censo[t_0]\n",
        "p_end = censo[t_end]\n",
        "\n",
        "diferencia_tiempo = t_end - t_0\n",
        "crecimiento_total = p_end - p_0\n",
        "crecimiento_anual = crecimiento_total / diferencia_tiempo\n",
        "\n",
        "sistema = ms.System(\n",
        "        t_0 = t_0,\n",
        "        t_end = t_end,\n",
        "        crecimiento_anual = crecimiento_anual,\n",
        "        p_0 = p_0,\n",
        "        tasa_nat = 0.027,\n",
        "        tasa_mort = 0.01)\n",
        "\n",
        "sistema.alpha = 0.025\n",
        "sistema.beta = -0.0018\n",
        "\n",
        "res = run_simulation(sistema, step_cuadratico)\n",
        "plot_resultado(censo, un, res, \"Modelo cuadrático\")"
      ],
      "metadata": {
        "colab": {
          "base_uri": "https://localhost:8080/",
          "height": 309
        },
        "id": "HNWoaSeNOuFG",
        "outputId": "d61baf91-0de6-46a7-e34e-e4ec7f0213d3"
      },
      "execution_count": 98,
      "outputs": [
        {
          "output_type": "display_data",
          "data": {
            "text/plain": [
              "<Figure size 450x300 with 1 Axes>"
            ],
            "image/png": "[encoded data removed]"
          },
          "metadata": {}
        }
      ]
    }
  ]
}