{
  "cells": [
    {
      "cell_type": "markdown",
      "metadata": {
        "id": "u2N8NrKXdExl"
      },
      "source": [
        "###Instalación de las librerías"
      ]
    },
    {
      "cell_type": "code",
      "execution_count": null,
      "metadata": {
        "colab": {
          "base_uri": "https://localhost:8080/"
        },
        "id": "C89mSeXi2FmG",
        "outputId": "33919483-6397-4730-d508-af51a056ccad"
      },
      "outputs": [
        {
          "output_type": "stream",
          "name": "stdout",
          "text": [
            "Requirement already satisfied: pint in /usr/local/lib/python3.10/dist-packages (0.23)\n",
            "Requirement already satisfied: typing-extensions in /usr/local/lib/python3.10/dist-packages (from pint) (4.11.0)\n"
          ]
        }
      ],
      "source": [
        "!pip install pint"
      ]
    },
    {
      "cell_type": "code",
      "execution_count": null,
      "metadata": {
        "id": "1p-O0U5YF3wh"
      },
      "outputs": [],
      "source": [
        "# download modsim.py if necessary\n",
        "\n",
        "from os.path import basename, exists\n",
        "\n",
        "def download(url):\n",
        "    filename = basename(url)\n",
        "    if not exists(filename):\n",
        "        from urllib.request import urlretrieve\n",
        "        local, _ = urlretrieve(url, filename)\n",
        "        print('Downloaded ' + local)\n",
        "\n",
        "download('https://github.com/AllenDowney/ModSimPy/raw/master/' +\n",
        "         'modsim.py')"
      ]
    },
    {
      "cell_type": "code",
      "execution_count": null,
      "metadata": {
        "id": "EHRnmW8yF7cP"
      },
      "outputs": [],
      "source": [
        "# import functions from modsim\n",
        "from modsim import *"
      ]
    },
    {
      "cell_type": "markdown",
      "metadata": {
        "id": "LQKP4Xl0Wbrs"
      },
      "source": [
        "https://gabdlr.github.io/leaflet-coordinates-locator/"
      ]
    },
    {
      "cell_type": "markdown",
      "metadata": {
        "id": "JcFDJ0CJ-f64"
      },
      "source": [
        "# Modelo SIR"
      ]
    },
    {
      "cell_type": "markdown",
      "metadata": {
        "id": "mmpwKqycVstC"
      },
      "source": [
        "![image.png](data:image/png;base64,iVBORw0KGgoAAAANSUhEUgAAAd4AAABbCAYAAADdlOQcAAAgAElEQVR4nO3daXDd1Z3w+e/d9/3qat932ZL3DVsYYxobAyE0ISRNku6uTtKZmqRSPdXJPJXMVD81mV6eZ6aqn6n0vEierq5k8jTZIKYNJNh4w9jGtrzLkrXvu+6+b/9754Wjf1CwwYB1ZeB8qniBZN3/0b1H53fO72yKfD6fRxAEQRCEglCudgEEQRAE4dNEBF5BEARBKCAReAVBEAShgETgFQRBEIQCEoFXEARBEApIBF5BEARBKCAReAVBEAShgETgFQRBEIQCEoFXEARBEApIBF5BEARBKCAReAVBEAShgETgFQRBEIQCEoFXEARBEApIBF5BEARBKCAReAVBEAShgETgFQRBEIQCEoFXEARBEApIBF5BEARBKCD1ahdA+PTIZrMAKJVKlErR5xME4dNJtH5CwUSjUeLxOJIkrXZRBEEQVo0Y8Qorqr+/n6NHj3Ls2DEikQi5XA673c769et5/vnnqaysRKPRrHYxhY+5UCgEgFarxWAwLPueJElEIhEUCgU6nQ69Xr8aRRQEmQi8woqZmZnh5MmTvPbaa7jdbpqamlAoFMzPz3P06FFKS0vZu3cvtbW1q11U4WPu5MmTzM/PU1VVxf79++WvS5KE1+vl3/7t32hoaGDTpk3U1dWtYkkFQaSahRU0MDDA+fPnmZ+f5y/+4i/47ne/y/e//32ee+45UqkUb731FmNjY6tdTOEToK+vj//4j//g1VdfJZ1Ok8vlAIjH4wwMDPCjH/2IixcvEo1GV7mkgiACr7CChoeHiUajdHR0sHPnTpxOJ2azmaqqKjZt2kQgECAcDq92MYVPgG3btmE0Gunt7cXv98sL+ebn5zl37hyZTIY1a9bQ2Ni4yiUVBBF4hRUUiUSQJAmbzbbs64lEgvHxcZxOJxaLZZVKJ3yStLe309jYSCKR4OTJk/LIdm5ujosXL7JhwwYqKyvRarWrXFJBEIFXWEGZTIZcLodGo0GhUBCJRDh//jyHDx8mFAqxfft2qqurV7uYwieA3W6nsbERl8slL+RLJpNMT0/T19fHjh07KCsrQ6VSrXZRBUEsrhIKx+/3c/r0aV5//XXS6TR1dXW4XK7VLpbwCaBSqWhqaqKhoYFjx47h9XqRJInx8XGi0Shbt27F4/GsdjEFARAjXqGAwuEwi4uLBINBFAoFo6Oj+P1+eSGMIHwUTU1NrFmzhrGxMYaHh+nq6mJkZISKigrWrFmD3W5f7SIKAiBGvEIBNTQ08K1vfYv9+/fz5ptv8rOf/QxJkvjCF76A0+lc7eIJH3N2u52GhgYaGhq4ceMGs7OzBINB9uzZI/buCvcVEXiFgjEYDJSXl2O1WjGbzfzud79jaGiIiYkJEXiFj0yj0VBSUkJnZyfd3d0MDQ1RX1/P7t27MRgMKBSK1S6iIAAFDLzz/hiBSIpMVhwXuBpUKiVGvZqKIgtq1erOMFgsFtasWYPNZiMcDuPz+Va1PAAz3iihaIqsJNLe94JarcRm0uG2GdBqCregye128/DDD/OP//iPLC4usnnzZtrb2++b1cz5fJ6slGcxGMcfTpLP51e7SJ9KWo0Ku1mHy2pArS58e1iwwHtpYJ5LffNEExmUCkB0PgsmnweNWkWlx8zzj7aiVhWuEcrlcmSzWbLZrLy6WZIk4vE42WwWpVKJWr36iZez3TN0jy6SSkuIgdFHk8uBSa+mtdrJno1VuO3Ggj3b4XCwfft2crkcHo+H5uZm3G53wZ5/N2LJNGd7Zrh4c+5WMyjqW0HlcnlsZh0d9R4eXFeOVa0reBkK1uL1jvq4PrxAsd2AxaRGKWpbwcTTWSYXUkzOR/j8nmYo4HRXLBZjZmaG2dlZysrKMBgMzM/P87vf/Y6ZmRk6OzvviyP8rgwtMDDho8xlxGxY/Y7Ax1kkkWY+IBGIptjUUlLQwKtQKOSOXGNjI62trQV79t3yhhL0jvnon/DTWnVrj7toDQsnGEvhDcZJZ3JsbinGavoEB95kWsKgVdJRZ6e62IRaXAtXMHOBBJcGfUwuJil0YiubzTI5Ock///M/o9PpyOfzRCIRZmZmeOihh9i5c+d9MSJJpLJYjGo2NjiocJtWuzgfayNzEW5OhokmM+Ryha1xiUSCiYkJ4vE4ZWVl1NTUFPT5d0PK5UmmJSwGNQ91FKNUIOafC6hvMsTgTIR4KstqZfoL2rU3GzTUlJhprbSt+jzjp4nJoGZsPsbkYrLgz9bpdPKNMMlkkkQiQT6fp7m5mQMHDrBu3bp33SazWmwmLbUlFhrLratdlI+1PDAXSBJLpQr+7Hg8zvDwMIlEAo/HQ2lpacHLcLcsRg2tVXZUShF4CymeyjIfTJHMrl4ZRE5NWFEmk4nGxkZ+8IMfyIFXqVTicrlQKBSiwRHuqUwmQygUoqioiIqKCrFaXrgvicArrKh8Pi8fkGE2mzGZbqVxRcAVVoLD4WDv3r20trZSXV0tjogU7ksi8AoFoxTz+sIK0+l0lJSU4HK50Ol0ooMn3JdE4BVWTFNTE/l8npKSEtEACgWhUqkwGAz3zboBQbgdEXiFFbNr1y42bdqEVqsVKT9BEITfE4FXWDEOhwO73S4WUQmCILyDCLzCihFzuoIgCO8mWkZBEARBKCAx4hU+MimXY3oxSjyV/cgnFamUChwWPR7HvTlmMJ/PMzQTQK9R47IaMOo19+R1hdU164sRjqWQ7kF9Mxu0lBeZ71HJYGIhRFbK4bGbMOo1KMU0i/BHROAVPrJURuL/efEy3cNe4qmPdhyMzaTlqc56vv7kuntSNimX5z/96wkayhx88eE21teX3JPXFVbXv79xk+OXJgjH0x/pdcwGDTvWlPF3f7njHpUMfnjwIt5wnG88sYmNjcUo1WJhobCcCLzCR6ZRKfnMznoUChibDVHlMbGjpQiDTvm+i6ryuTxzgQRXhv2MzsXYvb6Cba339pi/hVCcnvFFIsk0X3p4DevrizHq749r4oQP56H1lSRSWbpuzlLq0rO9pYgi2/vv283n80TiGS4O+hmZjdJa6+KRzVX3tGz+aJLjV8dJZSS+9vgG1tcV47AU8GYS4b53XwXeaDRKKBQiFAqRy+UwGAzY7XYcDscnZmVsNBpldnaWhYUFGhoaAJiYmMBkMlFZWYnFYnnXz/j9foaGhjAajVRUVGC32wtd7PekUirpaCgiK+W5PrTAYjBKLJmhpsROsd2A5jb3XS7dSzo8GyG9GMNm1vP4A8Vsbyujruze/n6ZbA6HSUs2k+YXJ3pJprN01Bfjtt5dOjufz5NMJolEIqhUKlwu110/O5FIMD09zeDgIGq1mo6ODoqLiz/sr3JHXq+Xubk5otEo69evR6//ZDf0zVUOpFwOh0XL+GyQZDqH1ailutiE9g4jzKyUY9obZyGYQqtRsXt9JRuaPbTV3v3neTcyUg6DVolRq+CXJ3tJpDJsbirFY/9gl28kk0mi0SjhcHjZ15VKJQaDAYvFgl6vF4sY3+HatWukUinq6+txOBz37XtzXwTefD7P9PQ04+PjzM7OEo1GyefzaDQaXC4XNTU11NXVodVqP3bBN51OEwqF0Gg0GAwGkskkU1NT9Pf343Q6SSQSnDx5kuLiYmw2220D78LCAsePH6e4uFjujHxweeKpDG/3TmM2rsw8Zw4JtUbBzakA/ZN+wokMmxpclLuMaDV/GP1KuTyptMTEYozTN+bpHg+gVCrpaPIQjCe4MnzvDteXpDyxZJq97WWsq3Xx6zMjvHZ+iGwONjWW4LK+/0ELuVwOr9dLb28vJpOJXbt23fXz5+fnOX/+PGfPnqW6upqqqqp7EnhjsRiJRAKtVovJZCIcDjM6OsrCwgJtbW2rHnizUo5wPMWlwTlmApEVeUYmm8Nq1jI6H2Z0LoQ/kkDKe6guMqPTqFAqb9W3fD5POpNj2hfnQv8ib/ctksxIVJfbSWezdI8u3NNyLYbitFQ4eGxTJf/98E2OXR4jn4cdbeU4zHf/uQSDQQYGBuR6p1aryefzKJVK9Ho9DoeDiooKKioqPpZt40o4d+4cfr8fi8WC1WoVgff9/PrXv+bs2bMoFArWrVuHWq2mv7+f2dlZSktL+fu//3uKiorui0vTP4hAIMDJkycpKiqiubkZp9NJQ0MDTqcTj8dDb28vs7OzKJVK0unbz1clk0n536Q+wo0vk4thnvq7F8n+/uzklaJRKqlwWZkNJJgPJHhqRyXlbpN85+itRjDB/zg+wsRChOlAmJvTXn55pmdFymPSa/B01vPgmjLKnGb+88+78EaSZLISj29reN+flySJsbExDh48SFlZ2QcKvNevX+fy5cvodDqefPJJKisrP8qvIhsdHWVoaAiPx0NHRwcul4u2tjZqamrQ6Qp/v+gfS6Sy9I57OXShj3g6s+LPayh2MB+MM+1N8GcP11LhNqFT3hr5Srk8C6EUB89OcGFggflglKEFP69cHFiRshi0ap5/qIlN9R5czxj4r7+5wmwghlql5NFNtXf9OrOzsxw9epSDBw/S3t6O1Woln88jSRJTU1PEYjF27tzJN7/5TUpLS8UhNdwapCwsLJBIJFa7KO9p1aNYKpXC6/Vy8eJF1q1bx5NPPimnlqPRKFeuXOHixYtMT0+j0WhIp9MkEgnq6urkHl4kEmF6epqSkhJMJhMazcqvXF26BcXn81FZWcnMzAzBYBCDwSA3folEgqGhIU6ePElDQ4PcaVAqlahUqnf1xhYXF4lGo8TjcYqLiykpKbnjyCWbzRIKhZicnCSRSGC1WuVn3OkPsMxp4n997mGM+pX92BUo0GlUzPmSDM1GOHhmkm883oRWc6tck94YPzkyREuFjcc2l2Exqle0cVYplVS6zei0KmqLLXznT9dz+MoUv3qzF28owbO7Wz7Q6+VyOTKZDLOzs2i1WsxmM4ODg6TTafkqOp1Oh9frZWpqilAohNvtJhgMUlpaisFgIB6PMzIyQjgcxmw2U1JSsmwkLEkSyWSS4eFhYrEYNpuN8vJyrFYrfr+f7u5uLl26RGNjI1arFafTiUqlWvbZp9NpwuEw4+PjZLNZHA4HJSUlWK23rj30+/3EYjE5i6JWq+WUejQapbi4GKPRSDKZZH5+nsXFRQCcTieVlZWo1eo7jrIMWhVN5Xb+5yebKbKv/OjboFHjj2QYnonwkyPD/E9PNFPmujWVEIln+B/HhnFadXxtfzNFdh3JdJb8Ct1OrVQo8NiNaFRKKovMfPXRVk7cmOHffneVSCJNmfPdWa070Wq1VFRU8JWvfIX6+nrg1gg+lUpx+PBhJiYmeOWVV/jyl7+M2WyW26XR0VFSqRRFRUWUlZUty6S9V91a+jxTqRQ+n4/p6Wny+Twul4uysjJ0Oh0zMzPkcjlcLhdGo1H+mWg0yuTkJEVFRVgsFlQqFbFYjNHRUfk5S9NpSqWSYDBIJBLBYDDg9/sBsFgs8lWOi4uLzM3NEQqFsFgs1NTUyGVc6oDMzMwwPz9PLpejsbGRbHYV7/r7AFY98OZyOZLJJD6fD5VKtawByuVyyxqlVCrFhQsXGBsb49vf/rb8gU9NTfHLX/6SJ554gsbGRnw+H+fPn0etVuNwOOQGSK/Xs3PnTvR6PcPDw5w9e5bKykqUSiXRaJRsNsv+/fux2WzMzMzQ09PDwsIC5eXlZDIZIpEIer2ezs5OVCoVN27c4PXXX6ejowNJkgiHw8TjcUwmE/v27UOj0TA2NkZ/fz+5XA63241arSadTtPX18dDDz0E3Gogx8bGgFvX6C1V+j179rB27dp3vWeBQIDBwUHOnDmD0Xircclms5w+fZpHH32U8vJytNo/XjykwKBTs6nBg81UmIVFXlcSbzjF1eHAsiYunswyPBPhiW0VtNc4sKxQ6vt2zAYN62rdJNNZLgwucvzKKEolzPgilDruLkDkcjlisRiHDx8mHo9TVVVFKBQiGAySzWapr6/nwIEDzM3NMTs7i9frRalUMjo6SkVFBVNTU1y4cIFYLIZeryeRSGAwGNi4cSOtra1oNBqGhoZ48803SSaTqFQqstksRqOR/fv3EwgEGBkZob+/H4CKigpCoRB+v5+FhQUqKipIJBJcv36dS5cuYTQa0Wg0xONxjEYju3fvpry8nP7+fkZGRigvL2fr1q2o1WoCgQC9vb309fVx4MAB1Go13d3d9PT0YLPZgFt1zWAw8MQTT8gB/4+pVEosBi0dNW6qi+/dVp33EoqmyWRzHL86RyojyV/PSHlGZiO0VtnY1ODCYSlcRsCoU7O22kk6K3H25jwvnrrJjpYKFoNxtHeRBVWpVBiNRqqrq2lsbFz2vdHRUWZnZxkZGSGbzRKJRLh27ZqcYVEoFCSTSZxOJ3v27KGoqAiFQsHg4CCnTp1aVrfMZjP79u3D4/EQDAbp6enhwoULOJ1OlEolmUwGnU7H/v37uXr1KsFgkIaGBjZv3oxarSaVSjE4OMi///u/8+d//ucoFArGx8c5ffq0XJZ0Oo1Op2Pv3r2UlpYyPj7OlStXyOfz+Hw+SktL6ejowOl0cunSJW7evEk8HsdgMBAKhfB4PKxfv561a9eSz+c5evQoQ0NDZDIZHA4Hg4ODjI6OYjYXpr59FKueAF+qWKWlpczNzXHq1CmuXLnC4OAgCwsLOBwO9uzZQ0VFBfl8np6eHt56661lr7G4uMgbb7zB1NQU8Xic/v5+XnjhBW7evMnU1BQTExP09fXR1dVFJBJhamqK06dPc+TIEYaGhpicnOT69escPXqU6elpQqEQN27c4NChQ/T09DA9Pc3U1BRXrlzhxRdfZGJignA4zNDQEIcOHeLSpUvEYjHUajV+v58XX3yR3t5eIpEI+XxeTnsolUr5ou5z586xsHBrbimdTjM5OYnX6wVu9Whv3LjBsWPHGB0dXfa75vN5JiYmeOONN+ju7pYb5Egkwm9/+1u6u7sJBAIF+OTen9umx2bSvmuvZZ5b6b9ih6GgQRduXUdo1Kl5oKWUzrYSVIocr7w9wIzv7uchlxZbnT17lhMnTjAyMoJWq0Wj0XD9+nWOHDlCOByW5+OW/lOpVPh8Prq6ujh27BiZTAaz2Uw6naanp4dDhw7h9/vxer1cuXKFw4cPk0wm0el0BAIBLl26RH9/P4lEgmw2Szqdll87EAhw8+ZNurq6SKVSDA8Pc+bMGbq6uuSLA7xeL2+//TbHjx8nHA4zMTHBlStXGBkZIZO5lXGIRqNypy4QCDA0NMSxY8cYHBxEoVCg1Wrx+/1cvHiRUCiEJEnv824Vjs2sxW3Tk73N3t5sLo/Toito0F1iMWjZ3ODhkfUVpFJpLg3MMrkYfv8f5A/XaqbTaVKpFKlUimQySTAYJBaLAcijzqXP/PLly3ImZnFxkfPnz/P2228Tj8fx+XxcvnxZrlt6vX5Z3YrFYvT19XH06FH6+vpQqVTodDrm5uY4fPgw169fZ2xsjBs3bnDu3Dn5yk+/309vby+nTp2SFxSeO3eOM2fOIEmSvA7h/PnznD59mkAgwNzcHBcuXODIkSPMzc2Ry+XkIPzqq6/S3d1NOp3GYrGQyWQ4deoUXV1dBAIBgsEgr732Gjdu3Lj1N200MjU1hc/nk+vy/WzVR7xarZaSkhIOHDjASy+9xD/90z9RU1NDW1sbra2trFmzhsbGRnQ6Hfn8+6eG0uk0i4uL+Hw+vvCFL1BRUYFKpSIUCnHhwgUsFotcyZ544gmefvppXC4XPT09HDt2jMXFRTKZDN3d3czMzPCjH/0Im82GUqmkq6uL73//+/T29sq9LqVSyY4dO+js7MTj8TA0NMSVK1fo7++npqaG9vZ2ioqK2LJlCw888AAajYbx8fF3lTufz/PMM8+wefNmvF4vtbW1/PSnP6W1tZW2tjb530mSxM2bNzlx4gTf/e532bBhA3a7ndHRUebm5rh69Soej2dFVs5+kui0KrY2FVNsN/J/H7xCJnv3894KhQKVSkUmk6G0tJR9+/bR3t5OPp8nk8nQ1dXFzMwMzc3NtLW1kclkqKur4/HHH+fs2bMMDg5SXl7ON77xDTQaDeFwmOPHj/ODH/yAJ554gmAwyODgIDU1NXz961/H6XQyPDzM1atXmZqaYt++fTQ2NjIzM0NnZyc7duxgaGiI3t5euYznzp1jfn6exx57jOeeew6tVsvNmzc5cuQIv/jFL9i1a9dd/T3Nzc3h9/v5/Oc/z+bNm3E4HHi9XgYGBjAajXf1GsKtdQYdNS6+9+xG/o+fX2LWl6S++P1Tzvl8nnQ6LWcz3jnHe+bMGaLRKA8++CBarZZTp06xsLDAI488wrPPPotSqeTGjRucOHGCF198kc2bNzM2Nsbw8DC1tbX89V//NQ6HQ65bk5OTNDc3ywOf73znO6xduxaTycTly5d54YUXOHnyJGvXriUUCnHt2jWy2SwajYaJiQnGxsbYsGEDRUVFnDlzhr6+Pvbs2cOzzz6L1WplZGSEEydO8PLLL9PW1oZSqZSzR3/1V39FS0sL4XCYa9eucfbsWb761a/y1FNPodPpyOVyfO9732NwcJAbN27IGaSnnnqKv/zLv0ShUDA7O8vw8PB9P78L90HgXbJ3715aWlqYmJiQVze//vrrvPzyy9TW1vK1r33trl5Hp9NRVlZGSUkJ//AP/0BHRwdr1qyhrq6OBx54AIvFgt/vJxQKySulAerq6nC5XBgMBq5fv47P5yORSPDaa6/J/2Z6ehqVSsXU1BQVFRUAaDQaWlpa5DScTqejrq6OWCwmz9/dTZmbm5vlS+L1ej21tbXEYjGi0ajcq4RbKx29Xi9er5fu7m557jsQCBAKhQiHw/fNiPd+p1IqsBq1tFW5SCQ+3HvmdDqpqrq1D1ShUKDX69HpdMTj8WWf25KlOSlJkvj1r3+NSqVCkiQGBgbI5XLMz88zOztLPB5fdpF7eXk5DocDSZLkuvZeFhYWkCSJmpoaeUrG7XZTXFzM9PQ0yWTyroJmVVUVRUVF/PCHP+SBBx6gvb2d+vp62tvb5RS2cHfUKgUui45ihxFf6O5GZalUitHRUf7lX/5FHvklEgkymQwtLS08+uijdHZ2ynOvIyMjGI1GfvWrX6FQKORpqZGREXlQ8l51K51OEwjc2mXQ1NQkL9Sz2WzU1tZy8eJFPB4PyWSSCxcuMD4+TnV1NRMTE8zMzLB7926sVisLCwsMDw9jMBh4+eWX0el0hMNhhoeHGRoaIh6PA7em1lpbW+Ups0gkwvDwMADd3d3kcjmUSiX5fJ6FhQVsNhsjIyMYDAYcDgc2m03+PTweDw6H47Z/d/eb+yLwKhQKnE4nFouF8vJy6uvr8fl8zM3Ncf36dfr6+jh16tSykd+dKJVKWlpa+MpXvsLQ0BCpVIq3336bc+fO0dDQwCOPPEI6nZZTtEsLnN55h+dSeker1coLaeDWxP+uXbuora2Vg6RSqcRsNqPRaFAoFCiVSkwmE5Ik3XXKQ6VSYbVa5UZMpVJhMpnkZ7+zIkmSRDabJZfLodFo5DSUVqulpaUFrVaLx+O5+zf/U8wXSXJ9zMvNyQCRxIdLT2m1WrnRWBoJq1SqO/7xp9Np8vk8Op2OTCYjp2o9Hg/79+/H7XYzNTVFLpdbVj/1ev0H2iKUSqXI5/OYzWY58Op0OvR6Pclkkmw2e8fA+86yNzQ08Nhjj+HxeMhms1y9epVr165RVFTEk08+SXFx8X27ZeN+E4qlOdc/TziRQXGXs3xqtRqXy8WuXbsoKyuTdzgcOnQIm81GU1MTDocD+EPdWlqEqlAo0Ol01NbWYrFY5PUj71W3pqamyGQycpu09G/UajVGo5FEIoFer6e8vByPx8PVq1dRqVTMzs6SSCTYunUrJpNJrts6nY5sNotCoUCj0VBRUcHDDz+My+VienoatVotL+xTKBRIkkQqlZLnhd+5WKqtrQ2n04nD4cDn86HVapdto1qa7vk41MdVD7ypVIrFxUUSiQROpxOXy4XT6QRuBRmXy8Xk5CQ9PT3yKHNpLuCP5z+W0jBut5vdu3fT2trK6Ogo/f398hzv0gIFtVpNPB6XG75YLEYwGJQ/cL1ej8FgoKmpSQ6qS8G0vLxcDpJL832SJKFSqeT/N5vNd731aWmV4lKDl8vlSCQSKJXKd60c1Wq16HQ6dDodFRUVuN1uOQAvzRneqy0rH1UsmSWVllDeZuGrUgGxRIZURkKnKfw2iEA0xfUxH6dvzmEy6NGqP1zKdKmzdbf0ej1GoxGz2UxLS4vcW5ckiY6ODqqqqhgZGZHXAyzViaXDFBKJBEVFRe/7nKU6m0wm5a+l02l5gcvS3PDSs5eCcCaTIR6Py39fdrud9evX09jYyODgoJzq6+rqkrM0Sw3/akukssSS2TvWt0QqSyKVxaArfLPnjyS5PubnyJUprCYjccvd7bnVaDRyp6y1tZVUKsX09DT9/f1ks1kCgQC5XE5us+x2OyUlJbS0tMipXEmSUCqVWK1W+bO/U91aCtz5fF5ejLe0ACsej6PT6VCr1ZSXl9Pc3ExXVxdarZZwOIzT6aSmpkaeF7bZbHg8HpqamtDr9eRyOXK5HBs3bpQzLwqFYlkbp1arMZlMKJVKSktLaWlpkb9XX1+PxWJBrVYTiUTIZrNyYF5Kyb+zM3s/W/XAuzThPjAwwNatW9mxY4fcGC2lGex2u9y7WaoEsVgMrVZLMpkkEAgQi8Xk4OP3+wkEAlRXV1NbW0tnZyeXLl3iq1/9KjMzM+h0OiwWCyMjI7S2tqLT6ZicnKSrq4uqqir5+yqVitbW1mVL4+fn5ykrK5PnESRJYnp6Wl5CH4vFmJ2dpbq6Wk4zKxQKMpkMmUzmto300taUSCRCOp0mFosxMTGBwWCQN84vsVgs2O12LBYLRUVFtLW1YbFYSKVSLCwsYLfb75DeziPlcgSjKaQCpGIUCgXT3jiBWBqLUcM7mxmNSoHFpGVyMfc1c/cAAA/rSURBVIbVqMFu0X7kyxXerywGrQq9Vv37E7Ny3Bj3cbJ7hklfnP/ra3v5fw9eW7Hnv5Pb7ZZXiq5bt06ev4pGo3i9XhwOB6WlpQwMDMiLBfV6PXNzc/T19eH1etm7dy+wvLH54xF2UVER0WiU8fFxOjo6yOVy8h7HpS1NS39PsVhM7rwGAgF5e0Y+n2dxcVGelvF4POzcuZPz58/zwx/+kJGREWpra28beJfe51A8jT+SfNf37zWlUsF8IMm0N47dpJUPz4BbQddq0uINp5hcjOGx68mt4Ny0QqFAp1Fi1N3qnKezEt3jfo5cncIXTfN0ZxuX+7zE4h98LnJpKm3fvn0cPXqU48eP09HRgcFgkLMSTqeTjRs3olKpSCQSckdKp9PJ02lLdWtp4dRS3ers7MRms5HNZhkeHqaurg69Xk8wGGRmZoaSkhKMRiNlZWW0tLTw+uuvA7fu3u7o6JDbKqfTSUlJCRaLRd6DnEql5Kkzk8l0261oBoOBsrIycrmcvMpZp9MhSRLz8/PyqHbplLZwOEwikUChULC4uEgwGLzjeQj3k1UPvEajkdbWVg4dOsTg4CA9PT00NTWhVquZn5+nq6uLgYEBvv3tb9PU1ER/fz/xeJwXXniB+vp6ZmZmOHPmDGazWe7JXb9+nYMHD/L0009TUVFBPB7n6tWrmM1mXC4XlZWVhEIhXnrpJXQ6HQ6Hg56eHs6dO8ff/u3fUldXx9TUFJcuXeLHP/6xvNWit7eXEydO8J3vfEfea5ZMJnn11VeJRqNYLBZ6enoYHx/ni1/8IlVVVczMzGA0Grl58yYul0v+uXdKp9OMjo5y6tQpQqEQ0WiUl156iZqaGnn+cIlKpaKuro6NGzfyk5/8hD/5kz+hvLyc6elpDh48yFNPPcXOnTuprq5+13OmfTH+/L8dgxXav7hEoVBg1ulwW0ysrXZxYGsFqnc0hGUuI3/2UC1vds/xStc4gVic+WBsxcpj0Gn4+r5Wnt5RTyab4/KIl0MXxjAYDPxvz++irtSOXqMGVn4P4Pr16xkeHuaNN97gN7/5DXV1dfh8Pnp6ehgbG+N73/seTU1NDA8P8/Of/5xDhw5RVVXFwMAA165dY8+ePcCtzEc6nebChQu4XK5lI1uALVu24PP5eOWVV3C73RiNRs6fP093dzdPP/00TqcTt9uNSqXirbfeor6+HpVKRXd3N8PDw3Ln9/z58xw+fJitW7fS3NyMQqHg8uXLeL1eee/n7cRTWfqnAvzNf59Gyq/8CMRtMWIzGqnxWHl+bx2ud6xeNhk0fP7BGk51z3Ps6hS+WIxQfOU6A1qNiie31vCtJzoAOD+wwPHr06Sy8F++ugfyCq4N+j7062s0Gh555BEGBgYYHR3lyJEj7N+/n23btvHb3/6Wl19+GbPZjM1mo7e3l6GhIcrLy3nuuedoaWlhZGSEX/ziFxw6dIjKykr6+/vp7u7moYceQqPR0NraysTEBP/6r//KZz7zGbRaLV1dXVy9epVvfOMb8pxwdXU1uVyOS5cu8fDDD7Nhwwa5jB0dHczOzvKb3/xGDtTj4+PyNMUzzzxz29/NarXS2tpKRUUFZ86cIZlM0tTUxPz8PIcPH2bNmjX86Z/+KevXr0er1XLhwgX0ej1lZWWcPXuWiYmJ+ybj915WPfAupUw/97nPMTY2RiKRoLe3V0591dXVsX37dnl/18aNG4lGoywsLJBOp3E4HGzZskUOana7nYaGBrZv387c3Jy8ZUev1/PNb36Turo6jEajPE+6sLCA1+tFp9Px+OOPU1NTg91uZ9OmTQCMjY0xMDAg9872799PaWmpPLeg1WrlVX6Tk5PE43Gef/552tvbsVgsuN1uDhw4wODgIMFgUN5Evm7dOjmlvrQ3zWKxMDo6SiQSoaamhl27dtHc3Ew8HqetrQ23243FYqG4uJjPfvazdHV1sbi4iN/vJ5fLyY3jnY6UdJoNfGlXy4qm2kKxFCPTIa4OLtJQamNLk4umCuuyEYjFoKajzkEsmeGtnix5FOxqr6bMZUZ9m3OdP4pcLs9/O9jFYjhJOJ5mYCbEb94eweO0srujmnV1Hgw6DUqlgvwdEgEKhQKHw0F7eztOp1P+3Dds2EB5efmynntVVRXJZBKHw4FKpaK0tJRkMklJSYl8zvOuXbvQ6XQEg0GuX7+OJEk4HA7a2tqw2WwYjUa2bdtGKpUiHA7T19dHLpdjy5YtbNmyRZ7b2759O6Ojo8zPz+Nyuaivr5cPkGlqaiKVSmG32xkcHJSnLTo7O9m5cyc2m43GxkbC4TC5XI7BwUG5bu3fvx+/3y8/Z2mP8tWrV+UU9bPPPktra+sdFw9q1SpKXRY+u6Yeh3XlDtCIJTP0jfsZmQ5R5jSxo9XD2ho7eu0fpi+0aiWtVTbiySyxZIp4WuLBHTWUu80r8rfws6M3mPbFSKSzDM6EOXZtCq1Oy+e21dJa5WZ8PnxXxztarVbq6+vJ5/PymhK4ta7E4XDQ2dlJT08P4XAYSZJoamoikUjgdrsZGRkBbnXq6+vrWbduHUajEbVazdatW0kmk4RCITlTuGXLFrZu3SpPLahUKq5duybXHaPRyDPPPMP69eux2Wyo1WqKiop47LHHmJ+fZ82aNcs6+zU1NezevRudTsfCwoK8W6Sqqop169Zht9txu920tLRgsVjkRVxqtRqn08mXvvQlBgcH8fv9XL58GUmSaG9vZ+3atfJ6mGeffZaxsTGmpqYIBoNUVlby4IMP4nA4sFgs9/URmqseeNVqNRaLhb179zIxMcHExASBQABJkrBYLFRWVtLY2IjBYJAXTpnNZnnrRHV1tdxoVVVVyWlYm81Gf38/kUgEtVqNx+Nh7dq18kKopQ9wcHCQTCZDUVERTU1N8iEXS6/b3d0t769dqih2u10+uFyn07F582bC4TALCwvo9Xra29vxeDxoNBrsdjt79uyRX7eoqAibzYbT6ZS3/OzatQuLxUIgEJDnuzdt2kRHRwdWq5VQKMS2bdvkE4asViubN2/GZrPJJ1eZTCbq6+spLy+XF/ssp8Bu1vMXj3as2E0pwWiKvnEfGqax6TRsb3XTVmV/14EdGrUKl0XJ9pYisjmYCyRpLHfx0PpKPE4Teu29q5ZZKcf/d/QG4Xia/ukgR69Nk0PFrrWVdLZXYjG+/75OlUpFcXExO3bswGAw3EpdGwzs3r172eIlgJaWFnk7l0ajoba2FqfTKQdEtVpNa2srRUVFcqO5lD5cOmNZqVTS2NiI3W6nu7ubWCyG3W6npqaG+vp6lEoltbW1qFQq3G43RUVFeDweKisrqa2tlRfLLG3tGBoaktdL1NTUyA3kUt01Go34fD6sViulpaXYbDbm5ubkkfJSRigUCqFQKHC73TQ2Nsq/4+1oNSqKHSaefbCVhop7Pwecz0MwmmRwKkAuo6DYYqS10sLGRhf2P6pvKqUCu0nL+gYnkMdpMVJb4uTBjgpqSm33/I7ms73TRGJxRucj/PbSOJmcgp3NZezdUI1Bp17WCX0vLpeLjo4OKisrl3WmlxbxdXR0yCeiqVQqnE4nmzZtorS0lMHBQVKpFDabTT58Y+mimaamJrluxeNxHA6HfB7+UpBdmrufmZkhn8/j8XhobGzE6XTK6WSbzcaBAwfwer1UVFQsy37Y7Xba29txu90MDg4Si8UwGo1UVlbS3NyMRqOR18poNJplbZZOp6Ozs5OSkhLGxsbk061aWlooKyvDZDKRz+fZs2cPw8PDTE5OArBmzRrWrl0rvxf38yIrRb5AG/H+z5+eY2YxyGd3VtFaaUOtun/flLvh8/k4ePAgP/7xjzl48CDl5eWrXaQ7Gl+IcuzKHFeHg/z4u39yzwNvPp8nlZG4PrzIW9emuDm2yBf31FDjMb9vozYfTHKhb5G3bizw1K4GtraVUua23LP6kZVy7Pqbn1HhMlJXYuOt3ln+85c72dJcitPyhwsS/pd/OUk+l+HpB6poLL99+lS4Oz3jQd6+uciUL8V3vrB5RQJvLJnh+tAiJ69OMDjp53Od1TSXW9/3ONRgNMWN8RC/enOUx7bXsbO9groyG5p7eGfuV/7rKwxP+9i3qZpD50f5zrPbeWRjDS7rrX3PA1MBfvp6L6FwjP/0XDsqJff16OyT5uKAl64BP8msgr/5/CZKXR/s1qh7YdVHvMLHX1bKc2VggcNdo6TTaf7s4TqqPcbfz5u+N5dFy+ZGF1q1klfODJNKS+zeUEmF594Gv7duTINCxd99eRdbm0uxmlb/IgHhwzt1dZK3e2ZIp9P81b56ih2GZenlO7EYtaypsvHc7hpOXpsjmsjw+PY66u9x56B3wo9Wo+Z//7NdbG0pw/4BbiUSPvlE4P2QjEYjW7ZsQaPR3PYqv0+TrJTj1LVprg15yUoSkVgGvVZ51734dDZHMJpmfD7KiStTmE26exp4LUYtO9oq+OzOJrY0lWE16lDdx2ko4f0NTAXpHvaSkSSS6Swa1d3XN0nKEUlkGZuP4o9mMBu09zTwmvQa1tV7eHZ3K9tay3BaDKK+CcuIwPsh6XQ6Ghsb32NO9dNDqYTyIjPb28rIfMg9dG4HNFS6MGjV2O7haFShgM9sb6TMZeGBtrK7un9XuP/VldpIrikjI324rXEOO1SVOtBpVDjucZ3Y3VHF1uZS9m6oochuFEFXeBcReD+kpUUIn/agC6DTqPnSo62rXYzbUimVfOuzm1e7GMI99uTOep7cWb/axbitLzz0/ifsCZ9uoismCIIgCAUkAq8gCIIgFJAIvIIgCIJQQCLwCoIgCEIBicArCIIgCAUkAq8gCIIgFJAIvIIgCIJQQAXdx5vJ5ojGMwSjaVQf87OaP07C8QzJ9P1/OfRqS2ckIvEMgej9f5/n/SwSz5DKSKz09ZMfd5msRDCaQqlUiLOaCyiayJDO5oB7dz73B1XQwBuKZbg5ESIYzSy7n1VYWd5IirnAB790+9PGH0lzYzyIN5Ra7aJ8rE374njDKURC7b0Fomm6+r0oFSLwFtLofJRANI3NvHqn2BUs8BbZDWg0am5OhRmejyGqWeFkpBxZKU9lseWuryT7tCl1mpj1RbkxHmJgOrLaxflYS2ckVColjZV2dJrVG1XcrywGDW6rnv68gtM3F1GI1rCgkmkJg15DpceCZpUyrwULvNvaSvE4jL9PQQmFplYpcVr19/Su20+S3esrqCu3kcl+uLN/heV0GhWlLhP2Fbr7+ePMZtbT2VFBRZGFXGFuZRX+iFGvprLIislwb+9ivlsFu49XEARBEAQxCSMIgiAIBSUCryAIgiAUkAi8giAIglBAIvAKgiAIQgGJwCsIgiAIBSQCryAIgiAUkAi8giAIglBAIvAKgiAIQgGJwCsIgiAIBSQCryAIgiAUkAi8giAIglBAIvAKgiAIQgGJwCsIgiAIBfT/A53Ll5ltv1XeAAAAAElFTkSuQmCC)"
      ]
    },
    {
      "cell_type": "markdown",
      "metadata": {
        "id": "-bTUjjdPhtkU"
      },
      "source": [
        "![image.png](data:image/png;base64,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)"
      ]
    },
    {
      "cell_type": "markdown",
      "metadata": {
        "id": "vhiIC2F8qGdy"
      },
      "source": [
        "Donde:\\\n",
        "β = 1 / tc\n",
        "\n",
        "γ = 1 / tr\n",
        "\n",
        "*tc* es el tiempo entre eventos de contacto (cuántos días existen entre  contactos consecutivos).\\\n",
        "*tr* es el tiempo de recuperación.\\\n",
        "*β* es la tasa de contacto.\\\n",
        "*γ* es tasa de recuperación."
      ]
    },
    {
      "cell_type": "markdown",
      "metadata": {
        "id": "DbVDv7Kbrh3r"
      },
      "source": [
        "### Modelo inicial"
      ]
    },
    {
      "cell_type": "markdown",
      "metadata": {
        "id": "0PVIyRB_9gMn"
      },
      "source": [
        "Representamos el estado inicial del sistema, con las categorías y poblaciones en cada una de ellas. Utilizamos el objeto State()"
      ]
    },
    {
      "cell_type": "code",
      "execution_count": null,
      "metadata": {
        "colab": {
          "base_uri": "https://localhost:8080/"
        },
        "id": "ld2yowCeASIj",
        "outputId": "fcebc86b-753a-4276-f1d7-5710d3707449"
      },
      "outputs": [
        {
          "output_type": "execute_result",
          "data": {
            "text/plain": [
              "s    89\n",
              "i     1\n",
              "r     0\n",
              "Name: state, dtype: int64"
            ]
          },
          "metadata": {},
          "execution_count": 271
        }
      ],
      "source": [
        "import modsim as ms\n",
        "\n",
        "estado = ms.State(s=89, i=1, r=0) #N=90 personas\n",
        "estado"
      ]
    },
    {
      "cell_type": "code",
      "execution_count": null,
      "metadata": {
        "colab": {
          "base_uri": "https://localhost:8080/"
        },
        "id": "hw2x4Hnl9vkX",
        "outputId": "8f914128-2bd5-4bdf-8d57-89fe4cd65346"
      },
      "outputs": [
        {
          "output_type": "execute_result",
          "data": {
            "text/plain": [
              "s    0.988889\n",
              "i    0.011111\n",
              "r    0.000000\n",
              "Name: state, dtype: float64"
            ]
          },
          "metadata": {},
          "execution_count": 272
        }
      ],
      "source": [
        "#Dividimos la población en cada categoría por la población total\n",
        "# para trabajar con porcentajes de población (no con cantidad de personas)\n",
        "estado = estado / estado.sum() # Se normaliza de acuerdo al número total de la población\n",
        "estado"
      ]
    },
    {
      "cell_type": "code",
      "execution_count": null,
      "metadata": {
        "id": "6YkKP3g6htJm"
      },
      "outputs": [],
      "source": [
        "tc = 3             # Tiempo entre contactos (días)\n",
        "tr = 4             # tiempo de recuperación (días)"
      ]
    },
    {
      "cell_type": "code",
      "execution_count": null,
      "metadata": {
        "id": "z3w-j5uiE8St"
      },
      "outputs": [],
      "source": [
        "beta = 1 / tc\n",
        "gamma = 1 / tr"
      ]
    },
    {
      "cell_type": "code",
      "execution_count": null,
      "metadata": {
        "id": "2GGf5lb4FKzF"
      },
      "outputs": [],
      "source": [
        "def make_system(beta, gamma):\n",
        "  estado = ms.State(s=89, i=1, r=0)\n",
        "  estado = estado / estado.sum()\n",
        "\n",
        "  return ms.System(estado=estado, t_end=7*14,     # porque considera un semestre de clases, serían 98 días.\n",
        "                beta=beta, gamma=gamma)"
      ]
    },
    {
      "cell_type": "code",
      "execution_count": null,
      "metadata": {
        "colab": {
          "base_uri": "https://localhost:8080/"
        },
        "id": "SSYLo0ENFvjN",
        "outputId": "44413660-8772-4de7-f6c2-76503e6f79b3"
      },
      "outputs": [
        {
          "output_type": "execute_result",
          "data": {
            "text/plain": [
              "namespace(estado=s    0.988889\n",
              "                 i    0.011111\n",
              "                 r    0.000000\n",
              "                 Name: state, dtype: float64,\n",
              "          t_end=98,\n",
              "          beta=0.3333333333333333,\n",
              "          gamma=0.25)"
            ]
          },
          "metadata": {},
          "execution_count": 276
        }
      ],
      "source": [
        "system = make_system(beta, gamma)\n",
        "system"
      ]
    },
    {
      "cell_type": "markdown",
      "metadata": {
        "id": "wXWjBdnIF4KM"
      },
      "source": [
        "Definimos las función de actualización, que toma el estado actual de un sistema y calcular el estado para el siguiente paso de tiempo."
      ]
    },
    {
      "cell_type": "code",
      "execution_count": null,
      "metadata": {
        "id": "d16iAMXbQDec"
      },
      "outputs": [],
      "source": [
        "def step(t, state, system):\n",
        "    s, i, r = state.s, state.i, state.r #asigna los valores que tiene state a las variables para simplificar la lectura del código.\n",
        "\n",
        "    infected = system.beta * i * s\n",
        "    recovered = system.gamma * i\n",
        "\n",
        "    s -= infected\n",
        "    i += infected - recovered\n",
        "    r += recovered\n",
        "\n",
        "    return ms.State(s=s, i=i, r=r) #actualiza el estado y lo retorna"
      ]
    },
    {
      "cell_type": "markdown",
      "metadata": {
        "id": "1QCXnPnpRsc6"
      },
      "source": [
        "Función para la simulación, calcula la función step() durante el paso de tiempo."
      ]
    },
    {
      "cell_type": "code",
      "execution_count": null,
      "metadata": {
        "id": "oJvDsBK2R60Z"
      },
      "outputs": [],
      "source": [
        "def run_simulation1(system, update_func):\n",
        "    state = system.estado #Contiene el estado incial\n",
        "\n",
        "    for t in range(0, system.t_end):\n",
        "        state = update_func(t, state, system)\n",
        "\n",
        "    return state"
      ]
    },
    {
      "cell_type": "code",
      "execution_count": null,
      "metadata": {
        "colab": {
          "base_uri": "https://localhost:8080/"
        },
        "id": "CbjwAAf6SnGR",
        "outputId": "f19a767e-e184-47af-a6e5-d591e6cc2a3b"
      },
      "outputs": [
        {
          "output_type": "execute_result",
          "data": {
            "text/plain": [
              "s    0.520568\n",
              "i    0.000666\n",
              "r    0.478766\n",
              "Name: state, dtype: float64"
            ]
          },
          "metadata": {},
          "execution_count": 279
        }
      ],
      "source": [
        "final_state = run_simulation1(system, step)\n",
        "final_state #Luego de la simulación, al final del semestre obtenemos estos estados"
      ]
    },
    {
      "cell_type": "markdown",
      "metadata": {
        "id": "sT5mu36vTcG6"
      },
      "source": [
        "Conclusión:\\\n",
        "Después de 98 días, alrededor del 52% de la población sigue siendo susceptible, lo que significa que nunca se infectaron; aproximadamente el 48% se ha recuperado, lo que significa que se infectaron en algún momento y luego se recuperaron; y menos del 1% están infectados actualmente.\\\n",
        "Si queremos conocer el números de personas que representan los porcentajes, los multiplicamos por el total de la población."
      ]
    },
    {
      "cell_type": "code",
      "execution_count": null,
      "metadata": {
        "colab": {
          "base_uri": "https://localhost:8080/"
        },
        "id": "vjKVYbqRT6xh",
        "outputId": "61b38c2f-8c19-4737-cdea-0770e0110c4f"
      },
      "outputs": [
        {
          "output_type": "execute_result",
          "data": {
            "text/plain": [
              "s    46.851127\n",
              "i     0.059923\n",
              "r    43.088950\n",
              "Name: state, dtype: float64"
            ]
          },
          "metadata": {},
          "execution_count": 280
        }
      ],
      "source": [
        "final_state*90"
      ]
    },
    {
      "cell_type": "markdown",
      "metadata": {
        "id": "uaxmT_okUvXy"
      },
      "source": [
        "\n",
        "\n",
        "*   47 personas sin infectarse.\n",
        "*   43 personas se infectaron y ya se recuperaron.\n",
        "\n",
        "\n",
        "\n"
      ]
    },
    {
      "cell_type": "markdown",
      "metadata": {
        "id": "atV4jPdKrcKE"
      },
      "source": [
        "### Series temporales"
      ]
    },
    {
      "cell_type": "markdown",
      "metadata": {
        "id": "0nAsIYsGVjRS"
      },
      "source": [
        "Para visualizar cómo se comporta el modelo entre el tiempo inicial y el final, guardamos los resultados en series temporales y las graficamos."
      ]
    },
    {
      "cell_type": "code",
      "execution_count": null,
      "metadata": {
        "colab": {
          "base_uri": "https://localhost:8080/",
          "height": 309
        },
        "id": "QH4v5DXiVhYL",
        "outputId": "1b3f6095-63c1-4bbb-b95d-de935d4212f4"
      },
      "outputs": [
        {
          "output_type": "display_data",
          "data": {
            "text/plain": [
              "<Figure size 450x300 with 1 Axes>"
            ],
            "image/png": "[encoded data removed]"
          },
          "metadata": {}
        }
      ],
      "source": [
        "import matplotlib.pyplot as plt\n",
        "\n",
        "def run_simulation2(system, update_func):\n",
        "    S = ms.TimeSeries()\n",
        "    I = ms.TimeSeries()\n",
        "    R = ms.TimeSeries()\n",
        "\n",
        "    state = system.estado\n",
        "    S[0], I[0], R[0] = state #guardamos las condiciones iniciales en la primer fila de cada serie temporal\n",
        "\n",
        "    for t in range(0, system.t_end):\n",
        "        state = update_func(t, state, system)\n",
        "        S[t+1], I[t+1], R[t+1] = state.s, state.i, state.r\n",
        "\n",
        "    return S, I, R\n",
        "\n",
        "def plot_results(S, I, R):\n",
        "    plt.plot(S, '--', label=\"Susceptibles\")\n",
        "    plt.plot(I,'-', label='Infectados')\n",
        "    plt.plot(R,':', label='Recuperados')\n",
        "    ms.decorate(xlabel='Tiempo (días)', ylabel='Fracción de la población')\n",
        "\n",
        "S, I, R = run_simulation2(system, step)\n",
        "plot_results(S, I, R)"
      ]
    },
    {
      "cell_type": "markdown",
      "metadata": {
        "id": "mKubSLdEOVie"
      },
      "source": [
        "El brote tarda unos 18 días en aparecer y unos 35 días en alcanzar su punto máximo. La fracción de la población que está infectada nunca es muy alta. ¿Cómo podríamos calcular la población total que se enfermó?"
      ]
    },
    {
      "cell_type": "markdown",
      "metadata": {
        "id": "zzDiVrpQO_YS"
      },
      "source": [
        "Sustituimos las tres series temporales por un objeto que almacena varias series temporales que comparten las mismas variables, este nuevo objeto se llama TimeFrame()."
      ]
    },
    {
      "cell_type": "code",
      "execution_count": null,
      "metadata": {
        "colab": {
          "base_uri": "https://localhost:8080/"
        },
        "id": "9WezBvujPbQU",
        "outputId": "931b502c-7296-4ce4-d1e8-b582e3300301"
      },
      "outputs": [
        {
          "output_type": "execute_result",
          "data": {
            "text/plain": [
              "Index(['s', 'i', 'r'], dtype='object')"
            ]
          },
          "metadata": {},
          "execution_count": 282
        }
      ],
      "source": [
        "system.estado.index"
      ]
    },
    {
      "cell_type": "code",
      "execution_count": null,
      "metadata": {
        "colab": {
          "base_uri": "https://localhost:8080/",
          "height": 309
        },
        "id": "u2o-YTlIWNRK",
        "outputId": "81e87406-8e52-411f-f7c3-ee5c3cad8542"
      },
      "outputs": [
        {
          "output_type": "display_data",
          "data": {
            "text/plain": [
              "<Figure size 450x300 with 1 Axes>"
            ],
            "image/png": "[encoded data removed]"
          },
          "metadata": {}
        }
      ],
      "source": [
        "def run_simulation(system, update_func):\n",
        "\n",
        "    frame = ms.TimeFrame(columns=system.estado.index) #definimos el timeFrame con columnas que serán los índices de estado.\n",
        "\n",
        "    frame.loc[0] = system.estado # en la primer fila del dataframe guardamos los valores iniciales de las variables de estado\n",
        "\n",
        "    for t in range(0, system.t_end):\n",
        "        frame.loc[t+1] = update_func(t, frame.loc[t], system) #calcula la población para el sgte. paso del tiempo con la función de actualización.\n",
        "\n",
        "    return frame\n",
        "\n",
        "results = run_simulation(system, step)\n",
        "#print(results.head())\n",
        "plot_results(results.s, results.i, results.r)"
      ]
    },
    {
      "cell_type": "code",
      "execution_count": null,
      "metadata": {
        "colab": {
          "base_uri": "https://localhost:8080/",
          "height": 206
        },
        "id": "NyuT2nZISXGo",
        "outputId": "99967e14-deaf-466c-e329-484ab7427afc"
      },
      "outputs": [
        {
          "output_type": "execute_result",
          "data": {
            "text/plain": [
              "           s         i         r\n",
              "0  89.000000  1.000000  0.000000\n",
              "1  88.670370  1.079630  0.250000\n",
              "2  88.315811  1.164282  0.519907\n",
              "3  87.934979  1.254043  0.810978\n",
              "4  87.526556  1.348955  1.124489"
            ],
            "text/html": [
              "\n",
              "  <div id=\"df-70f71879-34a6-467f-bdb2-809f117c15b3\" class=\"colab-df-container\">\n",
              "    <div>\n",
              "<style scoped>\n",
              "    .dataframe tbody tr th:only-of-type {\n",
              "        vertical-align: middle;\n",
              "    }\n",
              "\n",
              "    .dataframe tbody tr th {\n",
              "        vertical-align: top;\n",
              "    }\n",
              "\n",
              "    .dataframe thead th {\n",
              "        text-align: right;\n",
              "    }\n",
              "</style>\n",
              "<table border=\"1\" class=\"dataframe\">\n",
              "  <thead>\n",
              "    <tr style=\"text-align: right;\">\n",
              "      <th></th>\n",
              "      <th>s</th>\n",
              "      <th>i</th>\n",
              "      <th>r</th>\n",
              "    </tr>\n",
              "  </thead>\n",
              "  <tbody>\n",
              "    <tr>\n",
              "      <th>0</th>\n",
              "      <td>89.000000</td>\n",
              "      <td>1.000000</td>\n",
              "      <td>0.000000</td>\n",
              "    </tr>\n",
              "    <tr>\n",
              "      <th>1</th>\n",
              "      <td>88.670370</td>\n",
              "      <td>1.079630</td>\n",
              "      <td>0.250000</td>\n",
              "    </tr>\n",
              "    <tr>\n",
              "      <th>2</th>\n",
              "      <td>88.315811</td>\n",
              "      <td>1.164282</td>\n",
              "      <td>0.519907</td>\n",
              "    </tr>\n",
              "    <tr>\n",
              "      <th>3</th>\n",
              "      <td>87.934979</td>\n",
              "      <td>1.254043</td>\n",
              "      <td>0.810978</td>\n",
              "    </tr>\n",
              "    <tr>\n",
              "      <th>4</th>\n",
              "      <td>87.526556</td>\n",
              "      <td>1.348955</td>\n",
              "      <td>1.124489</td>\n",
              "    </tr>\n",
              "  </tbody>\n",
              "</table>\n",
              "</div>\n",
              "    <div class=\"colab-df-buttons\">\n",
              "\n",
              "  <div class=\"colab-df-container\">\n",
              "    <button class=\"colab-df-convert\" onclick=\"convertToInteractive('df-70f71879-34a6-467f-bdb2-809f117c15b3')\"\n",
              "            title=\"Convert this dataframe to an interactive table.\"\n",
              "            style=\"display:none;\">\n",
              "\n",
              "  <svg xmlns=\"http://www.w3.org/2000/svg\" height=\"24px\" viewBox=\"0 -960 960 960\">\n",
              "    <path d=\"M120-120v-720h720v720H120Zm60-500h600v-160H180v160Zm220 220h160v-160H400v160Zm0 220h160v-160H400v160ZM180-400h160v-160H180v160Zm440 0h160v-160H620v160ZM180-180h160v-160H180v160Zm440 0h160v-160H620v160Z\"/>\n",
              "  </svg>\n",
              "    </button>\n",
              "\n",
              "  <style>\n",
              "    .colab-df-container {\n",
              "      display:flex;\n",
              "      gap: 12px;\n",
              "    }\n",
              "\n",
              "    .colab-df-convert {\n",
              "      background-color: #E8F0FE;\n",
              "      border: none;\n",
              "      border-radius: 50%;\n",
              "      cursor: pointer;\n",
              "      display: none;\n",
              "      fill: #1967D2;\n",
              "      height: 32px;\n",
              "      padding: 0 0 0 0;\n",
              "      width: 32px;\n",
              "    }\n",
              "\n",
              "    .colab-df-convert:hover {\n",
              "      background-color: #E2EBFA;\n",
              "      box-shadow: 0px 1px 2px rgba(60, 64, 67, 0.3), 0px 1px 3px 1px rgba(60, 64, 67, 0.15);\n",
              "      fill: #174EA6;\n",
              "    }\n",
              "\n",
              "    .colab-df-buttons div {\n",
              "      margin-bottom: 4px;\n",
              "    }\n",
              "\n",
              "    [theme=dark] .colab-df-convert {\n",
              "      background-color: #3B4455;\n",
              "      fill: #D2E3FC;\n",
              "    }\n",
              "\n",
              "    [theme=dark] .colab-df-convert:hover {\n",
              "      background-color: #434B5C;\n",
              "      box-shadow: 0px 1px 3px 1px rgba(0, 0, 0, 0.15);\n",
              "      filter: drop-shadow(0px 1px 2px rgba(0, 0, 0, 0.3));\n",
              "      fill: #FFFFFF;\n",
              "    }\n",
              "  </style>\n",
              "\n",
              "    <script>\n",
              "      const buttonEl =\n",
              "        document.querySelector('#df-70f71879-34a6-467f-bdb2-809f117c15b3 button.colab-df-convert');\n",
              "      buttonEl.style.display =\n",
              "        google.colab.kernel.accessAllowed ? 'block' : 'none';\n",
              "\n",
              "      async function convertToInteractive(key) {\n",
              "        const element = document.querySelector('#df-70f71879-34a6-467f-bdb2-809f117c15b3');\n",
              "        const dataTable =\n",
              "          await google.colab.kernel.invokeFunction('convertToInteractive',\n",
              "                                                    [key], {});\n",
              "        if (!dataTable) return;\n",
              "\n",
              "        const docLinkHtml = 'Like what you see? Visit the ' +\n",
              "          '<a target=\"_blank\" href=https://colab.research.google.com/notebooks/data_table.ipynb>data table notebook</a>'\n",
              "          + ' to learn more about interactive tables.';\n",
              "        element.innerHTML = '';\n",
              "        dataTable['output_type'] = 'display_data';\n",
              "        await google.colab.output.renderOutput(dataTable, element);\n",
              "        const docLink = document.createElement('div');\n",
              "        docLink.innerHTML = docLinkHtml;\n",
              "        element.appendChild(docLink);\n",
              "      }\n",
              "    </script>\n",
              "  </div>\n",
              "\n",
              "\n",
              "<div id=\"df-7e09f13a-360c-4ecb-815d-b1bee2d926a5\">\n",
              "  <button class=\"colab-df-quickchart\" onclick=\"quickchart('df-7e09f13a-360c-4ecb-815d-b1bee2d926a5')\"\n",
              "            title=\"Suggest charts\"\n",
              "            style=\"display:none;\">\n",
              "\n",
              "<svg xmlns=\"http://www.w3.org/2000/svg\" height=\"24px\"viewBox=\"0 0 24 24\"\n",
              "     width=\"24px\">\n",
              "    <g>\n",
              "        <path d=\"M19 3H5c-1.1 0-2 .9-2 2v14c0 1.1.9 2 2 2h14c1.1 0 2-.9 2-2V5c0-1.1-.9-2-2-2zM9 17H7v-7h2v7zm4 0h-2V7h2v10zm4 0h-2v-4h2v4z\"/>\n",
              "    </g>\n",
              "</svg>\n",
              "  </button>\n",
              "\n",
              "<style>\n",
              "  .colab-df-quickchart {\n",
              "      --bg-color: #E8F0FE;\n",
              "      --fill-color: #1967D2;\n",
              "      --hover-bg-color: #E2EBFA;\n",
              "      --hover-fill-color: #174EA6;\n",
              "      --disabled-fill-color: #AAA;\n",
              "      --disabled-bg-color: #DDD;\n",
              "  }\n",
              "\n",
              "  [theme=dark] .colab-df-quickchart {\n",
              "      --bg-color: #3B4455;\n",
              "      --fill-color: #D2E3FC;\n",
              "      --hover-bg-color: #434B5C;\n",
              "      --hover-fill-color: #FFFFFF;\n",
              "      --disabled-bg-color: #3B4455;\n",
              "      --disabled-fill-color: #666;\n",
              "  }\n",
              "\n",
              "  .colab-df-quickchart {\n",
              "    background-color: var(--bg-color);\n",
              "    border: none;\n",
              "    border-radius: 50%;\n",
              "    cursor: pointer;\n",
              "    display: none;\n",
              "    fill: var(--fill-color);\n",
              "    height: 32px;\n",
              "    padding: 0;\n",
              "    width: 32px;\n",
              "  }\n",
              "\n",
              "  .colab-df-quickchart:hover {\n",
              "    background-color: var(--hover-bg-color);\n",
              "    box-shadow: 0 1px 2px rgba(60, 64, 67, 0.3), 0 1px 3px 1px rgba(60, 64, 67, 0.15);\n",
              "    fill: var(--button-hover-fill-color);\n",
              "  }\n",
              "\n",
              "  .colab-df-quickchart-complete:disabled,\n",
              "  .colab-df-quickchart-complete:disabled:hover {\n",
              "    background-color: var(--disabled-bg-color);\n",
              "    fill: var(--disabled-fill-color);\n",
              "    box-shadow: none;\n",
              "  }\n",
              "\n",
              "  .colab-df-spinner {\n",
              "    border: 2px solid var(--fill-color);\n",
              "    border-color: transparent;\n",
              "    border-bottom-color: var(--fill-color);\n",
              "    animation:\n",
              "      spin 1s steps(1) infinite;\n",
              "  }\n",
              "\n",
              "  @keyframes spin {\n",
              "    0% {\n",
              "      border-color: transparent;\n",
              "      border-bottom-color: var(--fill-color);\n",
              "      border-left-color: var(--fill-color);\n",
              "    }\n",
              "    20% {\n",
              "      border-color: transparent;\n",
              "      border-left-color: var(--fill-color);\n",
              "      border-top-color: var(--fill-color);\n",
              "    }\n",
              "    30% {\n",
              "      border-color: transparent;\n",
              "      border-left-color: var(--fill-color);\n",
              "      border-top-color: var(--fill-color);\n",
              "      border-right-color: var(--fill-color);\n",
              "    }\n",
              "    40% {\n",
              "      border-color: transparent;\n",
              "      border-right-color: var(--fill-color);\n",
              "      border-top-color: var(--fill-color);\n",
              "    }\n",
              "    60% {\n",
              "      border-color: transparent;\n",
              "      border-right-color: var(--fill-color);\n",
              "    }\n",
              "    80% {\n",
              "      border-color: transparent;\n",
              "      border-right-color: var(--fill-color);\n",
              "      border-bottom-color: var(--fill-color);\n",
              "    }\n",
              "    90% {\n",
              "      border-color: transparent;\n",
              "      border-bottom-color: var(--fill-color);\n",
              "    }\n",
              "  }\n",
              "</style>\n",
              "\n",
              "  <script>\n",
              "    async function quickchart(key) {\n",
              "      const quickchartButtonEl =\n",
              "        document.querySelector('#' + key + ' button');\n",
              "      quickchartButtonEl.disabled = true;  // To prevent multiple clicks.\n",
              "      quickchartButtonEl.classList.add('colab-df-spinner');\n",
              "      try {\n",
              "        const charts = await google.colab.kernel.invokeFunction(\n",
              "            'suggestCharts', [key], {});\n",
              "      } catch (error) {\n",
              "        console.error('Error during call to suggestCharts:', error);\n",
              "      }\n",
              "      quickchartButtonEl.classList.remove('colab-df-spinner');\n",
              "      quickchartButtonEl.classList.add('colab-df-quickchart-complete');\n",
              "    }\n",
              "    (() => {\n",
              "      let quickchartButtonEl =\n",
              "        document.querySelector('#df-7e09f13a-360c-4ecb-815d-b1bee2d926a5 button');\n",
              "      quickchartButtonEl.style.display =\n",
              "        google.colab.kernel.accessAllowed ? 'block' : 'none';\n",
              "    })();\n",
              "  </script>\n",
              "</div>\n",
              "    </div>\n",
              "  </div>\n"
            ],
            "application/vnd.google.colaboratory.intrinsic+json": {
              "type": "dataframe",
              "variable_name": "results",
              "summary": "{\n  \"name\": \"results\",\n  \"rows\": 99,\n  \"fields\": [\n    {\n      \"column\": \"s\",\n      \"properties\": {\n        \"dtype\": \"number\",\n        \"std\": 0.16167325199973462,\n        \"min\": 0.520568077860108,\n        \"max\": 0.9888888888888889,\n        \"num_unique_values\": 99,\n        \"samples\": [\n          0.5449909956118382,\n          0.6453280283194474,\n          0.5209754655886312\n        ],\n        \"semantic_type\": \"\",\n        \"description\": \"\"\n      }\n    },\n    {\n      \"column\": \"i\",\n      \"properties\": {\n        \"dtype\": \"number\",\n        \"std\": 0.014975721998543386,\n        \"min\": 0.0006658154673060586,\n        \"max\": 0.04375143379921393,\n        \"num_unique_values\": 99,\n        \"samples\": [\n          0.010595293782897017,\n          0.0364587768935022,\n          0.0008450586363134805\n        ],\n        \"semantic_type\": \"\",\n        \"description\": \"\"\n      }\n    },\n    {\n      \"column\": \"r\",\n      \"properties\": {\n        \"dtype\": \"number\",\n        \"std\": 0.17008930299445027,\n        \"min\": 0.0,\n        \"max\": 0.4787661066725862,\n        \"num_unique_values\": 99,\n        \"samples\": [\n          0.44441371060526513,\n          0.3182131947870505,\n          0.4781794757750556\n        ],\n        \"semantic_type\": \"\",\n        \"description\": \"\"\n      }\n    }\n  ]\n}"
            }
          },
          "metadata": {},
          "execution_count": 284
        }
      ],
      "source": [
        "results.head()*90"
      ]
    },
    {
      "cell_type": "code",
      "execution_count": null,
      "metadata": {
        "colab": {
          "base_uri": "https://localhost:8080/",
          "height": 206
        },
        "id": "FNqivvIXX1yo",
        "outputId": "53c10073-cf7f-4ec1-a5a1-7dec91a01714"
      },
      "outputs": [
        {
          "output_type": "execute_result",
          "data": {
            "text/plain": [
              "            s         i          r\n",
              "94  46.902095  0.082337  43.015569\n",
              "95  46.887792  0.076055  43.036153\n",
              "96  46.874584  0.070249  43.055167\n",
              "97  46.862388  0.064883  43.072729\n",
              "98  46.851127  0.059923  43.088950"
            ],
            "text/html": [
              "\n",
              "  <div id=\"df-a7bb7f65-c1f8-4f3f-8d08-c17f8ca59fec\" class=\"colab-df-container\">\n",
              "    <div>\n",
              "<style scoped>\n",
              "    .dataframe tbody tr th:only-of-type {\n",
              "        vertical-align: middle;\n",
              "    }\n",
              "\n",
              "    .dataframe tbody tr th {\n",
              "        vertical-align: top;\n",
              "    }\n",
              "\n",
              "    .dataframe thead th {\n",
              "        text-align: right;\n",
              "    }\n",
              "</style>\n",
              "<table border=\"1\" class=\"dataframe\">\n",
              "  <thead>\n",
              "    <tr style=\"text-align: right;\">\n",
              "      <th></th>\n",
              "      <th>s</th>\n",
              "      <th>i</th>\n",
              "      <th>r</th>\n",
              "    </tr>\n",
              "  </thead>\n",
              "  <tbody>\n",
              "    <tr>\n",
              "      <th>94</th>\n",
              "      <td>46.902095</td>\n",
              "      <td>0.082337</td>\n",
              "      <td>43.015569</td>\n",
              "    </tr>\n",
              "    <tr>\n",
              "      <th>95</th>\n",
              "      <td>46.887792</td>\n",
              "      <td>0.076055</td>\n",
              "      <td>43.036153</td>\n",
              "    </tr>\n",
              "    <tr>\n",
              "      <th>96</th>\n",
              "      <td>46.874584</td>\n",
              "      <td>0.070249</td>\n",
              "      <td>43.055167</td>\n",
              "    </tr>\n",
              "    <tr>\n",
              "      <th>97</th>\n",
              "      <td>46.862388</td>\n",
              "      <td>0.064883</td>\n",
              "      <td>43.072729</td>\n",
              "    </tr>\n",
              "    <tr>\n",
              "      <th>98</th>\n",
              "      <td>46.851127</td>\n",
              "      <td>0.059923</td>\n",
              "      <td>43.088950</td>\n",
              "    </tr>\n",
              "  </tbody>\n",
              "</table>\n",
              "</div>\n",
              "    <div class=\"colab-df-buttons\">\n",
              "\n",
              "  <div class=\"colab-df-container\">\n",
              "    <button class=\"colab-df-convert\" onclick=\"convertToInteractive('df-a7bb7f65-c1f8-4f3f-8d08-c17f8ca59fec')\"\n",
              "            title=\"Convert this dataframe to an interactive table.\"\n",
              "            style=\"display:none;\">\n",
              "\n",
              "  <svg xmlns=\"http://www.w3.org/2000/svg\" height=\"24px\" viewBox=\"0 -960 960 960\">\n",
              "    <path d=\"M120-120v-720h720v720H120Zm60-500h600v-160H180v160Zm220 220h160v-160H400v160Zm0 220h160v-160H400v160ZM180-400h160v-160H180v160Zm440 0h160v-160H620v160ZM180-180h160v-160H180v160Zm440 0h160v-160H620v160Z\"/>\n",
              "  </svg>\n",
              "    </button>\n",
              "\n",
              "  <style>\n",
              "    .colab-df-container {\n",
              "      display:flex;\n",
              "      gap: 12px;\n",
              "    }\n",
              "\n",
              "    .colab-df-convert {\n",
              "      background-color: #E8F0FE;\n",
              "      border: none;\n",
              "      border-radius: 50%;\n",
              "      cursor: pointer;\n",
              "      display: none;\n",
              "      fill: #1967D2;\n",
              "      height: 32px;\n",
              "      padding: 0 0 0 0;\n",
              "      width: 32px;\n",
              "    }\n",
              "\n",
              "    .colab-df-convert:hover {\n",
              "      background-color: #E2EBFA;\n",
              "      box-shadow: 0px 1px 2px rgba(60, 64, 67, 0.3), 0px 1px 3px 1px rgba(60, 64, 67, 0.15);\n",
              "      fill: #174EA6;\n",
              "    }\n",
              "\n",
              "    .colab-df-buttons div {\n",
              "      margin-bottom: 4px;\n",
              "    }\n",
              "\n",
              "    [theme=dark] .colab-df-convert {\n",
              "      background-color: #3B4455;\n",
              "      fill: #D2E3FC;\n",
              "    }\n",
              "\n",
              "    [theme=dark] .colab-df-convert:hover {\n",
              "      background-color: #434B5C;\n",
              "      box-shadow: 0px 1px 3px 1px rgba(0, 0, 0, 0.15);\n",
              "      filter: drop-shadow(0px 1px 2px rgba(0, 0, 0, 0.3));\n",
              "      fill: #FFFFFF;\n",
              "    }\n",
              "  </style>\n",
              "\n",
              "    <script>\n",
              "      const buttonEl =\n",
              "        document.querySelector('#df-a7bb7f65-c1f8-4f3f-8d08-c17f8ca59fec button.colab-df-convert');\n",
              "      buttonEl.style.display =\n",
              "        google.colab.kernel.accessAllowed ? 'block' : 'none';\n",
              "\n",
              "      async function convertToInteractive(key) {\n",
              "        const element = document.querySelector('#df-a7bb7f65-c1f8-4f3f-8d08-c17f8ca59fec');\n",
              "        const dataTable =\n",
              "          await google.colab.kernel.invokeFunction('convertToInteractive',\n",
              "                                                    [key], {});\n",
              "        if (!dataTable) return;\n",
              "\n",
              "        const docLinkHtml = 'Like what you see? Visit the ' +\n",
              "          '<a target=\"_blank\" href=https://colab.research.google.com/notebooks/data_table.ipynb>data table notebook</a>'\n",
              "          + ' to learn more about interactive tables.';\n",
              "        element.innerHTML = '';\n",
              "        dataTable['output_type'] = 'display_data';\n",
              "        await google.colab.output.renderOutput(dataTable, element);\n",
              "        const docLink = document.createElement('div');\n",
              "        docLink.innerHTML = docLinkHtml;\n",
              "        element.appendChild(docLink);\n",
              "      }\n",
              "    </script>\n",
              "  </div>\n",
              "\n",
              "\n",
              "<div id=\"df-9f623a07-a23c-4ef4-9d88-70a62a00d056\">\n",
              "  <button class=\"colab-df-quickchart\" onclick=\"quickchart('df-9f623a07-a23c-4ef4-9d88-70a62a00d056')\"\n",
              "            title=\"Suggest charts\"\n",
              "            style=\"display:none;\">\n",
              "\n",
              "<svg xmlns=\"http://www.w3.org/2000/svg\" height=\"24px\"viewBox=\"0 0 24 24\"\n",
              "     width=\"24px\">\n",
              "    <g>\n",
              "        <path d=\"M19 3H5c-1.1 0-2 .9-2 2v14c0 1.1.9 2 2 2h14c1.1 0 2-.9 2-2V5c0-1.1-.9-2-2-2zM9 17H7v-7h2v7zm4 0h-2V7h2v10zm4 0h-2v-4h2v4z\"/>\n",
              "    </g>\n",
              "</svg>\n",
              "  </button>\n",
              "\n",
              "<style>\n",
              "  .colab-df-quickchart {\n",
              "      --bg-color: #E8F0FE;\n",
              "      --fill-color: #1967D2;\n",
              "      --hover-bg-color: #E2EBFA;\n",
              "      --hover-fill-color: #174EA6;\n",
              "      --disabled-fill-color: #AAA;\n",
              "      --disabled-bg-color: #DDD;\n",
              "  }\n",
              "\n",
              "  [theme=dark] .colab-df-quickchart {\n",
              "      --bg-color: #3B4455;\n",
              "      --fill-color: #D2E3FC;\n",
              "      --hover-bg-color: #434B5C;\n",
              "      --hover-fill-color: #FFFFFF;\n",
              "      --disabled-bg-color: #3B4455;\n",
              "      --disabled-fill-color: #666;\n",
              "  }\n",
              "\n",
              "  .colab-df-quickchart {\n",
              "    background-color: var(--bg-color);\n",
              "    border: none;\n",
              "    border-radius: 50%;\n",
              "    cursor: pointer;\n",
              "    display: none;\n",
              "    fill: var(--fill-color);\n",
              "    height: 32px;\n",
              "    padding: 0;\n",
              "    width: 32px;\n",
              "  }\n",
              "\n",
              "  .colab-df-quickchart:hover {\n",
              "    background-color: var(--hover-bg-color);\n",
              "    box-shadow: 0 1px 2px rgba(60, 64, 67, 0.3), 0 1px 3px 1px rgba(60, 64, 67, 0.15);\n",
              "    fill: var(--button-hover-fill-color);\n",
              "  }\n",
              "\n",
              "  .colab-df-quickchart-complete:disabled,\n",
              "  .colab-df-quickchart-complete:disabled:hover {\n",
              "    background-color: var(--disabled-bg-color);\n",
              "    fill: var(--disabled-fill-color);\n",
              "    box-shadow: none;\n",
              "  }\n",
              "\n",
              "  .colab-df-spinner {\n",
              "    border: 2px solid var(--fill-color);\n",
              "    border-color: transparent;\n",
              "    border-bottom-color: var(--fill-color);\n",
              "    animation:\n",
              "      spin 1s steps(1) infinite;\n",
              "  }\n",
              "\n",
              "  @keyframes spin {\n",
              "    0% {\n",
              "      border-color: transparent;\n",
              "      border-bottom-color: var(--fill-color);\n",
              "      border-left-color: var(--fill-color);\n",
              "    }\n",
              "    20% {\n",
              "      border-color: transparent;\n",
              "      border-left-color: var(--fill-color);\n",
              "      border-top-color: var(--fill-color);\n",
              "    }\n",
              "    30% {\n",
              "      border-color: transparent;\n",
              "      border-left-color: var(--fill-color);\n",
              "      border-top-color: var(--fill-color);\n",
              "      border-right-color: var(--fill-color);\n",
              "    }\n",
              "    40% {\n",
              "      border-color: transparent;\n",
              "      border-right-color: var(--fill-color);\n",
              "      border-top-color: var(--fill-color);\n",
              "    }\n",
              "    60% {\n",
              "      border-color: transparent;\n",
              "      border-right-color: var(--fill-color);\n",
              "    }\n",
              "    80% {\n",
              "      border-color: transparent;\n",
              "      border-right-color: var(--fill-color);\n",
              "      border-bottom-color: var(--fill-color);\n",
              "    }\n",
              "    90% {\n",
              "      border-color: transparent;\n",
              "      border-bottom-color: var(--fill-color);\n",
              "    }\n",
              "  }\n",
              "</style>\n",
              "\n",
              "  <script>\n",
              "    async function quickchart(key) {\n",
              "      const quickchartButtonEl =\n",
              "        document.querySelector('#' + key + ' button');\n",
              "      quickchartButtonEl.disabled = true;  // To prevent multiple clicks.\n",
              "      quickchartButtonEl.classList.add('colab-df-spinner');\n",
              "      try {\n",
              "        const charts = await google.colab.kernel.invokeFunction(\n",
              "            'suggestCharts', [key], {});\n",
              "      } catch (error) {\n",
              "        console.error('Error during call to suggestCharts:', error);\n",
              "      }\n",
              "      quickchartButtonEl.classList.remove('colab-df-spinner');\n",
              "      quickchartButtonEl.classList.add('colab-df-quickchart-complete');\n",
              "    }\n",
              "    (() => {\n",
              "      let quickchartButtonEl =\n",
              "        document.querySelector('#df-9f623a07-a23c-4ef4-9d88-70a62a00d056 button');\n",
              "      quickchartButtonEl.style.display =\n",
              "        google.colab.kernel.accessAllowed ? 'block' : 'none';\n",
              "    })();\n",
              "  </script>\n",
              "</div>\n",
              "    </div>\n",
              "  </div>\n"
            ],
            "application/vnd.google.colaboratory.intrinsic+json": {
              "type": "dataframe",
              "summary": "{\n  \"name\": \"results\",\n  \"rows\": 5,\n  \"fields\": [\n    {\n      \"column\": \"s\",\n      \"properties\": {\n        \"dtype\": \"number\",\n        \"std\": 0.02015638549037619,\n        \"min\": 46.851127007409715,\n        \"max\": 46.90209471716214,\n        \"num_unique_values\": 5,\n        \"samples\": [\n          46.88779190297681,\n          46.851127007409715,\n          46.87458425848171\n        ],\n        \"semantic_type\": \"\",\n        \"description\": \"\"\n      }\n    },\n    {\n      \"column\": \"i\",\n      \"properties\": {\n        \"dtype\": \"number\",\n        \"std\": 0.008863807913381153,\n        \"min\": 0.05992339205754527,\n        \"max\": 0.08233661744383299,\n        \"num_unique_values\": 5,\n        \"samples\": [\n          0.07605527726821325,\n          0.05992339205754527,\n          0.07024910244625321\n        ],\n        \"semantic_type\": \"\",\n        \"description\": \"\"\n      }\n    },\n    {\n      \"column\": \"r\",\n      \"properties\": {\n        \"dtype\": \"number\",\n        \"std\": 0.029020192483606325,\n        \"min\": 43.01556866539404,\n        \"max\": 43.08894960053276,\n        \"num_unique_values\": 5,\n        \"samples\": [\n          43.036152819755,\n          43.08894960053276,\n          43.055166639072056\n        ],\n        \"semantic_type\": \"\",\n        \"description\": \"\"\n      }\n    }\n  ]\n}"
            }
          },
          "metadata": {},
          "execution_count": 285
        }
      ],
      "source": [
        "results.tail()*90"
      ]
    },
    {
      "cell_type": "markdown",
      "metadata": {
        "id": "zw2DB2xVVJIG"
      },
      "source": [
        "### ¿Cómo podríamos calcular la población total que se enfermó?"
      ]
    },
    {
      "cell_type": "code",
      "execution_count": null,
      "metadata": {
        "colab": {
          "base_uri": "https://localhost:8080/"
        },
        "id": "8x_11R4LYJHU",
        "outputId": "eb58c257-f569-4e1e-b055-0d50dcdca0c6"
      },
      "outputs": [
        {
          "output_type": "execute_result",
          "data": {
            "text/plain": [
              "42"
            ]
          },
          "metadata": {},
          "execution_count": 286
        }
      ],
      "source": [
        "89-47"
      ]
    },
    {
      "cell_type": "code",
      "execution_count": null,
      "metadata": {
        "colab": {
          "base_uri": "https://localhost:8080/"
        },
        "id": "EH1Az4YNVLbp",
        "outputId": "b1f78936-7c6e-436d-d8af-71ebc717eb8b"
      },
      "outputs": [
        {
          "output_type": "execute_result",
          "data": {
            "text/plain": [
              "0.9888888888888889"
            ]
          },
          "metadata": {},
          "execution_count": 287
        }
      ],
      "source": [
        "results.s.loc[0]"
      ]
    },
    {
      "cell_type": "code",
      "execution_count": null,
      "metadata": {
        "colab": {
          "base_uri": "https://localhost:8080/"
        },
        "id": "GR346Q_uVVBJ",
        "outputId": "efe6033f-424e-4502-8945-ff0b20d7bf74"
      },
      "outputs": [
        {
          "output_type": "execute_result",
          "data": {
            "text/plain": [
              "0.520568077860108"
            ]
          },
          "metadata": {},
          "execution_count": 288
        }
      ],
      "source": [
        "results.s.loc[system.t_end]"
      ]
    },
    {
      "cell_type": "code",
      "execution_count": null,
      "metadata": {
        "colab": {
          "base_uri": "https://localhost:8080/"
        },
        "id": "BJRxcgNVWN_z",
        "outputId": "989f35b2-bccf-49a1-dc6e-3e0b61dc9d90"
      },
      "outputs": [
        {
          "output_type": "execute_result",
          "data": {
            "text/plain": [
              "0.520568077860108"
            ]
          },
          "metadata": {},
          "execution_count": 289
        }
      ],
      "source": [
        "results.s[system.t_end]"
      ]
    },
    {
      "cell_type": "code",
      "execution_count": null,
      "metadata": {
        "colab": {
          "base_uri": "https://localhost:8080/"
        },
        "id": "4wEXqjTQVpfy",
        "outputId": "86b6d7a4-bbc4-46f4-bbe5-51e0917ada41"
      },
      "outputs": [
        {
          "output_type": "execute_result",
          "data": {
            "text/plain": [
              "42.14887299259029"
            ]
          },
          "metadata": {},
          "execution_count": 290
        }
      ],
      "source": [
        "#opción 1\n",
        "s_inicial = results.s.loc[0]\n",
        "s_final = results.s.loc[system.t_end]\n",
        "s_total = s_inicial - s_final\n",
        "s_total*90"
      ]
    },
    {
      "cell_type": "code",
      "execution_count": null,
      "metadata": {
        "colab": {
          "base_uri": "https://localhost:8080/"
        },
        "id": "mxY4dxRoW8x8",
        "outputId": "18b455c9-e5f1-481f-8c0c-350e61afac33"
      },
      "outputs": [
        {
          "output_type": "execute_result",
          "data": {
            "text/plain": [
              "43.1488729925903"
            ]
          },
          "metadata": {},
          "execution_count": 291
        }
      ],
      "source": [
        "r_final = results.r.loc[system.t_end]\n",
        "i_final = results.i.loc[system.t_end]\n",
        "(r_final + i_final)*90"
      ]
    },
    {
      "cell_type": "markdown",
      "metadata": {
        "id": "lUwqiDBGZz6M"
      },
      "source": [
        "## Ejercicio\n",
        "1. Suponga que el tiempo entre contactos es de 4 días y el tiempo de recuperación es de 5 días. Al final del semestre, ¿cuántos estudiantes, en total, se han infectado?\n",
        "2. Suponga que el tiempo entre contactos es de 2 días y la tasa de recuperación es de 6 días. ¿Cómo se comporta el modelo?¿cuántos estudiantes, en total, se han infectado?\n",
        "3. Realice una simulación estableciendo tasas que lleven a un comportamiento del modelo que le interese destacar.  "
      ]
    },
    {
      "cell_type": "markdown",
      "metadata": {
        "id": "NL9l5N8Co_zY"
      },
      "source": [
        "### Caso 1\n",
        "\n",
        "Realizamos la simulacion con un tiempo entre contactos de 4 días y un tiempo de recuperación de 5 días."
      ]
    },
    {
      "cell_type": "code",
      "execution_count": null,
      "metadata": {
        "id": "c8MG6OZK4nEF"
      },
      "outputs": [],
      "source": [
        "tc = 4             # Tiempo entre contactos (días)\n",
        "tr = 5             # Tiempo de recuperación (días)"
      ]
    },
    {
      "cell_type": "code",
      "execution_count": 296,
      "metadata": {
        "colab": {
          "base_uri": "https://localhost:8080/"
        },
        "id": "SW6Ix5_qwvS5",
        "outputId": "f5b39a03-db27-4bfb-ae3a-8ed8f40483a6"
      },
      "outputs": [
        {
          "output_type": "execute_result",
          "data": {
            "text/plain": [
              "s    0.610171\n",
              "i    0.004672\n",
              "r    0.385157\n",
              "Name: state, dtype: float64"
            ]
          },
          "metadata": {},
          "execution_count": 296
        }
      ],
      "source": [
        "b = 1 / tc\n",
        "g = 1 / tr\n",
        "\n",
        "# Realiza el sistema\n",
        "def make_system(beta, gamma):\n",
        "  estado = ms.State(s=89, i=1, r=0)\n",
        "  estado = estado / estado.sum()\n",
        "\n",
        "  return ms.System(estado=estado, t_end=7*14,\n",
        "                beta=beta, gamma=gamma)\n",
        "\n",
        "# Actualiza los estados\n",
        "def step(t, state, system):\n",
        "    s, i, r = state.s, state.i, state.r\n",
        "\n",
        "    infected = system.beta * i * s\n",
        "    recovered = system.gamma * i\n",
        "\n",
        "    s -= infected\n",
        "    i += infected - recovered\n",
        "    r += recovered\n",
        "\n",
        "    return ms.State(s=s, i=i, r=r)\n",
        "\n",
        "# Corremos la simulación\n",
        "def run_simulation(system, update_func):\n",
        "    state = system.estado\n",
        "\n",
        "    for t in range(0, system.t_end):\n",
        "        state = update_func(t, state, system)\n",
        "\n",
        "    return state\n",
        "\n",
        "# Corremos la simulacion utilizando series temporales para luego poder visualizarlas\n",
        "def run_simulation_ts(system, update_func):\n",
        "    S = ms.TimeSeries()\n",
        "    I = ms.TimeSeries()\n",
        "    R = ms.TimeSeries()\n",
        "\n",
        "    state = system.estado\n",
        "    S[0], I[0], R[0] = state\n",
        "\n",
        "    for t in range(0, system.t_end):\n",
        "        state = update_func(t, state, system)\n",
        "        S[t+1], I[t+1], R[t+1] = state.s, state.i, state.r\n",
        "\n",
        "    return S, I, R\n",
        "\n",
        "system = make_system(b, g)\n",
        "results = run_simulation(system, step)\n",
        "S, I, R = run_simulation_ts(system, step)\n",
        "results"
      ]
    },
    {
      "cell_type": "markdown",
      "metadata": {
        "id": "NT3RcWjpsv_g"
      },
      "source": [
        "Conclusion: tenemos una simulación bastante uniforme con respecto a las tasas de contacto y recuperación. El resultado es que un 38% de la población se infecto y teniendo una recuperacion exitosa. Mientras que un 61% nunca se infecto."
      ]
    },
    {
      "cell_type": "code",
      "source": [
        "# Ploteamos los resultados\n",
        "def plot_results(S, I, R):\n",
        "    plt.plot(S, '--', label=\"Susceptibles\")\n",
        "    plt.plot(I,'-', label='Infectados')\n",
        "    plt.plot(R,':', label='Recuperados')\n",
        "    ms.decorate(xlabel='Tiempo (días)', ylabel='Fracción de la población')\n",
        "\n",
        "plot_results(S, I, R)"
      ],
      "metadata": {
        "colab": {
          "base_uri": "https://localhost:8080/",
          "height": 309
        },
        "id": "hV1hnC64Dyjm",
        "outputId": "712b206e-4bbc-4877-aff5-c8e45755ddde"
      },
      "execution_count": 297,
      "outputs": [
        {
          "output_type": "display_data",
          "data": {
            "text/plain": [
              "<Figure size 450x300 with 1 Axes>"
            ],
            "image/png": "[encoded data removed]"
          },
          "metadata": {}
        }
      ]
    },
    {
      "cell_type": "code",
      "execution_count": 298,
      "metadata": {
        "colab": {
          "base_uri": "https://localhost:8080/"
        },
        "id": "__0iObyKsrZF",
        "outputId": "8b6cf3c2-04a6-4f8b-c22d-dfa0079292b6"
      },
      "outputs": [
        {
          "output_type": "execute_result",
          "data": {
            "text/plain": [
              "s    54.915403\n",
              "i     0.420483\n",
              "r    34.664114\n",
              "Name: state, dtype: float64"
            ]
          },
          "metadata": {},
          "execution_count": 298
        }
      ],
      "source": [
        "results*90"
      ]
    },
    {
      "cell_type": "markdown",
      "metadata": {
        "id": "cexTNu83s1oT"
      },
      "source": [
        "Resultados:\n",
        "\n",
        "* 55 personas sin infectarse\n",
        "* 35 personas que se infectaron y ya se recuperaron."
      ]
    },
    {
      "cell_type": "markdown",
      "metadata": {
        "id": "H8JH7xBysZIn"
      },
      "source": [
        "### Caso 2\n",
        "\n",
        "Realizamos la simulacion con un tiempo entre contactos de 2 días y un tiempo de recuperación de 6 días."
      ]
    },
    {
      "cell_type": "code",
      "execution_count": 300,
      "metadata": {
        "id": "8Sz8z4w_5P11"
      },
      "outputs": [],
      "source": [
        "tc = 2             # Tiempo entre contactos (días)\n",
        "tr = 6             # Tiempo de recuperación (días)"
      ]
    },
    {
      "cell_type": "code",
      "execution_count": 301,
      "metadata": {
        "colab": {
          "base_uri": "https://localhost:8080/"
        },
        "id": "jAwTI3KC9Xm2",
        "outputId": "ceb90d9f-6f12-4239-edce-2ad56b18db0d"
      },
      "outputs": [
        {
          "output_type": "execute_result",
          "data": {
            "text/plain": [
              "s    0.048185\n",
              "i    0.000003\n",
              "r    0.951812\n",
              "Name: state, dtype: float64"
            ]
          },
          "metadata": {},
          "execution_count": 301
        }
      ],
      "source": [
        "b = 1 / tc\n",
        "g = 1 / tr\n",
        "\n",
        "# Realiza el sistema\n",
        "def make_system(beta, gamma):\n",
        "  estado = ms.State(s=89, i=1, r=0)\n",
        "  estado = estado / estado.sum()\n",
        "\n",
        "  return ms.System(estado=estado, t_end=7*14,\n",
        "                beta=beta, gamma=gamma)\n",
        "\n",
        "# Actualiza los estados\n",
        "def step(t, state, system):\n",
        "    s, i, r = state.s, state.i, state.r\n",
        "\n",
        "    infected = system.beta * i * s\n",
        "    recovered = system.gamma * i\n",
        "\n",
        "    s -= infected\n",
        "    i += infected - recovered\n",
        "    r += recovered\n",
        "\n",
        "    return ms.State(s=s, i=i, r=r)\n",
        "\n",
        "# Corremos la simulación\n",
        "def run_simulation(system, update_func):\n",
        "    state = system.estado\n",
        "\n",
        "    for t in range(0, system.t_end):\n",
        "        state = update_func(t, state, system)\n",
        "\n",
        "    return state\n",
        "\n",
        "# Corremos la simulacion utilizando series temporales para luego poder visualizarlas\n",
        "def run_simulation_ts(system, update_func):\n",
        "    S = ms.TimeSeries()\n",
        "    I = ms.TimeSeries()\n",
        "    R = ms.TimeSeries()\n",
        "\n",
        "    state = system.estado\n",
        "    S[0], I[0], R[0] = state\n",
        "\n",
        "    for t in range(0, system.t_end):\n",
        "        state = update_func(t, state, system)\n",
        "        S[t+1], I[t+1], R[t+1] = state.s, state.i, state.r\n",
        "\n",
        "    return S, I, R\n",
        "\n",
        "system = make_system(b, g)\n",
        "results = run_simulation(system, step)\n",
        "S, I, R = run_simulation_ts(system, step)\n",
        "results"
      ]
    },
    {
      "cell_type": "code",
      "execution_count": 302,
      "metadata": {
        "colab": {
          "base_uri": "https://localhost:8080/",
          "height": 309
        },
        "id": "B-bJVHSi9brl",
        "outputId": "b045a235-0e32-41f6-c0ef-fba14c9a49d8"
      },
      "outputs": [
        {
          "output_type": "display_data",
          "data": {
            "text/plain": [
              "<Figure size 450x300 with 1 Axes>"
            ],
            "image/png": "[encoded data removed]"
          },
          "metadata": {}
        }
      ],
      "source": [
        "# Ploteamos los resultados\n",
        "def plot_results(S, I, R):\n",
        "    plt.plot(S, '--', label=\"Susceptibles\")\n",
        "    plt.plot(I,'-', label='Infectados')\n",
        "    plt.plot(R,':', label='Recuperados')\n",
        "    ms.decorate(xlabel='Tiempo (días)', ylabel='Fracción de la población')\n",
        "\n",
        "plot_results(S, I, R)"
      ]
    },
    {
      "cell_type": "markdown",
      "metadata": {
        "id": "s7KpNt6QJZDP"
      },
      "source": [
        "Conclusion: tenemos un mayor porcentaje de infectados con respecto a un determinado tiempo (alrededor de 17 días), porque la mayor parte de la población se infecta. Vemos que un gran porcentaje de la población (95%) logra recuperarse con exito en su totalidad."
      ]
    },
    {
      "cell_type": "code",
      "execution_count": 303,
      "metadata": {
        "colab": {
          "base_uri": "https://localhost:8080/"
        },
        "id": "38qKArP2K15H",
        "outputId": "0804c76b-7d7f-458c-d05c-d8f20a4a41de"
      },
      "outputs": [
        {
          "output_type": "execute_result",
          "data": {
            "text/plain": [
              "s     4.336638\n",
              "i     0.000247\n",
              "r    85.663116\n",
              "Name: state, dtype: float64"
            ]
          },
          "metadata": {},
          "execution_count": 303
        }
      ],
      "source": [
        "results*90"
      ]
    },
    {
      "cell_type": "markdown",
      "metadata": {
        "id": "cVifco9MLIJv"
      },
      "source": [
        "Resultados:\n",
        "\n",
        "* 4 personas sin infectarse\n",
        "* 86 personas se infectaron y ya se recuperaron."
      ]
    },
    {
      "cell_type": "markdown",
      "metadata": {
        "id": "oBPzvpJwtOsY"
      },
      "source": [
        "### Caso 3\n",
        "\n",
        "Para este caso final realizaremos una simulación con un tiempo entre contactos de 5 días y un tiempo de recuperación de 10 días."
      ]
    },
    {
      "cell_type": "code",
      "execution_count": 305,
      "metadata": {
        "id": "v5U37D4lA9JL"
      },
      "outputs": [],
      "source": [
        "tc = 5             # Tiempo entre contactos (días)\n",
        "tr = 10            # Tiempo de recuperación (días)"
      ]
    },
    {
      "cell_type": "code",
      "execution_count": 306,
      "metadata": {
        "colab": {
          "base_uri": "https://localhost:8080/"
        },
        "id": "e72DN5BRBAfH",
        "outputId": "943f196b-3179-40a2-ba9a-b3d289217219"
      },
      "outputs": [
        {
          "output_type": "execute_result",
          "data": {
            "text/plain": [
              "s    0.203216\n",
              "i    0.014568\n",
              "r    0.782216\n",
              "Name: state, dtype: float64"
            ]
          },
          "metadata": {},
          "execution_count": 306
        }
      ],
      "source": [
        "b = 1 / tc\n",
        "g = 1 / tr\n",
        "\n",
        "# Realiza el sistema\n",
        "def make_system(beta, gamma):\n",
        "  estado = ms.State(s=89, i=1, r=0)\n",
        "  estado = estado / estado.sum()\n",
        "\n",
        "  return ms.System(estado=estado, t_end=7*14,\n",
        "                beta=beta, gamma=gamma)\n",
        "\n",
        "# Actualiza los estados\n",
        "def step(t, state, system):\n",
        "    s, i, r = state.s, state.i, state.r\n",
        "\n",
        "    infected = system.beta * i * s\n",
        "    recovered = system.gamma * i\n",
        "\n",
        "    s -= infected\n",
        "    i += infected - recovered\n",
        "    r += recovered\n",
        "\n",
        "    return ms.State(s=s, i=i, r=r)\n",
        "\n",
        "# Corremos la simulación\n",
        "def run_simulation(system, update_func):\n",
        "    state = system.estado\n",
        "\n",
        "    for t in range(0, system.t_end):\n",
        "        state = update_func(t, state, system)\n",
        "\n",
        "    return state\n",
        "\n",
        "# Corremos la simulacion utilizando series temporales para luego poder visualizarlas\n",
        "def run_simulation_ts(system, update_func):\n",
        "    S = ms.TimeSeries()\n",
        "    I = ms.TimeSeries()\n",
        "    R = ms.TimeSeries()\n",
        "\n",
        "    state = system.estado\n",
        "    S[0], I[0], R[0] = state\n",
        "\n",
        "    for t in range(0, system.t_end):\n",
        "        state = update_func(t, state, system)\n",
        "        S[t+1], I[t+1], R[t+1] = state.s, state.i, state.r\n",
        "\n",
        "    return S, I, R\n",
        "\n",
        "system = make_system(b, g)\n",
        "results = run_simulation(system, step)\n",
        "S, I, R = run_simulation_ts(system, step)\n",
        "results"
      ]
    },
    {
      "cell_type": "code",
      "execution_count": null,
      "metadata": {
        "colab": {
          "base_uri": "https://localhost:8080/",
          "height": 309
        },
        "id": "ybpEO2E2CH3d",
        "outputId": "585d3b0c-e604-4dc9-f3ee-95303fea0ed9"
      },
      "outputs": [
        {
          "data": {
            "image/png": "[encoded data removed]",
            "text/plain": [
              "<Figure size 450x300 with 1 Axes>"
            ]
          },
          "metadata": {},
          "output_type": "display_data"
        }
      ],
      "source": [
        "# Ploteamos los resultados\n",
        "def plot_results(S, I, R):\n",
        "    plt.plot(S, '--', label=\"Susceptibles\")\n",
        "    plt.plot(I,'-', label='Infectados')\n",
        "    plt.plot(R,':', label='Recuperados')\n",
        "    ms.decorate(xlabel='Tiempo (días)', ylabel='Fracción de la población')\n",
        "\n",
        "plot_results(S, I, R)"
      ]
    },
    {
      "cell_type": "markdown",
      "metadata": {
        "id": "gCTeTxXuL7y9"
      },
      "source": [
        "Conclusion: para este ultimo caso, utilizando un valor de tiempo medio para contactos y el doble para recuperación, podemos visualizar que no ocurre una diferencia notable con respecto a los dos casos anteriores.\n",
        "\n",
        "En este caso, el 78% de la población se infecto pero logro recuperarse con exito, mientras que un 20% nunca se infecto y un 1% de personas sigue infectada."
      ]
    },
    {
      "cell_type": "code",
      "execution_count": null,
      "metadata": {
        "colab": {
          "base_uri": "https://localhost:8080/"
        },
        "id": "xE9JXEdDMh5Y",
        "outputId": "fff638b1-43a5-4b90-b12c-e81ca309e882"
      },
      "outputs": [
        {
          "data": {
            "text/plain": [
              "s    18.289444\n",
              "i     1.311089\n",
              "r    70.399467\n",
              "Name: state, dtype: float64"
            ]
          },
          "execution_count": 181,
          "metadata": {},
          "output_type": "execute_result"
        }
      ],
      "source": [
        "results*90"
      ]
    },
    {
      "cell_type": "markdown",
      "metadata": {
        "id": "flGkMrODPYAK"
      },
      "source": [
        "Resultados:\n",
        "\n",
        "* 18 personas nunca se infectaron\n",
        "* 1 persona sigue infectada\n",
        "* 71 personas se infectaron y ya se recuperaron"
      ]
    },
    {
      "cell_type": "markdown",
      "metadata": {
        "id": "HCcZdJOKbzM_"
      },
      "source": [
        "## Inmunización\n",
        "\n",
        "\n",
        "*   ¿Qué pasaría si un porcentaje de la población se vacuna?\n",
        "*   ¿Qué pasaría si un porcentaje de la población se lavara las manos regularmente?\n",
        "\n",
        "\n"
      ]
    },
    {
      "cell_type": "markdown",
      "metadata": {
        "id": "fvVH9i2ldnZp"
      },
      "source": [
        "Consideremos el primer punto, donde existe una vacuna que vuelve inmune a un estudiante. Es decir, el estudiante inmunizado no se infectará ¿Cómo podríamos modelar este efecto?"
      ]
    },
    {
      "cell_type": "markdown",
      "metadata": {
        "id": "PFxOCa8nZ7sh"
      },
      "source": [
        "### Vacunación"
      ]
    },
    {
      "cell_type": "markdown",
      "metadata": {
        "id": "oLSkrvbieOP8"
      },
      "source": [
        "Una manera de representar esta situación es, considerar los estudiantes vacunados como recuperados, ya que éstos no se puede volver a infectar."
      ]
    },
    {
      "cell_type": "code",
      "execution_count": null,
      "metadata": {
        "colab": {
          "base_uri": "https://localhost:8080/",
          "height": 309
        },
        "id": "1QwnQxl1a97_",
        "outputId": "bb318e2e-c879-4795-cad7-199244c064bd"
      },
      "outputs": [
        {
          "data": {
            "image/png": "[encoded data removed]",
            "text/plain": [
              "<Figure size 450x300 with 1 Axes>"
            ]
          },
          "metadata": {},
          "output_type": "display_data"
        }
      ],
      "source": [
        "import modsim as ms\n",
        "import matplotlib.pyplot as plt\n",
        "\n",
        "\n",
        "tc = 3             # Tiempo entre contactos (días)\n",
        "tr = 4             # Tiempo de recuperación (días)\n",
        "beta = 1 / tc      # Tasa de contagios\n",
        "gamma = 1 / tr     # Tasa de recuperación\n",
        "\n",
        "def make_system(beta, gamma):\n",
        "\n",
        "  estado = ms.State(s=89, i=1, r=0)\n",
        "  estado = estado / estado.sum()\n",
        "\n",
        "  return ms.System(estado=estado, t_end=7*14,\n",
        "                beta=beta, gamma=gamma)\n",
        "\n",
        "def step(t, state, system):\n",
        "    '''\n",
        "    Calcula las categorías de la población según las ecuaciones del modelo SIR KM\n",
        "    '''\n",
        "    s, i, r = state.s, state.i, state.r #para simplificar la lectura del código y leer state en varias líneas\n",
        "    infected = system.beta * i * s\n",
        "    recovered = system.gamma * i\n",
        "    s -= infected\n",
        "    i += infected - recovered\n",
        "    r += recovered\n",
        "\n",
        "    return ms.State(s=s, i=i, r=r)\n",
        "\n",
        "def run_simulation(system, update_func):\n",
        "\n",
        "    frame = ms.TimeFrame(columns=system.estado.index) #definimos el timeFrame con columnas que serán los índices de estado.\n",
        "    frame.loc[0] = system.estado # en la primer fila del dataframe guardamos los valores iniciales de las variables de estado\n",
        "\n",
        "    for t in range(0, system.t_end):\n",
        "        frame.loc[t+1] = update_func(t, frame.loc[t], system) #calcula la población para el sgte. paso del tiempo con la función de actualización.\n",
        "    return frame\n",
        "\n",
        "\n",
        "def add_immunization(system, fraction):\n",
        "    '''Innmuniza un porcentaje de población\n",
        "    los suceptibles pasan a ser recuperados\n",
        "    fraccion es un número entre 0 y 1 y representa la fracción que se inmuniza\n",
        "    '''\n",
        "    system.estado.s -= fraction\n",
        "    system.estado.r += fraction\n",
        "\n",
        "system = make_system(beta, gamma)\n",
        "results = run_simulation(system, step) #sin inmunizados\n",
        "#results.head()\n",
        "#plot_results(results.s, results.i, results.r)\n",
        "\n",
        "system2 = make_system(beta, gamma)\n",
        "add_immunization(system2, 0.1)\n",
        "results2 = run_simulation(system2, step) #con inmunizados\n",
        "\n",
        "plt.plot(results.s,'--', label='Sin inmunizados')\n",
        "plt.plot(results2.s,label='10% de inmunizados')\n",
        "ms.decorate(xlabel='Tiempo (días)', ylabel='Fracción de población susceptible')"
      ]
    },
    {
      "cell_type": "code",
      "execution_count": null,
      "metadata": {
        "colab": {
          "base_uri": "https://localhost:8080/",
          "height": 309
        },
        "id": "oz8VDiiHhFxG",
        "outputId": "9019450c-fc75-4c66-b78c-ef6444899cda"
      },
      "outputs": [
        {
          "data": {
            "image/png": "[encoded data removed]",
            "text/plain": [
              "<Figure size 450x300 with 1 Axes>"
            ]
          },
          "metadata": {},
          "output_type": "display_data"
        }
      ],
      "source": [
        "plot_results(results2.s, results2.i, results2.r)\n",
        "ms.decorate(title='Población')\n",
        "#plot_results(results.s, results.i, results.r)\n",
        "#ms.decorate(title='Población')"
      ]
    },
    {
      "cell_type": "markdown",
      "metadata": {
        "id": "eBoRGvjPfp9n"
      },
      "source": [
        "Conclusión:\n",
        "con la inmunización hay menor cantidad de susceptibles, en consecuencia, los infectados se reducen."
      ]
    },
    {
      "cell_type": "markdown",
      "metadata": {
        "id": "8HbjhvL3gnje"
      },
      "source": [
        "### Calculamos el total de infectados:"
      ]
    },
    {
      "cell_type": "code",
      "execution_count": null,
      "metadata": {
        "colab": {
          "base_uri": "https://localhost:8080/"
        },
        "id": "FqghvGw1gSdW",
        "outputId": "b1582c29-f344-40e3-9720-564bee332536"
      },
      "outputs": [
        {
          "name": "stdout",
          "output_type": "stream",
          "text": [
            "0.468320811028781\n",
            "0.30650802853979753\n"
          ]
        }
      ],
      "source": [
        "def calc_total_infected(resul, system):\n",
        "    s_0 = resul.s[0]\n",
        "    s_end = resul.s[system.t_end]\n",
        "    return s_0 - s_end\n",
        "\n",
        "print(calc_total_infected(results, system))\n",
        "print(calc_total_infected(results2, system))"
      ]
    },
    {
      "cell_type": "markdown",
      "metadata": {
        "id": "hXF6CTVRgibW"
      },
      "source": [
        "Sin inmunización, casi el 47% de la población se infecta en algún momento. Con un 10% de inmunización, sólo el 31% se infecta."
      ]
    },
    {
      "cell_type": "markdown",
      "metadata": {
        "id": "okXl0mGuioTW"
      },
      "source": [
        "### Barrido de inmunización\n",
        "Calcularemos cómo se comporta el modelo en un rango de porcentajes de estudiantes vacunados."
      ]
    },
    {
      "cell_type": "code",
      "execution_count": null,
      "metadata": {
        "colab": {
          "base_uri": "https://localhost:8080/",
          "height": 309
        },
        "id": "nmY1gahwi9Te",
        "outputId": "e4d2a8c9-abee-48ef-9d77-e37b53f57396"
      },
      "outputs": [
        {
          "data": {
            "image/png": "[encoded data removed]",
            "text/plain": [
              "<Figure size 450x300 with 1 Axes>"
            ]
          },
          "metadata": {},
          "output_type": "display_data"
        }
      ],
      "source": [
        "def sweep_immunity(fraction_array):\n",
        "    '''calcula para cada porcentaje de vacunación\n",
        "       la fracción de estudiantes infectados\n",
        "       fraction_array array de porcentajes de vacunación\n",
        "    '''\n",
        "    sweep = ms.SweepSeries()\n",
        "\n",
        "    for fraction in fraction_array:\n",
        "        system = make_system(beta, gamma)\n",
        "        add_immunization(system, fraction)\n",
        "        results = run_simulation(system, step)\n",
        "        sweep[fraction] = calc_total_infected(results, system)\n",
        "\n",
        "    return sweep\n",
        "\n",
        "fraction_array = ms.linspace(0, 1, 21) # se incrementa cada 0.05\n",
        "infected_sweep = sweep_immunity(fraction_array)\n",
        "\n",
        "\n",
        "infected_sweep.plot(color='C2')\n",
        "\n",
        "ms.decorate(xlabel='Inmunizados',\n",
        "         ylabel='Total de infectados',\n",
        "         title='Fracción de infectados vs. tasa de inmunización')"
      ]
    },
    {
      "cell_type": "markdown",
      "metadata": {
        "id": "6aJu104skSWl"
      },
      "source": [
        "A medida que aumenta la tasa de inmunización, disminuye la cantidad de infectados.\\\n",
        "Si el 40% de los estudiantes están vacunados, menos del 4% se enferma. Eso es porque la inmunización tiene dos efectos: protege a las personas que se inmunizan (por supuesto) pero también protege al resto de la población.\n",
        "\n",
        "Reducir la cantidad de \"susceptibles\" y aumentar la cantidad de \"resistentes\" (recuperados) dificulta la propagación de la enfermedad, porque una fracción de los contactos se desperdicia en personas que no pueden infectarse. Este fenómeno se denomina inmunidad colectiva y es un elemento importante de la salud pública.\n",
        "\n",
        "La ventaja es que no tenemos que inmunizar a todos, ya que las vacunas pueden proteger al “rebaño” incluso si no son 100% efectivas.\n",
        "\n",
        "Una pequeña disminución en la inmunización puede causar un gran aumento en los infectados. En este ejemplo, si bajamos del 80% de inmunización al 60%, no es tan significativo. Pero si bajamos del 40% al 20%, habría una gran diferencia en los contagios."
      ]
    },
    {
      "cell_type": "markdown",
      "metadata": {
        "id": "iu_3q1R4dnxq"
      },
      "source": [
        "\n",
        "\n",
        "---\n",
        "\n"
      ]
    },
    {
      "cell_type": "markdown",
      "metadata": {
        "id": "JG8gZoA7n3Dk"
      },
      "source": [
        "### Lavado de manos"
      ]
    },
    {
      "cell_type": "code",
      "execution_count": null,
      "metadata": {
        "colab": {
          "base_uri": "https://localhost:8080/"
        },
        "id": "aNLtIQa4C5gt",
        "outputId": "0706cdfb-31b1-4bf0-d71c-83d2bc411232"
      },
      "outputs": [
        {
          "data": {
            "text/plain": [
              "6.0"
            ]
          },
          "execution_count": 186,
          "metadata": {},
          "output_type": "execute_result"
        }
      ],
      "source": [
        "(300*10)/500"
      ]
    },
    {
      "cell_type": "code",
      "execution_count": null,
      "metadata": {
        "colab": {
          "base_uri": "https://localhost:8080/",
          "height": 297
        },
        "id": "S9PmYpkZB1In",
        "outputId": "fda4fdb6-6c54-46b8-a014-2a5cf961f415"
      },
      "outputs": [
        {
          "data": {
            "text/plain": [
              "[<matplotlib.lines.Line2D at 0x7afb12838280>]"
            ]
          },
          "execution_count": 187,
          "metadata": {},
          "output_type": "execute_result"
        },
        {
          "data": {
            "image/png": "[encoded data removed]",
            "text/plain": [
              "<Figure size 450x300 with 1 Axes>"
            ]
          },
          "metadata": {},
          "output_type": "display_data"
        }
      ],
      "source": [
        "gasto=[0,300, 500, 1000, 1500]\n",
        "efecto=[0, 0, 10, 20, 22]\n",
        "plt.plot(gasto,efecto)"
      ]
    },
    {
      "cell_type": "markdown",
      "metadata": {
        "id": "hGv-tJR1AbG-"
      },
      "source": [
        "Para modelar el efecto de la campaña de lavado de manos, se usa la función logística generalizada ([GLP](https://en.wikipedia.org/wiki/Generalised_logistic_function)), que es una función conveniente para modelar curvas que tienen una forma generalmente sigmoidea.\n"
      ]
    },
    {
      "cell_type": "code",
      "execution_count": null,
      "metadata": {
        "colab": {
          "base_uri": "https://localhost:8080/",
          "height": 344
        },
        "id": "blond-armstrong",
        "outputId": "a5c77351-5ee9-4eb6-9f1b-3e750768f6f0"
      },
      "outputs": [
        {
          "name": "stdout",
          "output_type": "stream",
          "text": [
            "[   0.   70.  140.  210.  280.  350.  420.  490.  560.  630.  700.  770.\n",
            "  840.  910.  980. 1050. 1120. 1190. 1260. 1330. 1400.]\n"
          ]
        },
        {
          "data": {
            "image/png": "[encoded data removed]",
            "text/plain": [
              "<Figure size 450x300 with 1 Axes>"
            ]
          },
          "metadata": {},
          "output_type": "display_data"
        }
      ],
      "source": [
        "from numpy import exp\n",
        "from modsim import*\n",
        "\n",
        "def logistic(x, A=0, B=1, C=1, M=0, K=1, Q=1, v=0.5):\n",
        "    \"\"\"Función logística generalizada. Parámetros:\n",
        "\n",
        "    A: Asíntota inferior.\n",
        "    B: tasa de crecimiento, inclinación de la transición.\n",
        "    C: generalmente es 1. De lo contrario la asíntota cambia de valor según otra ec.\n",
        "    M: valor de transición (punto de inflexión)\n",
        "    K: Asíntota superior. Máximo valor de disminución de beta.\n",
        "    Q: varía la transición a la derecha (3) o izquierda (0.5)\n",
        "    v: simetría de transición\n",
        "    x: gastos\n",
        "\n",
        "    retorna: float or array\n",
        "    \"\"\"\n",
        "    exponent = -B * (x - M)\n",
        "    denom = C + Q * exp(exponent)\n",
        "    return A + (K-A) / denom ** (1/v)\n",
        "\n",
        "spending = ms.linspace(0, 1400, 21)\n",
        "print(spending)\n",
        "funcion = logistic(spending, M=500, K=0.2, B=0.01)\n",
        "plt.plot(spending,funcion)\n",
        "ms.decorate(title= '', xlabel= \"gastos (USD)\", ylabel=\"disminución de beta (fracción)\")"
      ]
    },
    {
      "cell_type": "code",
      "execution_count": null,
      "metadata": {
        "colab": {
          "base_uri": "https://localhost:8080/"
        },
        "id": "p5kgrAC8IG6y",
        "outputId": "a3434519-f27f-4796-f15b-00306010b541"
      },
      "outputs": [
        {
          "data": {
            "text/plain": [
              "0.19733181848098505"
            ]
          },
          "execution_count": 189,
          "metadata": {},
          "output_type": "execute_result"
        }
      ],
      "source": [
        "logistic(1000, M=500, K=0.2, B=0.01)"
      ]
    },
    {
      "cell_type": "code",
      "execution_count": null,
      "metadata": {
        "id": "O7S2qf1Dn8r9"
      },
      "outputs": [],
      "source": [
        "def compute_factor_beta(spending):\n",
        "    \"\"\"Reducción de beta en función al gasto.\n",
        "\n",
        "    spending: de 0 a 1200 dólares\n",
        "\n",
        "    returns: fracción en que se reduce beta\n",
        "    \"\"\"\n",
        "    return logistic(spending, M=500, K=0.2, B=0.01)\n",
        "\n",
        "spending = ms.linspace(0, 1200, 21) #Creamos un array con los posibles gastos (dinero invertido en la campaña)"
      ]
    },
    {
      "cell_type": "code",
      "execution_count": null,
      "metadata": {
        "colab": {
          "base_uri": "https://localhost:8080/",
          "height": 309
        },
        "id": "ihTyDrsZ2sEP",
        "outputId": "21fe4a72-540f-4f8d-da53-a9c192441c82"
      },
      "outputs": [
        {
          "data": {
            "image/png": "[encoded data removed]",
            "text/plain": [
              "<Figure size 450x300 with 1 Axes>"
            ]
          },
          "metadata": {},
          "output_type": "display_data"
        }
      ],
      "source": [
        "percent_reduction = compute_factor_beta(spending) * 100\n",
        "#print(percent_reduction)\n",
        "\n",
        "plt.plot(spending, percent_reduction)\n",
        "ms.decorate(xlabel='USD invertidos en la campaña',\n",
        "         ylabel='Porcentaje de reducción de la tasa de infectados (beta)',\n",
        "         title='Efecto del lavado de manos en la tasa de infección')"
      ]
    },
    {
      "cell_type": "markdown",
      "metadata": {
        "id": "R9Zh9FT53pPA"
      },
      "source": [
        "A medida que invierto dinero en la campaña el porcentaje de reducción de beta aumenta hasta un valor del 20% como máximo."
      ]
    },
    {
      "cell_type": "markdown",
      "metadata": {
        "id": "inIxsFrY4Oiu"
      },
      "source": [
        "**Integro el lavado de manos en la simulación.**\n",
        "Calculo el beta final para modelar el sistema con ese nuevo valor obtenido de acuerdo al dinero invertido. Ej.: Si tengo un beta de 0.5 e invierto 500 USD tengo que restarle a ese 0.5 un 10%.\\\n",
        "Volvemos a simular:"
      ]
    },
    {
      "cell_type": "code",
      "execution_count": null,
      "metadata": {
        "id": "rUbo-WRW7bi9"
      },
      "outputs": [],
      "source": [
        "def add_hand_washing(system, spending):\n",
        "    '''Modela el efecto de lavarse las manos\n",
        "       calculando en cto se reduce la tasa de contagio\n",
        "    '''\n",
        "    factor = compute_factor_beta(spending) # este es el factor en cto se reduce beta (en cto se va a reducir beta)\n",
        "    system.beta *= (1 - factor) # calculo y asigno el nuevo valor de beta"
      ]
    },
    {
      "cell_type": "code",
      "execution_count": null,
      "metadata": {
        "colab": {
          "base_uri": "https://localhost:8080/",
          "height": 309
        },
        "id": "7EOJ1LfqqphM",
        "outputId": "3067bece-1b7d-48c4-b2d8-6502b66de15b"
      },
      "outputs": [
        {
          "data": {
            "image/png": "[encoded data removed]",
            "text/plain": [
              "<Figure size 450x300 with 1 Axes>"
            ]
          },
          "metadata": {},
          "output_type": "display_data"
        }
      ],
      "source": [
        "tc=3\n",
        "tr=4\n",
        "beta=1/tc\n",
        "gamma=1/tr\n",
        "\n",
        "sistema=make_system(beta,gamma)\n",
        "resultado = run_simulation(sistema, step)\n",
        "\n",
        "add_hand_washing(sistema,600)\n",
        "resultado2 = run_simulation(sistema, step)\n",
        "#print(calc_total_infected(resultado2))\n",
        "plt.plot(resultado.s, label =\"Sin lavado de manos\")\n",
        "plt.plot(resultado2.s, label =\"Con lavado de manos\")\n",
        "ms.decorate(xlabel=\"Tiempo (días)\",ylabel=\"Fracción susceptible\")"
      ]
    },
    {
      "cell_type": "markdown",
      "metadata": {
        "id": "rjeOSa4q8bpD"
      },
      "source": [
        "Ahora empieza con la misma cantidad de susceptibles, pero la tasa de contagio es menor gracias a invertir $600 en campaña de lavado de manos.\\\n",
        "¿Qué pasará si aumento el dinero que invierto?"
      ]
    },
    {
      "cell_type": "code",
      "execution_count": null,
      "metadata": {
        "colab": {
          "base_uri": "https://localhost:8080/",
          "height": 309
        },
        "id": "Mx6s64My8bce",
        "outputId": "e431d117-1308-49c1-d963-e26d6a2b8601"
      },
      "outputs": [
        {
          "data": {
            "image/png": "[encoded data removed]",
            "text/plain": [
              "<Figure size 450x300 with 1 Axes>"
            ]
          },
          "metadata": {},
          "output_type": "display_data"
        }
      ],
      "source": [
        "add_hand_washing(sistema, 800) #Invierto 800 por ej.\n",
        "resultado2 = run_simulation(sistema, step)\n",
        "#print(calc_total_infected(system,resultado2))\n",
        "plt.plot(resultado.s, label =\"Sin lavado de manos\")\n",
        "plt.plot(resultado2.s, label =\"Con lavado de manos\")\n",
        "ms.decorate(xlabel=\"Tiempo (días)\",ylabel=\"Fracción susceptible\")"
      ]
    },
    {
      "cell_type": "markdown",
      "metadata": {
        "id": "2yupDbUZ82V7"
      },
      "source": [
        "Disminuye en menor proporción la fracción de susceptibles"
      ]
    },
    {
      "cell_type": "markdown",
      "metadata": {
        "id": "di8zGXYd9s9M"
      },
      "source": [
        "\n",
        "\n",
        "---\n",
        "\n"
      ]
    },
    {
      "cell_type": "markdown",
      "metadata": {
        "id": "APpV7EQErFLN"
      },
      "source": [
        "### Optimización"
      ]
    },
    {
      "cell_type": "code",
      "execution_count": null,
      "metadata": {
        "colab": {
          "base_uri": "https://localhost:8080/"
        },
        "id": "V3Mrg85krHtt",
        "outputId": "e6f35112-f982-44e9-b9e9-c71bb40353e5"
      },
      "outputs": [
        {
          "data": {
            "text/plain": [
              "12"
            ]
          },
          "execution_count": 195,
          "metadata": {},
          "output_type": "execute_result"
        }
      ],
      "source": [
        "num_students = 90\n",
        "budget = 1200         #presupuesto máximo\n",
        "price_per_dose = 100  #vacunas\n",
        "max_doses = int(budget / price_per_dose) #máx de dosis que podemos comprar\n",
        "max_doses"
      ]
    },
    {
      "cell_type": "code",
      "execution_count": null,
      "metadata": {
        "colab": {
          "base_uri": "https://localhost:8080/"
        },
        "id": "8quGNZ_rrKDc",
        "outputId": "d3b0b8f0-d35e-4592-880a-0ac11842c7d2"
      },
      "outputs": [
        {
          "data": {
            "text/plain": [
              "array([ 0.,  1.,  2.,  3.,  4.,  5.,  6.,  7.,  8.,  9., 10., 11., 12.])"
            ]
          },
          "execution_count": 196,
          "metadata": {},
          "output_type": "execute_result"
        }
      ],
      "source": [
        "dose_array = linrange(max_doses) #arreglo de dosis\n",
        "dose_array"
      ]
    },
    {
      "cell_type": "code",
      "execution_count": null,
      "metadata": {
        "id": "Jy7upWDArLoc"
      },
      "outputs": [],
      "source": [
        "def sweep_doses(dose_array):\n",
        "    sweep = SweepSeries()\n",
        "\n",
        "    for doses in dose_array:\n",
        "        fraction = doses / num_students #fracción de estudiantes que estamos vacunando\n",
        "        spending_disponible = budget - doses * price_per_dose # cantidad de dosis por precio c/u, nos da el total invertido en vacunas\n",
        "\n",
        "        system = make_system(beta, gamma)\n",
        "        add_immunization(system, fraction)\n",
        "        add_hand_washing(system, spending_disponible)\n",
        "\n",
        "        results = run_simulation(system, step)\n",
        "        sweep[doses] = calc_total_infected(results, system)\n",
        "\n",
        "    return sweep"
      ]
    },
    {
      "cell_type": "code",
      "execution_count": null,
      "metadata": {
        "id": "iAE2pWx4rNg0"
      },
      "outputs": [],
      "source": [
        "infected_sweep3 = sweep_doses(dose_array)"
      ]
    },
    {
      "cell_type": "code",
      "execution_count": null,
      "metadata": {
        "colab": {
          "base_uri": "https://localhost:8080/",
          "height": 309
        },
        "id": "f8Clb6SYrPDs",
        "outputId": "f28ca771-7a12-4028-9a03-1b89be4ca08e"
      },
      "outputs": [
        {
          "data": {
            "image/png": "[encoded data removed]",
            "text/plain": [
              "<Figure size 450x300 with 1 Axes>"
            ]
          },
          "metadata": {},
          "output_type": "display_data"
        }
      ],
      "source": [
        "infected_sweep3.plot()\n",
        "\n",
        "ms.decorate(xlabel='Dosis de vacunas',\n",
        "         ylabel='Total de infectado (fracción)',\n",
        "         title='Total infectados vs. dosis')"
      ]
    },
    {
      "cell_type": "markdown",
      "metadata": {
        "id": "8LlPJhigo7Jk"
      },
      "source": [
        "Al compartir el presupuesto entre las dosis aplicadas (que van de 0 a 12) y el lavado de manos, resulta lo siguiente:"
      ]
    },
    {
      "cell_type": "markdown",
      "metadata": {
        "id": "K41CrZwnCpia"
      },
      "source": [
        "Llega un momento en el que aumentar la cantidad de vacunas no disminuye tanto los infectados, esto pasa porque llegamos a un punto donde la campaña de manos ya no tiene efecto en la reducción del beta y nuestro beta empieza a aumenta. Con sólo las vacunas no nos alcanzaría para disminuir los infectados.- Luego cuando las vacunas son muchas tienen efectos en la disminucion de los infectados.\n",
        "Se podría concluir que la primer parte de la cuerva predomina el efecto de la campaña de lavado de manos y en la segunda parte la de vacunación.\n",
        "Juntas se obtiene el valor óptimo que es con 4 dosis de vacunas.-"
      ]
    },
    {
      "cell_type": "markdown",
      "metadata": {
        "id": "RPv6pUOqEoOr"
      },
      "source": [
        "## Barriendo parámetros"
      ]
    },
    {
      "cell_type": "markdown",
      "metadata": {
        "id": "MkxFW0BMEsN5"
      },
      "source": [
        "###Barriendo beta"
      ]
    },
    {
      "cell_type": "markdown",
      "metadata": {
        "id": "NA4Xe9WlLM_x"
      },
      "source": [
        "Para ver cómo varía el modelo al variar beta,es decir, la tasa de contagio/contacto, vamos a crear un array de valores de beta con linspace.\\\n",
        "Gamma (tasa de recuperación) toma un valor fijo."
      ]
    },
    {
      "cell_type": "code",
      "execution_count": null,
      "metadata": {
        "id": "kAA7YvadLJeJ"
      },
      "outputs": [],
      "source": [
        "beta_array = linspace(0.1, 1.1, 11)\n",
        "gamma = 0.25"
      ]
    },
    {
      "cell_type": "markdown",
      "metadata": {
        "id": "4A2NxQxNL8U2"
      },
      "source": [
        "Creamos una función que tome un valor de beta del arreglo, ejecute la simulación y calcule para esa simulación la cantidad de infectados."
      ]
    },
    {
      "cell_type": "code",
      "execution_count": null,
      "metadata": {
        "colab": {
          "base_uri": "https://localhost:8080/",
          "height": 309
        },
        "id": "3FDpSuyjMaxH",
        "outputId": "57121167-1210-4d39-e92a-f6bd46e48184"
      },
      "outputs": [
        {
          "data": {
            "image/png": "[encoded data removed]",
            "text/plain": [
              "<Figure size 450x300 with 1 Axes>"
            ]
          },
          "metadata": {},
          "output_type": "display_data"
        }
      ],
      "source": [
        "def sweep_beta(beta_array, gamma):\n",
        "    sweep = SweepSeries()\n",
        "    for beta in beta_array:\n",
        "        system = make_system(beta, gamma)\n",
        "        results = run_simulation(system, step)\n",
        "        sweep[beta] = calc_total_infected(results, system)\n",
        "    return sweep\n",
        "\n",
        "infected_sweep = sweep_beta(beta_array, gamma)\n",
        "infected_sweep.plot(label=\"gamma = 0.25\", color='C1')\n",
        "\n",
        "decorate(xlabel='Tasa de contacto (beta)',\n",
        "         ylabel='Fracción de infectados')"
      ]
    },
    {
      "cell_type": "markdown",
      "metadata": {
        "id": "ni0pOVsjNUR4"
      },
      "source": [
        "Cuando beta es pequeño, la tasa de contacto es baja y el brote nunca se alcanza; el número total de estudiantes infectados es casi cero. A medida que beta aumenta y alcanza un umbral cercano a 0,3, la fracción de estudiantes infectados aumenta rápidamente. Y si beta supera el 0,5, más del 80% de la población esta infectada.\n"
      ]
    },
    {
      "cell_type": "markdown",
      "metadata": {
        "id": "796SLIMZOG48"
      },
      "source": [
        "###Barriendo gamma"
      ]
    },
    {
      "cell_type": "markdown",
      "metadata": {
        "id": "Jw-MTo5oQpOM"
      },
      "source": [
        "Barremos gamma para cada uno de los valores de beta y calculamos la cantidad de infectados. Esto se denomina barrido en dos dimensiones."
      ]
    },
    {
      "cell_type": "code",
      "execution_count": null,
      "metadata": {
        "colab": {
          "base_uri": "https://localhost:8080/",
          "height": 309
        },
        "id": "T0IU-g65OGuE",
        "outputId": "976093ca-de01-447c-d20c-242bb3e7e092"
      },
      "outputs": [
        {
          "data": {
            "image/png": "[encoded data removed]",
            "text/plain": [
              "<Figure size 450x300 with 1 Axes>"
            ]
          },
          "metadata": {},
          "output_type": "display_data"
        }
      ],
      "source": [
        "gamma_array = linspace(0.1, 0.7, 4)\n",
        "gamma_array\n",
        "\n",
        "for gamma in gamma_array:\n",
        "    infected_sweep = sweep_beta(beta_array, gamma)\n",
        "    label = f'gamma = {gamma}'\n",
        "    infected_sweep.plot(label=label)\n",
        "\n",
        "decorate(xlabel='Tasa de contacto (beta)',\n",
        "         ylabel='Fracción de infectados')"
      ]
    },
    {
      "cell_type": "markdown",
      "metadata": {
        "id": "h6oXt4uqPZoU"
      },
      "source": [
        "Cuando gamma es bajo, la tasa de recuperación es baja, lo que significa que las personas permanecen infectadas por más tiempo. En ese caso, incluso una tasa de contacto baja (beta) resulta en una epidemia.\n",
        "\n",
        "Cuando gamma es alto, y beta tiene es aún más alto la fracción de población infectada empieza a aumentar."
      ]
    },
    {
      "cell_type": "markdown",
      "metadata": {
        "id": "X4wg-vUmQhEN"
      },
      "source": [
        "### SweepFrame\n",
        "Almacenamos los valores en un data frame, donde las filas barren un parámetro, las columnas barren otro parámetro y la intersección contiene el valor de una métrica (la cantidad de infectados)."
      ]
    },
    {
      "cell_type": "code",
      "execution_count": null,
      "metadata": {
        "id": "tO6OZwevR7y1"
      },
      "outputs": [],
      "source": [
        "def sweep_parameters(beta_array, gamma_array):\n",
        "    frame = SweepFrame(columns=gamma_array) #Columnas está gamma\n",
        "    for gamma in gamma_array:\n",
        "        frame[gamma] = sweep_beta(beta_array, gamma) #filas se guardan los beta\n",
        "    return frame"
      ]
    },
    {
      "cell_type": "markdown",
      "metadata": {
        "id": "BK1eQ8-cSkVc"
      },
      "source": [
        "En el SweepFrame almacena los resultados, con una columna para cada valor de gamma y una fila para cada valor de beta. Los resultados es la fracción de infectados para cada par de parámetros."
      ]
    },
    {
      "cell_type": "code",
      "execution_count": null,
      "metadata": {
        "colab": {
          "base_uri": "https://localhost:8080/",
          "height": 309
        },
        "id": "FxVCdC6aS8zy",
        "outputId": "b9fc8a88-f8ff-4374-cfa7-f2770226d7c6"
      },
      "outputs": [
        {
          "data": {
            "image/png": "[encoded data removed]",
            "text/plain": [
              "<Figure size 450x300 with 1 Axes>"
            ]
          },
          "metadata": {},
          "output_type": "display_data"
        }
      ],
      "source": [
        "frame = sweep_parameters(beta_array, gamma_array)\n",
        "\n",
        "for gamma in gamma_array:\n",
        "    label = f'gamma = {gamma}'\n",
        "    frame[gamma].plot(label=label)\n",
        "\n",
        "decorate(xlabel='Contact rate (beta)',\n",
        "         ylabel='Fraction infected',\n",
        "         title='Sweep beta, multiple values of gamma')"
      ]
    },
    {
      "cell_type": "markdown",
      "metadata": {
        "id": "wk5H1bXnTozq"
      },
      "source": [
        "Con los datos ya almacendos vamos a realizar un \"*gráfico de contorno*\" donde vemos los parámetros en los ejes y las líneas de contorno donde el valor de la métrica es constante.\\\n",
        "Las columnas del frame se grafican en el eje x y las filas en el eje y y se dibujan líneas donde los valores de infectados son iguales para el par de parámetros."
      ]
    },
    {
      "cell_type": "code",
      "execution_count": null,
      "metadata": {
        "colab": {
          "base_uri": "https://localhost:8080/",
          "height": 309
        },
        "id": "PWsZ5M5BZb3g",
        "outputId": "694dd535-7c92-40f5-8f31-673371cd1a65"
      },
      "outputs": [
        {
          "data": {
            "image/png": "[encoded data removed]",
            "text/plain": [
              "<Figure size 450x300 with 1 Axes>"
            ]
          },
          "metadata": {},
          "output_type": "display_data"
        }
      ],
      "source": [
        "contour(frame)\n",
        "\n",
        "decorate(xlabel='Recovery rate (gamma)',\n",
        "         ylabel='Contact rate (beta)',\n",
        "         title='Contour plot, fraction infected')"
      ]
    },
    {
      "cell_type": "markdown",
      "metadata": {
        "id": "kL0V8e3YakIQ"
      },
      "source": [
        "Las tasas de infección son más bajas en la parte inferior derecha, donde la tasa de contacto es baja y la tasa de recuperación es alta. Aumentan a medida que avanzamos hacia la parte superior izquierda, donde la tasa de contacto es alta y la tasa de recuperación es baja.\\\n",
        "Los resultados que visualizamos en el gráfico sugieren que existe una relación entre los dos parámetros que determina el resultado del modelo."
      ]
    },
    {
      "cell_type": "markdown",
      "metadata": {
        "id": "W73h6zfKbLyv"
      },
      "source": [
        "## Análisis\n",
        "\n",
        "\n",
        "*   Cuando beta y gamma son iguales obtenemos alrededor del 13% de infectados.\n",
        "*   Si beta excede a gamma voy a tener más contactos que recueraciones, entonces la tasa de contacto va a ir aumentado.\n",
        "\n"
      ]
    },
    {
      "cell_type": "code",
      "execution_count": null,
      "metadata": {
        "colab": {
          "base_uri": "https://localhost:8080/",
          "height": 237
        },
        "id": "_rQapbTxfwHn",
        "outputId": "4cb3ce4b-1559-4ed3-8195-010778636b89"
      },
      "outputs": [
        {
          "data": {
            "application/vnd.google.colaboratory.intrinsic+json": {
              "summary": "{\n  \"name\": \"frame\",\n  \"rows\": 11,\n  \"fields\": [\n    {\n      \"column\": \"Parameter\",\n      \"properties\": {\n        \"dtype\": \"number\",\n        \"std\": 0.33166247903554,\n        \"min\": 0.1,\n        \"max\": 1.1,\n        \"num_unique_values\": 11,\n        \"samples\": [\n          0.6,\n          0.1,\n          1.0\n        ],\n        \"semantic_type\": \"\",\n        \"description\": \"\"\n      }\n    },\n    {\n      \"column\": 0.2,\n      \"properties\": {\n        \"dtype\": \"number\",\n        \"std\": 0.3603231580830965,\n        \"min\": 0.010756340768063644,\n        \"max\": 0.988148177093735,\n        \"num_unique_values\": 11,\n        \"samples\": [\n          0.942929291399791,\n          0.010756340768063644,\n          0.9868823507202488\n        ],\n        \"semantic_type\": \"\",\n        \"description\": \"\"\n      }\n    },\n    {\n      \"column\": 0.4,\n      \"properties\": {\n        \"dtype\": \"number\",\n        \"std\": 0.38906558837446703,\n        \"min\": 0.0036416926514175607,\n        \"max\": 0.9386802509510287,\n        \"num_unique_values\": 11,\n        \"samples\": [\n          0.5979016626615987,\n          0.0036416926514175607,\n          0.9116692168795855\n        ],\n        \"semantic_type\": \"\",\n        \"description\": \"\"\n      }\n    },\n    {\n      \"column\": 0.6,\n      \"properties\": {\n        \"dtype\": \"number\",\n        \"std\": 0.306000718561979,\n        \"min\": 0.002190722188881611,\n        \"max\": 0.7738176405451065,\n        \"num_unique_values\": 11,\n        \"samples\": [\n          0.13288938996079536,\n          0.002190722188881611,\n          0.7014254793376209\n        ],\n        \"semantic_type\": \"\",\n        \"description\": \"\"\n      }\n    },\n    {\n      \"column\": 0.8,\n      \"properties\": {\n        \"dtype\": \"number\",\n        \"std\": 0.1830221268281766,\n        \"min\": 0.0015665254038139675,\n        \"max\": 0.519583469821867,\n        \"num_unique_values\": 11,\n        \"samples\": [\n          0.030291868201986594,\n          0.0015665254038139675,\n          0.40375121210421994\n        ],\n        \"semantic_type\": \"\",\n        \"description\": \"\"\n      }\n    }\n  ]\n}",
              "type": "dataframe",
              "variable_name": "frame"
            },
            "text/html": [
              "\n",
              "  <div id=\"df-f3719b1d-2fa7-40fc-bd65-ec20d5362db8\" class=\"colab-df-container\">\n",
              "    <div>\n",
              "<style scoped>\n",
              "    .dataframe tbody tr th:only-of-type {\n",
              "        vertical-align: middle;\n",
              "    }\n",
              "\n",
              "    .dataframe tbody tr th {\n",
              "        vertical-align: top;\n",
              "    }\n",
              "\n",
              "    .dataframe thead th {\n",
              "        text-align: right;\n",
              "    }\n",
              "</style>\n",
              "<table border=\"1\" class=\"dataframe\">\n",
              "  <thead>\n",
              "    <tr style=\"text-align: right;\">\n",
              "      <th></th>\n",
              "      <th>0.2</th>\n",
              "      <th>0.4</th>\n",
              "      <th>0.6</th>\n",
              "      <th>0.8</th>\n",
              "    </tr>\n",
              "    <tr>\n",
              "      <th>Parameter</th>\n",
              "      <th></th>\n",
              "      <th></th>\n",
              "      <th></th>\n",
              "      <th></th>\n",
              "    </tr>\n",
              "  </thead>\n",
              "  <tbody>\n",
              "    <tr>\n",
              "      <th>0.1</th>\n",
              "      <td>0.010756</td>\n",
              "      <td>0.003642</td>\n",
              "      <td>0.002191</td>\n",
              "      <td>0.001567</td>\n",
              "    </tr>\n",
              "    <tr>\n",
              "      <th>0.2</th>\n",
              "      <td>0.118984</td>\n",
              "      <td>0.010763</td>\n",
              "      <td>0.005447</td>\n",
              "      <td>0.003644</td>\n",
              "    </tr>\n",
              "    <tr>\n",
              "      <th>0.3</th>\n",
              "      <td>0.589095</td>\n",
              "      <td>0.030185</td>\n",
              "      <td>0.010771</td>\n",
              "      <td>0.006526</td>\n",
              "    </tr>\n",
              "    <tr>\n",
              "      <th>0.4</th>\n",
              "      <td>0.801339</td>\n",
              "      <td>0.131563</td>\n",
              "      <td>0.020917</td>\n",
              "      <td>0.010780</td>\n",
              "    </tr>\n",
              "    <tr>\n",
              "      <th>0.5</th>\n",
              "      <td>0.896577</td>\n",
              "      <td>0.396409</td>\n",
              "      <td>0.046140</td>\n",
              "      <td>0.017640</td>\n",
              "    </tr>\n",
              "  </tbody>\n",
              "</table>\n",
              "</div>\n",
              "    <div class=\"colab-df-buttons\">\n",
              "\n",
              "  <div class=\"colab-df-container\">\n",
              "    <button class=\"colab-df-convert\" onclick=\"convertToInteractive('df-f3719b1d-2fa7-40fc-bd65-ec20d5362db8')\"\n",
              "            title=\"Convert this dataframe to an interactive table.\"\n",
              "            style=\"display:none;\">\n",
              "\n",
              "  <svg xmlns=\"http://www.w3.org/2000/svg\" height=\"24px\" viewBox=\"0 -960 960 960\">\n",
              "    <path d=\"M120-120v-720h720v720H120Zm60-500h600v-160H180v160Zm220 220h160v-160H400v160Zm0 220h160v-160H400v160ZM180-400h160v-160H180v160Zm440 0h160v-160H620v160ZM180-180h160v-160H180v160Zm440 0h160v-160H620v160Z\"/>\n",
              "  </svg>\n",
              "    </button>\n",
              "\n",
              "  <style>\n",
              "    .colab-df-container {\n",
              "      display:flex;\n",
              "      gap: 12px;\n",
              "    }\n",
              "\n",
              "    .colab-df-convert {\n",
              "      background-color: #E8F0FE;\n",
              "      border: none;\n",
              "      border-radius: 50%;\n",
              "      cursor: pointer;\n",
              "      display: none;\n",
              "      fill: #1967D2;\n",
              "      height: 32px;\n",
              "      padding: 0 0 0 0;\n",
              "      width: 32px;\n",
              "    }\n",
              "\n",
              "    .colab-df-convert:hover {\n",
              "      background-color: #E2EBFA;\n",
              "      box-shadow: 0px 1px 2px rgba(60, 64, 67, 0.3), 0px 1px 3px 1px rgba(60, 64, 67, 0.15);\n",
              "      fill: #174EA6;\n",
              "    }\n",
              "\n",
              "    .colab-df-buttons div {\n",
              "      margin-bottom: 4px;\n",
              "    }\n",
              "\n",
              "    [theme=dark] .colab-df-convert {\n",
              "      background-color: #3B4455;\n",
              "      fill: #D2E3FC;\n",
              "    }\n",
              "\n",
              "    [theme=dark] .colab-df-convert:hover {\n",
              "      background-color: #434B5C;\n",
              "      box-shadow: 0px 1px 3px 1px rgba(0, 0, 0, 0.15);\n",
              "      filter: drop-shadow(0px 1px 2px rgba(0, 0, 0, 0.3));\n",
              "      fill: #FFFFFF;\n",
              "    }\n",
              "  </style>\n",
              "\n",
              "    <script>\n",
              "      const buttonEl =\n",
              "        document.querySelector('#df-f3719b1d-2fa7-40fc-bd65-ec20d5362db8 button.colab-df-convert');\n",
              "      buttonEl.style.display =\n",
              "        google.colab.kernel.accessAllowed ? 'block' : 'none';\n",
              "\n",
              "      async function convertToInteractive(key) {\n",
              "        const element = document.querySelector('#df-f3719b1d-2fa7-40fc-bd65-ec20d5362db8');\n",
              "        const dataTable =\n",
              "          await google.colab.kernel.invokeFunction('convertToInteractive',\n",
              "                                                    [key], {});\n",
              "        if (!dataTable) return;\n",
              "\n",
              "        const docLinkHtml = 'Like what you see? Visit the ' +\n",
              "          '<a target=\"_blank\" href=https://colab.research.google.com/notebooks/data_table.ipynb>data table notebook</a>'\n",
              "          + ' to learn more about interactive tables.';\n",
              "        element.innerHTML = '';\n",
              "        dataTable['output_type'] = 'display_data';\n",
              "        await google.colab.output.renderOutput(dataTable, element);\n",
              "        const docLink = document.createElement('div');\n",
              "        docLink.innerHTML = docLinkHtml;\n",
              "        element.appendChild(docLink);\n",
              "      }\n",
              "    </script>\n",
              "  </div>\n",
              "\n",
              "\n",
              "<div id=\"df-52202e3e-406f-499c-946a-73fdbea12ad0\">\n",
              "  <button class=\"colab-df-quickchart\" onclick=\"quickchart('df-52202e3e-406f-499c-946a-73fdbea12ad0')\"\n",
              "            title=\"Suggest charts\"\n",
              "            style=\"display:none;\">\n",
              "\n",
              "<svg xmlns=\"http://www.w3.org/2000/svg\" height=\"24px\"viewBox=\"0 0 24 24\"\n",
              "     width=\"24px\">\n",
              "    <g>\n",
              "        <path d=\"M19 3H5c-1.1 0-2 .9-2 2v14c0 1.1.9 2 2 2h14c1.1 0 2-.9 2-2V5c0-1.1-.9-2-2-2zM9 17H7v-7h2v7zm4 0h-2V7h2v10zm4 0h-2v-4h2v4z\"/>\n",
              "    </g>\n",
              "</svg>\n",
              "  </button>\n",
              "\n",
              "<style>\n",
              "  .colab-df-quickchart {\n",
              "      --bg-color: #E8F0FE;\n",
              "      --fill-color: #1967D2;\n",
              "      --hover-bg-color: #E2EBFA;\n",
              "      --hover-fill-color: #174EA6;\n",
              "      --disabled-fill-color: #AAA;\n",
              "      --disabled-bg-color: #DDD;\n",
              "  }\n",
              "\n",
              "  [theme=dark] .colab-df-quickchart {\n",
              "      --bg-color: #3B4455;\n",
              "      --fill-color: #D2E3FC;\n",
              "      --hover-bg-color: #434B5C;\n",
              "      --hover-fill-color: #FFFFFF;\n",
              "      --disabled-bg-color: #3B4455;\n",
              "      --disabled-fill-color: #666;\n",
              "  }\n",
              "\n",
              "  .colab-df-quickchart {\n",
              "    background-color: var(--bg-color);\n",
              "    border: none;\n",
              "    border-radius: 50%;\n",
              "    cursor: pointer;\n",
              "    display: none;\n",
              "    fill: var(--fill-color);\n",
              "    height: 32px;\n",
              "    padding: 0;\n",
              "    width: 32px;\n",
              "  }\n",
              "\n",
              "  .colab-df-quickchart:hover {\n",
              "    background-color: var(--hover-bg-color);\n",
              "    box-shadow: 0 1px 2px rgba(60, 64, 67, 0.3), 0 1px 3px 1px rgba(60, 64, 67, 0.15);\n",
              "    fill: var(--button-hover-fill-color);\n",
              "  }\n",
              "\n",
              "  .colab-df-quickchart-complete:disabled,\n",
              "  .colab-df-quickchart-complete:disabled:hover {\n",
              "    background-color: var(--disabled-bg-color);\n",
              "    fill: var(--disabled-fill-color);\n",
              "    box-shadow: none;\n",
              "  }\n",
              "\n",
              "  .colab-df-spinner {\n",
              "    border: 2px solid var(--fill-color);\n",
              "    border-color: transparent;\n",
              "    border-bottom-color: var(--fill-color);\n",
              "    animation:\n",
              "      spin 1s steps(1) infinite;\n",
              "  }\n",
              "\n",
              "  @keyframes spin {\n",
              "    0% {\n",
              "      border-color: transparent;\n",
              "      border-bottom-color: var(--fill-color);\n",
              "      border-left-color: var(--fill-color);\n",
              "    }\n",
              "    20% {\n",
              "      border-color: transparent;\n",
              "      border-left-color: var(--fill-color);\n",
              "      border-top-color: var(--fill-color);\n",
              "    }\n",
              "    30% {\n",
              "      border-color: transparent;\n",
              "      border-left-color: var(--fill-color);\n",
              "      border-top-color: var(--fill-color);\n",
              "      border-right-color: var(--fill-color);\n",
              "    }\n",
              "    40% {\n",
              "      border-color: transparent;\n",
              "      border-right-color: var(--fill-color);\n",
              "      border-top-color: var(--fill-color);\n",
              "    }\n",
              "    60% {\n",
              "      border-color: transparent;\n",
              "      border-right-color: var(--fill-color);\n",
              "    }\n",
              "    80% {\n",
              "      border-color: transparent;\n",
              "      border-right-color: var(--fill-color);\n",
              "      border-bottom-color: var(--fill-color);\n",
              "    }\n",
              "    90% {\n",
              "      border-color: transparent;\n",
              "      border-bottom-color: var(--fill-color);\n",
              "    }\n",
              "  }\n",
              "</style>\n",
              "\n",
              "  <script>\n",
              "    async function quickchart(key) {\n",
              "      const quickchartButtonEl =\n",
              "        document.querySelector('#' + key + ' button');\n",
              "      quickchartButtonEl.disabled = true;  // To prevent multiple clicks.\n",
              "      quickchartButtonEl.classList.add('colab-df-spinner');\n",
              "      try {\n",
              "        const charts = await google.colab.kernel.invokeFunction(\n",
              "            'suggestCharts', [key], {});\n",
              "      } catch (error) {\n",
              "        console.error('Error during call to suggestCharts:', error);\n",
              "      }\n",
              "      quickchartButtonEl.classList.remove('colab-df-spinner');\n",
              "      quickchartButtonEl.classList.add('colab-df-quickchart-complete');\n",
              "    }\n",
              "    (() => {\n",
              "      let quickchartButtonEl =\n",
              "        document.querySelector('#df-52202e3e-406f-499c-946a-73fdbea12ad0 button');\n",
              "      quickchartButtonEl.style.display =\n",
              "        google.colab.kernel.accessAllowed ? 'block' : 'none';\n",
              "    })();\n",
              "  </script>\n",
              "</div>\n",
              "    </div>\n",
              "  </div>\n"
            ],
            "text/plain": [
              "                0.2       0.4       0.6       0.8\n",
              "Parameter                                        \n",
              "0.1        0.010756  0.003642  0.002191  0.001567\n",
              "0.2        0.118984  0.010763  0.005447  0.003644\n",
              "0.3        0.589095  0.030185  0.010771  0.006526\n",
              "0.4        0.801339  0.131563  0.020917  0.010780\n",
              "0.5        0.896577  0.396409  0.046140  0.017640"
            ]
          },
          "execution_count": 206,
          "metadata": {},
          "output_type": "execute_result"
        }
      ],
      "source": [
        "beta_array = [0.1, 0.2, 0.3, 0.4, 0.5,\n",
        "              0.6, 0.7, 0.8, 0.9, 1.0 , 1.1]\n",
        "gamma_array = [0.2, 0.4, 0.6, 0.8]\n",
        "\n",
        "frame = sweep_parameters(beta_array, gamma_array)\n",
        "frame.head()"
      ]
    },
    {
      "cell_type": "code",
      "execution_count": null,
      "metadata": {
        "colab": {
          "base_uri": "https://localhost:8080/",
          "height": 309
        },
        "id": "KA4WYJ8Ef0k8",
        "outputId": "40883935-7a00-4350-db45-19f993e0d48c"
      },
      "outputs": [
        {
          "data": {
            "image/png": "[encoded data removed]",
            "text/plain": [
              "<Figure size 450x300 with 1 Axes>"
            ]
          },
          "metadata": {},
          "output_type": "display_data"
        }
      ],
      "source": [
        "from matplotlib.pyplot import plot\n",
        "\n",
        "for gamma in frame.columns:\n",
        "    column = frame[gamma]\n",
        "    for beta in column.index:\n",
        "        metric = column[beta]\n",
        "        #print(beta, gamma, metric)\n",
        "\n",
        "def plot_sweep_frame(frame):\n",
        "    for gamma in frame.columns:\n",
        "        column = frame[gamma]\n",
        "        for beta in column.index:\n",
        "            metric = column[beta]\n",
        "            plot(beta/gamma, metric, '.', color='C1')\n",
        "\n",
        "plot_sweep_frame(frame)\n",
        "\n",
        "decorate(xlabel='Contact number (beta/gamma)',\n",
        "         ylabel='Fraction infected')"
      ]
    }
  ],
  "metadata": {
    "colab": {
      "collapsed_sections": [
        "u2N8NrKXdExl",
        "DbVDv7Kbrh3r",
        "atV4jPdKrcKE",
        "zw2DB2xVVJIG",
        "lUwqiDBGZz6M",
        "NL9l5N8Co_zY",
        "H8JH7xBysZIn",
        "oBPzvpJwtOsY",
        "HCcZdJOKbzM_",
        "RPv6pUOqEoOr",
        "W73h6zfKbLyv"
      ],
      "provenance": []
    },
    "kernelspec": {
      "display_name": "Python 3",
      "name": "python3"
    },
    "language_info": {
      "name": "python"
    }
  },
  "nbformat": 4,
  "nbformat_minor": 0
}