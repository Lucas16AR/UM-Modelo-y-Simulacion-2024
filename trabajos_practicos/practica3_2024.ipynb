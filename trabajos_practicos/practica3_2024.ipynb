{
  "nbformat": 4,
  "nbformat_minor": 0,
  "metadata": {
    "colab": {
      "provenance": [],
      "collapsed_sections": [
        "F7oeS5LTGVVr",
        "gcTpKVlyAlcl"
      ]
    },
    "kernelspec": {
      "name": "python3",
      "display_name": "Python 3"
    },
    "language_info": {
      "name": "python"
    }
  },
  "cells": [
    {
      "cell_type": "markdown",
      "source": [
        "# Análisis de ED con SymPy"
      ],
      "metadata": {
        "id": "T1ewfPjS1Vy3"
      }
    },
    {
      "cell_type": "markdown",
      "source": [
        "##Introducción"
      ],
      "metadata": {
        "id": "F7oeS5LTGVVr"
      }
    },
    {
      "cell_type": "markdown",
      "source": [
        "[Sympy](https://www.sympy.org/es/) es una librería que se utiliza para matemáticas y osee funciones útiles para el cálculo y el álgebra. Nosotros la vamos a utilizar para escribir ecuaciones diferenciales y resolverlas."
      ],
      "metadata": {
        "id": "v2xVHouFyUso"
      }
    },
    {
      "cell_type": "code",
      "execution_count": null,
      "metadata": {
        "id": "2zHA9R7UQxnp"
      },
      "outputs": [],
      "source": [
        "import sympy\n",
        "from sympy import *"
      ]
    },
    {
      "cell_type": "markdown",
      "source": [
        "Sympy define el objeto Symbols que resprenta el nombre de una variable simbólica, de una función, u otras expresiones matemáticas (significa que es un símbolo, no una letra por ej.)\n",
        "  Toma como argumento un string y devuelve un objeto de tipo simbolo. Y entiende que es un símbolo no un valor numérico."
      ],
      "metadata": {
        "id": "zGB5v_7u2Fa_"
      }
    },
    {
      "cell_type": "code",
      "source": [
        "t = symbols('t')"
      ],
      "metadata": {
        "id": "woNQns7f-3tl"
      },
      "execution_count": null,
      "outputs": []
    },
    {
      "cell_type": "code",
      "source": [
        "type(t)"
      ],
      "metadata": {
        "colab": {
          "base_uri": "https://localhost:8080/"
        },
        "id": "VuHez2PKsHzN",
        "outputId": "1d31af5f-691b-400e-d52a-5ed8f6833a40"
      },
      "execution_count": null,
      "outputs": [
        {
          "output_type": "execute_result",
          "data": {
            "text/plain": [
              "sympy.core.symbol.Symbol"
            ]
          },
          "metadata": {},
          "execution_count": 3
        }
      ]
    },
    {
      "cell_type": "code",
      "source": [
        "suma = t + 1\n",
        "suma.subs(t, 2) # sustituir el valor de t en la ecuación suma, con el valor dado por argumento"
      ],
      "metadata": {
        "id": "vdZsqsNC_fre",
        "colab": {
          "base_uri": "https://localhost:8080/",
          "height": 37
        },
        "outputId": "195725f5-2a94-4111-8147-00bb8567f093"
      },
      "execution_count": null,
      "outputs": [
        {
          "output_type": "execute_result",
          "data": {
            "text/plain": [
              "3"
            ],
            "text/latex": "$\\displaystyle 3$"
          },
          "metadata": {},
          "execution_count": 4
        }
      ]
    },
    {
      "cell_type": "markdown",
      "source": [
        "Para representar las funciones usamos `Funtion()`"
      ],
      "metadata": {
        "id": "Ez6hzBR4_801"
      }
    },
    {
      "cell_type": "code",
      "source": [
        "f = Function('f')\n",
        "type(f)"
      ],
      "metadata": {
        "id": "O-HCW5_vAEtt",
        "colab": {
          "base_uri": "https://localhost:8080/",
          "height": 121
        },
        "outputId": "982cb12d-95cf-4f05-d213-31549f7c3c22"
      },
      "execution_count": null,
      "outputs": [
        {
          "output_type": "execute_result",
          "data": {
            "text/plain": [
              "sympy.core.function.UndefinedFunction"
            ],
            "text/html": [
              "<div style=\"max-width:800px; border: 1px solid var(--colab-border-color);\"><style>\n",
              "      pre.function-repr-contents {\n",
              "        overflow-x: auto;\n",
              "        padding: 8px 12px;\n",
              "        max-height: 500px;\n",
              "      }\n",
              "\n",
              "      pre.function-repr-contents.function-repr-contents-collapsed {\n",
              "        cursor: pointer;\n",
              "        max-height: 100px;\n",
              "      }\n",
              "    </style>\n",
              "    <pre style=\"white-space: initial; background:\n",
              "         var(--colab-secondary-surface-color); padding: 8px 12px;\n",
              "         border-bottom: 1px solid var(--colab-border-color);\"><b>sympy.core.function.UndefinedFunction</b><br/>def __init__(cls, *args, **kwargs)</pre><pre class=\"function-repr-contents function-repr-contents-collapsed\" style=\"\"><a class=\"filepath\" style=\"display:none\" href=\"#\">/usr/local/lib/python3.10/dist-packages/sympy/core/function.py</a>The (meta)class of undefined functions.</pre>\n",
              "      <script>\n",
              "      if (google.colab.kernel.accessAllowed && google.colab.files && google.colab.files.view) {\n",
              "        for (const element of document.querySelectorAll('.filepath')) {\n",
              "          element.style.display = 'block'\n",
              "          element.onclick = (event) => {\n",
              "            event.preventDefault();\n",
              "            event.stopPropagation();\n",
              "            google.colab.files.view(element.textContent, 871);\n",
              "          };\n",
              "        }\n",
              "      }\n",
              "      for (const element of document.querySelectorAll('.function-repr-contents')) {\n",
              "        element.onclick = (event) => {\n",
              "          event.preventDefault();\n",
              "          event.stopPropagation();\n",
              "          element.classList.toggle('function-repr-contents-collapsed');\n",
              "        };\n",
              "      }\n",
              "      </script>\n",
              "      </div>"
            ]
          },
          "metadata": {},
          "execution_count": 5
        }
      ]
    },
    {
      "cell_type": "code",
      "source": [
        "f(t)"
      ],
      "metadata": {
        "id": "gJFL-bKA_lDk",
        "colab": {
          "base_uri": "https://localhost:8080/",
          "height": 38
        },
        "outputId": "456d1f0a-0a03-4828-86b5-370f21cd2246"
      },
      "execution_count": null,
      "outputs": [
        {
          "output_type": "execute_result",
          "data": {
            "text/plain": [
              "f(t)"
            ],
            "text/latex": "$\\displaystyle f{\\left(t \\right)}$"
          },
          "metadata": {},
          "execution_count": 6
        }
      ]
    },
    {
      "cell_type": "markdown",
      "source": [
        "## Ecuaciones diferenciales en SymPy\n"
      ],
      "metadata": {
        "id": "gcTpKVlyAlcl"
      }
    },
    {
      "cell_type": "markdown",
      "source": [
        "diff() representa la derivada de la función que se le pasa por argumento. En este caso, la primera derivada."
      ],
      "metadata": {
        "id": "Ffhb5YAqBF9h"
      }
    },
    {
      "cell_type": "code",
      "source": [
        "dfdt = diff(f(t), t) #dfdt representa la derivada de f con respecto al tiempo. No la está calculando aún.\n",
        "dfdt"
      ],
      "metadata": {
        "colab": {
          "base_uri": "https://localhost:8080/",
          "height": 52
        },
        "id": "KSM4tQYqBA8b",
        "outputId": "7f2cd850-8b15-492d-f615-ea1831466259"
      },
      "execution_count": null,
      "outputs": [
        {
          "output_type": "execute_result",
          "data": {
            "text/plain": [
              "Derivative(f(t), t)"
            ],
            "text/latex": "$\\displaystyle \\frac{d}{d t} f{\\left(t \\right)}$"
          },
          "metadata": {},
          "execution_count": 7
        }
      ]
    },
    {
      "cell_type": "markdown",
      "source": [
        "Para representar una ED utilizamos Eq()"
      ],
      "metadata": {
        "id": "H2h4j7ipByf9"
      }
    },
    {
      "cell_type": "code",
      "source": [
        "alpha = symbols('alpha')\n",
        "eq1 = Eq(dfdt, alpha*f(t)) # Representamos ambos miembros de la ecuación\n",
        "eq1"
      ],
      "metadata": {
        "colab": {
          "base_uri": "https://localhost:8080/",
          "height": 52
        },
        "id": "83HhXdmUB38V",
        "outputId": "d5f2cacc-a379-4a66-8652-c3ac831d230e"
      },
      "execution_count": null,
      "outputs": [
        {
          "output_type": "execute_result",
          "data": {
            "text/plain": [
              "Eq(Derivative(f(t), t), alpha*f(t))"
            ],
            "text/latex": "$\\displaystyle \\frac{d}{d t} f{\\left(t \\right)} = \\alpha f{\\left(t \\right)}$"
          },
          "metadata": {},
          "execution_count": 8
        }
      ]
    },
    {
      "cell_type": "markdown",
      "source": [
        "Se acuerdan dónde vimos esta ecuación diferencial?"
      ],
      "metadata": {
        "id": "43aXFCDeWnW3"
      }
    },
    {
      "cell_type": "markdown",
      "source": [
        "Para resolver la ecuación utilizamos dsolve()"
      ],
      "metadata": {
        "id": "_tWA21_hCEP0"
      }
    },
    {
      "cell_type": "code",
      "source": [
        "solution_eq = dsolve(eq1)\n",
        "solution_eq"
      ],
      "metadata": {
        "colab": {
          "base_uri": "https://localhost:8080/",
          "height": 38
        },
        "id": "-_dXlGPaCJcL",
        "outputId": "5e488cb8-516b-45a0-9aa7-13dc4680a014"
      },
      "execution_count": null,
      "outputs": [
        {
          "output_type": "execute_result",
          "data": {
            "text/plain": [
              "Eq(f(t), C1*exp(alpha*t))"
            ],
            "text/latex": "$\\displaystyle f{\\left(t \\right)} = C_{1} e^{\\alpha t}$"
          },
          "metadata": {},
          "execution_count": 9
        }
      ]
    },
    {
      "cell_type": "markdown",
      "source": [
        "Esta es la solución general de la ED del modelo de crecimiento proporcional, la cual, contiene un parámetro que no está especificado su valor.\\\n",
        "Para obtener una solución particular de la ecuación, aplicando las condiciones de contorno.\\\n",
        "Buscamos la solución para t = 0; nos dará la p0 población en t inicial."
      ],
      "metadata": {
        "id": "xOaN0AN2ClU7"
      }
    },
    {
      "cell_type": "code",
      "source": [
        "C1, p_0 = symbols('C1 p_0')\n",
        "particular = solution_eq.subs(C1, p_0)\n",
        "particular"
      ],
      "metadata": {
        "colab": {
          "base_uri": "https://localhost:8080/",
          "height": 38
        },
        "id": "D81KVIt6Ck-b",
        "outputId": "097988b7-c753-4410-abb7-eed2995d1706"
      },
      "execution_count": null,
      "outputs": [
        {
          "output_type": "execute_result",
          "data": {
            "text/plain": [
              "Eq(f(t), p_0*exp(alpha*t))"
            ],
            "text/latex": "$\\displaystyle f{\\left(t \\right)} = p_{0} e^{\\alpha t}$"
          },
          "metadata": {},
          "execution_count": 10
        }
      ]
    },
    {
      "cell_type": "markdown",
      "source": [
        "Expresión de creciemiento exponencial de población, dependiendo del exponente de `e`, la población es creciente o decreciente. [Para más info.](https://es.wikipedia.org/wiki/Crecimiento_exponencial)"
      ],
      "metadata": {
        "id": "LuZLyZ_fFSzj"
      }
    },
    {
      "cell_type": "markdown",
      "source": [
        "##Ecuación cuadrática"
      ],
      "metadata": {
        "id": "ay8NXKMNGPPj"
      }
    },
    {
      "cell_type": "markdown",
      "source": [
        " 1- Definimos los símbolos: r, k y t"
      ],
      "metadata": {
        "id": "6P0x3S_-Q3Pp"
      }
    },
    {
      "cell_type": "code",
      "source": [
        "r, K, t = sympy.symbols('r K t')"
      ],
      "metadata": {
        "id": "5yAiYpUrQ1a9"
      },
      "execution_count": null,
      "outputs": []
    },
    {
      "cell_type": "markdown",
      "source": [
        "Definir a *x* como una función"
      ],
      "metadata": {
        "id": "3UWdiQipRSkg"
      }
    },
    {
      "cell_type": "code",
      "source": [
        "x = sympy.Function('x')"
      ],
      "metadata": {
        "id": "FYTaNZpIRXQ4"
      },
      "execution_count": null,
      "outputs": []
    },
    {
      "cell_type": "code",
      "source": [
        "#Definimos el diferencial\n",
        "dxdt = sympy.diff(x(t), t)\n",
        "dxdt"
      ],
      "metadata": {
        "colab": {
          "base_uri": "https://localhost:8080/",
          "height": 52
        },
        "id": "XZSXWAaQRQXF",
        "outputId": "98eb63bb-91cb-4d03-88bb-56ed782d43ad"
      },
      "execution_count": null,
      "outputs": [
        {
          "output_type": "execute_result",
          "data": {
            "text/plain": [
              "Derivative(x(t), t)"
            ],
            "text/latex": "$\\displaystyle \\frac{d}{d t} x{\\left(t \\right)}$"
          },
          "metadata": {},
          "execution_count": 13
        }
      ]
    },
    {
      "cell_type": "code",
      "source": [
        "#Definimos el lado derecho de la ecuación\n",
        "lado_derecho = r * x(t) * (1 - x(t)/K)"
      ],
      "metadata": {
        "id": "3vZpawl8Rlqv"
      },
      "execution_count": null,
      "outputs": []
    },
    {
      "cell_type": "code",
      "source": [
        "#Definimos la ecuación completa (lado der + lado izq)\n",
        "# ED Continua, a la que llegamos 3.7\n",
        "ecuacion = sympy.Eq(dxdt, lado_derecho)"
      ],
      "metadata": {
        "id": "DEUixTMcR4-3"
      },
      "execution_count": null,
      "outputs": []
    },
    {
      "cell_type": "code",
      "source": [
        "ecuacion"
      ],
      "metadata": {
        "colab": {
          "base_uri": "https://localhost:8080/",
          "height": 58
        },
        "id": "8J8RRVNFSB71",
        "outputId": "2b57a326-73cb-44d9-f8e7-f96b6ce55760"
      },
      "execution_count": null,
      "outputs": [
        {
          "output_type": "execute_result",
          "data": {
            "text/plain": [
              "Eq(Derivative(x(t), t), r*(1 - x(t)/K)*x(t))"
            ],
            "text/latex": "$\\displaystyle \\frac{d}{d t} x{\\left(t \\right)} = r \\left(1 - \\frac{x{\\left(t \\right)}}{K}\\right) x{\\left(t \\right)}$"
          },
          "metadata": {},
          "execution_count": 16
        }
      ]
    },
    {
      "cell_type": "markdown",
      "source": [
        "2-  Solución general: consiste en resolver la ED."
      ],
      "metadata": {
        "id": "kkHNeIHaSaso"
      }
    },
    {
      "cell_type": "code",
      "source": [
        "solucion_gral = sympy.dsolve(ecuacion)"
      ],
      "metadata": {
        "id": "5mnv39CvSGi4"
      },
      "execution_count": null,
      "outputs": []
    },
    {
      "cell_type": "code",
      "source": [
        "solucion_gral"
      ],
      "metadata": {
        "colab": {
          "base_uri": "https://localhost:8080/",
          "height": 56
        },
        "id": "JXeUGWtqSjHL",
        "outputId": "55947e96-42a9-4602-c33a-5445a99ce599"
      },
      "execution_count": null,
      "outputs": [
        {
          "output_type": "execute_result",
          "data": {
            "text/plain": [
              "Eq(x(t), K*exp(C1*K + r*t)/(exp(C1*K + r*t) - 1))"
            ],
            "text/latex": "$\\displaystyle x{\\left(t \\right)} = \\frac{K e^{C_{1} K + r t}}{e^{C_{1} K + r t} - 1}$"
          },
          "metadata": {},
          "execution_count": 18
        }
      ]
    },
    {
      "cell_type": "code",
      "source": [
        "general_d = solucion_gral.rhs # return the right-hand side of the relation."
      ],
      "metadata": {
        "id": "vABA6_BeSl14"
      },
      "execution_count": null,
      "outputs": []
    },
    {
      "cell_type": "markdown",
      "source": [
        "3- Aplicamos las condiciones de contorno. Solución para t = 0, encontramos la población inicial Xo. Consiste en reemplazar t por 0."
      ],
      "metadata": {
        "id": "QAfY7nKqUoLW"
      }
    },
    {
      "cell_type": "code",
      "source": [
        "solucion_t0 = general_d.subs(t, 0)"
      ],
      "metadata": {
        "id": "JnV03Fp4UnWJ"
      },
      "execution_count": null,
      "outputs": []
    },
    {
      "cell_type": "code",
      "source": [
        "solucion_t0 #Solución particular para t = 0"
      ],
      "metadata": {
        "colab": {
          "base_uri": "https://localhost:8080/",
          "height": 56
        },
        "id": "Xw0dSeAkX5n2",
        "outputId": "fffad155-3668-499a-d8dd-fe432194393e"
      },
      "execution_count": null,
      "outputs": [
        {
          "output_type": "execute_result",
          "data": {
            "text/plain": [
              "K*exp(C1*K)/(exp(C1*K) - 1)"
            ],
            "text/latex": "$\\displaystyle \\frac{K e^{C_{1} K}}{e^{C_{1} K} - 1}$"
          },
          "metadata": {},
          "execution_count": 21
        }
      ]
    },
    {
      "cell_type": "markdown",
      "source": [
        "4- Encontramos el valor de C1 para t = 0. Es el valor de C1 para la población incial. Consiste en despejar C1 de la solución con condición de contorno t = 0. Nos queda expresada C1 en función de la población inicial."
      ],
      "metadata": {
        "id": "OkHXXLx3KiXV"
      }
    },
    {
      "cell_type": "markdown",
      "source": [
        " Crea symbols para p_t0 y C1"
      ],
      "metadata": {
        "id": "y8Q4m5TKVjPO"
      }
    },
    {
      "cell_type": "code",
      "source": [
        "C1, x_0 = sympy.symbols('C1 x_0') #x_0 población inicial"
      ],
      "metadata": {
        "id": "Pehsp0scWO-u"
      },
      "execution_count": null,
      "outputs": []
    },
    {
      "cell_type": "code",
      "source": [
        "ec_temporal = sympy.Eq(solucion_t0 , x_0) #arma la ecuación con la solución particular para t = 0 y su resultado que es la población incial"
      ],
      "metadata": {
        "id": "988cdgeYUJr7"
      },
      "execution_count": null,
      "outputs": []
    },
    {
      "cell_type": "code",
      "source": [
        "ec_temporal"
      ],
      "metadata": {
        "colab": {
          "base_uri": "https://localhost:8080/",
          "height": 56
        },
        "id": "WaurHXHTXEGe",
        "outputId": "13a62244-10a8-4f62-81e4-9da3f743b844"
      },
      "execution_count": null,
      "outputs": [
        {
          "output_type": "execute_result",
          "data": {
            "text/plain": [
              "Eq(K*exp(C1*K)/(exp(C1*K) - 1), x_0)"
            ],
            "text/latex": "$\\displaystyle \\frac{K e^{C_{1} K}}{e^{C_{1} K} - 1} = x_{0}$"
          },
          "metadata": {},
          "execution_count": 24
        }
      ]
    },
    {
      "cell_type": "code",
      "source": [
        "solucion = sympy.solve(ec_temporal , C1) # Resuelve la ecuación algebraica en función de C1."
      ],
      "metadata": {
        "id": "DP2OO5O2YNr3"
      },
      "execution_count": null,
      "outputs": []
    },
    {
      "cell_type": "code",
      "source": [
        "solucion #solucion particular de C1 para t = 0."
      ],
      "metadata": {
        "colab": {
          "base_uri": "https://localhost:8080/"
        },
        "id": "522L7BPtYUFA",
        "outputId": "2fffda89-9687-488b-b3b3-4a9c8b0fff04"
      },
      "execution_count": null,
      "outputs": [
        {
          "output_type": "execute_result",
          "data": {
            "text/plain": [
              "[log(-x_0/(K - x_0))/K]"
            ]
          },
          "metadata": {},
          "execution_count": 26
        }
      ]
    },
    {
      "cell_type": "markdown",
      "source": [
        "Devuelve la solución en forma de lista, ya que en algunas ocasiones existe más de una solucion para la ecuación.De esta manera, cada elemento de la lista será una solución."
      ],
      "metadata": {
        "id": "x_9Ml2kYZZFd"
      }
    },
    {
      "cell_type": "code",
      "source": [
        "valor_c1 = solucion[0]"
      ],
      "metadata": {
        "id": "WpJTQS3BYVaH"
      },
      "execution_count": null,
      "outputs": []
    },
    {
      "cell_type": "code",
      "source": [
        "valor_c1"
      ],
      "metadata": {
        "colab": {
          "base_uri": "https://localhost:8080/",
          "height": 66
        },
        "id": "2MxD8zDrZmLU",
        "outputId": "4e1ff8f4-8151-425b-97b7-ce7675a61f50"
      },
      "execution_count": null,
      "outputs": [
        {
          "output_type": "execute_result",
          "data": {
            "text/plain": [
              "log(-x_0/(K - x_0))/K"
            ],
            "text/latex": "$\\displaystyle \\frac{\\log{\\left(- \\frac{x_{0}}{K - x_{0}} \\right)}}{K}$"
          },
          "metadata": {},
          "execution_count": 28
        }
      ]
    },
    {
      "cell_type": "markdown",
      "source": [
        "5- A partir de la solución gral, sustituimos C1 por el valor que se encontró valor_c1. Valor expresado en población inicial."
      ],
      "metadata": {
        "id": "xL3ODDjLZpqG"
      }
    },
    {
      "cell_type": "code",
      "source": [
        "general_d"
      ],
      "metadata": {
        "colab": {
          "base_uri": "https://localhost:8080/",
          "height": 56
        },
        "id": "Sz4fNN9V5ZHi",
        "outputId": "e05e36b3-7d56-4272-f362-ab53a3ad1319"
      },
      "execution_count": null,
      "outputs": [
        {
          "output_type": "execute_result",
          "data": {
            "text/plain": [
              "K*exp(C1*K + r*t)/(exp(C1*K + r*t) - 1)"
            ],
            "text/latex": "$\\displaystyle \\frac{K e^{C_{1} K + r t}}{e^{C_{1} K + r t} - 1}$"
          },
          "metadata": {},
          "execution_count": 29
        }
      ]
    },
    {
      "cell_type": "code",
      "source": [
        "particular = general_d.subs(C1, valor_c1)"
      ],
      "metadata": {
        "id": "Z4FG_MELZnNA"
      },
      "execution_count": null,
      "outputs": []
    },
    {
      "cell_type": "code",
      "source": [
        "particular #solución particular en función a la constante en la población inical"
      ],
      "metadata": {
        "colab": {
          "base_uri": "https://localhost:8080/",
          "height": 71
        },
        "id": "AMUrrZ5rZ2vQ",
        "outputId": "26de3474-b9a5-4343-951b-3da56dc98d77"
      },
      "execution_count": null,
      "outputs": [
        {
          "output_type": "execute_result",
          "data": {
            "text/plain": [
              "-K*x_0*exp(r*t)/((K - x_0)*(-x_0*exp(r*t)/(K - x_0) - 1))"
            ],
            "text/latex": "$\\displaystyle - \\frac{K x_{0} e^{r t}}{\\left(K - x_{0}\\right) \\left(- \\frac{x_{0} e^{r t}}{K - x_{0}} - 1\\right)}$"
          },
          "metadata": {},
          "execution_count": 31
        }
      ]
    },
    {
      "cell_type": "code",
      "source": [
        "particular_simplificada = sympy.simplify(particular)\n",
        "particular_simplificada"
      ],
      "metadata": {
        "id": "ZlkLk4bmaMRG",
        "colab": {
          "base_uri": "https://localhost:8080/",
          "height": 56
        },
        "outputId": "7a27d7dd-e7b2-4df4-df6e-fa344ae42799"
      },
      "execution_count": null,
      "outputs": [
        {
          "output_type": "execute_result",
          "data": {
            "text/plain": [
              "K*x_0*exp(r*t)/(K + x_0*exp(r*t) - x_0)"
            ],
            "text/latex": "$\\displaystyle \\frac{K x_{0} e^{r t}}{K + x_{0} e^{r t} - x_{0}}$"
          },
          "metadata": {},
          "execution_count": 32
        }
      ]
    },
    {
      "cell_type": "markdown",
      "source": [
        "Esta ecuación, propuesta por el matemático y biólogo belga P. F. Verhulst en 1840, se llama *Ecuación logística* y se utiliza para modelos de crecimiento.\\\n",
        "Se ha comprobado que la ecuación logística predice con bastante exactitud el crecimiento de ciertos tipos de bacterias, protozoarios, pulgas de agua y moscas de la fruta ([fuente](https://https://www.ugr.es/~fjperez/textos/Tema_6_EEDD_y_Dinamica_de_Poblaciones.pdf))."
      ],
      "metadata": {
        "id": "dGirWOdvTn-b"
      }
    },
    {
      "cell_type": "markdown",
      "source": [
        "## Ecuación logística"
      ],
      "metadata": {
        "id": "ZDu73bUI5s5C"
      }
    },
    {
      "cell_type": "markdown",
      "source": [
        "Vamos a comprobar que la ecuación logistica que encontramos (particular_simplificada) es equivalente a la de la bibliografía ([ver acá](https://es.wikipedia.org/wiki/Funci%C3%B3n_log%C3%ADstica)). Para ello, las vamos a restar y nos debería dar cero.\n",
        "\n",
        "$$f(t) = \\frac{K}{1 + A \\exp(-rt)}$$\n",
        "\n",
        "donde $A = (K - p_0) / p_0$."
      ],
      "metadata": {
        "id": "29HXVheOb0Om"
      }
    },
    {
      "cell_type": "code",
      "source": [
        "A = (K - x_0) / x_0"
      ],
      "metadata": {
        "id": "8Hxjc3J4alL-"
      },
      "execution_count": null,
      "outputs": []
    },
    {
      "cell_type": "code",
      "source": [
        "ec_log = K / (1+ A * sympy.exp(-r*t))"
      ],
      "metadata": {
        "id": "aeb5KmITcOKe"
      },
      "execution_count": null,
      "outputs": []
    },
    {
      "cell_type": "code",
      "source": [
        "ec_log"
      ],
      "metadata": {
        "colab": {
          "base_uri": "https://localhost:8080/",
          "height": 63
        },
        "id": "TKInxzE5cYnX",
        "outputId": "e8f9596b-fe4f-4ad4-c4a9-588dcf4fa778"
      },
      "execution_count": null,
      "outputs": [
        {
          "output_type": "execute_result",
          "data": {
            "text/plain": [
              "K/(1 + (K - x_0)*exp(-r*t)/x_0)"
            ],
            "text/latex": "$\\displaystyle \\frac{K}{1 + \\frac{\\left(K - x_{0}\\right) e^{- r t}}{x_{0}}}$"
          },
          "metadata": {},
          "execution_count": 35
        }
      ]
    },
    {
      "cell_type": "code",
      "source": [
        "ec_log - particular_simplificada"
      ],
      "metadata": {
        "colab": {
          "base_uri": "https://localhost:8080/",
          "height": 65
        },
        "id": "gPBfrpmPciJ5",
        "outputId": "eba7e35d-19ad-4e03-a66d-632f5675c5fd"
      },
      "execution_count": null,
      "outputs": [
        {
          "output_type": "execute_result",
          "data": {
            "text/plain": [
              "-K*x_0*exp(r*t)/(K + x_0*exp(r*t) - x_0) + K/(1 + (K - x_0)*exp(-r*t)/x_0)"
            ],
            "text/latex": "$\\displaystyle - \\frac{K x_{0} e^{r t}}{K + x_{0} e^{r t} - x_{0}} + \\frac{K}{1 + \\frac{\\left(K - x_{0}\\right) e^{- r t}}{x_{0}}}$"
          },
          "metadata": {},
          "execution_count": 36
        }
      ]
    },
    {
      "cell_type": "code",
      "source": [
        "sympy.simplify(ec_log - particular_simplificada)"
      ],
      "metadata": {
        "colab": {
          "base_uri": "https://localhost:8080/",
          "height": 37
        },
        "id": "W0ZD4si-cn2u",
        "outputId": "80a543dd-f1db-4a36-fd1a-c383d9949711"
      },
      "execution_count": null,
      "outputs": [
        {
          "output_type": "execute_result",
          "data": {
            "text/plain": [
              "0"
            ],
            "text/latex": "$\\displaystyle 0$"
          },
          "metadata": {},
          "execution_count": 37
        }
      ]
    },
    {
      "cell_type": "code",
      "source": [
        "sympy.simplify(ec_log) - sympy.simplify(particular_simplificada)"
      ],
      "metadata": {
        "id": "3eFOsyxPYj7n",
        "colab": {
          "base_uri": "https://localhost:8080/",
          "height": 37
        },
        "outputId": "0de01527-8834-4d9d-d749-42b57e36c6ed"
      },
      "execution_count": null,
      "outputs": [
        {
          "output_type": "execute_result",
          "data": {
            "text/plain": [
              "0"
            ],
            "text/latex": "$\\displaystyle 0$"
          },
          "metadata": {},
          "execution_count": 38
        }
      ]
    },
    {
      "cell_type": "markdown",
      "source": [
        "## Sustituciones\n",
        "https://en.wikipedia.org/wiki/Estimates_of_historical_world_population"
      ],
      "metadata": {
        "id": "dD6BZXfFZTQG"
      }
    },
    {
      "cell_type": "code",
      "source": [
        "sustituciones = [(t, 0), (alpha, 0.025), (x_0, 2.5), (K, 13.88)]"
      ],
      "metadata": {
        "id": "Abz4DVbtcu-d"
      },
      "execution_count": null,
      "outputs": []
    },
    {
      "cell_type": "code",
      "source": [
        "particular_simplificada.subs(sustituciones) # con tiempo inicio me devuelve la poblacion inicial"
      ],
      "metadata": {
        "colab": {
          "base_uri": "https://localhost:8080/",
          "height": 37
        },
        "id": "qTxDqmMce2jU",
        "outputId": "f34d1b2d-3b48-4e4c-f585-81bab98f32b5"
      },
      "execution_count": null,
      "outputs": [
        {
          "output_type": "execute_result",
          "data": {
            "text/plain": [
              "2.50000000000000"
            ],
            "text/latex": "$\\displaystyle 2.5$"
          },
          "metadata": {},
          "execution_count": 40
        }
      ]
    },
    {
      "cell_type": "code",
      "source": [
        "sustituciones = [(t, 2), (r, 0.025), (x_0, 2.5), (K, 13.88)]"
      ],
      "metadata": {
        "id": "H-vDpljWfGy-"
      },
      "execution_count": null,
      "outputs": []
    },
    {
      "cell_type": "code",
      "source": [
        "particular_simplificada.subs(sustituciones)"
      ],
      "metadata": {
        "colab": {
          "base_uri": "https://localhost:8080/",
          "height": 37
        },
        "id": "_tEhEJuofQ2b",
        "outputId": "bed13f3d-4a48-4c2d-f4be-72f7e4545d38"
      },
      "execution_count": null,
      "outputs": [
        {
          "output_type": "execute_result",
          "data": {
            "text/plain": [
              "2.60412936777885"
            ],
            "text/latex": "$\\displaystyle 2.60412936777885$"
          },
          "metadata": {},
          "execution_count": 42
        }
      ]
    },
    {
      "cell_type": "code",
      "source": [
        "sustituciones = [(t, 2.5), (r, 0.025), (x_0, 2.5), (K, 13.88)]"
      ],
      "metadata": {
        "id": "JkPm_9gyfXzc"
      },
      "execution_count": null,
      "outputs": []
    },
    {
      "cell_type": "code",
      "source": [
        "particular_simplificada.subs(sustituciones)"
      ],
      "metadata": {
        "colab": {
          "base_uri": "https://localhost:8080/",
          "height": 37
        },
        "id": "2bUGGqeHfbX8",
        "outputId": "5435d376-0ddc-4807-ba8c-a1faa6022661"
      },
      "execution_count": null,
      "outputs": [
        {
          "output_type": "execute_result",
          "data": {
            "text/plain": [
              "2.63067705271566"
            ],
            "text/latex": "$\\displaystyle 2.63067705271566$"
          },
          "metadata": {},
          "execution_count": 44
        }
      ]
    },
    {
      "cell_type": "markdown",
      "source": [
        "Comparar los resultados con las poblaciones de la wiki. Por ej. en\n",
        "1990= 5.2 mil millones de habitantes.\\\n",
        "Cerca del 1984 debería dar muy similar, es para un valor de t = 34.\n",
        "Con la ecuación continua puedo calcular valores entre los años.Por ej. podría calcular la población para el año 34,5"
      ],
      "metadata": {
        "id": "jpmNh73mfSEe"
      }
    },
    {
      "cell_type": "code",
      "source": [
        "sustituciones = [(t, 40), (r, 0.025), (x_0, 2.5), (K, 13.88)]\n",
        "particular_simplificada.subs(sustituciones)"
      ],
      "metadata": {
        "id": "4yfz-MmaXNi_",
        "colab": {
          "base_uri": "https://localhost:8080/",
          "height": 37
        },
        "outputId": "23fe7cdc-f244-467e-8aa3-1a3aa7011de5"
      },
      "execution_count": null,
      "outputs": [
        {
          "output_type": "execute_result",
          "data": {
            "text/plain": [
              "5.18958586052619"
            ],
            "text/latex": "$\\displaystyle 5.18958586052619$"
          },
          "metadata": {},
          "execution_count": 45
        }
      ]
    },
    {
      "cell_type": "code",
      "source": [
        "sustituciones = [(t, 40), (r, 0.025), (x_0, 2.5), (K, 13.88)]\n",
        "ec_log.subs(sustituciones)"
      ],
      "metadata": {
        "id": "0VdYbNR8XY1b",
        "colab": {
          "base_uri": "https://localhost:8080/",
          "height": 37
        },
        "outputId": "f5d7c319-e8f1-4d62-ea2e-a859930c4bdc"
      },
      "execution_count": null,
      "outputs": [
        {
          "output_type": "execute_result",
          "data": {
            "text/plain": [
              "5.18958586052619"
            ],
            "text/latex": "$\\displaystyle 5.18958586052619$"
          },
          "metadata": {},
          "execution_count": 46
        }
      ]
    },
    {
      "cell_type": "markdown",
      "metadata": {
        "id": "ideal-ecology"
      },
      "source": [
        "## Ejercicio 1\n",
        "\n",
        " Use SymPy para resolver la ecuación de crecimiento cuadrático con otro tipo de parametrización (ecuación 3.8 del apunte):\n",
        "\n",
        "$$ \\frac{dx(t)}{dt} = \\alpha x(t) + \\beta x^2(t) $$\n"
      ]
    },
    {
      "cell_type": "code",
      "source": [
        "# Paso 1: Importar el módulo sympy\n",
        "\n",
        "import sympy as sp"
      ],
      "metadata": {
        "id": "xAIwesL_yFdL"
      },
      "execution_count": 54,
      "outputs": []
    },
    {
      "cell_type": "code",
      "source": [
        "# Paso 2: Definir los símbolos y la función\n",
        "# Define los símbolos t, x, y los parámetros alpha y beta. Luego, define la función x(t) que representa la población en el tiempo t.\n",
        "\n",
        "t, x = sp.symbols('t x')\n",
        "alpha, beta = sp.symbols('alpha beta')\n",
        "\n",
        "# Definimos la función x(t)\n",
        "x_t = sp.Function('x')(t)"
      ],
      "metadata": {
        "id": "gM6A66_3yvOu"
      },
      "execution_count": 55,
      "outputs": []
    },
    {
      "cell_type": "code",
      "source": [
        "# Paso 3: Definir la ecuación diferencial\n",
        "# Ahora, define la ecuación diferencial utilizando la función x(t) que acabamos de definir.\n",
        "\n",
        "# Definimos la ecuación diferencial\n",
        "ecuacion = sp.Eq(x_t.diff(t), alpha*x_t + beta*x_t**2)"
      ],
      "metadata": {
        "id": "0b_1NWLDy1jH"
      },
      "execution_count": 56,
      "outputs": []
    },
    {
      "cell_type": "code",
      "source": [
        "# Paso 4: Resolver la ecuación diferencial\n",
        "# Utiliza la función dsolve de sympy para resolver la ecuación diferencial, especificando explícitamente la función x(t) como el segundo argumento.\n",
        "\n",
        "# Resolvemos la ecuación diferencial\n",
        "solucion = sp.dsolve(ecuacion, x_t)"
      ],
      "metadata": {
        "id": "EWBHAEeY09fL"
      },
      "execution_count": 57,
      "outputs": []
    },
    {
      "cell_type": "code",
      "source": [
        "# Paso 5: Mostrar el resultado\n",
        "# Finalmente, imprime la solución obtenida.\n",
        "\n",
        "# Mostramos la solución\n",
        "print(solucion)"
      ],
      "metadata": {
        "colab": {
          "base_uri": "https://localhost:8080/"
        },
        "id": "tIPWZh4U1AxF",
        "outputId": "d2c8c4e1-e8e2-4331-9165-02ef5ac21a74"
      },
      "execution_count": 58,
      "outputs": [
        {
          "output_type": "stream",
          "name": "stdout",
          "text": [
            "Eq(x(t), alpha*exp(alpha*(C1 + t))/(beta*(1 - exp(alpha*(C1 + t)))))\n"
          ]
        }
      ]
    },
    {
      "cell_type": "markdown",
      "source": [
        "### Explicación de los parámetros\n",
        "* (\\alpha): Es el parámetro que representa la tasa de crecimiento natural de la población. Es el crecimiento que ocurre independientemente de la interacción entre individuos.\n",
        "\n",
        "* (\\beta): Es el parámetro que representa la tasa de crecimiento de la población debido a la interacción entre individuos. Este término refleja el efecto de la competencia y la capacidad limitada de los recursos.\n",
        "La ecuación cuadrática del sistema poblacional es útil para modelar la dinámica de poblaciones en ecología y biología, permitiendo predecir cómo cambiará la población en función del tiempo, considerando tanto el crecimiento natural como el efecto de la interacción entre individuos."
      ],
      "metadata": {
        "id": "DVJZ8kNT5VXP"
      }
    }
  ]
}